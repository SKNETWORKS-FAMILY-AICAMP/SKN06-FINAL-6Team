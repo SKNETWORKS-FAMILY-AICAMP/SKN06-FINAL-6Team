{
 "cells": [
  {
   "cell_type": "code",
   "execution_count": 5,
   "metadata": {},
   "outputs": [
    {
     "data": {
      "text/plain": [
       "[('recipes',), ('sqlite_sequence',)]"
      ]
     },
     "execution_count": 5,
     "metadata": {},
     "output_type": "execute_result"
    }
   ],
   "source": [
    "import sqlite3\n",
    "\n",
    "# 데이터베이스 파일 경로\n",
    "db_path = r\"C:\\Users\\Playdata\\Desktop\\만개레시피찐찐찐찐찐 최종\\SKN06-FINAL-6Team\\all_recipes(4).db\"\n",
    "\n",
    "# 데이터베이스 연결 및 테이블 확인\n",
    "conn = sqlite3.connect(db_path)\n",
    "cursor = conn.cursor()\n",
    "\n",
    "# 데이터베이스 내 테이블 목록 확인\n",
    "cursor.execute(\"SELECT name FROM sqlite_master WHERE type='table';\")\n",
    "tables = cursor.fetchall()\n",
    "\n",
    "# 테이블 목록 출력\n",
    "tables\n"
   ]
  },
  {
   "cell_type": "code",
   "execution_count": 6,
   "metadata": {},
   "outputs": [
    {
     "data": {
      "text/plain": [
       "[(0, 'id', 'INTEGER', 0, None, 1),\n",
       " (1, 'name', 'TEXT', 0, None, 0),\n",
       " (2, 'intro', 'TEXT', 0, None, 0),\n",
       " (3, 'info', 'TEXT', 0, None, 0),\n",
       " (4, 'photo', 'TEXT', 0, None, 0),\n",
       " (5, 'ingredients', 'TEXT', 0, None, 0),\n",
       " (6, 'recipe', 'TEXT', 0, None, 0),\n",
       " (7, 'views', 'INTEGER', 0, None, 0),\n",
       " (8, 'video', 'TEXT', 0, None, 0),\n",
       " (9, 'category', 'TEXT', 0, None, 0),\n",
       " (10, 'date', 'TEXT', 0, None, 0)]"
      ]
     },
     "execution_count": 6,
     "metadata": {},
     "output_type": "execute_result"
    }
   ],
   "source": [
    "# 테이블의 컬럼 정보 조회\n",
    "cursor.execute(\"PRAGMA table_info(recipes);\")\n",
    "columns_info = cursor.fetchall()\n",
    "\n",
    "# 컬럼 정보 출력\n",
    "columns_info\n"
   ]
  },
  {
   "cell_type": "code",
   "execution_count": 7,
   "metadata": {},
   "outputs": [
    {
     "name": "stdout",
     "output_type": "stream",
     "text": [
      "   id                                             name  \\\n",
      "0   1                                 에어프라이어 새송이버섯 통구이   \n",
      "1   2                              새송이 버섯 떡국/저탄수화물 레시피   \n",
      "2   3  [팽이버섯 다이어트 파스타] 파스타 면 대신 팽이버섯을 넣어 아삭하고 다이어트 파스타   \n",
      "3   4                     양배추사과샐러드 양배추샐러드 다이어트식단 한그릇요리   \n",
      "4   5                                       야채 치즈 든든 롤   \n",
      "\n",
      "                                               intro  \\\n",
      "0  새송이버섯은 100g당 22kcal 로 저칼로리 식품으로 다이어트 에 도움됩니다.에...   \n",
      "1  테라피 하우스-애라원에서 만든 버섯 떡국을 만들었어 요.떡국떡 대신 새송이버섯 으로...   \n",
      "2  다이어트하는 딸을 위해서 만든 팽이버섯 파스타 새우와 명란을넣어 식감을살리고 파스타...   \n",
      "3  너무~ 많이 먹은 다음날 디톡스를 하고 싶을때 가벼운 한끼로 추천드리는 양배추사과샐...   \n",
      "4  작년 여름 두달동안 6키로 감량했는데 양질의 단백질과 싱싱한 야채를 많이 섭취해서 ...   \n",
      "\n",
      "                                         ingredients  \\\n",
      "0   [재료], 새송이버섯, 구매, [양념], 참기름, 1T, 구매, 소금, 1/3T, 구매   \n",
      "1  [재료], 새송이버섯, 2개, 구매, 대파, 1/2대, 구매, 멸치육수, 5컵, 구...   \n",
      "2  [재료], 팽이버섯, 3~4봉지, 구매, 무염 명란, 50g, 구매, 냉동새우, 1...   \n",
      "3  [재료], 양배추, 2줌, 구매, 사과, 넉넉하게, 구매, [소스], 홀그레인머스타...   \n",
      "4  [재료], 로메인상추, 5장, 구매, 토마토, 1개, 구매, 당근, 1/2개, 구매...   \n",
      "\n",
      "                                              recipe category  \n",
      "0  새송이버섯 밑둥을 제거합니다.\\n흐르는 물에 가볍게 씻어줍니다.\\n버섯의 물기를 키...     다이어트  \n",
      "1  새송이버섯은 밑둥을 제거하고 자루 와 갓을 분리합니다.\\n자루를 떡 모양 으로 얇게...     다이어트  \n",
      "2  팽이버섯은 밑둥을 잘라내고 깨끗이 씻어서 물기를 꼭 짜줍니다\\n후라이팬에 기름을 두...     다이어트  \n",
      "3  양배추를 잘 씻어서 넣어주세요 저는 채썰어진 양배추를 구입했는데 한번 사면 3-4일...     다이어트  \n",
      "4  당근 라페를 만들어요\\n치즈와 햄을 준비해요\\n랩을 깔고 로메인상추를 올린뒤 햄과 ...     다이어트  \n"
     ]
    }
   ],
   "source": [
    "# recipes 테이블의 일부 데이터 조회\n",
    "cursor.execute(\"SELECT id, name, intro, ingredients, recipe, category FROM recipes;\")\n",
    "sample_data = cursor.fetchall()\n",
    "\n",
    "# 데이터 출력\n",
    "import pandas as pd\n",
    "\n",
    "df_sample = pd.DataFrame(sample_data, columns=[\"id\", \"name\", \"intro\", \"ingredients\", \"recipe\", \"category\"])\n",
    "print(df_sample.head())\n"
   ]
  },
  {
   "cell_type": "code",
   "execution_count": 8,
   "metadata": {},
   "outputs": [
    {
     "name": "stdout",
     "output_type": "stream",
     "text": [
      "   id                                             name  \\\n",
      "0   1                                 에어프라이어 새송이버섯 통구이   \n",
      "1   2                              새송이 버섯 떡국/저탄수화물 레시피   \n",
      "2   3  [팽이버섯 다이어트 파스타] 파스타 면 대신 팽이버섯을 넣어 아삭하고 다이어트 파스타   \n",
      "3   4                     양배추사과샐러드 양배추샐러드 다이어트식단 한그릇요리   \n",
      "4   5                                       야채 치즈 든든 롤   \n",
      "\n",
      "                                               intro  \\\n",
      "0  새송이버섯은 100g당 22kcal 로 저칼로리 식품으로 다이어트 에 도움됩니다.에...   \n",
      "1  테라피 하우스-애라원에서 만든 버섯 떡국을 만들었어 요.떡국떡 대신 새송이버섯 으로...   \n",
      "2  다이어트하는 딸을 위해서 만든 팽이버섯 파스타 새우와 명란을넣어 식감을살리고 파스타...   \n",
      "3  너무~ 많이 먹은 다음날 디톡스를 하고 싶을때 가벼운 한끼로 추천드리는 양배추사과샐...   \n",
      "4  작년 여름 두달동안 6키로 감량했는데 양질의 단백질과 싱싱한 야채를 많이 섭취해서 ...   \n",
      "\n",
      "                                         ingredients  \\\n",
      "0          [재료], 새송이버섯, , [양념], 참기름, 1T, , 소금, 1/3T,   \n",
      "1  [재료], 새송이버섯, 2개, , 대파, 1/2대, , 멸치육수, 5컵, , 달걀,...   \n",
      "2  [재료], 팽이버섯, 3~4봉지, , 무염 명란, 50g, , 냉동새우, 10~15...   \n",
      "3  [재료], 양배추, 2줌, , 사과, 넉넉하게, , [소스], 홀그레인머스타드, 2...   \n",
      "4  [재료], 로메인상추, 5장, , 토마토, 1개, , 당근, 1/2개, , 양파, ...   \n",
      "\n",
      "                                              recipe category  \n",
      "0  새송이버섯 밑둥을 제거합니다. 흐르는 물에 가볍게 씻어줍니다. 버섯의 물기를 키친타...     다이어트  \n",
      "1  새송이버섯은 밑둥을 제거하고 자루 와 갓을 분리합니다. 자루를 떡 모양 으로 얇게 ...     다이어트  \n",
      "2  팽이버섯은 밑둥을 잘라내고 깨끗이 씻어서 물기를 꼭 짜줍니다 후라이팬에 기름을 두르...     다이어트  \n",
      "3  양배추를 잘 씻어서 넣어주세요 저는 채썰어진 양배추를 구입했는데 한번 사면 3-4일...     다이어트  \n",
      "4  당근 라페를 만들어요 치즈와 햄을 준비해요 랩을 깔고 로메인상추를 올린뒤 햄과 당근...     다이어트  \n"
     ]
    }
   ],
   "source": [
    "import re\n",
    "\n",
    "# 불필요한 단어 및 특수문자 정리 함수\n",
    "def clean_text(text):\n",
    "    if text is None:\n",
    "        return \"\"\n",
    "    text = re.sub(r\"구매\", \"\", text)  # \"구매\" 키워드 제거\n",
    "    text = re.sub(r\"\\n\", \" \", text)  # 줄바꿈 제거\n",
    "    text = re.sub(r\"\\s+\", \" \", text).strip()  # 공백 정리\n",
    "    return text\n",
    "\n",
    "# 데이터 정제 적용\n",
    "df_cleaned = df_sample.copy()\n",
    "df_cleaned[\"ingredients\"] = df_cleaned[\"ingredients\"].apply(clean_text)\n",
    "df_cleaned[\"recipe\"] = df_cleaned[\"recipe\"].apply(clean_text)\n",
    "df_cleaned[\"intro\"] = df_cleaned[\"intro\"].apply(clean_text)\n",
    "\n",
    "# 정제된 데이터 확인\n",
    "print(df_cleaned.head())"
   ]
  },
  {
   "cell_type": "code",
   "execution_count": 9,
   "metadata": {},
   "outputs": [
    {
     "name": "stdout",
     "output_type": "stream",
     "text": [
      "   id                                             name  \\\n",
      "0   1                                 에어프라이어 새송이버섯 통구이   \n",
      "1   2                              새송이 버섯 떡국/저탄수화물 레시피   \n",
      "2   3  [팽이버섯 다이어트 파스타] 파스타 면 대신 팽이버섯을 넣어 아삭하고 다이어트 파스타   \n",
      "3   4                     양배추사과샐러드 양배추샐러드 다이어트식단 한그릇요리   \n",
      "4   5                                       야채 치즈 든든 롤   \n",
      "\n",
      "                                               intro  \\\n",
      "0  새송이버섯은 100g당 22kcal 로 저칼로리 식품으로 다이어트 에 도움됩니다.에...   \n",
      "1  테라피 하우스-애라원에서 만든 버섯 떡국을 만들었어 요.떡국떡 대신 새송이버섯 으로...   \n",
      "2  다이어트하는 딸을 위해서 만든 팽이버섯 파스타 새우와 명란을넣어 식감을살리고 파스타...   \n",
      "3  너무~ 많이 먹은 다음날 디톡스를 하고 싶을때 가벼운 한끼로 추천드리는 양배추사과샐...   \n",
      "4  작년 여름 두달동안 6키로 감량했는데 양질의 단백질과 싱싱한 야채를 많이 섭취해서 ...   \n",
      "\n",
      "                                         ingredients  \\\n",
      "0               [재료], 새송이버섯, [양념], 참기름, 1T, 소금, 1/3T   \n",
      "1  [재료], 새송이버섯, 2개, 대파, 1/2대, 멸치육수, 5컵, 달걀, 1개, [...   \n",
      "2  [재료], 팽이버섯, 3~4봉지, 무염 명란, 50g, 냉동새우, 10~15마리, ...   \n",
      "3  [재료], 양배추, 2줌, 사과, 넉넉하게, [소스], 홀그레인머스타드, 2T, 올...   \n",
      "4  [재료], 로메인상추, 5장, 토마토, 1개, 당근, 1/2개, 양파, 1/3개, ...   \n",
      "\n",
      "                                              recipe category  \n",
      "0  새송이버섯 밑둥을 제거합니다. 흐르는 물에 가볍게 씻어줍니다. 버섯의 물기를 키친타...     다이어트  \n",
      "1  새송이버섯은 밑둥을 제거하고 자루 와 갓을 분리합니다. 자루를 떡 모양 으로 얇게 ...     다이어트  \n",
      "2  팽이버섯은 밑둥을 잘라내고 깨끗이 씻어서 물기를 꼭 짜줍니다 후라이팬에 기름을 두르...     다이어트  \n",
      "3  양배추를 잘 씻어서 넣어주세요 저는 채썰어진 양배추를 구입했는데 한번 사면 3-4일...     다이어트  \n",
      "4  당근 라페를 만들어요 치즈와 햄을 준비해요 랩을 깔고 로메인상추를 올린뒤 햄과 당근...     다이어트  \n"
     ]
    }
   ],
   "source": [
    "# 추가적인 텍스트 정리 함수\n",
    "def refine_ingredients(text):\n",
    "    text = re.sub(r\"\\s*,\\s*\", \", \", text)  # 쉼표 간격 정리\n",
    "    text = re.sub(r\",\\s*,\", \",\", text)  # 연속된 쉼표 정리\n",
    "    text = text.strip(\", \")  # 앞뒤 불필요한 쉼표 제거\n",
    "    return text\n",
    "\n",
    "def refine_recipe(text):\n",
    "    text = re.sub(r\"\\.\\s*\", \". \", text)  # 문장 간격 정리\n",
    "    text = text.strip()  # 앞뒤 공백 제거\n",
    "    return text\n",
    "\n",
    "# 정리된 텍스트 적용\n",
    "df_cleaned[\"ingredients\"] = df_cleaned[\"ingredients\"].apply(refine_ingredients)\n",
    "df_cleaned[\"recipe\"] = df_cleaned[\"recipe\"].apply(refine_recipe)\n",
    "\n",
    "# 최종 정제된 데이터 확인\n",
    "print(df_cleaned.head())\n"
   ]
  },
  {
   "cell_type": "code",
   "execution_count": 10,
   "metadata": {},
   "outputs": [
    {
     "name": "stdout",
     "output_type": "stream",
     "text": [
      "   id                                             name  \\\n",
      "0   1                                 에어프라이어 새송이버섯 통구이   \n",
      "1   2                              새송이 버섯 떡국/저탄수화물 레시피   \n",
      "2   3  [팽이버섯 다이어트 파스타] 파스타 면 대신 팽이버섯을 넣어 아삭하고 다이어트 파스타   \n",
      "3   4                     양배추사과샐러드 양배추샐러드 다이어트식단 한그릇요리   \n",
      "4   5                                       야채 치즈 든든 롤   \n",
      "\n",
      "                                               intro  \\\n",
      "0  새송이버섯은 100g당 22kcal 로 저칼로리 식품으로 다이어트 에 도움됩니다.에...   \n",
      "1  테라피 하우스-애라원에서 만든 버섯 떡국을 만들었어 요.떡국떡 대신 새송이버섯 으로...   \n",
      "2  다이어트하는 딸을 위해서 만든 팽이버섯 파스타 새우와 명란을넣어 식감을살리고 파스타...   \n",
      "3  너무~ 많이 먹은 다음날 디톡스를 하고 싶을때 가벼운 한끼로 추천드리는 양배추사과샐...   \n",
      "4  작년 여름 두달동안 6키로 감량했는데 양질의 단백질과 싱싱한 야채를 많이 섭취해서 ...   \n",
      "\n",
      "                                         ingredients  \\\n",
      "0                 [재료] 새송이버섯, [양념] 참기름, 1T, 소금, 1/3T   \n",
      "1  [재료] 새송이버섯, 2개, 대파, 1/2대, 멸치육수, 5컵, 달걀, 1개, [양...   \n",
      "2  [재료] 팽이버섯, 3~4봉지, 무염 명란, 50g, 냉동새우, 10~15마리, 대...   \n",
      "3  [재료] 양배추, 2줌, 사과, 넉넉하게, [소스] 홀그레인머스타드, 2T, 올리브...   \n",
      "4  [재료] 로메인상추, 5장, 토마토, 1개, 당근, 1/2개, 양파, 1/3개, 치...   \n",
      "\n",
      "                                              recipe category  \n",
      "0  새송이버섯 밑둥을 제거합니다. 흐르는 물에 가볍게 씻어줍니다. 버섯의 물기를 키친타...     다이어트  \n",
      "1  새송이버섯은 밑둥을 제거하고 자루 와 갓을 분리합니다. 자루를 떡 모양 으로 얇게 ...     다이어트  \n",
      "2  팽이버섯은 밑둥을 잘라내고 깨끗이 씻어서 물기를 꼭 짜줍니다 후라이팬에 기름을 두르...     다이어트  \n",
      "3  양배추를 잘 씻어서 넣어주세요 저는 채썰어진 양배추를 구입했는데 한번 사면 3-4일...     다이어트  \n",
      "4  당근 라페를 만들어요 치즈와 햄을 준비해요 랩을 깔고 로메인상추를 올린뒤 햄과 당근...     다이어트  \n"
     ]
    }
   ],
   "source": [
    "# 중복 쉼표 제거 및 추가 정리\n",
    "def clean_ingredients(text):\n",
    "    text = re.sub(r\"\\]\\s*,\\s*\", \"] \", text)  # 대괄호 뒤 쉼표 제거 및 공백 추가\n",
    "    text = re.sub(r\",\\s*,+\", \",\", text)  # 연속된 쉼표 하나로 축소\n",
    "    text = re.sub(r\",\\s*$\", \"\", text)  # 문장 끝 쉼표 제거\n",
    "    text = text.strip()  # 앞뒤 공백 제거\n",
    "    return text\n",
    "\n",
    "# 수정된 정리 함수 적용\n",
    "df_cleaned[\"ingredients\"] = df_cleaned[\"ingredients\"].apply(clean_ingredients)\n",
    "\n",
    "# 최종 정제된 데이터 확인\n",
    "print(df_cleaned.head())\n"
   ]
  },
  {
   "cell_type": "code",
   "execution_count": 11,
   "metadata": {},
   "outputs": [
    {
     "name": "stdout",
     "output_type": "stream",
     "text": [
      "   id                                             name  \\\n",
      "0   1                                 에어프라이어 새송이버섯 통구이   \n",
      "1   2                              새송이 버섯 떡국/저탄수화물 레시피   \n",
      "2   3  [팽이버섯 다이어트 파스타] 파스타 면 대신 팽이버섯을 넣어 아삭하고 다이어트 파스타   \n",
      "3   4                     양배추사과샐러드 양배추샐러드 다이어트식단 한그릇요리   \n",
      "4   5                                       야채 치즈 든든 롤   \n",
      "\n",
      "                                               intro  \\\n",
      "0  새송이버섯은 100g당 22kcal 로 저칼로리 식품으로 다이어트 에 도움됩니다.에...   \n",
      "1  테라피 하우스-애라원에서 만든 버섯 떡국을 만들었어 요.떡국떡 대신 새송이버섯 으로...   \n",
      "2  다이어트하는 딸을 위해서 만든 팽이버섯 파스타 새우와 명란을넣어 식감을살리고 파스타...   \n",
      "3  너무~ 많이 먹은 다음날 디톡스를 하고 싶을때 가벼운 한끼로 추천드리는 양배추사과샐...   \n",
      "4  작년 여름 두달동안 6키로 감량했는데 양질의 단백질과 싱싱한 야채를 많이 섭취해서 ...   \n",
      "\n",
      "                                         ingredients  \\\n",
      "0                 [재료] 새송이버섯, [양념] 참기름, 1T, 소금, 1/3T   \n",
      "1  [재료] 새송이버섯, 2개, 대파, 1/2대, 멸치육수, 5컵, 달걀, 1개, [양...   \n",
      "2  [재료] 팽이버섯, 3~4봉지, 무염 명란, 50g, 냉동새우, 10~15마리, 대...   \n",
      "3  [재료] 양배추, 2줌, 사과, 넉넉하게, [소스] 홀그레인머스타드, 2T, 올리브...   \n",
      "4  [재료] 로메인상추, 5장, 토마토, 1개, 당근, 1/2개, 양파, 1/3개, 치...   \n",
      "\n",
      "                                              recipe category  \n",
      "0  1. 새송이버섯 밑둥을 제거합니다 2. 흐르는 물에 가볍게 씻어줍니다 3. 버섯의 ...     다이어트  \n",
      "1  1. 새송이버섯은 밑둥을 제거하고 자루 와 갓을 분리합니다 2. 자루를 떡 모양 으...     다이어트  \n",
      "2  1. 팽이버섯은 밑둥을 잘라내고 깨끗이 씻어서 물기를 꼭 짜줍니다 후라이팬에 기름을...     다이어트  \n",
      "3  1. 양배추를 잘 씻어서 넣어주세요 저는 채썰어진 양배추를 구입했는데 한번 사면 3...     다이어트  \n",
      "4  1. 당근 라페를 만들어요 치즈와 햄을 준비해요 랩을 깔고 로메인상추를 올린뒤 햄과...     다이어트  \n"
     ]
    }
   ],
   "source": [
    "# 레시피 단계별 번호 부여 함수\n",
    "def number_recipe_steps(text):\n",
    "    sentences = text.split(\". \")  # 문장 분할\n",
    "    numbered_sentences = [f\"{i+1}. {sent.strip()}\" for i, sent in enumerate(sentences) if sent.strip()]\n",
    "    return \" \".join(numbered_sentences)\n",
    "\n",
    "# 함수 적용\n",
    "df_cleaned[\"recipe\"] = df_cleaned[\"recipe\"].apply(number_recipe_steps)\n",
    "\n",
    "# 정제된 데이터 확인\n",
    "print(df_cleaned.head())\n"
   ]
  },
  {
   "cell_type": "code",
   "execution_count": 12,
   "metadata": {},
   "outputs": [
    {
     "name": "stdout",
     "output_type": "stream",
     "text": [
      "<bound method NDFrame.head of           id                                             name  \\\n",
      "0          1                                 에어프라이어 새송이버섯 통구이   \n",
      "1          2                              새송이 버섯 떡국/저탄수화물 레시피   \n",
      "2          3  [팽이버섯 다이어트 파스타] 파스타 면 대신 팽이버섯을 넣어 아삭하고 다이어트 파스타   \n",
      "3          4                     양배추사과샐러드 양배추샐러드 다이어트식단 한그릇요리   \n",
      "4          5                                       야채 치즈 든든 롤   \n",
      "...      ...                                              ...   \n",
      "22049  22307                                    침이 꼴딱!알타리제육볶음   \n",
      "22050  22308                                 발렌타인 초코빵...이라면..   \n",
      "22051  22309                                      구운 닭고기 요리^^   \n",
      "22052  22310                                    매콤달콤 오징어 피망볶음   \n",
      "22053  22311                                         애호박 새싹말이   \n",
      "\n",
      "                                                   intro  \\\n",
      "0      새송이버섯은 100g당 22kcal 로 저칼로리 식품으로 다이어트 에 도움됩니다.에...   \n",
      "1      테라피 하우스-애라원에서 만든 버섯 떡국을 만들었어 요.떡국떡 대신 새송이버섯 으로...   \n",
      "2      다이어트하는 딸을 위해서 만든 팽이버섯 파스타 새우와 명란을넣어 식감을살리고 파스타...   \n",
      "3      너무~ 많이 먹은 다음날 디톡스를 하고 싶을때 가벼운 한끼로 추천드리는 양배추사과샐...   \n",
      "4      작년 여름 두달동안 6키로 감량했는데 양질의 단백질과 싱싱한 야채를 많이 섭취해서 ...   \n",
      "...                                                  ...   \n",
      "22049                                                      \n",
      "22050                                                      \n",
      "22051                                                      \n",
      "22052                                                      \n",
      "22053                                                      \n",
      "\n",
      "                                             ingredients  \\\n",
      "0                   [재료] 새송이버섯, [양념] 참기름 - 1T, 소금 - 1/3T   \n",
      "1      [재료] 새송이버섯 - 2개, 대파 - 1/2대, 멸치육수 - 5컵, 달걀 - 1개...   \n",
      "2      [재료] 팽이버섯 - 3~4봉지, 무염 명란 - 50g, 냉동새우 - 10~15마리...   \n",
      "3      [재료] 양배추 - 2줌, 사과, 넉넉하게, [소스] 홀그레인머스타드 - 2T, 올...   \n",
      "4      [재료] 로메인상추 - 5장, 토마토 - 1개, 당근 - 1/2개, 양파 - 1/3...   \n",
      "...                                                  ...   \n",
      "22049                                                      \n",
      "22050                                                      \n",
      "22051                                                      \n",
      "22052                                                      \n",
      "22053                                                      \n",
      "\n",
      "                                                  recipe category  \n",
      "0      1. 새송이버섯 밑둥을 제거합니다 2. 흐르는 물에 가볍게 씻어줍니다 3. 버섯의 ...     다이어트  \n",
      "1      1. 새송이버섯은 밑둥을 제거하고 자루 와 갓을 분리합니다 2. 자루를 떡 모양 으...     다이어트  \n",
      "2      1. 팽이버섯은 밑둥을 잘라내고 깨끗이 씻어서 물기를 꼭 짜줍니다 후라이팬에 기름을...     다이어트  \n",
      "3      1. 양배추를 잘 씻어서 넣어주세요 저는 채썰어진 양배추를 구입했는데 한번 사면 3...     다이어트  \n",
      "4      1. 당근 라페를 만들어요 치즈와 햄을 준비해요 랩을 깔고 로메인상추를 올린뒤 햄과...     다이어트  \n",
      "...                                                  ...      ...  \n",
      "22049                                                          기타  \n",
      "22050                                                          기타  \n",
      "22051                                                          기타  \n",
      "22052                                                          기타  \n",
      "22053                                                          기타  \n",
      "\n",
      "[22054 rows x 6 columns]>\n"
     ]
    }
   ],
   "source": [
    "# 재료와 단위 사이의 쉼표를 '-'로 변경하는 함수\n",
    "def replace_comma_with_dash(text):\n",
    "    text = re.sub(r\"(\\S+),\\s*([\\d/]+[A-Za-z]*)\", r\"\\1 - \\2\", text)  # 숫자+단위 앞 쉼표를 '-'로 변경\n",
    "    text = re.sub(r\",\\s*,+\", \",\", text)  # 연속된 쉼표 하나로 축소\n",
    "    text = re.sub(r\",\\s*$\", \"\", text)  # 문장 끝 쉼표 제거\n",
    "    text = text.strip()  # 앞뒤 공백 제거\n",
    "    return text\n",
    "\n",
    "# 함수 적용\n",
    "df_cleaned[\"ingredients\"] = df_cleaned[\"ingredients\"].apply(replace_comma_with_dash)\n",
    "\n",
    "# 최종 정제된 데이터 확인\n",
    "print(df_cleaned.head)\n"
   ]
  },
  {
   "cell_type": "code",
   "execution_count": 13,
   "metadata": {},
   "outputs": [],
   "source": [
    "csv_file_path = r\"C:\\Users\\Playdata\\Desktop\\만개레시피찐찐찐찐찐 최종\\SKN06-FINAL-6Team\\data\\cleaned_recipes.csv\"\n",
    "df_cleaned.to_csv(csv_file_path, index=False, encoding=\"utf-8-sig\")\n"
   ]
  },
  {
   "cell_type": "code",
   "execution_count": 14,
   "metadata": {},
   "outputs": [
    {
     "name": "stdout",
     "output_type": "stream",
     "text": [
      "   id                                           name  \\\n",
      "0   1                               에어프라이어 새송이버섯 통구이   \n",
      "1   2                             새송이 버섯 떡국저탄수화물 레시피   \n",
      "2   3  팽이버섯 다이어트 파스타 파스타 면 대신 팽이버섯을 넣어 아삭하고 다이어트 파스타   \n",
      "3   4                   양배추사과샐러드 양배추샐러드 다이어트식단 한그릇요리   \n",
      "4   5                                     야채 치즈 든든 롤   \n",
      "\n",
      "                                               intro  \\\n",
      "0  새송이버섯은 100g당 22kcal 로 저칼로리 식품으로 다이어트 에 도움됩니다.에...   \n",
      "1  테라피 하우스애라원에서 만든 버섯 떡국을 만들었어 요.떡국떡 대신 새송이버섯 으로 ...   \n",
      "2  다이어트하는 딸을 위해서 만든 팽이버섯 파스타 새우와 명란을넣어 식감을살리고 파스타...   \n",
      "3  너무 많이 먹은 다음날 디톡스를 하고 싶을때 가벼운 한끼로 추천드리는 양배추사과샐러드예요   \n",
      "4  작년 여름 두달동안 6키로 감량했는데 양질의 단백질과 싱싱한 야채를 많이 섭취해서 ...   \n",
      "\n",
      "                                         ingredients  \\\n",
      "0               [재료] 새송이버섯, [양념] 참기름 - 1T, 소금 - 1/3T   \n",
      "1  [재료] 새송이버섯 - 2개, 대파 - 1/2대, 멸치육수 - 5컵, 달걀 - 1개...   \n",
      "2  [재료] 팽이버섯 - 3~4봉지, 무염 명란 - 50g, 냉동새우 - 10~15마리...   \n",
      "3  [재료] 양배추 - 2줌, 사과, 넉넉하게, [소스] 홀그레인머스타드 - 2T, 올...   \n",
      "4  [재료] 로메인상추 - 5장, 토마토 - 1개, 당근 - 1/2개, 양파 - 1/3...   \n",
      "\n",
      "                                              recipe category  \n",
      "0  1. 새송이버섯 밑둥을 제거합니다 2. 흐르는 물에 가볍게 씻어줍니다 3. 버섯의 ...     다이어트  \n",
      "1  1. 새송이버섯은 밑둥을 제거하고 자루 와 갓을 분리합니다 2. 자루를 떡 모양 으...     다이어트  \n",
      "2  1. 팽이버섯은 밑둥을 잘라내고 깨끗이 씻어서 물기를 꼭 짜줍니다 후라이팬에 기름을...     다이어트  \n",
      "3  1. 양배추를 잘 씻어서 넣어주세요 저는 채썰어진 양배추를 구입했는데 한번 사면 3...     다이어트  \n",
      "4  1. 당근 라페를 만들어요 치즈와 햄을 준비해요 랩을 깔고 로메인상추를 올린뒤 햄과...     다이어트  \n"
     ]
    }
   ],
   "source": [
    "# 텍스트 정제 함수 정의\n",
    "def clean_text(text):\n",
    "    if pd.isna(text):\n",
    "        return \"\"\n",
    "    text = re.sub(r\"\\s+\", \" \", text)  # 공백 정리\n",
    "    text = re.sub(r\"[^\\w\\s가-힣.,!?]\", \"\", text)  # 특수문자 제거 (한글, 영문, 숫자, 공백, 문장부호 제외)\n",
    "    text = text.strip()  # 앞뒤 공백 제거\n",
    "    return text\n",
    "\n",
    "# name, intro, recipe 컬럼 클리닝 적용\n",
    "df_cleaned[\"name\"] = df_cleaned[\"name\"].apply(clean_text)\n",
    "df_cleaned[\"intro\"] = df_cleaned[\"intro\"].apply(clean_text)\n",
    "df_cleaned[\"recipe\"] = df_cleaned[\"recipe\"].apply(clean_text)\n",
    "\n",
    "# 정제된 데이터 출력\n",
    "print(df_cleaned.head())"
   ]
  },
  {
   "cell_type": "code",
   "execution_count": 15,
   "metadata": {},
   "outputs": [
    {
     "name": "stdout",
     "output_type": "stream",
     "text": [
      "   id                                 name  \\\n",
      "0   1                       에어프라이어새송이버섯통구이   \n",
      "1   2                      새송이버섯떡국저탄수화물레시피   \n",
      "2   3  팽이버섯다이어트파스타파스타면대신팽이버섯을넣어아삭하고다이어트파스타   \n",
      "3   4            양배추사과샐러드양배추샐러드다이어트식단한그릇요리   \n",
      "4   5                              야채치즈든든롤   \n",
      "\n",
      "                                               intro  \\\n",
      "0  새송이버섯은100g당22kcal로저칼로리식품으로다이어트에도움됩니다.에어프라이어에통으...   \n",
      "1  테라피하우스애라원에서만든버섯떡국을만들었어요.떡국떡대신새송이버섯으로쫄깃한식감은살리고탄...   \n",
      "2  다이어트하는딸을위해서만든팽이버섯파스타새우와명란을넣어식감을살리고파스타면대신팽이버섯을넣...   \n",
      "3            너무많이먹은다음날디톡스를하고싶을때가벼운한끼로추천드리는양배추사과샐러드예요   \n",
      "4  작년여름두달동안6키로감량했는데양질의단백질과싱싱한야채를많이섭취해서건강하게다이어트했는데...   \n",
      "\n",
      "                                         ingredients  \\\n",
      "0                       [재료]새송이버섯,[양념]참기름-1T,소금-1/3T   \n",
      "1  [재료]새송이버섯-2개,대파-1/2대,멸치육수-5컵,달걀-1개,[양념]간장-1T,후...   \n",
      "2  [재료]팽이버섯-3~4봉지,무염명란-50g,냉동새우-10~15마리,대파-1~2대,올...   \n",
      "3  [재료]양배추-2줌,사과,넉넉하게,[소스]홀그레인머스타드-2T,올리브유-2T,레몬즙...   \n",
      "4  [재료]로메인상추-5장,토마토-1개,당근-1/2개,양파-1/3개,치즈-100그램,계...   \n",
      "\n",
      "                                              recipe category  \n",
      "0  1.새송이버섯밑둥을제거합니다2.흐르는물에가볍게씻어줍니다3.버섯의물기를키친타월로가볍게...     다이어트  \n",
      "1  1.새송이버섯은밑둥을제거하고자루와갓을분리합니다2.자루를떡모양으로얇게썰어줍니다3.대파...     다이어트  \n",
      "2  1.팽이버섯은밑둥을잘라내고깨끗이씻어서물기를꼭짜줍니다후라이팬에기름을두르고마늘을볶아줍니...     다이어트  \n",
      "3  1.양배추를잘씻어서넣어주세요저는채썰어진양배추를구입했는데한번사면34일넉넉하게먹을수있고...     다이어트  \n",
      "4  1.당근라페를만들어요치즈와햄을준비해요랩을깔고로메인상추를올린뒤햄과당근라페를올려요그위에...     다이어트  \n"
     ]
    }
   ],
   "source": [
    "# 띄어쓰기 제거 함수\n",
    "def remove_spaces(text):\n",
    "    return text.replace(\" \", \"\")\n",
    "\n",
    "# name, intro, recipe 컬럼에 띄어쓰기 제거 적용\n",
    "df_cleaned[\"name\"] = df_cleaned[\"name\"].apply(remove_spaces)\n",
    "df_cleaned[\"intro\"] = df_cleaned[\"intro\"].apply(remove_spaces)\n",
    "df_cleaned[\"recipe\"] = df_cleaned[\"recipe\"].apply(remove_spaces)\n",
    "df_cleaned[\"ingredients\"] = df_cleaned[\"ingredients\"].fillna(\"\").apply(remove_spaces)\n",
    "# 띄어쓰기 없는 문장 출력\n",
    "print(df_cleaned.head())"
   ]
  },
  {
   "cell_type": "code",
   "execution_count": 23,
   "metadata": {},
   "outputs": [
    {
     "name": "stdout",
     "output_type": "stream",
     "text": [
      "Collecting git+https://github.com/ssut/py-hanspell.git\n",
      "  Cloning https://github.com/ssut/py-hanspell.git to c:\\users\\playdata\\appdata\\local\\temp\\pip-req-build-lo97u60v\n",
      "  Resolved https://github.com/ssut/py-hanspell.git to commit fdc6ca50c19f1c85971437a072d89d4e5ce024b8\n",
      "  Preparing metadata (setup.py): started\n",
      "  Preparing metadata (setup.py): finished with status 'done'\n",
      "Requirement already satisfied: requests in c:\\users\\playdata\\appdata\\local\\miniconda3\\envs\\final\\lib\\site-packages (from py-hanspell==1.1) (2.32.3)\n",
      "Requirement already satisfied: charset-normalizer<4,>=2 in c:\\users\\playdata\\appdata\\local\\miniconda3\\envs\\final\\lib\\site-packages (from requests->py-hanspell==1.1) (3.4.1)\n",
      "Requirement already satisfied: idna<4,>=2.5 in c:\\users\\playdata\\appdata\\local\\miniconda3\\envs\\final\\lib\\site-packages (from requests->py-hanspell==1.1) (3.10)\n",
      "Requirement already satisfied: urllib3<3,>=1.21.1 in c:\\users\\playdata\\appdata\\local\\miniconda3\\envs\\final\\lib\\site-packages (from requests->py-hanspell==1.1) (2.3.0)\n",
      "Requirement already satisfied: certifi>=2017.4.17 in c:\\users\\playdata\\appdata\\local\\miniconda3\\envs\\final\\lib\\site-packages (from requests->py-hanspell==1.1) (2024.12.14)\n",
      "Building wheels for collected packages: py-hanspell\n",
      "  Building wheel for py-hanspell (setup.py): started\n",
      "  Building wheel for py-hanspell (setup.py): finished with status 'done'\n",
      "  Created wheel for py-hanspell: filename=py_hanspell-1.1-py3-none-any.whl size=4894 sha256=3e134702fa409686db2887b1fc12b556c514cfed678047e5173eca37aac9a9a2\n",
      "  Stored in directory: C:\\Users\\Playdata\\AppData\\Local\\Temp\\pip-ephem-wheel-cache-xs6sfla3\\wheels\\b9\\3c\\29\\2ec796bd6e5220d54995c7fa785d2134c8ec0800c1e690fa85\n",
      "Successfully built py-hanspell\n",
      "Installing collected packages: py-hanspell\n",
      "Successfully installed py-hanspell-1.1\n"
     ]
    },
    {
     "name": "stderr",
     "output_type": "stream",
     "text": [
      "  Running command git clone --filter=blob:none --quiet https://github.com/ssut/py-hanspell.git 'C:\\Users\\Playdata\\AppData\\Local\\Temp\\pip-req-build-lo97u60v'\n"
     ]
    }
   ],
   "source": [
    "# 필요한 라이브러리 설치\n",
    "!pip install git+https://github.com/ssut/py-hanspell.git"
   ]
  },
  {
   "cell_type": "code",
   "execution_count": null,
   "metadata": {},
   "outputs": [],
   "source": []
  },
  {
   "cell_type": "code",
   "execution_count": 25,
   "metadata": {},
   "outputs": [
    {
     "name": "stdout",
     "output_type": "stream",
     "text": [
      "   id                                 name  \\\n",
      "0   1                       에어프라이어새송이버섯통구이   \n",
      "1   2                      새송이버섯떡국저탄수화물레시피   \n",
      "2   3  팽이버섯다이어트파스타파스타면대신팽이버섯을넣어아삭하고다이어트파스타   \n",
      "3   4            양배추사과샐러드양배추샐러드다이어트식단한그릇요리   \n",
      "4   5                              야채치즈든든롤   \n",
      "\n",
      "                                               intro  \\\n",
      "0  새송이버섯은100g당22kcal로저칼로리식품으로다이어트에도움됩니다.에어프라이어에통으...   \n",
      "1  테라피하우스애라원에서만든버섯떡국을만들었어요.떡국떡대신새송이버섯으로쫄깃한식감은살리고탄...   \n",
      "2  다이어트하는딸을위해서만든팽이버섯파스타새우와명란을넣어식감을살리고파스타면대신팽이버섯을넣...   \n",
      "3            너무많이먹은다음날디톡스를하고싶을때가벼운한끼로추천드리는양배추사과샐러드예요   \n",
      "4  작년여름두달동안6키로감량했는데양질의단백질과싱싱한야채를많이섭취해서건강하게다이어트했는데...   \n",
      "\n",
      "                                         ingredients  \\\n",
      "0                       [재료]새송이버섯,[양념]참기름-1T,소금-1/3T   \n",
      "1  [재료]새송이버섯-2개,대파-1/2대,멸치육수-5컵,달걀-1개,[양념]간장-1T,후...   \n",
      "2  [재료]팽이버섯-3~4봉지,무염명란-50g,냉동새우-10~15마리,대파-1~2대,올...   \n",
      "3  [재료]양배추-2줌,사과,넉넉하게,[소스]홀그레인머스타드-2T,올리브유-2T,레몬즙...   \n",
      "4  [재료]로메인상추-5장,토마토-1개,당근-1/2개,양파-1/3개,치즈-100그램,계...   \n",
      "\n",
      "                                              recipe category  \n",
      "0  1.새송이버섯밑둥을제거합니다2.흐르는물에가볍게씻어줍니다3.버섯의물기를키친타월로가볍게...     다이어트  \n",
      "1  1.새송이버섯은밑둥을제거하고자루와갓을분리합니다2.자루를떡모양으로얇게썰어줍니다3.대파...     다이어트  \n",
      "2  1.팽이버섯은밑둥을잘라내고깨끗이씻어서물기를꼭짜줍니다후라이팬에기름을두르고마늘을볶아줍니...     다이어트  \n",
      "3  1.양배추를잘씻어서넣어주세요저는채썰어진양배추를구입했는데한번사면34일넉넉하게먹을수있고...     다이어트  \n",
      "4  1.당근라페를만들어요치즈와햄을준비해요랩을깔고로메인상추를올린뒤햄과당근라페를올려요그위에...     다이어트  \n"
     ]
    }
   ],
   "source": [
    "# hanspell을 활용한 띄어쓰기 복원 코드\n",
    "from hanspell import spell_checker\n",
    "\n",
    "# 띄어쓰기 복원 함수\n",
    "def spacing(text):\n",
    "    if not text.strip():\n",
    "        return text  # 빈 문자열 처리\n",
    "    try:\n",
    "        result = spell_checker.check(text).checked  # hanspell 교정 적용\n",
    "        return result\n",
    "    except Exception as e:\n",
    "        return text  # 오류 발생 시 원본 텍스트 반환\n",
    "\n",
    "df_cleaned[\"name\"] = df_cleaned[\"name\"].apply(spacing)\n",
    "df_cleaned[\"intro\"] = df_cleaned[\"intro\"].apply(spacing)\n",
    "df_cleaned[\"recipe\"] = df_cleaned[\"recipe\"].apply(spacing)\n",
    "df_cleaned[\"ingredients\"] = df_cleaned[\"ingredients\"].apply(spacing)\n",
    "\n",
    "# 복원된 데이터 확인\n",
    "print(df_cleaned.head())\n"
   ]
  },
  {
   "cell_type": "code",
   "execution_count": 1,
   "metadata": {},
   "outputs": [
    {
     "name": "stdout",
     "output_type": "stream",
     "text": [
      "^C\n",
      "Note: you may need to restart the kernel to use updated packages.\n"
     ]
    }
   ],
   "source": [
    "pip install pororo"
   ]
  }
 ],
 "metadata": {
  "kernelspec": {
   "display_name": "pororo_test",
   "language": "python",
   "name": "python3"
  },
  "language_info": {
   "codemirror_mode": {
    "name": "ipython",
    "version": 3
   },
   "file_extension": ".py",
   "mimetype": "text/x-python",
   "name": "python",
   "nbconvert_exporter": "python",
   "pygments_lexer": "ipython3",
   "version": "3.6.13"
  }
 },
 "nbformat": 4,
 "nbformat_minor": 2
}

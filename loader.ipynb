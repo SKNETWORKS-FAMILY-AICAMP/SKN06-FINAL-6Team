{
 "cells": [
  {
   "cell_type": "code",
   "execution_count": 1,
   "metadata": {},
   "outputs": [
    {
     "data": {
      "text/plain": [
       "True"
      ]
     },
     "execution_count": 1,
     "metadata": {},
     "output_type": "execute_result"
    }
   ],
   "source": [
    "import pandas as pd\n",
    "import sqlite3\n",
    "\n",
    "from langchain_community.document_loaders import DataFrameLoader\n",
    "from langchain_core.documents import Document\n",
    "from dotenv import load_dotenv\n",
    "\n",
    "load_dotenv()"
   ]
  },
  {
   "cell_type": "markdown",
   "metadata": {},
   "source": [
    "### 만개의 레시피"
   ]
  },
  {
   "cell_type": "code",
   "execution_count": null,
   "metadata": {},
   "outputs": [],
   "source": [
    "df = pd.read_csv(\"./만개_레시피.csv\", encoding=\"cp949\")\n",
    "mloader_ing, mloader_rep = [], []\n",
    "for i in range(5):\n",
    "    page_content1 = f\"{df['name'][i]}, {df['ingredients'][i]}, {df['category'][i]}\"\n",
    "    page_content2 = f\"{df['name'][i]}, {df['ingredients'][i]}, {df['category'][i]}, {df['recipes'][i]}\"\n",
    "\n",
    "    mdoc_ing = Document(page_content=page_content1, metadata={\"recipes\": df[\"recipes\"][i], \"img\": df['photo'][i], \"video\": df['video'][i], \"intro\": df['intro'][i], \"info\": df['info'][i], \"views\": df['views'][i], \"date\": df['date'][i]})\n",
    "    mdoc_rep = Document(page_content=page_content2, metadata={\"img\": df['photo'][i], \"video\": df['video'][i], \"intro\": df['intro'][i], \"info\": df['info'][i], \"views\": df['views'][i], \"date\": df['date'][i]})\n",
    "    \n",
    "    mloader_ing.append(mdoc_ing)\n",
    "    mloader_rep.append(mdoc_rep)"
   ]
  },
  {
   "cell_type": "code",
   "execution_count": null,
   "metadata": {},
   "outputs": [],
   "source": [
    "print(mloader_ing[0].page_content)\n",
    "print(mloader_rep[0].page_content)"
   ]
  },
  {
   "cell_type": "code",
   "execution_count": null,
   "metadata": {},
   "outputs": [],
   "source": [
    "from pprint import pprint\n",
    "\n",
    "print(\"loader_ing: \")\n",
    "pprint(mloader_ing)\n",
    "print(\"loader_rep\")\n",
    "pprint(mloader_rep)"
   ]
  },
  {
   "cell_type": "markdown",
   "metadata": {},
   "source": [
    "### 냉부"
   ]
  },
  {
   "cell_type": "code",
   "execution_count": null,
   "metadata": {},
   "outputs": [],
   "source": [
    "df = pd.read_csv(\"./냉부_레시피.csv\", encoding=\"cp949\")\n",
    "rloader_ing, rloader_rep = [], []\n",
    "for i in range(5):\n",
    "    page_content1 = f\"{df['name'][i]}, {df['ingredients'][i]}\"\n",
    "    page_content2 = f\"{df['name'][i]}, {df['ingredients'][i]}, {df['recipes'][i]}\"\n",
    "\n",
    "    rdoc_ing = Document(page_content=page_content1, metadata={\"recipes\": df[\"recipes\"][i], \"img\": df['img'][i], \"video\": df['video'][i]})\n",
    "    rdoc_rep = Document(page_content=page_content2, metadata={\"img\": df['img'][i], \"video\": df['video'][i]})\n",
    "    \n",
    "    rloader_ing.append(rdoc_ing)\n",
    "    rloader_rep.append(rdoc_rep)"
   ]
  },
  {
   "cell_type": "code",
   "execution_count": 28,
   "metadata": {},
   "outputs": [
    {
     "name": "stdout",
     "output_type": "stream",
     "text": [
      "(\"김성주 '연복풍 탕수육'\", '소고기 안심,    튀김가루,    적양배추,    대파,    마늘,   고춧가루,    전분,    설탕,    식초,    간장,    양파,    당근,   청양고추,    케첩,    전분')\n",
      "(\"김성주 '연복풍 탕수육'\", '소고기 안심,    튀김가루,    적양배추,    대파,    마늘,   고춧가루,    전분,    설탕,    식초,    간장,    양파,    당근,   청양고추,    케첩,    전분', '  1. 끓는 기름에 적당한 크기로 썬 대파와 으깬 마늘, 고춧가루를 넣고 고추기름을 낸다.  2. 소고기 안심을 두드려 납작하게 만든다.  3. 납작하게 만든 소고기 안심을 적당한 크기로 썬다.  4. 튀김가루, 전분, 물을 섞어 튀김옷을 만든다.  5. 소고기 안심에 튀김옷을 입혀 기름에 튀긴다.  6. 고추기름을 면보에 걸러 건더기를 걸러낸다.  7. 튀긴 소고기 안심을 건진다.  8. 설탕, 식초, 간장, 물을 섞어 탕수소스를 만든다.  9. 양파, 적양배추, 당근, 청양고추를 적당한 크기로 썬다.  10. 튀긴 소고기 안심을 한 번 더 튀겨낸다.  11. 고추기름을 두른 팬에 손질한 채소를 볶다가 케첩을 넣는다.  12. 볶던 재료에 탕수소스를 붓고 끓인다.  13. 튀긴 소고기 안심을 건져 기름기를 뺀다.  14. 탕수소스에 전분물을 넣어 농도를 조절한다.  15. 접시에 튀긴 소고기 안심을 담고 탕수소스를 부어 마무리한다.')\n"
     ]
    }
   ],
   "source": [
    "print(rloader_ing[0].page_content)\n",
    "print(rloader_rep[0].page_content)"
   ]
  },
  {
   "cell_type": "code",
   "execution_count": 30,
   "metadata": {},
   "outputs": [
    {
     "name": "stdout",
     "output_type": "stream",
     "text": [
      "loader_ing: \n",
      "[Document(metadata={'recipes': '  1. 끓는 기름에 적당한 크기로 썬 대파와 으깬 마늘, 고춧가루를 넣고 고추기름을 낸다.  2. 소고기 안심을 두드려 납작하게 만든다.  3. 납작하게 만든 소고기 안심을 적당한 크기로 썬다.  4. 튀김가루, 전분, 물을 섞어 튀김옷을 만든다.  5. 소고기 안심에 튀김옷을 입혀 기름에 튀긴다.  6. 고추기름을 면보에 걸러 건더기를 걸러낸다.  7. 튀긴 소고기 안심을 건진다.  8. 설탕, 식초, 간장, 물을 섞어 탕수소스를 만든다.  9. 양파, 적양배추, 당근, 청양고추를 적당한 크기로 썬다.  10. 튀긴 소고기 안심을 한 번 더 튀겨낸다.  11. 고추기름을 두른 팬에 손질한 채소를 볶다가 케첩을 넣는다.  12. 볶던 재료에 탕수소스를 붓고 끓인다.  13. 튀긴 소고기 안심을 건져 기름기를 뺀다.  14. 탕수소스에 전분물을 넣어 농도를 조절한다.  15. 접시에 튀긴 소고기 안심을 담고 탕수소스를 부어 마무리한다.', 'img': 'https://fs.jtbc.co.kr/joydata/CP00000001/prog/enter/janggo/img/20171121_113853_246.jpg', 'video': 'https://tv.jtbc.co.kr/vod/pr10010331/pm10031085/vo10192945/view'}, page_content='(\"김성주 \\'연복풍 탕수육\\'\", \\'소고기 안심,    튀김가루,    적양배추,    대파,    마늘,   고춧가루,    전분,    설탕,    식초,    간장,    양파,    당근,   청양고추,    케첩,    전분\\')'),\n",
      " Document(metadata={'recipes': '  1. 양파를 잘게 썬다.  2. 파프리카를 직화한다.  3. 마늘은 편으로 썰고, 전복은 손질해 잘게 썬다.  4. 팬에 버터를 두른 뒤, 편마늘과 잘게 썬 양파, 다진 마늘, 발사믹 식초를 넣고 끓인다.  5. 4에 설탕, 잘게 썬 전복을 넣고 볶아 전복발사믹소스를 만든다.  6. 스테이크용 부챗살에 소금, 후추로 간 한 뒤, 칼집을 낸다.  7. 손질한 스테이크용 부챗살을 그릴팬에 굽는다.  8. 냄비에 불린 미역을 볶는다.  9. 볶던 미역에 참기름을 넣고, 뜨거운 물을 부어 미역국을 끓인다.  10. 미역국에 라면수프와 면을 넣고 끓여 미역라면을 만든다.  11. 접시에 전복발사믹소스를 깔고, 부챗살 스테이크를 올린다.  12. 직화한 파프리카의 탄 부분을 벗겨내고, 적당한 크기로 썰어 스테이크에 곁들인다.  13. 스테이크 위에 레몬껍질을 갈아 올린다.  14. 스테이크 위에 올리브오일, 레몬즙을 뿌린다.  15. 그릇에 미역라면을 담고, 잘게 썬 대파를 올려 마무리한다.', 'img': 'https://fs.jtbc.co.kr/joydata/CP00000001/prog/enter/janggo/img/20171121_115459_726.jpg', 'video': 'https://tv.jtbc.co.kr/vod/pr10010331/pm10031085/vo10192947/view'}, page_content='(\"안정환 \\'테리우스테이크\\'\", \\'스테이크용 부챗살,    파프리카,    전복,    발사믹 식초,   미역,    참기름,    양파,    마늘,    버터,    다진 마늘,    설탕,   소금,    후추,    라면,    레몬,    올리브오일,    대파\\')'),\n",
      " Document(metadata={'recipes': '  1. 알배추, 적양파를 채 썬다.  2. 올리브오일과 참기름을 두른 팬에 채 썬 적양파, 홍고추, 대파를 볶는다.  3. 볶던 채소에 마늘, 청양고춧가루를 넣고 볶는다.  4. 아스파라거스를 적당한 길이로 썰어 기름을 두른 팬에 굽다가 소금으로 간한다.  5. 구운 아스파라거스를 접시에 옮겨 불고기양념과 굴소스를 바른다.  6. 채소를 볶던 팬에 채 썬 알배추와 굴소스를 넣고 볶는다.  7. 채소볶음에 팽이버섯을 넣고 버무린다.  8. 전자레인지에 즉석밥을 넣고 돌린다.  9. 기름을 두른 팬에 밥을 편 뒤, 눌러서 굽는다.  10. 기름을 두른 팬에 차돌박이를 굽다가 소금으로 간 한다.  11. 구운 차돌박이 위에 볶은 채소와 구운 아스파라거스를 올리고 돌돌 말아 차돌박이롤을 만든다.  12. 차돌박이롤에 불고기양념을 바른다.  13. 기름을 두른 팬에 차돌박이롤을 굽는다.  14. 구운 밥을 모양내서 자른 뒤, 접시에 올린다.  15. 구운 밥 위에 차돌박이롤을 올린다.  16. 차돌박이롤 위에 불고기양념을 바르고, 볶은 채소를 얹는다.  17. 잘게 썬 쪽파를 뿌려 마무리한다.', 'img': 'https://fs.jtbc.co.kr/joydata/CP00000001/prog/enter/janggo/img/20171212_102102_429.jpg', 'video': 'https://tv.jtbc.co.kr/vod/pr10010331/pm10031085/vo10196622/view'}, page_content='(\"고든램지 \\'퀵! 차돌박이 볶음 말이\\'\", \\'알배추,    적양파,    청양고춧가루,    아스파라거스,   불고기양념,    굴소스,    팽이버섯,    쪽파,    올리브오일,   참기름,    홍고추,    대파,    마늘,    소금,    즉석밥\\')'),\n",
      " Document(metadata={'recipes': '  1. 아스파라거스를 적당한 크기로 손질한다.  2. 양파, 베이컨을 적당한 크기로 썰어 팬에 볶는다.  3. 다른 팬에 적당한 크기로 썬 소시지와 마늘을 볶다가, 맥주를 붓고 끓인다.  4. 3에 손질한 아스파라거스를 넣는다.  5. 맥주, 연겨자, 달걀, 팬케이크가루를 섞어 팬케이크반죽을 만든다.  6. 팬케이크반죽에 모차렐라치즈를 넣는다.  7. 유리냄비에 버터를 묻히고, 볶은 양파와 베이컨, 팬케이크반죽을 넣고 전자레인지에서 익힌다.  8. 볶던 양파와 베이컨에 버터와 올리브오일을 넣고 다시 한 번 볶는다.  9. 8에 밀가루, 맥주를 넣고 끓이다가, 액상조미료를 넣고 끓인 육수를 부어 함께 끓인다.  10. 끓이던 재료에 후추를 넣어 소스를 만든다.  11. 전자레인지에 익힌 팬케이크반죽을 꺼내 맥주에 끓인 소시지와아스파라거스를 넣고, 다시 한 번 익혀 낸다.  12. 소스를 유리냄비에 부어 따로 낸다.', 'img': 'https://fs.jtbc.co.kr/prog/enter/janggo/Img/20170124_112405_0688.jpg', 'video': 'https://tv.jtbc.co.kr/vod/pr10010331/pm10031085/vo10132817/view'}, page_content='(\"레이먼킴 \\'팬타스틱\\'\", \\'아스파라거스,    베이컨,    소시지,    맥주,    팬케이크가루,    모차렐라치즈,    액상조미료,   양파,    마늘,    달걀,    연겨자,    버터,    올리브오일,    밀가루,    후추\\')'),\n",
      " Document(metadata={'recipes': '  1. 냄비에 인삼음료를 넣고 끓인다.  2. 끓이던 인삼음료에 설탕, 물, 물엿, 마누카 꿀을 넣고 끓인다.  3. 끓이던 재료에 꿀에 절인 인삼을 넣어 인삼소스를 만든다.  4. 기름을 두른 팬에 송편을 굽는다.  5. 전자레인지에 즉석밥을 넣고 돌린다.  6. 구운 송편을 볼에 담아 식힌다.  7. 송편을 구웠던 팬에 적당한 크기로 자른 곶감과 으깬 땅콩을 넣고 볶는다.  8. 기름을 두른 팬에 인스턴트 닭발을 볶다가 적당한 크기로 자른 뒤, 레몬즙을 넣는다.  9. 콩잎장아찌를 물에 헹군 뒤, 물기를 제거한다.  10. 끓이던 인삼소스에 볶은 곶감과 땅콩을 넣고 졸여 강정소스를 만든다.  11. 구운 송편을 접시에 담고, 강정소스를 뿌려 송편 강정을 만든다.  12. 볼에 밥, 영양부추, 참기름, 깨, 볶은 닭발을 넣고 버무린다.  13. 12를 적당한 크기로 뭉친 뒤, 콩잎장아찌로 감싸 접시에 담는다.  14. 칵테일 셰이커에 증류소주, 능이버섯 달인 물, 레몬즙을 넣고 섞는다.  15. 유리잔에 레몬즙과 소금을 차례로 묻힌다.  16. 볼에 흑마늘액, 겨자를 넣고 섞어 흑마늘소스를 만든 뒤, 콩잎쌈밥에 곁들인다.  17. 소금을 묻힌 유리잔에 능이버섯주를 담아 마무리한다.', 'img': 'https://fs.jtbc.co.kr/prog/enter/janggo/Img/20161018_123315_8594.jpg', 'video': 'https://tv.jtbc.co.kr/vod/pr10010331/pm10031085/vo10121292/view'}, page_content='(\"김민준 \\'콩닭거렸쌈\\'\", \\'인스턴트 닭발,    송편,    곶감,    블루베리,    꿀에 절인 인삼,    인삼음료,    마누카 꿀,    흑마늘액,    능이버섯 달인 물,   땅콩,    콩잎장아찌,    증류소주,    영양부추,    레몬,    설탕,    물엿,    참기름,    깨,    소금,    겨자,    즉석밥\\')')]\n",
      "loader_rep\n",
      "[Document(metadata={'img': 'https://fs.jtbc.co.kr/joydata/CP00000001/prog/enter/janggo/img/20171121_113853_246.jpg', 'video': 'https://tv.jtbc.co.kr/vod/pr10010331/pm10031085/vo10192945/view'}, page_content='(\"김성주 \\'연복풍 탕수육\\'\", \\'소고기 안심,    튀김가루,    적양배추,    대파,    마늘,   고춧가루,    전분,    설탕,    식초,    간장,    양파,    당근,   청양고추,    케첩,    전분\\', \\'  1. 끓는 기름에 적당한 크기로 썬 대파와 으깬 마늘, 고춧가루를 넣고 고추기름을 낸다.  2. 소고기 안심을 두드려 납작하게 만든다.  3. 납작하게 만든 소고기 안심을 적당한 크기로 썬다.  4. 튀김가루, 전분, 물을 섞어 튀김옷을 만든다.  5. 소고기 안심에 튀김옷을 입혀 기름에 튀긴다.  6. 고추기름을 면보에 걸러 건더기를 걸러낸다.  7. 튀긴 소고기 안심을 건진다.  8. 설탕, 식초, 간장, 물을 섞어 탕수소스를 만든다.  9. 양파, 적양배추, 당근, 청양고추를 적당한 크기로 썬다.  10. 튀긴 소고기 안심을 한 번 더 튀겨낸다.  11. 고추기름을 두른 팬에 손질한 채소를 볶다가 케첩을 넣는다.  12. 볶던 재료에 탕수소스를 붓고 끓인다.  13. 튀긴 소고기 안심을 건져 기름기를 뺀다.  14. 탕수소스에 전분물을 넣어 농도를 조절한다.  15. 접시에 튀긴 소고기 안심을 담고 탕수소스를 부어 마무리한다.\\')'),\n",
      " Document(metadata={'img': 'https://fs.jtbc.co.kr/joydata/CP00000001/prog/enter/janggo/img/20171121_115459_726.jpg', 'video': 'https://tv.jtbc.co.kr/vod/pr10010331/pm10031085/vo10192947/view'}, page_content='(\"안정환 \\'테리우스테이크\\'\", \\'스테이크용 부챗살,    파프리카,    전복,    발사믹 식초,   미역,    참기름,    양파,    마늘,    버터,    다진 마늘,    설탕,   소금,    후추,    라면,    레몬,    올리브오일,    대파\\', \\'  1. 양파를 잘게 썬다.  2. 파프리카를 직화한다.  3. 마늘은 편으로 썰고, 전복은 손질해 잘게 썬다.  4. 팬에 버터를 두른 뒤, 편마늘과 잘게 썬 양파, 다진 마늘, 발사믹 식초를 넣고 끓인다.  5. 4에 설탕, 잘게 썬 전복을 넣고 볶아 전복발사믹소스를 만든다.  6. 스테이크용 부챗살에 소금, 후추로 간 한 뒤, 칼집을 낸다.  7. 손질한 스테이크용 부챗살을 그릴팬에 굽는다.  8. 냄비에 불린 미역을 볶는다.  9. 볶던 미역에 참기름을 넣고, 뜨거운 물을 부어 미역국을 끓인다.  10. 미역국에 라면수프와 면을 넣고 끓여 미역라면을 만든다.  11. 접시에 전복발사믹소스를 깔고, 부챗살 스테이크를 올린다.  12. 직화한 파프리카의 탄 부분을 벗겨내고, 적당한 크기로 썰어 스테이크에 곁들인다.  13. 스테이크 위에 레몬껍질을 갈아 올린다.  14. 스테이크 위에 올리브오일, 레몬즙을 뿌린다.  15. 그릇에 미역라면을 담고, 잘게 썬 대파를 올려 마무리한다.\\')'),\n",
      " Document(metadata={'img': 'https://fs.jtbc.co.kr/joydata/CP00000001/prog/enter/janggo/img/20171212_102102_429.jpg', 'video': 'https://tv.jtbc.co.kr/vod/pr10010331/pm10031085/vo10196622/view'}, page_content='(\"고든램지 \\'퀵! 차돌박이 볶음 말이\\'\", \\'알배추,    적양파,    청양고춧가루,    아스파라거스,   불고기양념,    굴소스,    팽이버섯,    쪽파,    올리브오일,   참기름,    홍고추,    대파,    마늘,    소금,    즉석밥\\', \\'  1. 알배추, 적양파를 채 썬다.  2. 올리브오일과 참기름을 두른 팬에 채 썬 적양파, 홍고추, 대파를 볶는다.  3. 볶던 채소에 마늘, 청양고춧가루를 넣고 볶는다.  4. 아스파라거스를 적당한 길이로 썰어 기름을 두른 팬에 굽다가 소금으로 간한다.  5. 구운 아스파라거스를 접시에 옮겨 불고기양념과 굴소스를 바른다.  6. 채소를 볶던 팬에 채 썬 알배추와 굴소스를 넣고 볶는다.  7. 채소볶음에 팽이버섯을 넣고 버무린다.  8. 전자레인지에 즉석밥을 넣고 돌린다.  9. 기름을 두른 팬에 밥을 편 뒤, 눌러서 굽는다.  10. 기름을 두른 팬에 차돌박이를 굽다가 소금으로 간 한다.  11. 구운 차돌박이 위에 볶은 채소와 구운 아스파라거스를 올리고 돌돌 말아 차돌박이롤을 만든다.  12. 차돌박이롤에 불고기양념을 바른다.  13. 기름을 두른 팬에 차돌박이롤을 굽는다.  14. 구운 밥을 모양내서 자른 뒤, 접시에 올린다.  15. 구운 밥 위에 차돌박이롤을 올린다.  16. 차돌박이롤 위에 불고기양념을 바르고, 볶은 채소를 얹는다.  17. 잘게 썬 쪽파를 뿌려 마무리한다.\\')'),\n",
      " Document(metadata={'img': 'https://fs.jtbc.co.kr/prog/enter/janggo/Img/20170124_112405_0688.jpg', 'video': 'https://tv.jtbc.co.kr/vod/pr10010331/pm10031085/vo10132817/view'}, page_content='(\"레이먼킴 \\'팬타스틱\\'\", \\'아스파라거스,    베이컨,    소시지,    맥주,    팬케이크가루,    모차렐라치즈,    액상조미료,   양파,    마늘,    달걀,    연겨자,    버터,    올리브오일,    밀가루,    후추\\', \\'  1. 아스파라거스를 적당한 크기로 손질한다.  2. 양파, 베이컨을 적당한 크기로 썰어 팬에 볶는다.  3. 다른 팬에 적당한 크기로 썬 소시지와 마늘을 볶다가, 맥주를 붓고 끓인다.  4. 3에 손질한 아스파라거스를 넣는다.  5. 맥주, 연겨자, 달걀, 팬케이크가루를 섞어 팬케이크반죽을 만든다.  6. 팬케이크반죽에 모차렐라치즈를 넣는다.  7. 유리냄비에 버터를 묻히고, 볶은 양파와 베이컨, 팬케이크반죽을 넣고 전자레인지에서 익힌다.  8. 볶던 양파와 베이컨에 버터와 올리브오일을 넣고 다시 한 번 볶는다.  9. 8에 밀가루, 맥주를 넣고 끓이다가, 액상조미료를 넣고 끓인 육수를 부어 함께 끓인다.  10. 끓이던 재료에 후추를 넣어 소스를 만든다.  11. 전자레인지에 익힌 팬케이크반죽을 꺼내 맥주에 끓인 소시지와아스파라거스를 넣고, 다시 한 번 익혀 낸다.  12. 소스를 유리냄비에 부어 따로 낸다.\\')'),\n",
      " Document(metadata={'img': 'https://fs.jtbc.co.kr/prog/enter/janggo/Img/20161018_123315_8594.jpg', 'video': 'https://tv.jtbc.co.kr/vod/pr10010331/pm10031085/vo10121292/view'}, page_content='(\"김민준 \\'콩닭거렸쌈\\'\", \\'인스턴트 닭발,    송편,    곶감,    블루베리,    꿀에 절인 인삼,    인삼음료,    마누카 꿀,    흑마늘액,    능이버섯 달인 물,   땅콩,    콩잎장아찌,    증류소주,    영양부추,    레몬,    설탕,    물엿,    참기름,    깨,    소금,    겨자,    즉석밥\\', \\'  1. 냄비에 인삼음료를 넣고 끓인다.  2. 끓이던 인삼음료에 설탕, 물, 물엿, 마누카 꿀을 넣고 끓인다.  3. 끓이던 재료에 꿀에 절인 인삼을 넣어 인삼소스를 만든다.  4. 기름을 두른 팬에 송편을 굽는다.  5. 전자레인지에 즉석밥을 넣고 돌린다.  6. 구운 송편을 볼에 담아 식힌다.  7. 송편을 구웠던 팬에 적당한 크기로 자른 곶감과 으깬 땅콩을 넣고 볶는다.  8. 기름을 두른 팬에 인스턴트 닭발을 볶다가 적당한 크기로 자른 뒤, 레몬즙을 넣는다.  9. 콩잎장아찌를 물에 헹군 뒤, 물기를 제거한다.  10. 끓이던 인삼소스에 볶은 곶감과 땅콩을 넣고 졸여 강정소스를 만든다.  11. 구운 송편을 접시에 담고, 강정소스를 뿌려 송편 강정을 만든다.  12. 볼에 밥, 영양부추, 참기름, 깨, 볶은 닭발을 넣고 버무린다.  13. 12를 적당한 크기로 뭉친 뒤, 콩잎장아찌로 감싸 접시에 담는다.  14. 칵테일 셰이커에 증류소주, 능이버섯 달인 물, 레몬즙을 넣고 섞는다.  15. 유리잔에 레몬즙과 소금을 차례로 묻힌다.  16. 볼에 흑마늘액, 겨자를 넣고 섞어 흑마늘소스를 만든 뒤, 콩잎쌈밥에 곁들인다.  17. 소금을 묻힌 유리잔에 능이버섯주를 담아 마무리한다.\\')')]\n"
     ]
    }
   ],
   "source": [
    "from pprint import pprint\n",
    "\n",
    "print(\"loader_ing: \")\n",
    "pprint(rloader_ing)\n",
    "print(\"loader_rep\")\n",
    "pprint(rloader_rep)"
   ]
  },
  {
   "cell_type": "markdown",
   "metadata": {},
   "source": [
    "### 편스토랑: 요리이름, 재료 + 레시피"
   ]
  },
  {
   "cell_type": "code",
   "execution_count": null,
   "metadata": {},
   "outputs": [],
   "source": [
    "df = pd.read_csv(\"./편스토랑_FINAL.csv\", encoding=\"cp949\")\n",
    "floader_ing, floader_rep = [], [] # 이름 + 재료, 이름 + 재료 + 레시피\n",
    "for i in range(5):\n",
    "    page_content1 = f\"{df['name'][i]}, {df['ingredients'][i]}\"\n",
    "    page_content2 = f\"{df['name'][i]}, {df['ingredients'][i]}, {df['recipes'][i]}\"\n",
    "\n",
    "    fdoc_ing = Document(page_content=page_content1, metadata={\"recipes\": df[\"recipes\"][i], \"img\": df['photo'][i], \"video\": df['video_url'][i]})\n",
    "    fdoc_rep = Document(page_content=page_content2, metadata={\"img\": df['photo'][i], \"video\": df['video_url'][i]})\n",
    "    \n",
    "    floader_ing.append(fdoc_ing)\n",
    "    floader_rep.append(fdoc_rep)"
   ]
  },
  {
   "cell_type": "code",
   "execution_count": null,
   "metadata": {},
   "outputs": [],
   "source": [
    "print(floader_ing[0].page_content)\n",
    "print(floader_rep[0].page_content)"
   ]
  },
  {
   "cell_type": "code",
   "execution_count": null,
   "metadata": {},
   "outputs": [],
   "source": [
    "from pprint import pprint\n",
    "\n",
    "print(\"loader_ing: \")\n",
    "pprint(floader_ing)\n",
    "print(\"loader_rep\")\n",
    "pprint(floader_rep)"
   ]
  },
  {
   "cell_type": "code",
   "execution_count": null,
   "metadata": {},
   "outputs": [],
   "source": [
    "## 로더 사용\n",
    "# loader = DataFrameLoader(df, page_content_column=\"ingredients\")\n",
    "# docs = loader.load()\n",
    "# docs[:5]"
   ]
  }
 ],
 "metadata": {
  "kernelspec": {
   "display_name": "llm",
   "language": "python",
   "name": "python3"
  },
  "language_info": {
   "codemirror_mode": {
    "name": "ipython",
    "version": 3
   },
   "file_extension": ".py",
   "mimetype": "text/x-python",
   "name": "python",
   "nbconvert_exporter": "python",
   "pygments_lexer": "ipython3",
   "version": "3.12.9"
  }
 },
 "nbformat": 4,
 "nbformat_minor": 2
}

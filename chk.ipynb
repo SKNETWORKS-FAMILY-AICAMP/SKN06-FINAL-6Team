{
 "cells": [
  {
   "cell_type": "markdown",
   "metadata": {},
   "source": [
    "# retriever 형태 확인"
   ]
  },
  {
   "cell_type": "code",
   "execution_count": 2,
   "metadata": {},
   "outputs": [],
   "source": [
    "import sqlite3\n",
    "import pandas as pd"
   ]
  },
  {
   "cell_type": "code",
   "execution_count": null,
   "metadata": {},
   "outputs": [
    {
     "data": {
      "text/plain": [
       "Index(['id', 'img', 'video', 'ingredients_list', 'page_content'], dtype='object')"
      ]
     },
     "execution_count": 5,
     "metadata": {},
     "output_type": "execute_result"
    }
   ],
   "source": [
    "conn = sqlite3.connect(\"fridges.db\")\n",
    "df = pd.read_sql(\"SELECT * FROM menu\", conn)\n",
    "\n",
    "df['page_content'] = df['name'] + \" \" + df['ingredients'] + \" \" + df['recipe']\n",
    "df.drop(columns=['name', 'ingredients', 'recipes'], inplace=True)\n",
    "conn.close()\n",
    "df.columns"
   ]
  },
  {
   "cell_type": "code",
   "execution_count": 1,
   "metadata": {},
   "outputs": [
    {
     "data": {
      "text/plain": [
       "True"
      ]
     },
     "execution_count": 1,
     "metadata": {},
     "output_type": "execute_result"
    }
   ],
   "source": [
    "import sqlite3\n",
    "import pandas as pd\n",
    "\n",
    "from langchain_openai import OpenAIEmbeddings\n",
    "from langchain_community.document_loaders import DataFrameLoader\n",
    "from langchain.text_splitter import RecursiveCharacterTextSplitter\n",
    "from langchain_community.vectorstores import FAISS\n",
    "from langchain_community.retrievers import BM25Retriever\n",
    "from langchain.retrievers import EnsembleRetriever\n",
    "\n",
    "\n",
    "from dotenv import load_dotenv\n",
    "\n",
    "load_dotenv()"
   ]
  },
  {
   "cell_type": "code",
   "execution_count": 2,
   "metadata": {},
   "outputs": [],
   "source": [
    "def load(case):\n",
    "    if case == \"funs\":\n",
    "        conn = sqlite3.connect(\"funs.db\")\n",
    "        df = pd.read_sql(\"SELECT * FROM menu\", conn)\n",
    "\n",
    "        df['page_content'] = df['name'] + \" ||| \" + df['ingredients'] + \" ||| \" + df['recipe']\n",
    "        df.drop(columns=['name', 'ingredients', 'recipe'], inplace=True)\n",
    "        conn.close()\n",
    "        loader = DataFrameLoader(df, page_content_column=\"page_content\")\n",
    "        docs = loader.load()\n",
    "        return docs\n",
    "    \n",
    "    elif case == \"ref\":\n",
    "        conn = sqlite3.connect(\"fridges.db\")\n",
    "        df = pd.read_sql(\"SELECT * FROM menu\", conn)\n",
    "\n",
    "        df['page_content'] = df['name'] + \" ||| \" + df['ingredients'] + \" ||| \" + df['recipe']\n",
    "        df.drop(columns=['name', 'ingredients', 'recipe'], inplace=True)\n",
    "        conn.close()\n",
    "        loader = DataFrameLoader(df, page_content_column=\"page_content\")\n",
    "        docs = loader.load()\n",
    "        return docs\n",
    "    \n",
    "    else:\n",
    "        conn = sqlite3.connect(\"man.db\")\n",
    "        df = pd.read_sql(\"SELECT * FROM processed_data\", conn)\n",
    "\n",
    "        df['page_content'] = df['name'] + \" ||| \" + df['ingredients'] + \" ||| \" + df['recipe'] + \" ||| \" + df['category'] + \" ||| \" + df['info'] + \" ||| \" + df['intro']\n",
    "        df.drop(columns=['name', 'ingredients', 'recipe', \"info\", \"intro\"], inplace=True)\n",
    "        conn.close()\n",
    "        loader = DataFrameLoader(df, page_content_column=\"page_content\")\n",
    "        splitter = RecursiveCharacterTextSplitter.from_tiktoken_encoder(model_name='gpt-4o-mini', chunk_size=1000, chunk_overlap=0)\n",
    "        docs = loader.load_and_split(splitter)\n",
    "        return docs"
   ]
  },
  {
   "cell_type": "code",
   "execution_count": 5,
   "metadata": {},
   "outputs": [],
   "source": [
    "embeddings = OpenAIEmbeddings(model=\"text-embedding-3-small\")\n",
    "\n",
    "# docs = load(\"funs\")\n",
    "# fais = FAISS.from_documents(docs, embedding=embeddings)\n",
    "# fais.save_local(\"fun_faiss\")"
   ]
  },
  {
   "cell_type": "code",
   "execution_count": null,
   "metadata": {},
   "outputs": [
    {
     "name": "stderr",
     "output_type": "stream",
     "text": [
      "c:\\Users\\Playdata\\SKN06\\last_prj\\venv\\Lib\\site-packages\\langchain_core\\vectorstores\\base.py:1076: UserWarning: Relevance scores must be between 0 and 1, got [(Document(id='e94ba6fc-e82b-4cea-9433-0eb33c5b52a1', metadata={'id': 1691, 'img': 'https://pbbsres.kbs.co.kr/t2019-0286-04-296340/2024/08/23/2729082_5.png', 'video': 'https://www.youtube.com/watch?v=iFqp86-Z3W0&pp=ygU07KeE7ISc7JewIC0gJ-yCrOqzvOuyoOydtOq4gCcg66CI7Iuc7ZS8IO2OuOyKpO2GoOuekQ%3D%3D'}, page_content=\"진서연 - '사과베이글' 레시피 ||| 사과 1개, 땅콩버터, 그래놀라, 그릭요구르트 ||| 1. 사과는 2cm 두께로 사과 꼭지와 수직 방향이 되게 자른다. 2. 사과의 정가운데 씨가 있는 부분은 칼로 썰어 제거한다. 3. 사과에 땅콩버터를 바르고 그래놀라, 그릭요구르트, 사과 순으로 쌓으면 완성\"), np.float32(-0.056272507)), (Document(id='2c3a0fa6-c4af-4b7c-bcdf-cb8d27581beb', metadata={'id': 1778, 'img': 'https://pbbsres.kbs.co.kr/t2019-0286-04-296340/2024/12/27/2835445_5.jpg', 'video': 'https://www.youtube.com/watch?v=90JKu3kWSGY&pp=ygU17J6l66-87Zi4IC0gJ-yCrOqzvCDsvIDsnbTtgawnIOugiOyLnO2UvCDtjrjsiqTthqDrnpE%3D'}, page_content=\"장민호 - '사과 케이크' 레시피 ||| 사과 1개, 버터 20g, 레몬즙 1T, 설탕 1T, 우유 400ml, 팬케이크셰이크 1개, 피스타치오 반 줌 ||| 1. 사과는 껍질째 얇게 슬라이스 썬다. 2. 달궈진 팬에 사과와 설탕 1T, 레몬즙 1T, 버터 20g을 넣고 중약불에서 약 5분 동안 졸인다. (뚜껑을 열고 졸여서 수분을 날려주세요) 3. 사과가 노릇해지면 뚜껑을 덮고 중불에서 3분 정도 더 익혀준다. 4. 셰이크 반죽 통에 우유 400ml를 붓고 1분간 흔든다. (일반적인 팬케이크 믹스를 활용해 주세요) 5. 수분이 자작해지면, 사과를 가지런히 정리해 준다. (이대로 케이크 모양이 나오기 때문에 사과는 최대한 가지런히 정리해 주세요) 6. 5에 반죽 물을 얇게 붓는다. 7. 뚜껑을 덮고 약불에 10분간 익혀준다. 8. 피스타치오를 잘게 다져준다. 9. 팬을 뒤집어 그릇에 플레이팅 한 뒤, 피스타치오 분태를 뿌려주면 완성\"), np.float32(-0.10821831)), (Document(id='a1fa7f86-55f0-4462-8959-4ab2ab52c3e0', metadata={'id': 705, 'img': 'https://pbbsres.kbs.co.kr/t2019-0286-04-296340/2022/04/22/1739015_batch_abc주스.jpg', 'video': 'https://www.youtube.com/watch?v=UEfVP0jMUFk&pp=ygUv67CV7IaU66-4IC0gJ0FCQyDso7zsiqQnIOugiOyLnO2UvCDtjrjsiqTthqDrnpE%3D'}, page_content=\"박솔미 - 'ABC 주스' 레시피 ||| 사과, 비트, 당근, 물 ||| [ABC 주스 만들기] 1. 사과와 비트는 껍질을 깎고, 당근은 깨끗하게 세척한 후 큼직하게 썬다. 2. 당근과 비트를 냄비에 옮겨 담고 물 3-4T를 넣고 5분간 찐다. 3. 찐 당근과 비트를 식힌 뒤 사과와 함께 물 200ml를 넣고 갈아준다. 4. 다 갈린 ABC 주스는 채반에 걸러 준다. 5. 걸러진 주스를 컵에 옮겨 담으면 완성\"), np.float32(-0.11646247))]\n",
      "  self.vectorstore.similarity_search_with_relevance_scores(\n",
      "No relevant docs were retrieved using the relevance score threshold 0.05\n"
     ]
    },
    {
     "data": {
      "text/plain": [
       "[]"
      ]
     },
     "execution_count": 40,
     "metadata": {},
     "output_type": "execute_result"
    }
   ],
   "source": [
    "# fais = FAISS.load_local(\"fun_faiss\", embeddings, allow_dangerous_deserialization=True)\n",
    "# fais.as_retriever(search_type=\"similarity_score_threshold\", search_kwargs={\"k\": 3, \"score_threshold\": 0.05}).invoke(\"사과\")"
   ]
  },
  {
   "cell_type": "code",
   "execution_count": null,
   "metadata": {},
   "outputs": [],
   "source": [
    "# docs = load(\"ref\")\n",
    "# fais = FAISS.from_documents(docs, embedding=embeddings)\n",
    "# fais.save_local(\"ref_faiss\")"
   ]
  },
  {
   "cell_type": "code",
   "execution_count": null,
   "metadata": {},
   "outputs": [],
   "source": [
    "# docs = load(\"man\")\n",
    "# fais = FAISS.from_documents(docs, embedding=embeddings)\n",
    "# fais.save_local(\"man_faiss\")"
   ]
  },
  {
   "cell_type": "code",
   "execution_count": 3,
   "metadata": {},
   "outputs": [],
   "source": [
    "def load_retriever(case, faiss_path):\n",
    "    \"\"\" retriever 로드 함수\"\"\"\n",
    "    docs = load(case)\n",
    "\n",
    "    # vectordb 로드\n",
    "    fais = FAISS.load_local(faiss_path, embeddings, allow_dangerous_deserialization=True)\n",
    "\n",
    "    # BM25 retriever, FAISS retriever 앙상블\n",
    "    bm25_retr = BM25Retriever.from_documents(docs)\n",
    "    bm25_retr.k = 3\n",
    "    fais_retr = fais.as_retriever(search_kwargs={\"k\": 3})\n",
    "    \n",
    "    return bm25_retr, fais_retr"
   ]
  },
  {
   "cell_type": "code",
   "execution_count": 7,
   "metadata": {},
   "outputs": [],
   "source": [
    "rbm25_retr, rfais_retr = load_retriever(\"ref\", \"ref_faiss\") # 냉장고를 부탁해\n",
    "fbm25_retr, ffais_retr = load_retriever(\"funs\", \"fun_faiss\") # 편스토랑\n",
    "mbm25_retr, mfais_retr = load_retriever(\"man\", \"man_faiss\") # 만개의 레시피\n",
    "\n",
    "retriever = EnsembleRetriever(retrievers=[rbm25_retr, rfais_retr, fbm25_retr, ffais_retr, mbm25_retr, mfais_retr],)"
   ]
  },
  {
   "cell_type": "code",
   "execution_count": 10,
   "metadata": {},
   "outputs": [
    {
     "data": {
      "text/plain": [
       "[Document(metadata={'id': 47620, 'img': 'https://recipe1.ezmember.co.kr/cache/recipe/2021/05/07/91f9e07b597a37e3b62d6731c0e3e7891.jpg', 'views': '791', 'video': '', 'category': '초스피드', 'date': '2021-05-07'}, page_content='오렌지 예쁘게 잘라서 먹기 ||| 오렌지 ||| 오렌지 반으로 잘라 준다. 양 끝을 조금 잘라낸다. 숟가락을 이용해 자른 오렌지 속을 파내줍니다. 양 끝을 잘라 놓은 꼭지 부분을 속파낸 오렌지에 넣어 줍니다. 오렌지 과육 먹기 좋게 썰어 오렌지 컵에 담아 주면 완성입니다. ||| 초스피드 ||| 1인분 10분 이내 아무나 ||| 오렌지 예쁘게 잘라 손님상에 담아내면 좋겠죠'),\n",
       " Document(metadata={'id': 361, 'img': 'https://fs.jtbc.co.kr/prog/enter/janggo/Img/20160629_103245_6624.jpg', 'video': 'https://tv.jtbc.co.kr/vod/pr10010331/pm10031085/vo10111615/view', 'ingredients_list': \"['우유', '두유', '고구마 아이스크림', '오렌지', '바나나', '달걀', '버터', '밀가루', '설탕']\"}, page_content=\"샘킴 '크레이지 크레페' ||| 우유,    두유,    고구마 아이스크림,    오렌지,    바나나,    달걀,    버터,    밀가루,    설탕 |||   1. 팬에 버터를 녹인다.  2. 밀가루를 체에 밭쳐 곱게 친다.  3. 핸드블랜더에 우유, 설탕, 달걀, 체 친 밀가루를 넣는다.  4. 3에 녹인 버터를 넣고 갈아 크레페 반죽을 만든다.  5. 냄비에 버터, 밀가루, 두유, 고구마 아이스크림을 넣고 졸여 고구마소스를 만든다.  6. 마른 팬에 오렌지즙을 넣는다.  7. 오렌지즙에 설탕, 오렌지 과육과 오렌지 껍질을 갈아 넣고 끓여 오렌지소스를 만든다.  8. 적당한 크기로 썬 바나나 위에 설탕을 뿌린 뒤, 토치로 직화한다.  9. 직화한 바나나 위에 오렌지 껍질을 갈아서 뿌린다.  10. 버터를 녹인 팬에 반죽을 넣고 크레페를 굽는다.  11. 접시에 고구마소스를 넓게 깐다.  12. 크레페를 적당한 크기로 잘라 고구마소스 위에 얹는다.  13. 크레페 위에 오렌지소스를 올린다.  14. 오렌지소스 위에 직화한 바나나를 올리고 오렌지 껍질을 갈아서 뿌려 완성한다.\"),\n",
       " Document(id='d1ab36c0-b797-4222-a5b7-c8162bbdb3b2', metadata={'id': 768, 'img': 'https://fs.jtbc.co.kr/prog/enter/janggo/Img/20170808_095830_4429.jpg', 'video': 'https://tv.jtbc.co.kr/vod/pr10010331/pm10031085/vo10164214/view', 'ingredients_list': \"['양배추', '돼지 안심', '새우', '고량주', '스위트칠리소스', '잔멸치', '돈가스소스', '라면', '케첩', '밀가루', '후추', '양파', '달걀', '마요네즈']\"}, page_content=\"정호영 '오코노미~야키를 사랑해♬' ||| 양배추,    돼지 안심,    새우,    고량주,    스위트칠리소스,   잔멸치,    돈가스소스,    라면,    케첩,    밀가루,    후추,   양파,    달걀,    마요네즈 |||   1. 라면 면을 삶는다.  2. 양배추를 채 썬다.  3. 돼지 안심을 적당한 크기로 썬 뒤, 칼집을 낸다.  4. 삶은 라면을 찬 물에 헹궈 식힌 뒤, 마른 팬에 케첩과 함께 볶는다.  5. 밀가루와 물을 섞어 반죽을 만든다.  6. 기름을 두른 철판에 밀가루반죽을 두른 뒤, 양배추채를 올린다.  7. 양배추 채 위에 돼지 안심을 올리고, 후추를 뿌린 뒤 뒤집어 굽는다.  8. 새우를 손질한 뒤, 후추를 뿌려 굽는다.  9. 철판에 양파슬라이스로 탑을 쌓고 구운 새우를 올린 뒤, 고량주를 붓고 불을 붙인다.  10. 철판 한 쪽에 케첩에 볶은 라면을 펼친 뒤, 오코노미야키를 얹는다.  11. 철판 한 쪽에 달걀프라이를 만들고, 그 위에 오코노미야키를 얹는다.  12. 마요네즈와 스위트칠리소스를 섞어 칠리마요를 만든다.  13. 직화한 새우에 칠리마요를 묻힌다.  14. 오코노미야키를 접시에 담고, 먹기 좋은 크기로 자른다.  15. 핸드블랜더에 잔멸치를 곱게 간 뒤, 오코노미야키 위에 뿌린다.  16. 오코노미야키 위에 돈가스소스와 마요네즈를 뿌린다.  17. 칠리마요새우를 얹어 마무리한다.\"),\n",
       " Document(metadata={'id': 862, 'img': 'https://pbbsres.kbs.co.kr/t2019-0286-04-296340/2022/08/26/1926307_한지혜-당근라페.png', 'video': 'https://www.youtube.com/watch?v=naGJW8iXoJU&pp=ygUy7ZWc7KeA7ZicIC0gJ-uLueq3vCDrnbztjpgnIOugiOyLnO2UvCDtjrjsiqTthqDrnpE%3D'}, page_content=\"한지혜 - '당근 라페' 레시피 ||| 당근 1개, 오렌지 1개, 올리브 오일 듬뿍 2T, 사과식초 2T, 꿀 2T, 카레가루 2t, 소금 한 꼬집, 통후추 약간, 굵은 소금 ||| 재료 준비 1) 당근 1개는 껍질을 벗긴 뒤 양 끝을 살짝 자르고 가늘게 채 썬다. 2) 가늘게 채 썬 당근에 굵은 소금 5T를 넣고 10분 동안 절여 물기를 최대한 뺀다. 3) 오렌지는 베이킹 소다와 굵은 소금을 뿌려 껍질을 깨끗이 씻는다. 4) 절반은 껍질을 제거하고 알맹이만 준비한다. 오렌지 껍질은 버리지 말고 남겨주세요 1. 절인 후 물기 뺀 당근에 올리브 오일 듬뿍 2T, 소금 한 꼬집, 통후추 약간, 사과식초 1T, 카레가루 2t, 꿀 2T를 넣고 섞는다. 카레가루로 색과 향신료 향을 냅니다 2. 1의 당근에 오렌지 개의 즙, 오렌지 개의 제스트를 넣고 섞는다. 오렌지 껍질의 흰 부분이 들어가면 쓴맛이 날 수 있으니 주의하세요 오렌지 제스트는 취향껏 가감하시면 됩니다 3. 2의 당근 라페에 속껍질을 깐 오렌지 알맹이를 곁들여 마무리한다. 당근 라페는 냉장고에서 숙성 후 드시면 더욱 맛있습니다\"),\n",
       " Document(id='43308807-5ab2-4c21-8635-70f60cc556c7', metadata={'id': 1397, 'img': 'https://pbbsres.kbs.co.kr/t2019-0286-04-296340/2023/12/22/2496593_batch_오버나이트 오트밀.png', 'video': 'https://www.youtube.com/watch?v=j4XJ6D59jrI&pp=ygU-7KeE7ISc7JewIC0gJ-yYpOuyhOuCmOydtO2KuCDsmKTtirjrsIAnIOugiOyLnO2UvCDtjrjsiqTthqDrnpE%3D'}, page_content=\"진서연 - '오버나이트 오트밀' 레시피 ||| 오트밀, 아몬드 우유, 플레인 요거트, 저당 딸기잼, 견과류, 딸기 ||| [오버나이트 오트밀 만들기] 1. 그릇에 오트밀 30g을 담고 아몬드 우유를 자박하게 붓는다. 2. 1 위에 플레인 요거트, 저당 딸기잼, 플레인 요거트 순으로 올린다. 3. 딸기와 견과류로 토핑한 뒤 랩을 감싸 냉장고에 넣고 하루 정도 숙성시킨다.\"),\n",
       " Document(id='c5286c6c-7018-4eaa-873a-4ef31ef42bbc', metadata={'id': 123405, 'img': 'https://recipe1.ezmember.co.kr/cache/recipe/2022/03/20/91d99ffcca6de4f8d8ab6673692edb881.jpg', 'views': '3,213', 'video': '', 'category': '푸드스타일링', 'date': '2022-03-20'}, page_content='오렌지 예쁘게 자르는 법 ||| 오렌지-4개, 베이킹 소다-2~3수저 ||| 오렌지에 베이킹 소다를 뿌려 줍니다. 손으로 베이킹소다를 뿌린 오렌지의 겉면을 박박 문질러 주세요. 베이킹 소다로 박박 문지른 오렌지를 물에 담가서 10분 정도 둡니다. 흐르는 물에 여러 번 씻어 주세요. 오렌지는 양 끝 부분을 칼로 잘라내 주세요. 끝 부분은 버리지 않고 활용할게요. 오렌지의 가운데를 칼로 잘라서 이등분해 줍니다. 과도를 세워서 오렌지 과육 부분만 둥글게 도려내 주세요. 과도를 오렌지 끝까지 넣어서 끝 부분이 잘 떨어지도록 도려내 줍니다. 과육과 껍질을 분리해 주세요. 분리한 껍질은 과일을 담아 줄게요. 오렌지 과육을 한 입 크기로 썰어 주세요. 잘라 두었던 오렌지 껍질의 끝 부분을 오렌지컵 바닥에 넣어서 바닥 부분을 막아 줍니다. 썰어 둔 오렌지 과육을 보기 좋게 담아 주세요. 집에 다른 과일이 있으면 같이 담아 주면 색감이 더 예쁘답니다. ||| 푸드스타일링 ||| 2인분 20분 이내 아무나 ||| 아주 간단하면서 오렌지를 예쁘게 자르고 담을 수 있어서 손님이 오셨거나 가족들과 디저트로 과일을 드실 때 활용하시면 좋으실 것 같아요'),\n",
       " Document(metadata={'id': 888, 'img': '', 'video': 'https://www.youtube.com/watch?v=sulSAEkjxCw&pp=ygUV66e56riw7JqpICfsmKTsi5zsp4An', 'ingredients_list': \"['오징어', '양배추', '오렌지 주스', '케이퍼', '버터', '다진 마늘', '후추', '설탕', '고춧가루', '소주', '맛술', '간장', '다진 생강', '전분', '마요네즈', '대파']\"}, page_content=\"맹기용 '오시지' ||| 오징어,    양배추,    오렌지 주스,    케이퍼,    버터,    다진 마늘,    후추,    설탕,    고춧가루,   소주,    맛술,    간장,    다진 생강,    전분,    마요네즈,    대파 |||   1. 오징어를 손질한다.  2. 팬에 버터, 다진 마늘을 넣고 볶는다.  3. 오징어에 칼집을 낸 뒤 후추, 설탕, 고춧가루를 뿌린다.  4. 믹서에 케이퍼, 볶은 버터와 다진 마늘, 오징어를 넣어 함께 갈아준다.  5. 종이호일 위에 오징어 반죽을 올린 뒤 소시지 모양으로 돌돌 말아준다.  6. 찜기에 소주를 넣은 뒤, 오징어 반죽을 찐다.  7. 냄비에 맛술, 간장, 오렌지 주스, 다진 생강을 넣어 졸인다.  8. 7에 전분물을 넣는다.  9. 오렌지 소스를 체에 거른다.  10. 오징어 소시지의 종이호일을 벗겨내고 굽는다.  11. 잘게 썬 양배추를 볶는다.  12. 달군 팬에 볶은 양배추를 올린 뒤, 오징어 소시지를 올린다.  13. 오징어 소시지 위에 오렌지 소스를 뿌린다.  14. 마요네즈를 뿌린다.  15. 잘게 썬 파를 올리고, 후추를 뿌려 완성한다.\"),\n",
       " Document(id='175d208c-332c-4fd8-8ddc-38b9fe7bf26b', metadata={'id': 444, 'img': 'https://fs.jtbc.co.kr/joydata/CP00000001/prog/enter/janggo/img/20190806_112111_731_1.jpg', 'video': 'https://tv.jtbc.co.kr/vod/pr10010331/pm10031085/vo10313142/view', 'ingredients_list': \"['돼지 앞다릿살', '오징어', '조개젓무침', '상추', '가지', '국물용 조미료', '간장', '청주', '맛술', '청양고추', '고춧가루', '다진 마늘', '대파', '홍고추', '양파', '대파', '소금', '즉석밥', '달걀']\"}, page_content=\"오세득 '신(辛)봤다' ||| 돼지 앞다릿살,    오징어,    조개젓무침,    상추,    가지,    국물용 조미료,    간장,    청주,    맛술,    청양고추,    고춧가루,    다진 마늘,    대파,    홍고추,    양파,    대파,    소금,    즉석밥,    달걀 |||   1. 간장, 청주, 맛술, 으깬 청양고추를 넣어 간장 소스를 만든다.  2. 적당한 크기로 썬 가지를 1에 넣은 뒤 찜기에 넣고 찐다.  3. 고춧가루, 다진 마늘, 간장, 잘게 썬 대파에 뜨거운 기름을 넣어 고추기름을 낸다.  4. 청양고추와 홍고추를 잘게 썬다.  5. 오징어를 잘게 다진다.  6. 돼지 앞다릿살의 비계 부분을 떼어낸 뒤 핸드블렌더에 넣고 간다.  7. 팬에 고추기름, 4, 5, 6을 넣고 볶는다.  8. 7에 잘게 썬 양파, 대파, 다진 마늘을 넣는다.  9. 8에 조개젓무침을 넣는다.  10. 9에 소금, 국물용 조미료를 넣는다.  11. 전자레인지에 즉석밥을 넣고 돌린다.  12. 핸드블렌더에 청양고추, 홍고추를 넣고 간 뒤 간장, 달걀을 넣고 다시 간다.  13. 기름에 12을 넣고 튀기듯 굽는다.  14. 13을 뒤집어 튀기듯 굽는다.  15. 찜기에 찐 가지를 꺼내 상추를 담은 접시에 올린 뒤 간장 소스를 뿌린다.  16. 15에 10과 즉석밥을 담는다.  17. 키친타월을 이용해 오믈렛의 기름기를 뺀다.  18. 16에 17의 오믈렛을 올린다.  19. 18에 간장 소스를 뿌린다.\"),\n",
       " Document(metadata={'id': 667, 'img': 'https://pbbsres.kbs.co.kr/t2019-0286-04-296340/2022/03/11/1658347_batch_맛간장.jpg', 'video': 'https://www.youtube.com/watch?v=np986Gz770Y&pp=ygUu7Ius7KeA7Zi4IC0gJ-unm-qwhOyepScg66CI7Iuc7ZS8IO2OuOyKpO2GoOuekQ%3D%3D'}, page_content=\"심지호 - '맛간장' 레시피 ||| 진간장 1L, 물 800g, 멸치 액젓 100g, 맛술 800g, 건새우 30g, 다시마 12g, 무 350g, 뿌리 대파 2대, 오렌지 1개 ||| 1. 냄비에 진간장 1L, 물 800g, 멸치 액젓 100g, 맛술 800g, 건새우 30g, 다시마 1개(12g), 무 1/3개(350g) 뿌리 대파 2대, 오렌지 1/2개를 넣고 센 불로 끓여준다. 2. 1의 간장이 팔팔 끓기 시작하면 중불로 줄여 15분간 더 끓여준다. 3. 2의 끓인 간장을 식히고 난 뒤 체에 걸러준다. 4. 3의 간장에 오렌지 1/2개 즙을 뿌린 후 섞어주면 완성.\"),\n",
       " Document(id='535302ae-ebff-4243-b0e7-3f11bad1d7f6', metadata={'id': 1189, 'img': 'https://pbbsres.kbs.co.kr/t2019-0286-04-296340/2023/06/23/2299491_batch_오이지,오이무침.png', 'video': 'https://www.youtube.com/watch?v=NPZEc03Fu3w&pp=ygUX7J207LCs7JuQIC0gJ-yYpOydtOyngCA%3D'}, page_content=\"이찬원 - '오이지 & 오이지무침' 레시피 ||| [오이지] 백오이 10개, 굵은소금 1컵, 물엿 1.5컵, 식초 1.5컵, 소주 0.5컵 (*종이컵 기준 계량입니다~) [오이지무침] 오이지 4개, 청양고추 2개, 홍고추 2개, 얇은 대파 1/2대, 고춧가루 1.5T, 물엿 1/2T, 매실청 1/2T, 마늘 1/2T, 들기름 1T, 통깨 1T ||| [오이지 만들기] 1. 오이는 위 꼭지를 자르고 거칠지 않은 수세미로 씻어준다. (표면에 상처가 나면 안 되기 때문에 살살 씻어주세요) 2. 굵은 소금 1컵, 물엿 1.5컵, 식초 1.5컵, 소주 5컵을 잘 섞어준다. 3. 지퍼백에 오이를 차곡차곡 넣은 뒤 위의 양념을 넣어준다. 4. 잘 밀봉한 뒤 넓은 네모 트레이에 넣어 보관한다. 5. 하루마다 앞뒤로 뒤집어가며 56일 동안 상온 보관해주면 완성 [오이지무침 재료 준비] 1. 오이지는 위,아래 꼭지를 자르고 5mm 두께로 썰어 물에 헹궈준다. 2. 썬 오이지를 물엿에 무쳐 1520분 정도 둬 짠기를 빼준 뒤, 오이지를 꾹 짜준다. (물엿이 오이지를 더욱 꼬들꼬들하게 만들어줘요) 3. 청,홍고추,대파를 쫑쫑 썰어준다. [오이지무침 만들기] 1. 볼에 짜놓은 오이지를 담고 훌훌 털어준다. 2. 고춧가루 1.5T, 마늘 1/2T, 들기름 1T, 통깨 1T를 넣어 조물조물 무치면 완성\"),\n",
       " Document(metadata={'id': 103740, 'img': 'https://recipe1.ezmember.co.kr/cache/recipe/2016/05/11/6d2e80c2702f1235431e0502c32fd1901.jpg', 'views': '4,454', 'video': '', 'category': '간식', 'date': '2016-05-11'}, page_content='과일 손질법 오렌지 예쁘게 깍기 ||| 오렌지-1개 ||| 오렌지 양쪽을 잘라 줍니다. 오렌지 반을 잘라 줍니다. 반으로 자른 오렌지의 속을 파냅니다. 오렌지 과육을 먹기 좋은 크기로 잘라 줍니다. 잘라 놓은 양쪽 부분을 오렌지 안쪽으로 넣어 줍니다. 이해하기 쉽게 뒷면부터. 이렇게 멋진 그릇이 되었지요. 잘라 놓은 오렌지 과육을 담아 줍니다. ||| 간식 ||| 1인분 5분 이내 아무나 ||| 매일 먹는 과일보다 더 예쁘게 준비해서 먹으면 만드는 사람도 먹는 기분이 좋겠지요'),\n",
       " Document(id='7a8ae1eb-1c89-472c-bf86-f45ff8ffbbe5', metadata={'id': 13082, 'img': 'https://recipe1.ezmember.co.kr/cache/recipe/2020/12/08/c70a5ddd2bcd649ffe789a6b8a82b3941.jpg', 'views': '693', 'video': '', 'category': '일상', 'date': '2020-12-08'}, page_content='오렌지 본연의 맛과 향이 가득한 오렌지에이드 ||| 흥국 오렌지 농축액플러스-50g, 탄산수-180g, 얼음-150g, 오렌지슬라이스-1개, 타임, 약간, 카페시럽-10g ||| 오렌지를 베이킹소다로 세척한 후 물기를 제거하고 얇게 썰어 주세요. 잔에 흥국 오렌지 농축액 플러스와 카페시럽을 넣어 주세요. 얼음을 반 정도 채운 후, 오렌지 슬라이스를 넣어 주세요. 탄산수를 부은 후, 타임으로 가니쉬해 주세요. 완성. ||| 일상 ||| 1인분 5분 이내 초급 ||| 오렌지 본연의 맛과 향이 가득 느껴지는 새콤달콤한 프리미엄 오렌지에이드'),\n",
       " Document(metadata={'id': 268, 'img': 'https://fs.jtbc.co.kr/prog/enter/janggo/Img/20161206_112743_1669.jpg', 'video': 'https://tv.jtbc.co.kr/vod/pr10010331/pm10031085/vo10126964/view', 'ingredients_list': \"['오르초', '소고기', '파슬리', '홀토마토 통조림', '티카 마살라 소스', '게살 통조림', '오렌지 리큐르', '비프 스톡', '코코넛 크림', '라즈베리', '소금', '올리브 오일', '튀김가루', '후추']\"}, page_content=\"박준우 '미슐랭 쓰리스타는 게뿔' ||| 오르초,    소고기,    파슬리,    홀토마토 통조림,    티카 마살라 소스,    게살 통조림,   오렌지 리큐르,    비프 스톡,    코코넛 크림,    라즈베리,    소금,    올리브 오일,    튀김가루,    후추 |||   1. 끓는 물에 소금, 올리브 오일을 넣고 오르초를 삶는다.  2. 소고기를 삼각형 모양으로 썬다.  3. 파슬리와 튀김가루를 섞은 뒤, 소고기에 묻힌다.  4. 3을 기름에 넣어 튀긴다.  5. 믹서기에 홀토마토, 티카 마살라 소스를 넣고 간다.  6. 팬에 물기를 뺀 게살, 오렌지 리큐르, 갈아놓은 소스를 넣고 끓인다.  7. 작은 냄비에 면수를 담고, 비프 스톡을 넣어 육수를 끓인다.  8. 삶은 오르초를 체에 밭쳐 물기를 빼고, 소스와 섞는다.  9. 8에 코코넛 크림, 소금, 후추를 넣는다.  10. 핸드 블렌더에 라즈베리와 육수를 넣고 간다.  11. 10에 후추를 뿌린 뒤, 체에 밭쳐 곱게 내린다.  12. 그릇에 파스타를 담고, 튀긴 소고기를 꽂는다.  13. 라즈베리 소스를 곁들이고, 파슬리를 뿌려 완성한다.\"),\n",
       " Document(id='47becd69-f9f0-4431-af1f-56285d6bd20b', metadata={'id': 412, 'img': 'https://fs.jtbc.co.kr/joydata/CP00000001/prog/enter/janggo/img/20171025_142937_066.jpg', 'video': 'https://tv.jtbc.co.kr/vod/pr10010331/pm10031085/vo10187990/view', 'ingredients_list': \"['닭', '콜라', '땅콩버터', '맥주', '오렌지', '곡물시리얼', '소금', '전분', '마늘', '대파', '고춧가루', '홍고추', '참기름', '설탕', '고추장', '마요네즈', '간장', '청양고추']\"}, page_content=\"오세득 '닭스키스' ||| 닭,    콜라,    땅콩버터,    맥주,    오렌지,    곡물시리얼,   소금,    전분,    마늘,    대파,    고춧가루,    홍고추,   참기름,    설탕,    고추장,    마요네즈,    간장,    청양고추 |||   1. 닭다리를 발골한다.  2. 적당한 크기로 자른 닭다리살에 소금으로 간 한 뒤, 전분을 입혀 기름에 튀긴다.  3. 끓는 기름에 으깬 마늘, 대파, 고춧가루를 끓여 고추기름을 낸다.  4. 홍고추를 토치로 직화해 껍질을 태운다.  5. 태운 홍고추의 껍질을 벗겨낸 뒤, 적당한 크기로 썬다.  6. 핸드블렌더에 홍고추, 참기름, 설탕, 체에 거른 고추기름, 콜라를 넣고 갈아 칠리소스를 만든다.  7. 땅콩버터, 고추장, 칠리소스, 마요네즈, 간장을 섞어 칠리땅콩버터소스를 만든다.  8. 대파 흰 부분, 홍고추, 청양고추를 적당한 크기로 썬다.  9. 기름을 두른 팬에 손질한 채소를 볶다가 맥주를 붓고 끓인다.  10. 9에 오렌지즙, 설탕을 넣고 끓여 오렌지맥주소스를 만든다.  11. 종지에 칠리땅콩버터소스를 담아낸다.  12. 오렌지맥주소스에 전분물을 넣어 농도를 조절한다.  13. 볼에 오렌지맥주소스, 튀긴 닭다리살을 넣고 오렌지껍질을 갈아 넣어 잘 섞어준다.  14. 비닐백에 곡물시리얼을 넣고 잘게 부순 뒤 오렌지맥주소스에 버무린 닭다리살 튀김에 더한다.  15. 오렌지맥주소스에 버무린 닭다리살튀김을 접시에 담아낸다.\"),\n",
       " Document(metadata={'id': 621, 'img': 'https://pbbsres.kbs.co.kr/t2019-0286-04-296340/2022/01/21/1560716_batch_추상화 냉파스타.jpg', 'video': 'https://youtu.be/OAlXRntFxoQ?si=OU9cEBfkWbdDKU8Z&t=796'}, page_content=\"추성훈&강남&이상화 - '추상화 냉파스타' 레시피 ||| (3인분) 카펠리니면 250g, 송이토마토 10개, 엑스트라 버진 올리브오일 약간, 소금 약간, 깐마늘 약 10개, 부라타 치즈 3개, 생바질잎 크게 한 주먹, 오렌지 발사믹 소스 약간 ||| 재료 준비 1. 먼저 파스타 접시는 냉장실에 넣어 차갑게 보관한다. 2. 송이토마토는 4등분으로 썰어준다. 3. 깐마늘은 잘게 다져 준비한다. 4. 물에 씻은 생바질잎은 먹기 좋게 줄기를 제거하고 잎만 준비한다. 1. 냄비에 물을 담고 팔팔 끓으면, 소금을 약간 넣고 3분간 카펠리니면을 삶아준다. 2. 스테인리스 볼에 썰어놓은 송이토마토와 다진 마늘, 올리브오일 약 5바퀴, 소금 34꼬집을 넣고 버무려준다. 3. 2에서 다 버무린 뒤 스테인리스 볼에 랩을 씌워 잠시 냉장보관 한다. 4. 그동안 삶은 면은 체에 받쳐 찬물에 헹궈준다. 5. 냉장보관했던 스테인리스 볼을 꺼내 찬물에 헹군 면을 넣고 함께 버무려준다. 6. 필요하면 올리브오일을 약 23바퀴 정도 둘러준 뒤 다시 버무린다. [플레이팅] 1. 냉장고에 넣어두었던 파스타 접시를 꺼내 면을 돌돌 말아 담아준다. 2. 면 위에 함께 버무렸던 송이토마토를 올리고, 가운데에 부라타 치즈 한덩이를 올린다. 3. 그 위에 손질한 생바질잎을 1015개 정도 올린다. (올리기 전에 바질잎에 강한 충격을 주면 향이 더 진하게 난다.) 4. 완성한 파스타 위에 오렌지 발사믹 소스를 뿌려 마무리한다.\"),\n",
       " Document(id='41c97eda-0695-48d8-ae68-5c463d282c51', metadata={'id': 1690, 'img': 'https://pbbsres.kbs.co.kr/t2019-0286-04-296340/2024/08/23/2729048_4.png', 'video': 'https://www.youtube.com/watch?v=Qr_hfUH58Zk&pp=ygUm7KeE7ISc7JewIC0gJ-yYpOydtOuztO2KuCjssLjsuZjrp4jsmpQ%3D'}, page_content=\"진서연 - '오이보트(참치마요&에그마요)' 레시피 ||| 오이 2개. 현미밥 한 주걱, 쪽파 약간 [참치마요] 참치캔 1캔(100g), 마요네즈 1/2T, 스리라차 1T, 레몬즙 1/2T, 후추 2꼬집 [에그마요] 삶은 계란 1개, 마요네즈 듬뿍 1T, 스테비아 1/2T, 레몬즙 1/2T, 후추 2꼬집 ||| [재료 준비] 1. 오이는 반을 자르고 수저로 씨를 파준다. 2. 쪽파는 얇게 송송 썬다. [참치마요 오이보트 만들기] 1. 씨를 파낸 오이 속에 현미밥을 채워 넣는다. 2. 참치캔을 체에 걸러 기름기를 제거한다. 3. 참치, 마요네즈 1/2T, 스리라차 1T, 레몬즙 1/2T, 후춧가루 2꼬집을 넣고 섞는다. 4. 현미밥 위에 참치마요를 올려주고 쪽파를 뿌리면 완성. [에그마요 오이보트 만들기] 1. 씨를 파낸 오이 속에 현미밥을 채워 넣는다. 2. 으깬 달걀에 마요네즈 듬뿍 1T, 스테비아 1/2T, 레몬즙 1/2T, 후추 2꼬집을 넣고 섞는다. 3. 현미밥 위에 에그마요를 올려주고 쪽파를 뿌리면 완성.\"),\n",
       " Document(metadata={'id': 86816, 'img': 'https://recipe1.ezmember.co.kr/cache/recipe/2023/04/06/dcd85f85eae6558e5267de9efdb1b3381.jpg', 'views': '1,757', 'video': '', 'category': '간식', 'date': '2023-04-06'}, page_content='카라카라 오렌지주스 만들기 생과일쥬스 오렌지 까는 법 ||| 오렌지-2개 ||| 천연 오렌지 쥬스 집에서 휘리릭 만들기 오렌지 껍질 까는 법 알려 드릴께요. 오렌지를 굴리고 굴려서 껍질을 까면 아주 쉽게 오렌지 껍질을 깔 수 있답니다. 손질한 오렌지를 착즙기에 넣고 갈아 주기만 하면 완성이랍니다. 그럼 쉽고 간단하게 오랜 지쥬스 완성이네요. ||| 간식 ||| 1인분 5분 이내 아무나 ||| 생과일 그냥 갈기만 하면 되는 오렌지 쥬스')]"
      ]
     },
     "execution_count": 10,
     "metadata": {},
     "output_type": "execute_result"
    }
   ],
   "source": [
    "retriever.invoke(\"오렌지\")"
   ]
  },
  {
   "cell_type": "markdown",
   "metadata": {},
   "source": [
    "# ContextualCompressionRetriever"
   ]
  },
  {
   "cell_type": "code",
   "execution_count": 32,
   "metadata": {},
   "outputs": [
    {
     "data": {
      "text/plain": [
       "True"
      ]
     },
     "execution_count": 32,
     "metadata": {},
     "output_type": "execute_result"
    }
   ],
   "source": [
    "import sqlite3\n",
    "import pandas as pd\n",
    "from typing import List\n",
    "from pydantic import BaseModel, Field\n",
    "\n",
    "from langchain_openai import OpenAIEmbeddings, ChatOpenAI\n",
    "from langchain_community.document_loaders import DataFrameLoader\n",
    "from langchain.text_splitter import RecursiveCharacterTextSplitter\n",
    "from langchain_community.vectorstores import FAISS\n",
    "from langchain_community.retrievers import BM25Retriever\n",
    "from langchain.retrievers.document_compressors import CrossEncoderReranker\n",
    "from langchain_community.cross_encoders import HuggingFaceCrossEncoder\n",
    "from langchain.retrievers import EnsembleRetriever, MergerRetriever, ContextualCompressionRetriever\n",
    "from langchain.retrievers.document_compressors import LLMChainExtractor, LLMChainFilter\n",
    "from langchain_openai import OpenAI\n",
    "from langchain_core.messages import BaseMessage\n",
    "from langchain_core.chat_history import BaseChatMessageHistory\n",
    "\n",
    "from dotenv import load_dotenv\n",
    "\n",
    "load_dotenv()"
   ]
  },
  {
   "cell_type": "code",
   "execution_count": 2,
   "metadata": {},
   "outputs": [],
   "source": [
    "## 임베딩 모델\n",
    "embeddings = OpenAIEmbeddings(model=\"text-embedding-3-small\")\n",
    "\n",
    "## 모델\n",
    "model = ChatOpenAI(model=\"gpt-4o-mini\")"
   ]
  },
  {
   "cell_type": "code",
   "execution_count": 3,
   "metadata": {},
   "outputs": [],
   "source": [
    "def load(case):\n",
    "    if case == \"funs\":\n",
    "        conn = sqlite3.connect(\"funs.db\")\n",
    "        df = pd.read_sql(\"SELECT * FROM menu\", conn)\n",
    "\n",
    "        df['page_content'] = df['name'] + \" ||| \" + df['ingredients'] + \" ||| \" + df['recipe']\n",
    "        df.drop(columns=['name', 'ingredients', 'recipe'], inplace=True)\n",
    "        conn.close()\n",
    "        loader = DataFrameLoader(df, page_content_column=\"page_content\")\n",
    "        docs = loader.load()\n",
    "        return docs\n",
    "    \n",
    "    elif case == \"ref\":\n",
    "        conn = sqlite3.connect(\"fridges.db\")\n",
    "        df = pd.read_sql(\"SELECT * FROM menu\", conn)\n",
    "\n",
    "        df['page_content'] = df['name'] + \" ||| \" + df['ingredients'] + \" ||| \" + df['recipe']\n",
    "        df.drop(columns=['name', 'ingredients', 'recipe'], inplace=True)\n",
    "        conn.close()\n",
    "        loader = DataFrameLoader(df, page_content_column=\"page_content\")\n",
    "        docs = loader.load()\n",
    "        return docs\n",
    "    \n",
    "    else:\n",
    "        conn = sqlite3.connect(\"man.db\")\n",
    "        df = pd.read_sql(\"SELECT * FROM processed_data\", conn)\n",
    "\n",
    "        df['page_content'] = df['name'] + \" ||| \" + df['ingredients'] + \" ||| \" + df['recipe'] + \" ||| \" + df['category'] + \" ||| \" + df['info'] + \" ||| \" + df['intro']\n",
    "        df.drop(columns=['name', 'ingredients', 'recipe', \"info\", \"intro\"], inplace=True)\n",
    "        conn.close()\n",
    "        loader = DataFrameLoader(df, page_content_column=\"page_content\")\n",
    "        splitter = RecursiveCharacterTextSplitter.from_tiktoken_encoder(model_name='gpt-4o-mini', chunk_size=1000, chunk_overlap=0)\n",
    "        docs = loader.load_and_split(splitter)\n",
    "        return docs"
   ]
  },
  {
   "cell_type": "code",
   "execution_count": 4,
   "metadata": {},
   "outputs": [],
   "source": [
    "def load_retriever(case, faiss_path):\n",
    "    \"\"\" retriever 로드 함수\"\"\"\n",
    "    docs = load(case)\n",
    "\n",
    "    # vectordb 로드\n",
    "    fais = FAISS.load_local(faiss_path, embeddings, allow_dangerous_deserialization=True)\n",
    "\n",
    "    # BM25 retriever, FAISS retriever 앙상블\n",
    "    bm25_retr = BM25Retriever.from_documents(docs)\n",
    "    bm25_retr.k = 3\n",
    "    fais_retr = fais.as_retriever(search_type=\"mmr\", search_kwargs={\"k\": 3})\n",
    "    \n",
    "    return bm25_retr, fais_retr"
   ]
  },
  {
   "cell_type": "code",
   "execution_count": 5,
   "metadata": {},
   "outputs": [],
   "source": [
    "class InMemoryHistory(BaseChatMessageHistory, BaseModel):\n",
    "    \"\"\"인메모리 히스토리 클래스\"\"\"\n",
    "    messages: List[BaseMessage] = Field(default_factory=list)\n",
    "\n",
    "    def add_messages(self, messages: List[BaseMessage]) -> None:\n",
    "        \"\"\"Add a list of messages to the store\"\"\"\n",
    "        self.messages.extend(messages)\n",
    "\n",
    "    def clear(self) -> None:\n",
    "        self.messages = []"
   ]
  },
  {
   "cell_type": "code",
   "execution_count": 6,
   "metadata": {},
   "outputs": [],
   "source": [
    "# 메모리 정의\n",
    "store = {}\n",
    "def get_session_history(user_id: str, history_id: str) -> BaseChatMessageHistory:\n",
    "    if (user_id, history_id) not in store:\n",
    "        store[(user_id, history_id)] = InMemoryHistory()\n",
    "    print(f\"현재 저장된 히스토리: {store}\") # 디버깅용\n",
    "    return store[(user_id, history_id)]"
   ]
  },
  {
   "cell_type": "code",
   "execution_count": 7,
   "metadata": {},
   "outputs": [],
   "source": [
    "def version1(): # 6개 앙상블 + ContextualCompressionRetriever(CrossEncoderReranker)\n",
    "    # retriever 로드\n",
    "    rbm25_retr, rfais_retr = load_retriever(\"ref\", \"ref_faiss\") # 냉장고를 부탁해\n",
    "    fbm25_retr, ffais_retr = load_retriever(\"funs\", \"fun_faiss\") # 편스토랑\n",
    "    mbm25_retr, mfais_retr = load_retriever(\"man\", \"man_faiss\") # 만개의 레시피\n",
    "\n",
    "    ensembled = EnsembleRetriever(retrievers=[rbm25_retr, rfais_retr, fbm25_retr, ffais_retr, mbm25_retr, mfais_retr])\n",
    "\n",
    "    hmodel = HuggingFaceCrossEncoder(model_name=\"BAAI/bge-reranker-v2-m3\")\n",
    "    compressor = CrossEncoderReranker(model=hmodel, top_n=3)\n",
    "\n",
    "    retriever = ContextualCompressionRetriever(base_retriever=ensembled, base_compressor=compressor)\n",
    "    return retriever"
   ]
  },
  {
   "cell_type": "code",
   "execution_count": 33,
   "metadata": {},
   "outputs": [],
   "source": [
    "def version2(): # 6개 앙상블 + ContextualCompressionRetriever(LLMChainExtractor)\n",
    "    # retriever 로드\n",
    "    rbm25_retr, rfais_retr = load_retriever(\"ref\", \"ref_faiss\") # 냉장고를 부탁해\n",
    "    fbm25_retr, ffais_retr = load_retriever(\"funs\", \"fun_faiss\") # 편스토랑\n",
    "    mbm25_retr, mfais_retr = load_retriever(\"man\", \"man_faiss\") # 만개의 레시피\n",
    "\n",
    "    ensembled = EnsembleRetriever(retrievers=[rbm25_retr, rfais_retr, fbm25_retr, ffais_retr, mbm25_retr, mfais_retr])\n",
    "    \n",
    "    llm = OpenAI(temperature=0)\n",
    "    compressor = LLMChainFilter.from_llm(llm)\n",
    "\n",
    "    retriever = ContextualCompressionRetriever(base_retriever=ensembled, base_compressor=compressor)\n",
    "    return retriever"
   ]
  },
  {
   "cell_type": "code",
   "execution_count": 9,
   "metadata": {},
   "outputs": [],
   "source": [
    "def version3(): # 6개 merge + ContextualCompressionRetriever(CrossEncoderReranker)\n",
    "    # retriever 로드\n",
    "    rbm25_retr, rfais_retr = load_retriever(\"ref\", \"ref_faiss\") # 냉장고를 부탁해\n",
    "    fbm25_retr, ffais_retr = load_retriever(\"funs\", \"fun_faiss\") # 편스토랑\n",
    "    mbm25_retr, mfais_retr = load_retriever(\"man\", \"man_faiss\") # 만개의 레시피\n",
    "\n",
    "    merged = MergerRetriever(retrievers=[rbm25_retr, rfais_retr, fbm25_retr, ffais_retr, mbm25_retr, mfais_retr])\n",
    "    hmodel = HuggingFaceCrossEncoder(model_name=\"BAAI/bge-reranker-v2-m3\")\n",
    "    compressor = CrossEncoderReranker(model=hmodel, top_n=3)\n",
    "\n",
    "    retriever = ContextualCompressionRetriever(base_retriever=merged, base_compressor=compressor)\n",
    "    return retriever"
   ]
  },
  {
   "cell_type": "code",
   "execution_count": 34,
   "metadata": {},
   "outputs": [],
   "source": [
    "def version4(): # 6개 merge + ContextualCompressionRetriever(LLMChainExtractor)\n",
    "    # retriever 로드\n",
    "    rbm25_retr, rfais_retr = load_retriever(\"ref\", \"ref_faiss\") # 냉장고를 부탁해\n",
    "    fbm25_retr, ffais_retr = load_retriever(\"funs\", \"fun_faiss\") # 편스토랑\n",
    "    mbm25_retr, mfais_retr = load_retriever(\"man\", \"man_faiss\") # 만개의 레시피\n",
    "\n",
    "    merged = MergerRetriever(retrievers=[rbm25_retr, rfais_retr, fbm25_retr, ffais_retr, mbm25_retr, mfais_retr])\n",
    "\n",
    "    llm = OpenAI(temperature=0)\n",
    "    compressor = LLMChainFilter.from_llm(llm)\n",
    "\n",
    "    retriever = ContextualCompressionRetriever(base_retriever=merged, base_compressor=compressor)\n",
    "    return retriever"
   ]
  },
  {
   "cell_type": "code",
   "execution_count": 11,
   "metadata": {},
   "outputs": [],
   "source": [
    "def version5(): # 개별 문서 앙상블 -> MergeRetriever + ContextualCompressionRetriever(CrossEncoderReranker)\n",
    "    # retriever 로드\n",
    "    rbm25_retr, rfais_retr = load_retriever(\"ref\", \"ref_faiss\") # 냉장고를 부탁해\n",
    "    fbm25_retr, ffais_retr = load_retriever(\"funs\", \"fun_faiss\") # 편스토랑\n",
    "    mbm25_retr, mfais_retr = load_retriever(\"man\", \"man_faiss\") # 만개의 레시피\n",
    "\n",
    "    ensemble1 = EnsembleRetriever(retrievers=[rbm25_retr, rfais_retr],) # weights=[0.25, 0.25, 0.25, 0.25],) # weight: retriever 별 가중치 조절 가능\n",
    "    ensemble2 = EnsembleRetriever(retrievers=[fbm25_retr, ffais_retr],) # weights=[0.25, 0.25, 0.25, 0.25],) # weight: retriever 별 가중치 조절 가능\n",
    "    ensemble3 = EnsembleRetriever(retrievers=[mbm25_retr, mfais_retr],) # weights=[0.25, 0.25, 0.25, 0.25],) # weight: retriever 별 가중치 조절 가능\n",
    "    merged = MergerRetriever(retrievers=[ensemble1, ensemble2, ensemble3])\n",
    "    \n",
    "    hmodel = HuggingFaceCrossEncoder(model_name=\"BAAI/bge-reranker-v2-m3\")\n",
    "    compressor = CrossEncoderReranker(model=hmodel, top_n=3)\n",
    "\n",
    "    retriever = ContextualCompressionRetriever(base_retriever=merged, base_compressor=compressor)\n",
    "    return retriever"
   ]
  },
  {
   "cell_type": "code",
   "execution_count": 35,
   "metadata": {},
   "outputs": [],
   "source": [
    "def version6(): # 개별 문서 앙상블 -> MergeRetriever + ContextualCompressionRetriever(LLMChainExtractor)\n",
    "    # retriever 로드\n",
    "    rbm25_retr, rfais_retr = load_retriever(\"ref\", \"ref_faiss\") # 냉장고를 부탁해\n",
    "    fbm25_retr, ffais_retr = load_retriever(\"funs\", \"fun_faiss\") # 편스토랑\n",
    "    mbm25_retr, mfais_retr = load_retriever(\"man\", \"man_faiss\") # 만개의 레시피\n",
    "\n",
    "    ensemble1 = EnsembleRetriever(retrievers=[rbm25_retr, rfais_retr],) # weights=[0.25, 0.25, 0.25, 0.25],) # weight: retriever 별 가중치 조절 가능\n",
    "    ensemble2 = EnsembleRetriever(retrievers=[fbm25_retr, ffais_retr],) # weights=[0.25, 0.25, 0.25, 0.25],) # weight: retriever 별 가중치 조절 가능\n",
    "    ensemble3 = EnsembleRetriever(retrievers=[mbm25_retr, mfais_retr],) # weights=[0.25, 0.25, 0.25, 0.25],) # weight: retriever 별 가중치 조절 가능\n",
    "    merged = MergerRetriever(retrievers=[ensemble1, ensemble2, ensemble3])\n",
    "    \n",
    "    llm = OpenAI(temperature=0)\n",
    "    compressor = LLMChainFilter.from_llm(llm)\n",
    "\n",
    "    retriever = ContextualCompressionRetriever(base_retriever=merged, base_compressor=compressor)\n",
    "    return retriever"
   ]
  },
  {
   "cell_type": "code",
   "execution_count": 13,
   "metadata": {},
   "outputs": [
    {
     "name": "stderr",
     "output_type": "stream",
     "text": [
      "c:\\Users\\Playdata\\SKN06\\last_prj\\venv\\Lib\\site-packages\\tqdm\\auto.py:21: TqdmWarning: IProgress not found. Please update jupyter and ipywidgets. See https://ipywidgets.readthedocs.io/en/stable/user_install.html\n",
      "  from .autonotebook import tqdm as notebook_tqdm\n",
      "c:\\Users\\Playdata\\SKN06\\last_prj\\venv\\Lib\\site-packages\\huggingface_hub\\file_download.py:142: UserWarning: `huggingface_hub` cache-system uses symlinks by default to efficiently store duplicated files but your machine does not support them in C:\\Users\\Playdata\\.cache\\huggingface\\hub\\models--BAAI--bge-reranker-v2-m3. Caching files will still work but in a degraded version that might require more space on your disk. This warning can be disabled by setting the `HF_HUB_DISABLE_SYMLINKS_WARNING` environment variable. For more details, see https://huggingface.co/docs/huggingface_hub/how-to-cache#limitations.\n",
      "To support symlinks on Windows, you either need to activate Developer Mode or to run Python as an administrator. In order to activate developer mode, see this article: https://docs.microsoft.com/en-us/windows/apps/get-started/enable-your-device-for-development\n",
      "  warnings.warn(message)\n"
     ]
    },
    {
     "data": {
      "text/plain": [
       "[Document(metadata={'id': 198926, 'img': 'https://recipe1.ezmember.co.kr/cache/recipe/2016/01/19/86fecc262a430c0e27d1489129291a2d1.jpg', 'views': '12,530', 'video': '', 'category': '일상', 'date': '2016-01-17'}, page_content='실치볶음 ||| 실치, 땅콩, 마늘, [양념] 간장, 올리고당, 설탕, 맛술, 통깨 ||| 땅콩이 너무 맛이 없는 걸 사와서 줄어들지 않고 있어요. 팬에 한번 볶아서 고소함을 업시킨 후에 넣었어요. 실치가 너무 작은 양밖에 안 남아서 개량 없이 눈대중으로 넣었어요. 간장, 맛술, 올리고당, 마늘 넣고 부글부글 끓여 주세요. 실치랑 땅콩을 넣어 주세요. 실. 치도 한번 볶아서 넣어야 하는데 깜박 했다지요. 잠시 저어 주세요. 바삭하라고 설탕도 넣었구요. 통깨도 솔솔 뿌려줬어요. 접시에 담아 주면 끝. ||| 일상 ||| 2인분 30분 이내 초급 ||| 냉동실에 남아 있는 실치를 꺼내 땅콩과 함께 휘리릭 볶은 실치볶음입니다 땅콩이 들어가 더욱 고소하고 달콤해요 마땅한 밑반찬이 없을 때 간단하게 만들어 먹을 수 있는 칼슘듬뿍 실치반찬이예요'),\n",
       " Document(metadata={'id': 12929, 'img': 'https://recipe1.ezmember.co.kr/cache/recipe/2020/12/12/e8c926514ccd9129c57c1d4e78b45ad81.jpg', 'views': '2,994', 'video': '', 'category': '일상', 'date': '2020-12-12'}, page_content='땅콩조림 ||| 생땅콩-500g, [양념] 물-200ml, 간장-5큰술, 물엿-2큰술, 설탕-1큰술, 통깨, 적당량 ||| 생 땅콩을 물에 한번 깨끗하게 씻어 줍니다. 냄비에 땅콩을 넣고 땅콩이 잠길 만큼 물을 부어 주고 삶아 줍니다. 땅콩을 한 번 삶은 다음 물을 버리고 다시 새로 물을 간 다음 한번 더 삶아 땅콩껍질의 떫은맛을 제거해 줍니다. 땅콩이 어느 정도 삶아지면 삶은 물은 버리고 간장 5큰술, 물 200ml를 부어 조려 줍니다. 땅콩이 갈색이 되도록 조려지면 물엿 2큰술, 설탕 1큰술을 넣고 국물 없이 조려 줍니다. 땅콩이 거의 조려지면 불을 끄고 통깨를 뿌려 마무리합니다. ||| 일상 ||| 4인분 30분 이내 초급 ||| 고소한 맛이 특징인 땅콩은 고지방 고단백 건강식품입니다 불포화 지방산을 많이 함유하여 콜레스테롤을 감소시켜 주고 동맥경화 예방에 도움을 줍니다 땅콩은 주로 볶아 간식이나 안주로 많이 즐겨 먹지만 생땅콩을 삶아 조려 고소하고 맛있는 밑반찬이 됩니다'),\n",
       " Document(id='3dfd15fe-2025-4905-ab06-5b0a2d16bd7a', metadata={'id': 178635, 'img': 'https://recipe1.ezmember.co.kr/cache/recipe/2022/01/14/5be381548f73ca6eaa50067fc1ffc10e1.jpg', 'views': '2,005', 'video': '', 'category': '일상', 'date': '2022-01-14'}, page_content='땅콩 호박 요리찜 ||| 모차렐라치즈-1주먹, 양파-1/2개, 청경채-1개, 맛살-1개, 버섯, 옥수수콘-1. 5큰술, 버터-1T, 소금-1꼬집, 후추-1꼬집 ||| 땅콩호박은 단맛이 강하고 섬유질이 풍부하며 칼로리도 낮아서 다이어트 식품으로 좋습니다 고구마나 버터 맛을 느낄 수 있다고 하네용. 재료를 모두 준비해 주시고 야채나 고기를 더 추가하셔도 좋습니당. 옥수수콘 모차렐라 제외하고 나머지는 다 바꾸셔도 좋아요. 호박은 20~30분 정도 쪄서 속을 다 파내 주세요. 야채는 버터를 두르고 소금과 후추로 간을 해 주신 뒤 볶아 주세요. 속을 파내시고 내부를 꽉 채워 주세요. 모차랄라 치즈를 위에 올려주세요 듬뿍 여기서 좀 더 달달하게 드시고 싶으면 꿀을 한 바퀴 돌려주셔도 좋습니다. 에어프라라이기에 200도로 10분 정도 돌려줬어요 에어프라이기가 없다면 전자레인지에 5분 정도 돌려주시면 될 것 같습니다. 짠 이렇게 반을 가르면 속이 꽉 차 있는 땅콩호박찜 완성. ||| 일상 ||| 2인분 30분 이내 아무나 ||| 땅콩호박 속을 파서 이색적인 요리를 해 봤습니다 건강에도 좋으니까 꼭 드셔 보세요')]"
      ]
     },
     "execution_count": 13,
     "metadata": {},
     "output_type": "execute_result"
    }
   ],
   "source": [
    "version1().invoke(\"땅콩이 안 들어간 요리\")"
   ]
  },
  {
   "cell_type": "code",
   "execution_count": 36,
   "metadata": {},
   "outputs": [
    {
     "data": {
      "text/plain": [
       "[Document(id='aa9af9bc-8b38-4f6d-9550-1e58d98549a7', metadata={'id': 916, 'img': '', 'video': 'https://www.youtube.com/watch?v=xJ5O8jZa2xY&pp=ygUc7J207JuQ7J28ICftlZzsi50g67iM65-w7LCcJw%3D%3D', 'ingredients_list': \"['솔잎', '굴비채', '눈개승마', '아가베 시럽', '유자청', '된장', '요리술', '즉석밥', '소금', '다진 마늘', '다진 파', '고춧가루', '깨', '참기름', '양조간장']\"}, page_content=\"이원일 '한식 브런찜' ||| 솔잎,    굴비채,    눈개승마,    아가베 시럽,    유자청,    된장,    요리술,    즉석밥,    소금,   다진 마늘,    다진 파,    고춧가루,    깨,    참기름,    양조간장 |||   1. 끓는 물에 된장을 풀고 요리술을 넣어 끓인다.  2. 찜기에 솔잎을 올리고 굴비채를 찐다.  3. 즉석밥을 전자레인지에 넣고 익힌다.  4. 끓는 물에 소금을 넣고 눈개승마를 데친다.  5. 데친 눈개승마를 차가운 물에 담가 놓는다.  6. 다진 마늘, 다진 파, 된장, 아가베 시럽을 섞는다.  7. 6에 고춧가루, 깨를 갈아 넣어 나물 양념을 만든다.  8. 물기를 뺀 눈개승마에 나물 양념과 참기름을 넣고 무친다.  9. 접시에 밥과 나물을 올린다.  10. 대파, 양조간장, 유자청, 아가베 시럽, 물을 섞어 굴비채 양념을 만든다.  11. 찐 굴비채를 접시에 담고 굴비채 양념을 올려 완성한다.\"),\n",
       " Document(metadata={'id': 602, 'img': 'https://pbbsres.kbs.co.kr/t2019-0286-04-296340/2021/12/24/1509632_batch_치즈퐁듀.png', 'video': 'https://www.youtube.com/watch?v=x-LsihjKhMo&pp=ygUy66WY7IiY7JiBIC0gJ-y5mOymiCDtkIHrkqQnIOugiOyLnO2UvCDtjrjsiqTthqDrnpE%3D'}, page_content=\"류수영 - '치즈 퐁뒤' 레시피 ||| 브로콜리 1개, 양송이 4개, 감자 3개, 소시지 4개, 빵 1개, 생마늘 2개, 화이트와인 100ml, 감자전분 1T 그뤼에르치즈 200g, 에멘탈치즈 100g ||| 찍어 먹을 재료준비 1. 브로콜리 1개를 깨끗이 씻은 후 팔팔 끓는 물에 거꾸로 넣어 돌려가며 데쳐준다. 2. 끓는 물에 양송이 4개를 넣고 3분간 데쳐준다. 3. 끓는 물에 감자 3개를 넣고 20분간 삶아준다. 4. 끓는 물에 소시지 4개를 넣고 5분간 삶아준다. 5. 데쳐준 브로콜리, 양송이, 감자, 소시지를 한 입 크기로 잘라 준비한다. 6. 빵도 한입크기에 맞게 잘라준다. 한 냄비에 양송이, 감자, 소시지 데쳐서 준비하시면 됩니다 빵은 버터가 안 들어간 식사빵이 잘 어울립니다 1. 불을 켜지 않은 상태에서 뚝배기 안을 생마늘로 문질러준다. 뚝배기 안을 마늘로 문질러 향을 입혀주는 것이 좋습니다 2. 1의 문지른 마늘 2개를 으깨서 뚝배기에 넣어준다. 3. 화이트와인 100ml와, 감자전분 1T를 넣고 잘 풀어준다. 와인과 치즈의 유화를 위해 넣어주는 것이 좋습니다 뜨거운 물에 풀게 되면 굳어버리기 때문에 불을 켜지 않고 하는 것이 좋습니다 4. 전분이 다 풀어지면 불을 켜고 그뤼에르치즈 200g, 에멘탈치즈 100g을 강판에 갈아 넣어준다. 치즈를 통으로 넣으면 잘 안 익기 때문에 가위나 강판에 갈아 넣어주는 것이 좋습니다 치즈의 비율은 취향에 따라 조절해주셔도 됩니다 꼬릿꼬릿한 치즈냄새가 많이 날 수 있어요 놀라지 마세요 5. 치즈가 골고루 섞이도록 젓가락으로 풀어준다. 6. 최약불로 줄이고 치즈를 계속 끓여가며 0의 재료들을 찍어 먹으면 치즈 퐁뒤 완성. 치즈퐁뒤를 다 드시고 난 뒤 바닥에 눌어붙은 누룽지를 떼어 드셔도 좋습니다\"),\n",
       " Document(id='6ace3765-28ce-4a18-970b-22c0cd0e0a2f', metadata={'id': 1627, 'img': 'https://pbbsres.kbs.co.kr/t2019-0286-04-296340/2024/06/14/2672290_batch_땅콩빵.png', 'video': 'https://www.youtube.com/watch?v=2b1YDCkJsTQ&pp=ygUu7J207KCV7ZiEIC0gJ-uVhey9qeu5tScg66CI7Iuc7ZS8IO2OuOyKpO2GoOuekQ%3D%3D'}, page_content=\"이정현 - '땅콩빵' 레시피 ||| 볶은 땅콩 2컵(180g), 버터 2조각(20g), 달걀 3개, 꿀 3T, 소금 한 꼬집 ||| 1. 믹서기에 볶은 땅콩 2컵(180g), 버터 2조각(20g), 달걀 3개, 꿀 3T, 소금 한 꼬집을 넣고 갈아준다. (꼭 볶은 땅콩을 사용해주세요 빵의 식감을 위해 땅콩을 너무 곱게 갈지 말아주세요) 2. 내열 용기 안쪽에 오일이나 버터로 코팅을 한 뒤 반죽을 빈 공간이 없이 꾹꾹 눌러 담아준다. 3. 전자레인지에 6분 돌려주고 살짝 식힌 뒤 뒤집어 주면 완성 (전자레인지 출력 양에 따라 시간을 조절해 주세요 젓가락으로 찔렀을 때 반죽이 묻어나지 않으면 다 익은 상태입니다)\"),\n",
       " Document(metadata={'id': 191936, 'img': 'https://recipe1.ezmember.co.kr/cache/recipe/2016/10/25/aa478c667c991137b7be575f398409bf1.jpg', 'views': '18,257', 'video': '', 'category': '일상', 'date': '2016-10-25'}, page_content='땅콩조림 자꾸만 먹게 되는 반찬 고소해 ||| 생땅콩-2. 5컵, 간장-5큰술, 참치액-1큰술, 올리고당-2큰술, 설탕-1. 5컵, 물-2. 5컵, 통깨, 약간 ||| 땅콩이 잠길 만큼 물을 넣고 생땅콩을 데쳐줍니다 물이 바글바글 끓어오르면 불을 꺼 주세요 1~2분 정도 이 과정을 거쳐야지 떨음맛이 안 나요. 데친 땅콩은 찬물에 3~4번 씻어 줍니다. 냄비에 땅콩을 넣고 물 2. 5컵을 넣어 주고 뚜껑을 덮고 땅콩이 익을 때가지 푸욱 삶아 주세요. 중간에 땅콩을 건져 맛을 보심되요. 뚜껑을 덮고 삶아야지 물이 많이 졸아들지 않아요. 땅콩이 익으면 간장 5, 참치액 1, 설탕 1. 5를 넣어 주세요. 땅콩에 맛이 배도록 조려 주세요. 국물이 자작자작하게 남아 있음 올리고 당2를 넣고 마져 조려 주세요. 마지막에 올리고 당을 넣으면 땅콩을 조려 놓았을 때 윤기가 난답니다. (땅콩도 콩처럼 오랫동안 조려야지 맛있답니다). 국물이 없어지면 마지막에 통깨 넣어 마무리. ||| 일상 ||| 3인분 30분 이내 아무나 ||| 땅콩조림 만들어 볼까요'),\n",
       " Document(id='3dfd15fe-2025-4905-ab06-5b0a2d16bd7a', metadata={'id': 178635, 'img': 'https://recipe1.ezmember.co.kr/cache/recipe/2022/01/14/5be381548f73ca6eaa50067fc1ffc10e1.jpg', 'views': '2,005', 'video': '', 'category': '일상', 'date': '2022-01-14'}, page_content='땅콩 호박 요리찜 ||| 모차렐라치즈-1주먹, 양파-1/2개, 청경채-1개, 맛살-1개, 버섯, 옥수수콘-1. 5큰술, 버터-1T, 소금-1꼬집, 후추-1꼬집 ||| 땅콩호박은 단맛이 강하고 섬유질이 풍부하며 칼로리도 낮아서 다이어트 식품으로 좋습니다 고구마나 버터 맛을 느낄 수 있다고 하네용. 재료를 모두 준비해 주시고 야채나 고기를 더 추가하셔도 좋습니당. 옥수수콘 모차렐라 제외하고 나머지는 다 바꾸셔도 좋아요. 호박은 20~30분 정도 쪄서 속을 다 파내 주세요. 야채는 버터를 두르고 소금과 후추로 간을 해 주신 뒤 볶아 주세요. 속을 파내시고 내부를 꽉 채워 주세요. 모차랄라 치즈를 위에 올려주세요 듬뿍 여기서 좀 더 달달하게 드시고 싶으면 꿀을 한 바퀴 돌려주셔도 좋습니다. 에어프라라이기에 200도로 10분 정도 돌려줬어요 에어프라이기가 없다면 전자레인지에 5분 정도 돌려주시면 될 것 같습니다. 짠 이렇게 반을 가르면 속이 꽉 차 있는 땅콩호박찜 완성. ||| 일상 ||| 2인분 30분 이내 아무나 ||| 땅콩호박 속을 파서 이색적인 요리를 해 봤습니다 건강에도 좋으니까 꼭 드셔 보세요'),\n",
       " Document(metadata={'id': 863, 'img': 'https://fs.jtbc.co.kr/prog/enter/janggo/Img/20150908_111812_8515.jpg', 'video': 'https://tv.jtbc.co.kr/vod/pr10010331/pm10031085/vo10079207/view', 'ingredients_list': \"['오징어', '푸아그라 트러플 파테', '레몬&소금이 들어간 고춧가루', '달걀', '명란젓', '카망베르 치즈', '캐비아', '딸기잼', '소금', '후추', '고춧가루', '깨', '버터', '파', '꿀']\"}, page_content=\"홍석천 '판타스틱 어묵' ||| 오징어,    푸아그라 트러플 파테,    레몬&소금이 들어간 고춧가루,    달걀,    명란젓,   카망베르 치즈,    캐비아,    딸기잼,    소금,    후추,    고춧가루,    깨,    버터,    파,    꿀 |||   1. 오징어를 잘게 썰어 핸드 블렌더에 넣는다.  2. 1에 푸아그라 트러플 파테, 레몬&소금이 들어간 고춧가루, 소금, 후추, 고춧가루, 깨를 넣어 간다.  3. 달걀 껍질을 반으로 가른다.  4. 반으로 가른 달걀 껍질에 어묵반죽을 담는다.  5. 어묵반죽 안에 각각 명란젓, 카망베르 치즈, 푸아그라 트러플 파테를 넣어 속을 채운다.  6. 접시에 밀가루를 깔고, 어묵반죽을 넣은 달걀 껍질을 세운 뒤 전자레인지에 넣고 돌린다.  7. 팬에 기름과 버터를 두른 뒤, 어묵반죽을 넣고 익힌다.  8. 접시에 어묵을 담고 첫 번째 어묵 위에 캐비아, 채 썬 파를 올린다.  9. 두 번째 어묵에는 푸아그라 트러플 파테, 딸기잼을 올린다.  10. 세 번째 어묵에는 트러플과 꿀, 카망베르 치즈를 올린다.\"),\n",
       " Document(id='087c91d4-450c-4b2e-a8f4-c37a942e0ea4', metadata={'id': 988, 'img': '', 'video': 'https://www.youtube.com/watch?v=69fYvO_td0Q&pp=ygUY66-47Lm07JeYICftjIzti7DruYTtlIQn', 'ingredients_list': \"['즉석밥', '등심 1장', '느타리버섯', '양송이 버섯', '양상추', '양파 반 개', '총각김치', '쌈장 2TS', '생크림 한 컵']\"}, page_content=\"미카엘 '파티비프' ||| 즉석밥,    등심 1장,    느타리버섯,    양송이 버섯,    양상추,    양파 반 개,    총각김치,    쌈장 2TS,    생크림 한 컵 |||   1. 청고추에 칼집을 내고 그릴팬에 굽는다.  2. 고기와 양파는 채썰고 양송이 버섯도 편으로 썰어 팬에 볶는다.  3. 2에 고기에 쌈장과 생크림을 넣고 볶는다.  4. 3에 다진 총각김치를 넣고 후추를 뿌린다.  5. 접시에 밥을 놓고 주위에 볶은 고기를 얹는다.  6. 중앙에 총각김치를 올린다.\"),\n",
       " Document(metadata={'id': 27, 'img': 'https://pbbsres.kbs.co.kr/t2019-0286-04-296340/2020/03/06/708722_꼬꼬빵(완).png', 'video': 'https://www.youtube.com/watch?v=0oxbDFBiayo&pp=ygUs7J206rK96recIC0g6rys6rys67m1IOugiOyLnO2UvCDtjrjsiqTthqDrnpE%3D'}, page_content='이경규 - 꼬꼬빵 레시피 ||| (6개 기준) [훠이텅 요리 재료] 설탕 400g, 물 500ml, 달걀노른자 6개, 바닐라 빈 1개 [빵 요리 재료] 생 이스트 14g, 생크림 150ml, 실온에 둔 무염버터 50g, 달걀 1개, 소금 5g, 설탕 30g, 강력분 300g ||| [훠이텅 조리 방법] 1. 달걀노른자 6개를 체에 부어 달걀 힘줄 부분을 제거한다. 2. 500ml 물, 400g 설탕, 1개의 바닐라 빈을 냄비에 넣고 가열한다. 이때 설탕이 물에 녹을 때까지 중불로 가열하고, 적당히 저어 준다. 3. 설탕이 물에 완전히 용해되고 시럽이 버블링되면 바닐라 빈을 제거한다. 4. 체에 여과해놓은 달걀노른자를 짤 주머니를 채워 넣는다. (짤 주머니 끝을 1mm정도 자르고, 달걀노른자가 얇게 통과할 수 있도록 만든다) 5. 끓는 시럽 물에 깔때기로 원을 그리며 달걀노른자를 통과 시킨다 6. 1분 뒤, 시럽 물에서 조심스럽게 훠이텅을 건져내어 접시에 펼쳐 보관한다 (체에 걸러 최대한 설탕 물기를 제거할 것) 7. 완성된 훠이텅을 넣기 좋게 가위로 상하, 좌우 한 번씩 잘라 준다 [꼬꼬빵 조리 방법] 1. 강력분을 반죽기 볼에 담아준다. 2. 강력분에 홈을 세 개 파고 소금 5g, 생 이스트 14g, 설탕 30g을 넣은 뒤 잘 섞는다. (소금과 이스트가 닿으면 발효가 안 되기 때문에 주의할 것) 3. 그 위에 달걀을 넣고, 생크림 150ml 부은 뒤 반죽기를 돌린다. 4. 1-2분 뒤 실온에 둔 버터를 넣어주고 20분 가량 반죽기를 돌린다. 5. 반죽을 꺼내 동그랗게 말아서 볼에 담은 뒤 랩을 덮어 40도 가량 습도가 높은 곳에서 460분 정도 발효시킨다. 6. 발효가 끝나면 반죽을 꺼내서 가스를 빼준다. 7. 90g씩 떼어 둥글린 후, 랩을 씌워 실온에 1015분 정도 중간 발효를 시켜준다. 8. 발효가 끝나면, 랩을 제거하고 반죽을 살짝 눌러 가스를 빼준다. 9. 밀대로 살짝 밀어 반죽을 편 후, 젓가락으로 훠이텅 40g을 넣고 만두처럼 끝을 꼬집어 마무리한다. 주름진 부분을 밑으로 가게 해서 오븐 팬에 올려준다. 10. 팬에 올린 상태로 랩을 덮어 30분 정도 2차 발효를 한다. 11. 오븐에 180도에서 20분 구워준다 12. 오븐에서 꺼낸 뒤, 녹인 버터를 발라주면 완성'),\n",
       " Document(metadata={'id': 198926, 'img': 'https://recipe1.ezmember.co.kr/cache/recipe/2016/01/19/86fecc262a430c0e27d1489129291a2d1.jpg', 'views': '12,530', 'video': '', 'category': '일상', 'date': '2016-01-17'}, page_content='실치볶음 ||| 실치, 땅콩, 마늘, [양념] 간장, 올리고당, 설탕, 맛술, 통깨 ||| 땅콩이 너무 맛이 없는 걸 사와서 줄어들지 않고 있어요. 팬에 한번 볶아서 고소함을 업시킨 후에 넣었어요. 실치가 너무 작은 양밖에 안 남아서 개량 없이 눈대중으로 넣었어요. 간장, 맛술, 올리고당, 마늘 넣고 부글부글 끓여 주세요. 실치랑 땅콩을 넣어 주세요. 실. 치도 한번 볶아서 넣어야 하는데 깜박 했다지요. 잠시 저어 주세요. 바삭하라고 설탕도 넣었구요. 통깨도 솔솔 뿌려줬어요. 접시에 담아 주면 끝. ||| 일상 ||| 2인분 30분 이내 초급 ||| 냉동실에 남아 있는 실치를 꺼내 땅콩과 함께 휘리릭 볶은 실치볶음입니다 땅콩이 들어가 더욱 고소하고 달콤해요 마땅한 밑반찬이 없을 때 간단하게 만들어 먹을 수 있는 칼슘듬뿍 실치반찬이예요'),\n",
       " Document(id='a53a3848-338a-4820-a28d-6c8a674cab84', metadata={'id': 925, 'img': '', 'video': 'https://naver.me/GoD0kb9p', 'ingredients_list': \"['토마토 소스', '참치 통조림', '건자두', '레드 와인', '달걀', '햄 통조림', '옥수수 수프 분말', '데친 브로콜리', '버터', '양파', '즉석밥', '레드 와인', '설탕', '밀가루', '빵가루', '파르메산 치즈', '후추']\"}, page_content=\"박준우 '그.레.요 (그대를 위한 레토르트 요리)' ||| 토마토 소스,    참치 통조림,    건자두,    레드 와인,    달걀,    햄 통조림,    옥수수 수프 분말,   데친 브로콜리,    버터,    양파,    즉석밥,    레드 와인,    설탕,    밀가루,    빵가루,    파르메산 치즈,    후추 |||   1. 버터를 두른 팬에 양파를 볶는다.  2. 볶던 양파에 즉석밥, 토마토 소스를 넣고 함께 볶는다.  3. 2에 기름을 뺀 참치, 파르메산 치즈를 넣고 볶는다.  4. 버터를 두른 냄비에 건자두를 볶다가 레드 와인, 설탕을 넣어 졸인다.  5. 햄을 으깬 후 달걀, 밀가루와 섞는다.  6. 햄 반죽 안에 참치를 넣어 동그랗게 빚는다.  7. 6에 밀가루>달걀물>빵가루 순으로 튀김옷을 입혀 튀긴다.  8. 물에 옥수수 수프 분말을 넣고 끓이다 파르메산 치즈, 후추를 넣어 소스를 만든다.  9. 토마토 리소토 위에 옥수수 수프 소스를 뿌린다.  10. 9에 햄 튀김을 올리고 건자두, 데친 브로콜리를 올려 완성한다.\"),\n",
       " Document(metadata={'id': 31, 'img': 'https://pbbsres.kbs.co.kr/t2019-0286-04-296340/2020/03/13/717552_3단컵밥.png', 'video': ''}, page_content='정일우 - 3단 컵밥 레시피 ||| [1단(닭조림) 요리 재료] 식용유 약간, 닭가슴살 100g, 대파 흰대 1개, 생강 1개, 양조간장 3T, 맛간장 1T, 맛술 1T, 물엿 1T [2단(콜리플라워) 요리 재료] 콜리플라워 200g, 식용유 약간, 소금 약간, 백후추 약간 [3단(스크램블) 요리 재료] 달걀 3개, 생크림 75ml, 버터 10g, 설탕 1T, 파슬리(가니쉬용) [조리 도구] 팬, 컵밥 담을 컵 ||| [1단(닭조림) 조리 방법] 1. 닭가슴살을 1cm 정도의 적당한 크기로 썰어준 후, 후추와 소금으로 간을 하여 식용유를 두른 팬에 볶는다. 2. 대파(흰 부분)도 1cm 정도의 적당한 크기로 썰어 같이 넣어 볶아 파 향을 내준다. 3. 어느 정도 노릇하게 익으면 잠시 닭고기를 빼서 접시에 옮겨 담고, 팬에 양조간장 3T, 맛간장 1T, 맛술 1T 넣어 소스를 만든다. 4. 소스를 살짝 끓이다가 빼두었던 닭고기를 넣고, 손가락만한 생강 한 조각을 넣어 같이 졸여준다. 5. 어느 정도 졸아들면 생강은 빼고, 물엿 1T를 넣고 센 불에 더 졸여준다. [2단(콜리플라워) 조리 방법] 1. 콜리플라워를 쌀알처럼 잘게 썰어준다. 2. 팬에 식용유를 코팅하듯 아주 소량만 둘러주고, 콜리플라워를 넣어 소금과 백후추로 간을 한다. (기호에 따라 간 조절) 3. 중약불에서 12분 수분이 날아갈 정도만 살짝 볶아준다. [3단(스크램블) 조리 방법] 1. 달걀 2개를 풀어준 후 생크림을 넣어 열심히 저어 섞어준 후, 설탕 1T를 넣어 달콤함을 더한다. 2. 팬에 버터를 녹인 후 1.번의 생크림 섞은 달걀물을 붓고, 중약불에서 가장자리부터 저어 조심조심 익혀주면 폭신폭신한 스크램블 완성 컵에 아래서부터 1단(닭고기조림)-2단(볶은 콜리플라워)-3단(부드러운 스크램블)의 순서로 쌓아준 후, 달걀노른자만 분리하여 맨 위에 올려주고 파슬리를 뿌려 데코해주면 완성'),\n",
       " Document(id='5d5ae1ab-489e-44ce-a4b7-8b9752e5c2e0', metadata={'id': 1692, 'img': 'https://pbbsres.kbs.co.kr/t2019-0286-04-296340/2024/08/23/2729128_6.png', 'video': 'https://www.youtube.com/watch?v=iFqp86-Z3W0&pp=ygVB7KeE7ISc7JewIC0gJ-uVhey9qeuyhO2EsCDslYTsnbTsiqTtgazrprwnIOugiOyLnO2UvCDtjrjsiqTthqDrnpE%3D'}, page_content=\"진서연 - '땅콩버터 아이스크림' 레시피 ||| 바나나 3개, 땅콩버터 듬뿍 4T, 알룰로스 1T, 우유 100ml ||| 1. 바나나 3개, 땅콩버터 듬뿍 4T, 알룰로스 1T, 우유 100ml를 넣고 믹서기에 갈아준다. 2. 냉동 용기에 1.을 붓고 냉동고에 3시간 이상 얼려주면 완성\"),\n",
       " Document(metadata={'id': 12929, 'img': 'https://recipe1.ezmember.co.kr/cache/recipe/2020/12/12/e8c926514ccd9129c57c1d4e78b45ad81.jpg', 'views': '2,994', 'video': '', 'category': '일상', 'date': '2020-12-12'}, page_content='땅콩조림 ||| 생땅콩-500g, [양념] 물-200ml, 간장-5큰술, 물엿-2큰술, 설탕-1큰술, 통깨, 적당량 ||| 생 땅콩을 물에 한번 깨끗하게 씻어 줍니다. 냄비에 땅콩을 넣고 땅콩이 잠길 만큼 물을 부어 주고 삶아 줍니다. 땅콩을 한 번 삶은 다음 물을 버리고 다시 새로 물을 간 다음 한번 더 삶아 땅콩껍질의 떫은맛을 제거해 줍니다. 땅콩이 어느 정도 삶아지면 삶은 물은 버리고 간장 5큰술, 물 200ml를 부어 조려 줍니다. 땅콩이 갈색이 되도록 조려지면 물엿 2큰술, 설탕 1큰술을 넣고 국물 없이 조려 줍니다. 땅콩이 거의 조려지면 불을 끄고 통깨를 뿌려 마무리합니다. ||| 일상 ||| 4인분 30분 이내 초급 ||| 고소한 맛이 특징인 땅콩은 고지방 고단백 건강식품입니다 불포화 지방산을 많이 함유하여 콜레스테롤을 감소시켜 주고 동맥경화 예방에 도움을 줍니다 땅콩은 주로 볶아 간식이나 안주로 많이 즐겨 먹지만 생땅콩을 삶아 조려 고소하고 맛있는 밑반찬이 됩니다'),\n",
       " Document(id='0775a69c-3b26-4cee-9fb4-ae77e20cba11', metadata={'id': 14889, 'img': 'https://recipe1.ezmember.co.kr/cache/recipe/2020/10/19/03fc99bb02f780fdbfbe56ebeeb44dcc1.jpg', 'views': '678', 'video': '', 'category': '일상', 'date': '2020-10-19'}, page_content='손쉽게 땅콩 굽는 방법 소개해 드려요 ||| 땅콩-3컵 ||| 에어프라이어 요리 땅콩 굽는 법을 알려 드릴께요. 우선 땅콩은 겉껍질을 제거하고 불순물이나 껍질 조각을 골라 내 주세요. 다 구운 다음에 껍질을 까서 둘 거라서 세척은 따로 하지 않았어요. 그다음에 어메이드 아이쿡에 종이호일을 한 장 깔고 땅콩을 올려놓아 주세요. 그리고 에어프라이어에 10분 돌릴껀데요 우선 180동 5분을 돌려 주시구요. 그럼 간단하게 에어프라이기 땅콩 굽는법 완성이네요. 요렇게 에어프라이어 요리 땅콩굽기가 완성 꺼내서 약간 식혔다가 껍질을 벗기면 되는데요 그럼 요렇게 쏙쏙 잘 벗겨진답니다. ||| 일상 ||| 3인분 5분 이내 아무나 ||| 이제 서서 볶지 않아도 에어프라이어로 간단하게 땅콩 구울 수 있어요')]"
      ]
     },
     "execution_count": 36,
     "metadata": {},
     "output_type": "execute_result"
    }
   ],
   "source": [
    "version2().invoke(\"땅콩이 안 들어간 요리\")"
   ]
  },
  {
   "cell_type": "code",
   "execution_count": 15,
   "metadata": {},
   "outputs": [
    {
     "data": {
      "text/plain": [
       "[Document(metadata={'id': 198926, 'img': 'https://recipe1.ezmember.co.kr/cache/recipe/2016/01/19/86fecc262a430c0e27d1489129291a2d1.jpg', 'views': '12,530', 'video': '', 'category': '일상', 'date': '2016-01-17'}, page_content='실치볶음 ||| 실치, 땅콩, 마늘, [양념] 간장, 올리고당, 설탕, 맛술, 통깨 ||| 땅콩이 너무 맛이 없는 걸 사와서 줄어들지 않고 있어요. 팬에 한번 볶아서 고소함을 업시킨 후에 넣었어요. 실치가 너무 작은 양밖에 안 남아서 개량 없이 눈대중으로 넣었어요. 간장, 맛술, 올리고당, 마늘 넣고 부글부글 끓여 주세요. 실치랑 땅콩을 넣어 주세요. 실. 치도 한번 볶아서 넣어야 하는데 깜박 했다지요. 잠시 저어 주세요. 바삭하라고 설탕도 넣었구요. 통깨도 솔솔 뿌려줬어요. 접시에 담아 주면 끝. ||| 일상 ||| 2인분 30분 이내 초급 ||| 냉동실에 남아 있는 실치를 꺼내 땅콩과 함께 휘리릭 볶은 실치볶음입니다 땅콩이 들어가 더욱 고소하고 달콤해요 마땅한 밑반찬이 없을 때 간단하게 만들어 먹을 수 있는 칼슘듬뿍 실치반찬이예요'),\n",
       " Document(metadata={'id': 12929, 'img': 'https://recipe1.ezmember.co.kr/cache/recipe/2020/12/12/e8c926514ccd9129c57c1d4e78b45ad81.jpg', 'views': '2,994', 'video': '', 'category': '일상', 'date': '2020-12-12'}, page_content='땅콩조림 ||| 생땅콩-500g, [양념] 물-200ml, 간장-5큰술, 물엿-2큰술, 설탕-1큰술, 통깨, 적당량 ||| 생 땅콩을 물에 한번 깨끗하게 씻어 줍니다. 냄비에 땅콩을 넣고 땅콩이 잠길 만큼 물을 부어 주고 삶아 줍니다. 땅콩을 한 번 삶은 다음 물을 버리고 다시 새로 물을 간 다음 한번 더 삶아 땅콩껍질의 떫은맛을 제거해 줍니다. 땅콩이 어느 정도 삶아지면 삶은 물은 버리고 간장 5큰술, 물 200ml를 부어 조려 줍니다. 땅콩이 갈색이 되도록 조려지면 물엿 2큰술, 설탕 1큰술을 넣고 국물 없이 조려 줍니다. 땅콩이 거의 조려지면 불을 끄고 통깨를 뿌려 마무리합니다. ||| 일상 ||| 4인분 30분 이내 초급 ||| 고소한 맛이 특징인 땅콩은 고지방 고단백 건강식품입니다 불포화 지방산을 많이 함유하여 콜레스테롤을 감소시켜 주고 동맥경화 예방에 도움을 줍니다 땅콩은 주로 볶아 간식이나 안주로 많이 즐겨 먹지만 생땅콩을 삶아 조려 고소하고 맛있는 밑반찬이 됩니다'),\n",
       " Document(id='3dfd15fe-2025-4905-ab06-5b0a2d16bd7a', metadata={'id': 178635, 'img': 'https://recipe1.ezmember.co.kr/cache/recipe/2022/01/14/5be381548f73ca6eaa50067fc1ffc10e1.jpg', 'views': '2,005', 'video': '', 'category': '일상', 'date': '2022-01-14'}, page_content='땅콩 호박 요리찜 ||| 모차렐라치즈-1주먹, 양파-1/2개, 청경채-1개, 맛살-1개, 버섯, 옥수수콘-1. 5큰술, 버터-1T, 소금-1꼬집, 후추-1꼬집 ||| 땅콩호박은 단맛이 강하고 섬유질이 풍부하며 칼로리도 낮아서 다이어트 식품으로 좋습니다 고구마나 버터 맛을 느낄 수 있다고 하네용. 재료를 모두 준비해 주시고 야채나 고기를 더 추가하셔도 좋습니당. 옥수수콘 모차렐라 제외하고 나머지는 다 바꾸셔도 좋아요. 호박은 20~30분 정도 쪄서 속을 다 파내 주세요. 야채는 버터를 두르고 소금과 후추로 간을 해 주신 뒤 볶아 주세요. 속을 파내시고 내부를 꽉 채워 주세요. 모차랄라 치즈를 위에 올려주세요 듬뿍 여기서 좀 더 달달하게 드시고 싶으면 꿀을 한 바퀴 돌려주셔도 좋습니다. 에어프라라이기에 200도로 10분 정도 돌려줬어요 에어프라이기가 없다면 전자레인지에 5분 정도 돌려주시면 될 것 같습니다. 짠 이렇게 반을 가르면 속이 꽉 차 있는 땅콩호박찜 완성. ||| 일상 ||| 2인분 30분 이내 아무나 ||| 땅콩호박 속을 파서 이색적인 요리를 해 봤습니다 건강에도 좋으니까 꼭 드셔 보세요')]"
      ]
     },
     "execution_count": 15,
     "metadata": {},
     "output_type": "execute_result"
    }
   ],
   "source": [
    "version3().invoke(\"땅콩이 안 들어간 요리\")"
   ]
  },
  {
   "cell_type": "code",
   "execution_count": 37,
   "metadata": {},
   "outputs": [
    {
     "data": {
      "text/plain": [
       "[Document(id='aa9af9bc-8b38-4f6d-9550-1e58d98549a7', metadata={'id': 916, 'img': '', 'video': 'https://www.youtube.com/watch?v=xJ5O8jZa2xY&pp=ygUc7J207JuQ7J28ICftlZzsi50g67iM65-w7LCcJw%3D%3D', 'ingredients_list': \"['솔잎', '굴비채', '눈개승마', '아가베 시럽', '유자청', '된장', '요리술', '즉석밥', '소금', '다진 마늘', '다진 파', '고춧가루', '깨', '참기름', '양조간장']\"}, page_content=\"이원일 '한식 브런찜' ||| 솔잎,    굴비채,    눈개승마,    아가베 시럽,    유자청,    된장,    요리술,    즉석밥,    소금,   다진 마늘,    다진 파,    고춧가루,    깨,    참기름,    양조간장 |||   1. 끓는 물에 된장을 풀고 요리술을 넣어 끓인다.  2. 찜기에 솔잎을 올리고 굴비채를 찐다.  3. 즉석밥을 전자레인지에 넣고 익힌다.  4. 끓는 물에 소금을 넣고 눈개승마를 데친다.  5. 데친 눈개승마를 차가운 물에 담가 놓는다.  6. 다진 마늘, 다진 파, 된장, 아가베 시럽을 섞는다.  7. 6에 고춧가루, 깨를 갈아 넣어 나물 양념을 만든다.  8. 물기를 뺀 눈개승마에 나물 양념과 참기름을 넣고 무친다.  9. 접시에 밥과 나물을 올린다.  10. 대파, 양조간장, 유자청, 아가베 시럽, 물을 섞어 굴비채 양념을 만든다.  11. 찐 굴비채를 접시에 담고 굴비채 양념을 올려 완성한다.\"),\n",
       " Document(metadata={'id': 602, 'img': 'https://pbbsres.kbs.co.kr/t2019-0286-04-296340/2021/12/24/1509632_batch_치즈퐁듀.png', 'video': 'https://www.youtube.com/watch?v=x-LsihjKhMo&pp=ygUy66WY7IiY7JiBIC0gJ-y5mOymiCDtkIHrkqQnIOugiOyLnO2UvCDtjrjsiqTthqDrnpE%3D'}, page_content=\"류수영 - '치즈 퐁뒤' 레시피 ||| 브로콜리 1개, 양송이 4개, 감자 3개, 소시지 4개, 빵 1개, 생마늘 2개, 화이트와인 100ml, 감자전분 1T 그뤼에르치즈 200g, 에멘탈치즈 100g ||| 찍어 먹을 재료준비 1. 브로콜리 1개를 깨끗이 씻은 후 팔팔 끓는 물에 거꾸로 넣어 돌려가며 데쳐준다. 2. 끓는 물에 양송이 4개를 넣고 3분간 데쳐준다. 3. 끓는 물에 감자 3개를 넣고 20분간 삶아준다. 4. 끓는 물에 소시지 4개를 넣고 5분간 삶아준다. 5. 데쳐준 브로콜리, 양송이, 감자, 소시지를 한 입 크기로 잘라 준비한다. 6. 빵도 한입크기에 맞게 잘라준다. 한 냄비에 양송이, 감자, 소시지 데쳐서 준비하시면 됩니다 빵은 버터가 안 들어간 식사빵이 잘 어울립니다 1. 불을 켜지 않은 상태에서 뚝배기 안을 생마늘로 문질러준다. 뚝배기 안을 마늘로 문질러 향을 입혀주는 것이 좋습니다 2. 1의 문지른 마늘 2개를 으깨서 뚝배기에 넣어준다. 3. 화이트와인 100ml와, 감자전분 1T를 넣고 잘 풀어준다. 와인과 치즈의 유화를 위해 넣어주는 것이 좋습니다 뜨거운 물에 풀게 되면 굳어버리기 때문에 불을 켜지 않고 하는 것이 좋습니다 4. 전분이 다 풀어지면 불을 켜고 그뤼에르치즈 200g, 에멘탈치즈 100g을 강판에 갈아 넣어준다. 치즈를 통으로 넣으면 잘 안 익기 때문에 가위나 강판에 갈아 넣어주는 것이 좋습니다 치즈의 비율은 취향에 따라 조절해주셔도 됩니다 꼬릿꼬릿한 치즈냄새가 많이 날 수 있어요 놀라지 마세요 5. 치즈가 골고루 섞이도록 젓가락으로 풀어준다. 6. 최약불로 줄이고 치즈를 계속 끓여가며 0의 재료들을 찍어 먹으면 치즈 퐁뒤 완성. 치즈퐁뒤를 다 드시고 난 뒤 바닥에 눌어붙은 누룽지를 떼어 드셔도 좋습니다\"),\n",
       " Document(id='6ace3765-28ce-4a18-970b-22c0cd0e0a2f', metadata={'id': 1627, 'img': 'https://pbbsres.kbs.co.kr/t2019-0286-04-296340/2024/06/14/2672290_batch_땅콩빵.png', 'video': 'https://www.youtube.com/watch?v=2b1YDCkJsTQ&pp=ygUu7J207KCV7ZiEIC0gJ-uVhey9qeu5tScg66CI7Iuc7ZS8IO2OuOyKpO2GoOuekQ%3D%3D'}, page_content=\"이정현 - '땅콩빵' 레시피 ||| 볶은 땅콩 2컵(180g), 버터 2조각(20g), 달걀 3개, 꿀 3T, 소금 한 꼬집 ||| 1. 믹서기에 볶은 땅콩 2컵(180g), 버터 2조각(20g), 달걀 3개, 꿀 3T, 소금 한 꼬집을 넣고 갈아준다. (꼭 볶은 땅콩을 사용해주세요 빵의 식감을 위해 땅콩을 너무 곱게 갈지 말아주세요) 2. 내열 용기 안쪽에 오일이나 버터로 코팅을 한 뒤 반죽을 빈 공간이 없이 꾹꾹 눌러 담아준다. 3. 전자레인지에 6분 돌려주고 살짝 식힌 뒤 뒤집어 주면 완성 (전자레인지 출력 양에 따라 시간을 조절해 주세요 젓가락으로 찔렀을 때 반죽이 묻어나지 않으면 다 익은 상태입니다)\"),\n",
       " Document(metadata={'id': 191936, 'img': 'https://recipe1.ezmember.co.kr/cache/recipe/2016/10/25/aa478c667c991137b7be575f398409bf1.jpg', 'views': '18,257', 'video': '', 'category': '일상', 'date': '2016-10-25'}, page_content='땅콩조림 자꾸만 먹게 되는 반찬 고소해 ||| 생땅콩-2. 5컵, 간장-5큰술, 참치액-1큰술, 올리고당-2큰술, 설탕-1. 5컵, 물-2. 5컵, 통깨, 약간 ||| 땅콩이 잠길 만큼 물을 넣고 생땅콩을 데쳐줍니다 물이 바글바글 끓어오르면 불을 꺼 주세요 1~2분 정도 이 과정을 거쳐야지 떨음맛이 안 나요. 데친 땅콩은 찬물에 3~4번 씻어 줍니다. 냄비에 땅콩을 넣고 물 2. 5컵을 넣어 주고 뚜껑을 덮고 땅콩이 익을 때가지 푸욱 삶아 주세요. 중간에 땅콩을 건져 맛을 보심되요. 뚜껑을 덮고 삶아야지 물이 많이 졸아들지 않아요. 땅콩이 익으면 간장 5, 참치액 1, 설탕 1. 5를 넣어 주세요. 땅콩에 맛이 배도록 조려 주세요. 국물이 자작자작하게 남아 있음 올리고 당2를 넣고 마져 조려 주세요. 마지막에 올리고 당을 넣으면 땅콩을 조려 놓았을 때 윤기가 난답니다. (땅콩도 콩처럼 오랫동안 조려야지 맛있답니다). 국물이 없어지면 마지막에 통깨 넣어 마무리. ||| 일상 ||| 3인분 30분 이내 아무나 ||| 땅콩조림 만들어 볼까요'),\n",
       " Document(id='3dfd15fe-2025-4905-ab06-5b0a2d16bd7a', metadata={'id': 178635, 'img': 'https://recipe1.ezmember.co.kr/cache/recipe/2022/01/14/5be381548f73ca6eaa50067fc1ffc10e1.jpg', 'views': '2,005', 'video': '', 'category': '일상', 'date': '2022-01-14'}, page_content='땅콩 호박 요리찜 ||| 모차렐라치즈-1주먹, 양파-1/2개, 청경채-1개, 맛살-1개, 버섯, 옥수수콘-1. 5큰술, 버터-1T, 소금-1꼬집, 후추-1꼬집 ||| 땅콩호박은 단맛이 강하고 섬유질이 풍부하며 칼로리도 낮아서 다이어트 식품으로 좋습니다 고구마나 버터 맛을 느낄 수 있다고 하네용. 재료를 모두 준비해 주시고 야채나 고기를 더 추가하셔도 좋습니당. 옥수수콘 모차렐라 제외하고 나머지는 다 바꾸셔도 좋아요. 호박은 20~30분 정도 쪄서 속을 다 파내 주세요. 야채는 버터를 두르고 소금과 후추로 간을 해 주신 뒤 볶아 주세요. 속을 파내시고 내부를 꽉 채워 주세요. 모차랄라 치즈를 위에 올려주세요 듬뿍 여기서 좀 더 달달하게 드시고 싶으면 꿀을 한 바퀴 돌려주셔도 좋습니다. 에어프라라이기에 200도로 10분 정도 돌려줬어요 에어프라이기가 없다면 전자레인지에 5분 정도 돌려주시면 될 것 같습니다. 짠 이렇게 반을 가르면 속이 꽉 차 있는 땅콩호박찜 완성. ||| 일상 ||| 2인분 30분 이내 아무나 ||| 땅콩호박 속을 파서 이색적인 요리를 해 봤습니다 건강에도 좋으니까 꼭 드셔 보세요'),\n",
       " Document(id='087c91d4-450c-4b2e-a8f4-c37a942e0ea4', metadata={'id': 988, 'img': '', 'video': 'https://www.youtube.com/watch?v=69fYvO_td0Q&pp=ygUY66-47Lm07JeYICftjIzti7DruYTtlIQn', 'ingredients_list': \"['즉석밥', '등심 1장', '느타리버섯', '양송이 버섯', '양상추', '양파 반 개', '총각김치', '쌈장 2TS', '생크림 한 컵']\"}, page_content=\"미카엘 '파티비프' ||| 즉석밥,    등심 1장,    느타리버섯,    양송이 버섯,    양상추,    양파 반 개,    총각김치,    쌈장 2TS,    생크림 한 컵 |||   1. 청고추에 칼집을 내고 그릴팬에 굽는다.  2. 고기와 양파는 채썰고 양송이 버섯도 편으로 썰어 팬에 볶는다.  3. 2에 고기에 쌈장과 생크림을 넣고 볶는다.  4. 3에 다진 총각김치를 넣고 후추를 뿌린다.  5. 접시에 밥을 놓고 주위에 볶은 고기를 얹는다.  6. 중앙에 총각김치를 올린다.\"),\n",
       " Document(metadata={'id': 27, 'img': 'https://pbbsres.kbs.co.kr/t2019-0286-04-296340/2020/03/06/708722_꼬꼬빵(완).png', 'video': 'https://www.youtube.com/watch?v=0oxbDFBiayo&pp=ygUs7J206rK96recIC0g6rys6rys67m1IOugiOyLnO2UvCDtjrjsiqTthqDrnpE%3D'}, page_content='이경규 - 꼬꼬빵 레시피 ||| (6개 기준) [훠이텅 요리 재료] 설탕 400g, 물 500ml, 달걀노른자 6개, 바닐라 빈 1개 [빵 요리 재료] 생 이스트 14g, 생크림 150ml, 실온에 둔 무염버터 50g, 달걀 1개, 소금 5g, 설탕 30g, 강력분 300g ||| [훠이텅 조리 방법] 1. 달걀노른자 6개를 체에 부어 달걀 힘줄 부분을 제거한다. 2. 500ml 물, 400g 설탕, 1개의 바닐라 빈을 냄비에 넣고 가열한다. 이때 설탕이 물에 녹을 때까지 중불로 가열하고, 적당히 저어 준다. 3. 설탕이 물에 완전히 용해되고 시럽이 버블링되면 바닐라 빈을 제거한다. 4. 체에 여과해놓은 달걀노른자를 짤 주머니를 채워 넣는다. (짤 주머니 끝을 1mm정도 자르고, 달걀노른자가 얇게 통과할 수 있도록 만든다) 5. 끓는 시럽 물에 깔때기로 원을 그리며 달걀노른자를 통과 시킨다 6. 1분 뒤, 시럽 물에서 조심스럽게 훠이텅을 건져내어 접시에 펼쳐 보관한다 (체에 걸러 최대한 설탕 물기를 제거할 것) 7. 완성된 훠이텅을 넣기 좋게 가위로 상하, 좌우 한 번씩 잘라 준다 [꼬꼬빵 조리 방법] 1. 강력분을 반죽기 볼에 담아준다. 2. 강력분에 홈을 세 개 파고 소금 5g, 생 이스트 14g, 설탕 30g을 넣은 뒤 잘 섞는다. (소금과 이스트가 닿으면 발효가 안 되기 때문에 주의할 것) 3. 그 위에 달걀을 넣고, 생크림 150ml 부은 뒤 반죽기를 돌린다. 4. 1-2분 뒤 실온에 둔 버터를 넣어주고 20분 가량 반죽기를 돌린다. 5. 반죽을 꺼내 동그랗게 말아서 볼에 담은 뒤 랩을 덮어 40도 가량 습도가 높은 곳에서 460분 정도 발효시킨다. 6. 발효가 끝나면 반죽을 꺼내서 가스를 빼준다. 7. 90g씩 떼어 둥글린 후, 랩을 씌워 실온에 1015분 정도 중간 발효를 시켜준다. 8. 발효가 끝나면, 랩을 제거하고 반죽을 살짝 눌러 가스를 빼준다. 9. 밀대로 살짝 밀어 반죽을 편 후, 젓가락으로 훠이텅 40g을 넣고 만두처럼 끝을 꼬집어 마무리한다. 주름진 부분을 밑으로 가게 해서 오븐 팬에 올려준다. 10. 팬에 올린 상태로 랩을 덮어 30분 정도 2차 발효를 한다. 11. 오븐에 180도에서 20분 구워준다 12. 오븐에서 꺼낸 뒤, 녹인 버터를 발라주면 완성'),\n",
       " Document(metadata={'id': 198926, 'img': 'https://recipe1.ezmember.co.kr/cache/recipe/2016/01/19/86fecc262a430c0e27d1489129291a2d1.jpg', 'views': '12,530', 'video': '', 'category': '일상', 'date': '2016-01-17'}, page_content='실치볶음 ||| 실치, 땅콩, 마늘, [양념] 간장, 올리고당, 설탕, 맛술, 통깨 ||| 땅콩이 너무 맛이 없는 걸 사와서 줄어들지 않고 있어요. 팬에 한번 볶아서 고소함을 업시킨 후에 넣었어요. 실치가 너무 작은 양밖에 안 남아서 개량 없이 눈대중으로 넣었어요. 간장, 맛술, 올리고당, 마늘 넣고 부글부글 끓여 주세요. 실치랑 땅콩을 넣어 주세요. 실. 치도 한번 볶아서 넣어야 하는데 깜박 했다지요. 잠시 저어 주세요. 바삭하라고 설탕도 넣었구요. 통깨도 솔솔 뿌려줬어요. 접시에 담아 주면 끝. ||| 일상 ||| 2인분 30분 이내 초급 ||| 냉동실에 남아 있는 실치를 꺼내 땅콩과 함께 휘리릭 볶은 실치볶음입니다 땅콩이 들어가 더욱 고소하고 달콤해요 마땅한 밑반찬이 없을 때 간단하게 만들어 먹을 수 있는 칼슘듬뿍 실치반찬이예요'),\n",
       " Document(id='a53a3848-338a-4820-a28d-6c8a674cab84', metadata={'id': 925, 'img': '', 'video': 'https://naver.me/GoD0kb9p', 'ingredients_list': \"['토마토 소스', '참치 통조림', '건자두', '레드 와인', '달걀', '햄 통조림', '옥수수 수프 분말', '데친 브로콜리', '버터', '양파', '즉석밥', '레드 와인', '설탕', '밀가루', '빵가루', '파르메산 치즈', '후추']\"}, page_content=\"박준우 '그.레.요 (그대를 위한 레토르트 요리)' ||| 토마토 소스,    참치 통조림,    건자두,    레드 와인,    달걀,    햄 통조림,    옥수수 수프 분말,   데친 브로콜리,    버터,    양파,    즉석밥,    레드 와인,    설탕,    밀가루,    빵가루,    파르메산 치즈,    후추 |||   1. 버터를 두른 팬에 양파를 볶는다.  2. 볶던 양파에 즉석밥, 토마토 소스를 넣고 함께 볶는다.  3. 2에 기름을 뺀 참치, 파르메산 치즈를 넣고 볶는다.  4. 버터를 두른 냄비에 건자두를 볶다가 레드 와인, 설탕을 넣어 졸인다.  5. 햄을 으깬 후 달걀, 밀가루와 섞는다.  6. 햄 반죽 안에 참치를 넣어 동그랗게 빚는다.  7. 6에 밀가루>달걀물>빵가루 순으로 튀김옷을 입혀 튀긴다.  8. 물에 옥수수 수프 분말을 넣고 끓이다 파르메산 치즈, 후추를 넣어 소스를 만든다.  9. 토마토 리소토 위에 옥수수 수프 소스를 뿌린다.  10. 9에 햄 튀김을 올리고 건자두, 데친 브로콜리를 올려 완성한다.\"),\n",
       " Document(metadata={'id': 31, 'img': 'https://pbbsres.kbs.co.kr/t2019-0286-04-296340/2020/03/13/717552_3단컵밥.png', 'video': ''}, page_content='정일우 - 3단 컵밥 레시피 ||| [1단(닭조림) 요리 재료] 식용유 약간, 닭가슴살 100g, 대파 흰대 1개, 생강 1개, 양조간장 3T, 맛간장 1T, 맛술 1T, 물엿 1T [2단(콜리플라워) 요리 재료] 콜리플라워 200g, 식용유 약간, 소금 약간, 백후추 약간 [3단(스크램블) 요리 재료] 달걀 3개, 생크림 75ml, 버터 10g, 설탕 1T, 파슬리(가니쉬용) [조리 도구] 팬, 컵밥 담을 컵 ||| [1단(닭조림) 조리 방법] 1. 닭가슴살을 1cm 정도의 적당한 크기로 썰어준 후, 후추와 소금으로 간을 하여 식용유를 두른 팬에 볶는다. 2. 대파(흰 부분)도 1cm 정도의 적당한 크기로 썰어 같이 넣어 볶아 파 향을 내준다. 3. 어느 정도 노릇하게 익으면 잠시 닭고기를 빼서 접시에 옮겨 담고, 팬에 양조간장 3T, 맛간장 1T, 맛술 1T 넣어 소스를 만든다. 4. 소스를 살짝 끓이다가 빼두었던 닭고기를 넣고, 손가락만한 생강 한 조각을 넣어 같이 졸여준다. 5. 어느 정도 졸아들면 생강은 빼고, 물엿 1T를 넣고 센 불에 더 졸여준다. [2단(콜리플라워) 조리 방법] 1. 콜리플라워를 쌀알처럼 잘게 썰어준다. 2. 팬에 식용유를 코팅하듯 아주 소량만 둘러주고, 콜리플라워를 넣어 소금과 백후추로 간을 한다. (기호에 따라 간 조절) 3. 중약불에서 12분 수분이 날아갈 정도만 살짝 볶아준다. [3단(스크램블) 조리 방법] 1. 달걀 2개를 풀어준 후 생크림을 넣어 열심히 저어 섞어준 후, 설탕 1T를 넣어 달콤함을 더한다. 2. 팬에 버터를 녹인 후 1.번의 생크림 섞은 달걀물을 붓고, 중약불에서 가장자리부터 저어 조심조심 익혀주면 폭신폭신한 스크램블 완성 컵에 아래서부터 1단(닭고기조림)-2단(볶은 콜리플라워)-3단(부드러운 스크램블)의 순서로 쌓아준 후, 달걀노른자만 분리하여 맨 위에 올려주고 파슬리를 뿌려 데코해주면 완성'),\n",
       " Document(id='5d5ae1ab-489e-44ce-a4b7-8b9752e5c2e0', metadata={'id': 1692, 'img': 'https://pbbsres.kbs.co.kr/t2019-0286-04-296340/2024/08/23/2729128_6.png', 'video': 'https://www.youtube.com/watch?v=iFqp86-Z3W0&pp=ygVB7KeE7ISc7JewIC0gJ-uVhey9qeuyhO2EsCDslYTsnbTsiqTtgazrprwnIOugiOyLnO2UvCDtjrjsiqTthqDrnpE%3D'}, page_content=\"진서연 - '땅콩버터 아이스크림' 레시피 ||| 바나나 3개, 땅콩버터 듬뿍 4T, 알룰로스 1T, 우유 100ml ||| 1. 바나나 3개, 땅콩버터 듬뿍 4T, 알룰로스 1T, 우유 100ml를 넣고 믹서기에 갈아준다. 2. 냉동 용기에 1.을 붓고 냉동고에 3시간 이상 얼려주면 완성\"),\n",
       " Document(metadata={'id': 12929, 'img': 'https://recipe1.ezmember.co.kr/cache/recipe/2020/12/12/e8c926514ccd9129c57c1d4e78b45ad81.jpg', 'views': '2,994', 'video': '', 'category': '일상', 'date': '2020-12-12'}, page_content='땅콩조림 ||| 생땅콩-500g, [양념] 물-200ml, 간장-5큰술, 물엿-2큰술, 설탕-1큰술, 통깨, 적당량 ||| 생 땅콩을 물에 한번 깨끗하게 씻어 줍니다. 냄비에 땅콩을 넣고 땅콩이 잠길 만큼 물을 부어 주고 삶아 줍니다. 땅콩을 한 번 삶은 다음 물을 버리고 다시 새로 물을 간 다음 한번 더 삶아 땅콩껍질의 떫은맛을 제거해 줍니다. 땅콩이 어느 정도 삶아지면 삶은 물은 버리고 간장 5큰술, 물 200ml를 부어 조려 줍니다. 땅콩이 갈색이 되도록 조려지면 물엿 2큰술, 설탕 1큰술을 넣고 국물 없이 조려 줍니다. 땅콩이 거의 조려지면 불을 끄고 통깨를 뿌려 마무리합니다. ||| 일상 ||| 4인분 30분 이내 초급 ||| 고소한 맛이 특징인 땅콩은 고지방 고단백 건강식품입니다 불포화 지방산을 많이 함유하여 콜레스테롤을 감소시켜 주고 동맥경화 예방에 도움을 줍니다 땅콩은 주로 볶아 간식이나 안주로 많이 즐겨 먹지만 생땅콩을 삶아 조려 고소하고 맛있는 밑반찬이 됩니다'),\n",
       " Document(id='0775a69c-3b26-4cee-9fb4-ae77e20cba11', metadata={'id': 14889, 'img': 'https://recipe1.ezmember.co.kr/cache/recipe/2020/10/19/03fc99bb02f780fdbfbe56ebeeb44dcc1.jpg', 'views': '678', 'video': '', 'category': '일상', 'date': '2020-10-19'}, page_content='손쉽게 땅콩 굽는 방법 소개해 드려요 ||| 땅콩-3컵 ||| 에어프라이어 요리 땅콩 굽는 법을 알려 드릴께요. 우선 땅콩은 겉껍질을 제거하고 불순물이나 껍질 조각을 골라 내 주세요. 다 구운 다음에 껍질을 까서 둘 거라서 세척은 따로 하지 않았어요. 그다음에 어메이드 아이쿡에 종이호일을 한 장 깔고 땅콩을 올려놓아 주세요. 그리고 에어프라이어에 10분 돌릴껀데요 우선 180동 5분을 돌려 주시구요. 그럼 간단하게 에어프라이기 땅콩 굽는법 완성이네요. 요렇게 에어프라이어 요리 땅콩굽기가 완성 꺼내서 약간 식혔다가 껍질을 벗기면 되는데요 그럼 요렇게 쏙쏙 잘 벗겨진답니다. ||| 일상 ||| 3인분 5분 이내 아무나 ||| 이제 서서 볶지 않아도 에어프라이어로 간단하게 땅콩 구울 수 있어요')]"
      ]
     },
     "execution_count": 37,
     "metadata": {},
     "output_type": "execute_result"
    }
   ],
   "source": [
    "version4().invoke(\"땅콩이 안 들어간 요리\")"
   ]
  },
  {
   "cell_type": "code",
   "execution_count": 17,
   "metadata": {},
   "outputs": [
    {
     "data": {
      "text/plain": [
       "[Document(metadata={'id': 198926, 'img': 'https://recipe1.ezmember.co.kr/cache/recipe/2016/01/19/86fecc262a430c0e27d1489129291a2d1.jpg', 'views': '12,530', 'video': '', 'category': '일상', 'date': '2016-01-17'}, page_content='실치볶음 ||| 실치, 땅콩, 마늘, [양념] 간장, 올리고당, 설탕, 맛술, 통깨 ||| 땅콩이 너무 맛이 없는 걸 사와서 줄어들지 않고 있어요. 팬에 한번 볶아서 고소함을 업시킨 후에 넣었어요. 실치가 너무 작은 양밖에 안 남아서 개량 없이 눈대중으로 넣었어요. 간장, 맛술, 올리고당, 마늘 넣고 부글부글 끓여 주세요. 실치랑 땅콩을 넣어 주세요. 실. 치도 한번 볶아서 넣어야 하는데 깜박 했다지요. 잠시 저어 주세요. 바삭하라고 설탕도 넣었구요. 통깨도 솔솔 뿌려줬어요. 접시에 담아 주면 끝. ||| 일상 ||| 2인분 30분 이내 초급 ||| 냉동실에 남아 있는 실치를 꺼내 땅콩과 함께 휘리릭 볶은 실치볶음입니다 땅콩이 들어가 더욱 고소하고 달콤해요 마땅한 밑반찬이 없을 때 간단하게 만들어 먹을 수 있는 칼슘듬뿍 실치반찬이예요'),\n",
       " Document(metadata={'id': 12929, 'img': 'https://recipe1.ezmember.co.kr/cache/recipe/2020/12/12/e8c926514ccd9129c57c1d4e78b45ad81.jpg', 'views': '2,994', 'video': '', 'category': '일상', 'date': '2020-12-12'}, page_content='땅콩조림 ||| 생땅콩-500g, [양념] 물-200ml, 간장-5큰술, 물엿-2큰술, 설탕-1큰술, 통깨, 적당량 ||| 생 땅콩을 물에 한번 깨끗하게 씻어 줍니다. 냄비에 땅콩을 넣고 땅콩이 잠길 만큼 물을 부어 주고 삶아 줍니다. 땅콩을 한 번 삶은 다음 물을 버리고 다시 새로 물을 간 다음 한번 더 삶아 땅콩껍질의 떫은맛을 제거해 줍니다. 땅콩이 어느 정도 삶아지면 삶은 물은 버리고 간장 5큰술, 물 200ml를 부어 조려 줍니다. 땅콩이 갈색이 되도록 조려지면 물엿 2큰술, 설탕 1큰술을 넣고 국물 없이 조려 줍니다. 땅콩이 거의 조려지면 불을 끄고 통깨를 뿌려 마무리합니다. ||| 일상 ||| 4인분 30분 이내 초급 ||| 고소한 맛이 특징인 땅콩은 고지방 고단백 건강식품입니다 불포화 지방산을 많이 함유하여 콜레스테롤을 감소시켜 주고 동맥경화 예방에 도움을 줍니다 땅콩은 주로 볶아 간식이나 안주로 많이 즐겨 먹지만 생땅콩을 삶아 조려 고소하고 맛있는 밑반찬이 됩니다'),\n",
       " Document(id='3dfd15fe-2025-4905-ab06-5b0a2d16bd7a', metadata={'id': 178635, 'img': 'https://recipe1.ezmember.co.kr/cache/recipe/2022/01/14/5be381548f73ca6eaa50067fc1ffc10e1.jpg', 'views': '2,005', 'video': '', 'category': '일상', 'date': '2022-01-14'}, page_content='땅콩 호박 요리찜 ||| 모차렐라치즈-1주먹, 양파-1/2개, 청경채-1개, 맛살-1개, 버섯, 옥수수콘-1. 5큰술, 버터-1T, 소금-1꼬집, 후추-1꼬집 ||| 땅콩호박은 단맛이 강하고 섬유질이 풍부하며 칼로리도 낮아서 다이어트 식품으로 좋습니다 고구마나 버터 맛을 느낄 수 있다고 하네용. 재료를 모두 준비해 주시고 야채나 고기를 더 추가하셔도 좋습니당. 옥수수콘 모차렐라 제외하고 나머지는 다 바꾸셔도 좋아요. 호박은 20~30분 정도 쪄서 속을 다 파내 주세요. 야채는 버터를 두르고 소금과 후추로 간을 해 주신 뒤 볶아 주세요. 속을 파내시고 내부를 꽉 채워 주세요. 모차랄라 치즈를 위에 올려주세요 듬뿍 여기서 좀 더 달달하게 드시고 싶으면 꿀을 한 바퀴 돌려주셔도 좋습니다. 에어프라라이기에 200도로 10분 정도 돌려줬어요 에어프라이기가 없다면 전자레인지에 5분 정도 돌려주시면 될 것 같습니다. 짠 이렇게 반을 가르면 속이 꽉 차 있는 땅콩호박찜 완성. ||| 일상 ||| 2인분 30분 이내 아무나 ||| 땅콩호박 속을 파서 이색적인 요리를 해 봤습니다 건강에도 좋으니까 꼭 드셔 보세요')]"
      ]
     },
     "execution_count": 17,
     "metadata": {},
     "output_type": "execute_result"
    }
   ],
   "source": [
    "version5().invoke(\"땅콩이 안 들어간 요리\")"
   ]
  },
  {
   "cell_type": "code",
   "execution_count": 38,
   "metadata": {},
   "outputs": [
    {
     "data": {
      "text/plain": [
       "[Document(metadata={'id': 602, 'img': 'https://pbbsres.kbs.co.kr/t2019-0286-04-296340/2021/12/24/1509632_batch_치즈퐁듀.png', 'video': 'https://www.youtube.com/watch?v=x-LsihjKhMo&pp=ygUy66WY7IiY7JiBIC0gJ-y5mOymiCDtkIHrkqQnIOugiOyLnO2UvCDtjrjsiqTthqDrnpE%3D'}, page_content=\"류수영 - '치즈 퐁뒤' 레시피 ||| 브로콜리 1개, 양송이 4개, 감자 3개, 소시지 4개, 빵 1개, 생마늘 2개, 화이트와인 100ml, 감자전분 1T 그뤼에르치즈 200g, 에멘탈치즈 100g ||| 찍어 먹을 재료준비 1. 브로콜리 1개를 깨끗이 씻은 후 팔팔 끓는 물에 거꾸로 넣어 돌려가며 데쳐준다. 2. 끓는 물에 양송이 4개를 넣고 3분간 데쳐준다. 3. 끓는 물에 감자 3개를 넣고 20분간 삶아준다. 4. 끓는 물에 소시지 4개를 넣고 5분간 삶아준다. 5. 데쳐준 브로콜리, 양송이, 감자, 소시지를 한 입 크기로 잘라 준비한다. 6. 빵도 한입크기에 맞게 잘라준다. 한 냄비에 양송이, 감자, 소시지 데쳐서 준비하시면 됩니다 빵은 버터가 안 들어간 식사빵이 잘 어울립니다 1. 불을 켜지 않은 상태에서 뚝배기 안을 생마늘로 문질러준다. 뚝배기 안을 마늘로 문질러 향을 입혀주는 것이 좋습니다 2. 1의 문지른 마늘 2개를 으깨서 뚝배기에 넣어준다. 3. 화이트와인 100ml와, 감자전분 1T를 넣고 잘 풀어준다. 와인과 치즈의 유화를 위해 넣어주는 것이 좋습니다 뜨거운 물에 풀게 되면 굳어버리기 때문에 불을 켜지 않고 하는 것이 좋습니다 4. 전분이 다 풀어지면 불을 켜고 그뤼에르치즈 200g, 에멘탈치즈 100g을 강판에 갈아 넣어준다. 치즈를 통으로 넣으면 잘 안 익기 때문에 가위나 강판에 갈아 넣어주는 것이 좋습니다 치즈의 비율은 취향에 따라 조절해주셔도 됩니다 꼬릿꼬릿한 치즈냄새가 많이 날 수 있어요 놀라지 마세요 5. 치즈가 골고루 섞이도록 젓가락으로 풀어준다. 6. 최약불로 줄이고 치즈를 계속 끓여가며 0의 재료들을 찍어 먹으면 치즈 퐁뒤 완성. 치즈퐁뒤를 다 드시고 난 뒤 바닥에 눌어붙은 누룽지를 떼어 드셔도 좋습니다\"),\n",
       " Document(metadata={'id': 191936, 'img': 'https://recipe1.ezmember.co.kr/cache/recipe/2016/10/25/aa478c667c991137b7be575f398409bf1.jpg', 'views': '18,257', 'video': '', 'category': '일상', 'date': '2016-10-25'}, page_content='땅콩조림 자꾸만 먹게 되는 반찬 고소해 ||| 생땅콩-2. 5컵, 간장-5큰술, 참치액-1큰술, 올리고당-2큰술, 설탕-1. 5컵, 물-2. 5컵, 통깨, 약간 ||| 땅콩이 잠길 만큼 물을 넣고 생땅콩을 데쳐줍니다 물이 바글바글 끓어오르면 불을 꺼 주세요 1~2분 정도 이 과정을 거쳐야지 떨음맛이 안 나요. 데친 땅콩은 찬물에 3~4번 씻어 줍니다. 냄비에 땅콩을 넣고 물 2. 5컵을 넣어 주고 뚜껑을 덮고 땅콩이 익을 때가지 푸욱 삶아 주세요. 중간에 땅콩을 건져 맛을 보심되요. 뚜껑을 덮고 삶아야지 물이 많이 졸아들지 않아요. 땅콩이 익으면 간장 5, 참치액 1, 설탕 1. 5를 넣어 주세요. 땅콩에 맛이 배도록 조려 주세요. 국물이 자작자작하게 남아 있음 올리고 당2를 넣고 마져 조려 주세요. 마지막에 올리고 당을 넣으면 땅콩을 조려 놓았을 때 윤기가 난답니다. (땅콩도 콩처럼 오랫동안 조려야지 맛있답니다). 국물이 없어지면 마지막에 통깨 넣어 마무리. ||| 일상 ||| 3인분 30분 이내 아무나 ||| 땅콩조림 만들어 볼까요'),\n",
       " Document(id='aa9af9bc-8b38-4f6d-9550-1e58d98549a7', metadata={'id': 916, 'img': '', 'video': 'https://www.youtube.com/watch?v=xJ5O8jZa2xY&pp=ygUc7J207JuQ7J28ICftlZzsi50g67iM65-w7LCcJw%3D%3D', 'ingredients_list': \"['솔잎', '굴비채', '눈개승마', '아가베 시럽', '유자청', '된장', '요리술', '즉석밥', '소금', '다진 마늘', '다진 파', '고춧가루', '깨', '참기름', '양조간장']\"}, page_content=\"이원일 '한식 브런찜' ||| 솔잎,    굴비채,    눈개승마,    아가베 시럽,    유자청,    된장,    요리술,    즉석밥,    소금,   다진 마늘,    다진 파,    고춧가루,    깨,    참기름,    양조간장 |||   1. 끓는 물에 된장을 풀고 요리술을 넣어 끓인다.  2. 찜기에 솔잎을 올리고 굴비채를 찐다.  3. 즉석밥을 전자레인지에 넣고 익힌다.  4. 끓는 물에 소금을 넣고 눈개승마를 데친다.  5. 데친 눈개승마를 차가운 물에 담가 놓는다.  6. 다진 마늘, 다진 파, 된장, 아가베 시럽을 섞는다.  7. 6에 고춧가루, 깨를 갈아 넣어 나물 양념을 만든다.  8. 물기를 뺀 눈개승마에 나물 양념과 참기름을 넣고 무친다.  9. 접시에 밥과 나물을 올린다.  10. 대파, 양조간장, 유자청, 아가베 시럽, 물을 섞어 굴비채 양념을 만든다.  11. 찐 굴비채를 접시에 담고 굴비채 양념을 올려 완성한다.\"),\n",
       " Document(id='6ace3765-28ce-4a18-970b-22c0cd0e0a2f', metadata={'id': 1627, 'img': 'https://pbbsres.kbs.co.kr/t2019-0286-04-296340/2024/06/14/2672290_batch_땅콩빵.png', 'video': 'https://www.youtube.com/watch?v=2b1YDCkJsTQ&pp=ygUu7J207KCV7ZiEIC0gJ-uVhey9qeu5tScg66CI7Iuc7ZS8IO2OuOyKpO2GoOuekQ%3D%3D'}, page_content=\"이정현 - '땅콩빵' 레시피 ||| 볶은 땅콩 2컵(180g), 버터 2조각(20g), 달걀 3개, 꿀 3T, 소금 한 꼬집 ||| 1. 믹서기에 볶은 땅콩 2컵(180g), 버터 2조각(20g), 달걀 3개, 꿀 3T, 소금 한 꼬집을 넣고 갈아준다. (꼭 볶은 땅콩을 사용해주세요 빵의 식감을 위해 땅콩을 너무 곱게 갈지 말아주세요) 2. 내열 용기 안쪽에 오일이나 버터로 코팅을 한 뒤 반죽을 빈 공간이 없이 꾹꾹 눌러 담아준다. 3. 전자레인지에 6분 돌려주고 살짝 식힌 뒤 뒤집어 주면 완성 (전자레인지 출력 양에 따라 시간을 조절해 주세요 젓가락으로 찔렀을 때 반죽이 묻어나지 않으면 다 익은 상태입니다)\"),\n",
       " Document(id='3dfd15fe-2025-4905-ab06-5b0a2d16bd7a', metadata={'id': 178635, 'img': 'https://recipe1.ezmember.co.kr/cache/recipe/2022/01/14/5be381548f73ca6eaa50067fc1ffc10e1.jpg', 'views': '2,005', 'video': '', 'category': '일상', 'date': '2022-01-14'}, page_content='땅콩 호박 요리찜 ||| 모차렐라치즈-1주먹, 양파-1/2개, 청경채-1개, 맛살-1개, 버섯, 옥수수콘-1. 5큰술, 버터-1T, 소금-1꼬집, 후추-1꼬집 ||| 땅콩호박은 단맛이 강하고 섬유질이 풍부하며 칼로리도 낮아서 다이어트 식품으로 좋습니다 고구마나 버터 맛을 느낄 수 있다고 하네용. 재료를 모두 준비해 주시고 야채나 고기를 더 추가하셔도 좋습니당. 옥수수콘 모차렐라 제외하고 나머지는 다 바꾸셔도 좋아요. 호박은 20~30분 정도 쪄서 속을 다 파내 주세요. 야채는 버터를 두르고 소금과 후추로 간을 해 주신 뒤 볶아 주세요. 속을 파내시고 내부를 꽉 채워 주세요. 모차랄라 치즈를 위에 올려주세요 듬뿍 여기서 좀 더 달달하게 드시고 싶으면 꿀을 한 바퀴 돌려주셔도 좋습니다. 에어프라라이기에 200도로 10분 정도 돌려줬어요 에어프라이기가 없다면 전자레인지에 5분 정도 돌려주시면 될 것 같습니다. 짠 이렇게 반을 가르면 속이 꽉 차 있는 땅콩호박찜 완성. ||| 일상 ||| 2인분 30분 이내 아무나 ||| 땅콩호박 속을 파서 이색적인 요리를 해 봤습니다 건강에도 좋으니까 꼭 드셔 보세요'),\n",
       " Document(metadata={'id': 27, 'img': 'https://pbbsres.kbs.co.kr/t2019-0286-04-296340/2020/03/06/708722_꼬꼬빵(완).png', 'video': 'https://www.youtube.com/watch?v=0oxbDFBiayo&pp=ygUs7J206rK96recIC0g6rys6rys67m1IOugiOyLnO2UvCDtjrjsiqTthqDrnpE%3D'}, page_content='이경규 - 꼬꼬빵 레시피 ||| (6개 기준) [훠이텅 요리 재료] 설탕 400g, 물 500ml, 달걀노른자 6개, 바닐라 빈 1개 [빵 요리 재료] 생 이스트 14g, 생크림 150ml, 실온에 둔 무염버터 50g, 달걀 1개, 소금 5g, 설탕 30g, 강력분 300g ||| [훠이텅 조리 방법] 1. 달걀노른자 6개를 체에 부어 달걀 힘줄 부분을 제거한다. 2. 500ml 물, 400g 설탕, 1개의 바닐라 빈을 냄비에 넣고 가열한다. 이때 설탕이 물에 녹을 때까지 중불로 가열하고, 적당히 저어 준다. 3. 설탕이 물에 완전히 용해되고 시럽이 버블링되면 바닐라 빈을 제거한다. 4. 체에 여과해놓은 달걀노른자를 짤 주머니를 채워 넣는다. (짤 주머니 끝을 1mm정도 자르고, 달걀노른자가 얇게 통과할 수 있도록 만든다) 5. 끓는 시럽 물에 깔때기로 원을 그리며 달걀노른자를 통과 시킨다 6. 1분 뒤, 시럽 물에서 조심스럽게 훠이텅을 건져내어 접시에 펼쳐 보관한다 (체에 걸러 최대한 설탕 물기를 제거할 것) 7. 완성된 훠이텅을 넣기 좋게 가위로 상하, 좌우 한 번씩 잘라 준다 [꼬꼬빵 조리 방법] 1. 강력분을 반죽기 볼에 담아준다. 2. 강력분에 홈을 세 개 파고 소금 5g, 생 이스트 14g, 설탕 30g을 넣은 뒤 잘 섞는다. (소금과 이스트가 닿으면 발효가 안 되기 때문에 주의할 것) 3. 그 위에 달걀을 넣고, 생크림 150ml 부은 뒤 반죽기를 돌린다. 4. 1-2분 뒤 실온에 둔 버터를 넣어주고 20분 가량 반죽기를 돌린다. 5. 반죽을 꺼내 동그랗게 말아서 볼에 담은 뒤 랩을 덮어 40도 가량 습도가 높은 곳에서 460분 정도 발효시킨다. 6. 발효가 끝나면 반죽을 꺼내서 가스를 빼준다. 7. 90g씩 떼어 둥글린 후, 랩을 씌워 실온에 1015분 정도 중간 발효를 시켜준다. 8. 발효가 끝나면, 랩을 제거하고 반죽을 살짝 눌러 가스를 빼준다. 9. 밀대로 살짝 밀어 반죽을 편 후, 젓가락으로 훠이텅 40g을 넣고 만두처럼 끝을 꼬집어 마무리한다. 주름진 부분을 밑으로 가게 해서 오븐 팬에 올려준다. 10. 팬에 올린 상태로 랩을 덮어 30분 정도 2차 발효를 한다. 11. 오븐에 180도에서 20분 구워준다 12. 오븐에서 꺼낸 뒤, 녹인 버터를 발라주면 완성'),\n",
       " Document(metadata={'id': 198926, 'img': 'https://recipe1.ezmember.co.kr/cache/recipe/2016/01/19/86fecc262a430c0e27d1489129291a2d1.jpg', 'views': '12,530', 'video': '', 'category': '일상', 'date': '2016-01-17'}, page_content='실치볶음 ||| 실치, 땅콩, 마늘, [양념] 간장, 올리고당, 설탕, 맛술, 통깨 ||| 땅콩이 너무 맛이 없는 걸 사와서 줄어들지 않고 있어요. 팬에 한번 볶아서 고소함을 업시킨 후에 넣었어요. 실치가 너무 작은 양밖에 안 남아서 개량 없이 눈대중으로 넣었어요. 간장, 맛술, 올리고당, 마늘 넣고 부글부글 끓여 주세요. 실치랑 땅콩을 넣어 주세요. 실. 치도 한번 볶아서 넣어야 하는데 깜박 했다지요. 잠시 저어 주세요. 바삭하라고 설탕도 넣었구요. 통깨도 솔솔 뿌려줬어요. 접시에 담아 주면 끝. ||| 일상 ||| 2인분 30분 이내 초급 ||| 냉동실에 남아 있는 실치를 꺼내 땅콩과 함께 휘리릭 볶은 실치볶음입니다 땅콩이 들어가 더욱 고소하고 달콤해요 마땅한 밑반찬이 없을 때 간단하게 만들어 먹을 수 있는 칼슘듬뿍 실치반찬이예요'),\n",
       " Document(id='087c91d4-450c-4b2e-a8f4-c37a942e0ea4', metadata={'id': 988, 'img': '', 'video': 'https://www.youtube.com/watch?v=69fYvO_td0Q&pp=ygUY66-47Lm07JeYICftjIzti7DruYTtlIQn', 'ingredients_list': \"['즉석밥', '등심 1장', '느타리버섯', '양송이 버섯', '양상추', '양파 반 개', '총각김치', '쌈장 2TS', '생크림 한 컵']\"}, page_content=\"미카엘 '파티비프' ||| 즉석밥,    등심 1장,    느타리버섯,    양송이 버섯,    양상추,    양파 반 개,    총각김치,    쌈장 2TS,    생크림 한 컵 |||   1. 청고추에 칼집을 내고 그릴팬에 굽는다.  2. 고기와 양파는 채썰고 양송이 버섯도 편으로 썰어 팬에 볶는다.  3. 2에 고기에 쌈장과 생크림을 넣고 볶는다.  4. 3에 다진 총각김치를 넣고 후추를 뿌린다.  5. 접시에 밥을 놓고 주위에 볶은 고기를 얹는다.  6. 중앙에 총각김치를 올린다.\"),\n",
       " Document(metadata={'id': 31, 'img': 'https://pbbsres.kbs.co.kr/t2019-0286-04-296340/2020/03/13/717552_3단컵밥.png', 'video': ''}, page_content='정일우 - 3단 컵밥 레시피 ||| [1단(닭조림) 요리 재료] 식용유 약간, 닭가슴살 100g, 대파 흰대 1개, 생강 1개, 양조간장 3T, 맛간장 1T, 맛술 1T, 물엿 1T [2단(콜리플라워) 요리 재료] 콜리플라워 200g, 식용유 약간, 소금 약간, 백후추 약간 [3단(스크램블) 요리 재료] 달걀 3개, 생크림 75ml, 버터 10g, 설탕 1T, 파슬리(가니쉬용) [조리 도구] 팬, 컵밥 담을 컵 ||| [1단(닭조림) 조리 방법] 1. 닭가슴살을 1cm 정도의 적당한 크기로 썰어준 후, 후추와 소금으로 간을 하여 식용유를 두른 팬에 볶는다. 2. 대파(흰 부분)도 1cm 정도의 적당한 크기로 썰어 같이 넣어 볶아 파 향을 내준다. 3. 어느 정도 노릇하게 익으면 잠시 닭고기를 빼서 접시에 옮겨 담고, 팬에 양조간장 3T, 맛간장 1T, 맛술 1T 넣어 소스를 만든다. 4. 소스를 살짝 끓이다가 빼두었던 닭고기를 넣고, 손가락만한 생강 한 조각을 넣어 같이 졸여준다. 5. 어느 정도 졸아들면 생강은 빼고, 물엿 1T를 넣고 센 불에 더 졸여준다. [2단(콜리플라워) 조리 방법] 1. 콜리플라워를 쌀알처럼 잘게 썰어준다. 2. 팬에 식용유를 코팅하듯 아주 소량만 둘러주고, 콜리플라워를 넣어 소금과 백후추로 간을 한다. (기호에 따라 간 조절) 3. 중약불에서 12분 수분이 날아갈 정도만 살짝 볶아준다. [3단(스크램블) 조리 방법] 1. 달걀 2개를 풀어준 후 생크림을 넣어 열심히 저어 섞어준 후, 설탕 1T를 넣어 달콤함을 더한다. 2. 팬에 버터를 녹인 후 1.번의 생크림 섞은 달걀물을 붓고, 중약불에서 가장자리부터 저어 조심조심 익혀주면 폭신폭신한 스크램블 완성 컵에 아래서부터 1단(닭고기조림)-2단(볶은 콜리플라워)-3단(부드러운 스크램블)의 순서로 쌓아준 후, 달걀노른자만 분리하여 맨 위에 올려주고 파슬리를 뿌려 데코해주면 완성'),\n",
       " Document(metadata={'id': 12929, 'img': 'https://recipe1.ezmember.co.kr/cache/recipe/2020/12/12/e8c926514ccd9129c57c1d4e78b45ad81.jpg', 'views': '2,994', 'video': '', 'category': '일상', 'date': '2020-12-12'}, page_content='땅콩조림 ||| 생땅콩-500g, [양념] 물-200ml, 간장-5큰술, 물엿-2큰술, 설탕-1큰술, 통깨, 적당량 ||| 생 땅콩을 물에 한번 깨끗하게 씻어 줍니다. 냄비에 땅콩을 넣고 땅콩이 잠길 만큼 물을 부어 주고 삶아 줍니다. 땅콩을 한 번 삶은 다음 물을 버리고 다시 새로 물을 간 다음 한번 더 삶아 땅콩껍질의 떫은맛을 제거해 줍니다. 땅콩이 어느 정도 삶아지면 삶은 물은 버리고 간장 5큰술, 물 200ml를 부어 조려 줍니다. 땅콩이 갈색이 되도록 조려지면 물엿 2큰술, 설탕 1큰술을 넣고 국물 없이 조려 줍니다. 땅콩이 거의 조려지면 불을 끄고 통깨를 뿌려 마무리합니다. ||| 일상 ||| 4인분 30분 이내 초급 ||| 고소한 맛이 특징인 땅콩은 고지방 고단백 건강식품입니다 불포화 지방산을 많이 함유하여 콜레스테롤을 감소시켜 주고 동맥경화 예방에 도움을 줍니다 땅콩은 주로 볶아 간식이나 안주로 많이 즐겨 먹지만 생땅콩을 삶아 조려 고소하고 맛있는 밑반찬이 됩니다'),\n",
       " Document(id='a53a3848-338a-4820-a28d-6c8a674cab84', metadata={'id': 925, 'img': '', 'video': 'https://naver.me/GoD0kb9p', 'ingredients_list': \"['토마토 소스', '참치 통조림', '건자두', '레드 와인', '달걀', '햄 통조림', '옥수수 수프 분말', '데친 브로콜리', '버터', '양파', '즉석밥', '레드 와인', '설탕', '밀가루', '빵가루', '파르메산 치즈', '후추']\"}, page_content=\"박준우 '그.레.요 (그대를 위한 레토르트 요리)' ||| 토마토 소스,    참치 통조림,    건자두,    레드 와인,    달걀,    햄 통조림,    옥수수 수프 분말,   데친 브로콜리,    버터,    양파,    즉석밥,    레드 와인,    설탕,    밀가루,    빵가루,    파르메산 치즈,    후추 |||   1. 버터를 두른 팬에 양파를 볶는다.  2. 볶던 양파에 즉석밥, 토마토 소스를 넣고 함께 볶는다.  3. 2에 기름을 뺀 참치, 파르메산 치즈를 넣고 볶는다.  4. 버터를 두른 냄비에 건자두를 볶다가 레드 와인, 설탕을 넣어 졸인다.  5. 햄을 으깬 후 달걀, 밀가루와 섞는다.  6. 햄 반죽 안에 참치를 넣어 동그랗게 빚는다.  7. 6에 밀가루>달걀물>빵가루 순으로 튀김옷을 입혀 튀긴다.  8. 물에 옥수수 수프 분말을 넣고 끓이다 파르메산 치즈, 후추를 넣어 소스를 만든다.  9. 토마토 리소토 위에 옥수수 수프 소스를 뿌린다.  10. 9에 햄 튀김을 올리고 건자두, 데친 브로콜리를 올려 완성한다.\"),\n",
       " Document(id='5d5ae1ab-489e-44ce-a4b7-8b9752e5c2e0', metadata={'id': 1692, 'img': 'https://pbbsres.kbs.co.kr/t2019-0286-04-296340/2024/08/23/2729128_6.png', 'video': 'https://www.youtube.com/watch?v=iFqp86-Z3W0&pp=ygVB7KeE7ISc7JewIC0gJ-uVhey9qeuyhO2EsCDslYTsnbTsiqTtgazrprwnIOugiOyLnO2UvCDtjrjsiqTthqDrnpE%3D'}, page_content=\"진서연 - '땅콩버터 아이스크림' 레시피 ||| 바나나 3개, 땅콩버터 듬뿍 4T, 알룰로스 1T, 우유 100ml ||| 1. 바나나 3개, 땅콩버터 듬뿍 4T, 알룰로스 1T, 우유 100ml를 넣고 믹서기에 갈아준다. 2. 냉동 용기에 1.을 붓고 냉동고에 3시간 이상 얼려주면 완성\"),\n",
       " Document(id='0775a69c-3b26-4cee-9fb4-ae77e20cba11', metadata={'id': 14889, 'img': 'https://recipe1.ezmember.co.kr/cache/recipe/2020/10/19/03fc99bb02f780fdbfbe56ebeeb44dcc1.jpg', 'views': '678', 'video': '', 'category': '일상', 'date': '2020-10-19'}, page_content='손쉽게 땅콩 굽는 방법 소개해 드려요 ||| 땅콩-3컵 ||| 에어프라이어 요리 땅콩 굽는 법을 알려 드릴께요. 우선 땅콩은 겉껍질을 제거하고 불순물이나 껍질 조각을 골라 내 주세요. 다 구운 다음에 껍질을 까서 둘 거라서 세척은 따로 하지 않았어요. 그다음에 어메이드 아이쿡에 종이호일을 한 장 깔고 땅콩을 올려놓아 주세요. 그리고 에어프라이어에 10분 돌릴껀데요 우선 180동 5분을 돌려 주시구요. 그럼 간단하게 에어프라이기 땅콩 굽는법 완성이네요. 요렇게 에어프라이어 요리 땅콩굽기가 완성 꺼내서 약간 식혔다가 껍질을 벗기면 되는데요 그럼 요렇게 쏙쏙 잘 벗겨진답니다. ||| 일상 ||| 3인분 5분 이내 아무나 ||| 이제 서서 볶지 않아도 에어프라이어로 간단하게 땅콩 구울 수 있어요')]"
      ]
     },
     "execution_count": 38,
     "metadata": {},
     "output_type": "execute_result"
    }
   ],
   "source": [
    "version6().invoke(\"땅콩이 안 들어간 요리\")"
   ]
  },
  {
   "cell_type": "code",
   "execution_count": 19,
   "metadata": {},
   "outputs": [
    {
     "data": {
      "text/plain": [
       "[Document(metadata={'id': 52988, 'img': 'https://recipe1.ezmember.co.kr/cache/recipe/2018/08/06/2ed3ce81dee8d119fe84bc8b7a8f95bc1.jpg', 'views': '2,520', 'video': '', 'category': '초스피드', 'date': '2018-08-06'}, page_content='불 안 쓰는 요리 맛집을 집에서 간단히 꼬막 비빔밥 ||| 꼬막 통조림-2캔, 밥-2공기, 대파 흰 부분-1개, 청양고추-3개, 양파-1/2개, 고춧가루-1큰술, 꼬막 통조림 국물-2큰술, 간장-2큰술, 참기름-1큰술, 다진 마늘-1큰술, 통깨, 약간 ||| 통조림 꼬막을 체에 밭쳐 물기를 제거해 주세요. 채소를 썰어 준비해 주세요. 양념장을 만들어 주세요. 양념한 꼬막 1/2과 밥 2공기를 넣어 잘 비벼 주세요. ||| 초스피드 ||| 2인분 10분 이내 아무나 ||| 통조림 캔으로 맛집을 따라해 봤어요'),\n",
       " Document(metadata={'id': 45373, 'img': 'https://recipe1.ezmember.co.kr/cache/recipe/2023/07/05/a40563370f802b16661c25e18f397cbd1.jpg', 'views': '968', 'video': '', 'category': '초스피드', 'date': '2023-07-05'}, page_content='간단하게 만드는 시원한 오이냉국 레시피 불 안 쓰는 요리 ||| 오이-1개, 홍고추-1개, 청고추-1개, [오이냉국 밑간] 소금-0. 5T, 설탕-1T, 다진마늘-0. 5T, 연두-1T, 식초-1. 5T ||| 오이는 깨끗이 씻어 먹기 좋게 채 썰어 주세요 오이의 양끝은 쓴맛이 날 수 있으니 잘라내 주세요. 약 0. 5cm 정도로 어슷 썰고. 비슷한 굵기로 채 썰었어요. 오이냉국 밑간을 해 주세요. 먹기 전 밑간해 둔 오이냉국에 얼음을 넣고. 재료가 충분히 잠길 만큼 물을 넣어 주세요 이때 간을 보고 부족한 간은 소금과 식초로 채워 주세요. 호둘짱은 새콤한 맛을 좋아해서 식초 0. 5 정도 추가했어요. 청양고추 1개, 홍고추 1개 쫑쫑 썰어 넣어 줬어요. 통깨 팍팍 넣어 휘휘 저어 주면 불 안 쓰는 요리 간단한 오이냉국 완성이랍니다. 오이 1개로 한 끼에 뚝딱하는 초간단 오이 냉국이랍니다). 홍고추 송송 들어가니 확실히 색이 이쁘죠. ||| 초스피드 ||| 2인분 10분 이내 아무나 ||| 여름이 무르익으니 뜨거운 찌개나 국보다는 시원한 냉국이 생각나는 요즘이예요 불 앞에만 서 있어도 땀나기 시작하는 요즘 비빔밥하며 된장국 끓이려다 더워서 급선회한 오이냉국 하나면 여름 밥상 차리기 어렵지 않죠 불안 쓰는 요리 만드는 방법 시작할게요'),\n",
       " Document(metadata={'id': 120784, 'img': 'https://recipe1.ezmember.co.kr/cache/recipe/2016/08/02/b77a845fc0a0c599bbd426647c5285671.jpg', 'views': '7,643', 'video': '', 'category': '도시락', 'date': '2016-08-02'}, page_content='크래미 유부초밥 불 안 쓰는 요리 ||| 유부, 오이, 크래미, 밥, 검은깨, [크래미소스] 마요네즈, 연겨자, 후추 ||| 크래미는 잘게 찢고, 오이는 채 썰어서 준비 오이는 소금 살짝 크래미 2개 기준 오이 반컵 마요네즈 2T, 연겨자 0. 5T, 후추 톡톡 입맛에 맞게 조절하세요. 유부 자체에 간이 되어 있는 편이라 따로 밥에 양념은 하지 않았어요. 꼬마 유부라 한 입에 쏘옥 들어가는 사이즈 크래미와 밥 양은 11 비율이 좋은 듯해요. 검은깨를 올려주니 더욱 먹음직스러워진 유부초밥. ||| 도시락 ||| 1인분 30분 이내 초급 ||| 크래미가 안에 있어 깔끔하게 먹기 좋아요 불 안 쓰는 요리 핑거푸드')]"
      ]
     },
     "execution_count": 19,
     "metadata": {},
     "output_type": "execute_result"
    }
   ],
   "source": [
    "version1().invoke(\"프라이팬 안 쓰는 요리\")"
   ]
  },
  {
   "cell_type": "code",
   "execution_count": 39,
   "metadata": {},
   "outputs": [
    {
     "data": {
      "text/plain": [
       "[Document(metadata={'id': 395, 'img': 'https://fs.jtbc.co.kr/prog/enter/janggo/Img/20151229_102856_7914.jpg', 'video': 'https://tv.jtbc.co.kr/vod/pr10010331/pm10031085/vo10089513/view', 'ingredients_list': \"['브로콜리', '북어채', '새우', '다진 청양고추', '대파', '마늘', '라면', '올리브 오일']\"}, page_content=\"오세득 '개천에서 용 났새우' ||| 브로콜리,    북어채,    새우,    다진 청양고추,    대파,    마늘,    라면,    올리브 오일 |||   1. 브로콜리를 적당한 크기로 썰어 소금을 넣은 끓는 물에 데친다.  2. 데친 브로콜리를 그릴팬에 굽는다.  3. 북어채에 기름을 두른 뒤, 전자레인지에 돌려 바삭하게 만든다.  4. 끓는 물에 라면을 삶는다.  5. 팬에 올리브 오일을 넉넉히 두른다.  6. 올리브 오일을 두른 팬에 두껍게 썬 마늘과 파를 넣고 볶아 향을 낸다.  7. 6에 새우와 다진 청양고추를 넣고 볶는다.  8. 양파를 잘게 다져 팬에 넣고 함께 볶는다.  9. 그릇에 구운 브로콜리를 담는다.  10. 삶은 면을 체에 밭쳐 물기를 뺀다.  11. 면에 재료들의 향이 밴 기름을 넣고 버무린다.  12. 면을 그릇에 담는다.  13. 면 위에 볶은 재료들을 올린다.  14. 바삭해진 북어채를 핸드블렌더에 넣고 간다.  15. 곱게 간 북어채를 요리 위에 뿌려 완성한다.\"),\n",
       " Document(id='cb572e30-ac11-4ee6-b8ed-1201c44c6ed1', metadata={'id': 840, 'img': 'https://fs.jtbc.co.kr/prog/enter/janggo/Img/20160412_132025_2277.jpg', 'video': 'https://tv.jtbc.co.kr/vod/pr10010331/pm10031085/vo10103225/view', 'ingredients_list': \"['뜯어먹는 식빵', '장조림 통조림', '맛밤', '금귤', '참치 통조림', '양상추', '당근', '양파', '밀가루', '소금', '후추', '마요네즈', '']\"}, page_content=\"최현석 '파니니 안파니' ||| 뜯어먹는 식빵,    장조림 통조림,    맛밤,    금귤,    참치 통조림,   양상추,    당근,    양파,    밀가루,    소금,    후추,    마요네즈,    |||   1. 당근과 양파는 채 썰고, 금귤은 씨를 빼고 얇게 썬다.  2. 볼에 손질한 재료들과 장조림 통조림, 으깬 맛밤, 물과 밀가루를 넣고 반죽한다.  3. 반죽에 소금과 후추로 간을 한다.  4. 반죽을 적당한 크기로 덜어 기름에 튀긴다.  5. 튀김을 건져 기름기를 뺀다.  6. 뜯어먹는 식빵을 반으로 잘라 속을 파낸다.  7. 속을 파낸 식빵에 마요네즈를 바르고, 장조림&채소튀김을 넣은 뒤 다른 식빵으로 덮어 파니니를 만든다.  8. 마른 그릴팬에 파니니를 올리고 모양을 내며 굽는다.  9. 양파를 잘게 썰고, 참치 통조림의 기름을 뺀다.  10. 볼에 잘게 썬 양파, 참치, 마요네즈를 넣고 섞어 참치 샐러드를 만든다.  11. 속을 파낸 식빵을 밀대로 얇게 민다.  12. 얇게 편 식빵에 잘게 썬 양상추와 참치샐러드를 넣고 돌돌 만다.  13. 구운 파니니를 적당한 크기로 잘라 도시락에 담는다.  14. 참치 샐러드를 넣은 식빵말이를 유산지로 감싸 도시락에 담는다.\"),\n",
       " Document(metadata={'id': 1067, 'img': 'https://pbbsres.kbs.co.kr/t2019-0286-04-296340/2023/03/17/2188293_batch_솔방울향스테이크.jpg', 'video': ''}, page_content=\"차예련 - '솔방울 훈연 스테이크' 레시피 ||| 솔방울 1개, 럼주 약간, 채끝살 500g, 소금 약간, 통후춧가루 약간 ||| 재료 준비 1. 잘 말린 솔방울을 준비해 스테인리스 그릇에 담아준다. 1. 달군 팬에 고기를 올리고 소금, 통후춧가루를 앞뒤로 뿌려준다. 2. 고기는 겉면을 모두 노릇하게 초벌로 구워준다. 3. 프라이팬 위에 솔방울이 담긴 스테인리스 그릇을 올리고, 솔방울에 럼주를 살짝 적셔준다. 4. 프라이팬 빈 자리에 초벌로 구워둔 고기를 넣어준다. 5. 이후 솔방울에 토치로 불을 붙여준 뒤 바로 프라이팬 뚜껑을 닫아 연기를 가둬준 후, 3분 간 훈연한다. 6. 훈연한 고기는 먹을 때 썰어서 팬에 구워주면 솔방울 향이 살아있는 스테이크가 됩니다.\"),\n",
       " Document(id='37e979e7-fde5-449f-b52d-58294af07c6e', metadata={'id': 634, 'img': 'https://pbbsres.kbs.co.kr/t2019-0286-04-296340/2022/02/04/1592086_batch_까르보나라.png', 'video': 'https://www.youtube.com/watch?v=vs-_FOyd-AE&pp=ygU766WY7IiY7JiBIC0gJ-ybkO2MrCDsubTrpbTrs7TrgpjrnbwnIOugiOyLnO2UvCDtjrjsiqTthqDrnpE%3D'}, page_content=\"류수영 - '원팬 카르보나라' 레시피 ||| 물 700ml, 링귀니면 1인분, 마늘 3개, 올리브유, 소금 1/2t, 페퍼론치노 3알, 그라나파다노치즈 날달걀 1개, 후추 ||| 1. 궁중팬에 물 700ml를 넣은 뒤 링귀니면 1인분을 넣어준다. 200ml 종이컵 기준 3컵 반 넣으시면 됩니다 면 익는 시간을 고려해 링귀니면을 사용하는 것이 좋습니다 2. 치즈그라인더에 갈아준 마늘 2개, 올리브유 2T, 소금 1/2t, 페퍼론치노 3알을 넣고 뚜껑을 연채로 강불에 12분간 졸여준다. 뚜껑은 꼭 열고 졸여주세요 닫으면 국물이 졸아들지 않습니다 까르보나라 만들 때는 페퍼론치노 양을 3알로 줄여주세요 3. 12분 후 불을 줄여주고 팬을 흔들어가며 섞어준다. 유화가 되도록 흔들어가며 섞어주는 것이 중요합니다 4. 국물이 3-4숟가락 남았을 때 불을 꺼주고 올리브유 1T, 치즈그라인더로 갈아준 마늘 1개를 넣어 섞어준다. 5. 치즈그라인더에 그라노파다노치즈를 갈아 뿌려준다. 그라나파다노치즈가 없으신 분들은 피자 먹고 남은 파마산치즈를 뿌려도 됩니다 알리오 올리오보다는 그라나파다노치즈를 많이 갈아 뿌려주세요 6. 약불로 켜준 뒤 치즈가 녹을 때까지 섞어주고 불을 바로 꺼준다. 걸쭉하면서도 크림 같은 질감이 나오면 불을 바로 꺼주세요 레시피 6번까지는 류수영의 원팬 알리오올리오와 레시피가 동일합니다 7. 날달걀 1개를 넣고 달걀이 익기 전에 빨리 섞어준다. 노른자가 익지 않도록 빨리 섞어주는 것이 중요합니다 8. 후추를 갈아 뿌려주고 뒤적여준 뒤 그릇에 예쁘게 플레이팅 해준다. 9. 치즈그라인더에 그라나파다노치즈를 갈아 뿌려주고, 후추도 갈아 뿌려 주면 완성. 그라나파다노치즈가 없으신 분들은 피자 먹고 남은 파마산치즈를 뿌려도 됩니다\"),\n",
       " Document(metadata={'id': 120784, 'img': 'https://recipe1.ezmember.co.kr/cache/recipe/2016/08/02/b77a845fc0a0c599bbd426647c5285671.jpg', 'views': '7,643', 'video': '', 'category': '도시락', 'date': '2016-08-02'}, page_content='크래미 유부초밥 불 안 쓰는 요리 ||| 유부, 오이, 크래미, 밥, 검은깨, [크래미소스] 마요네즈, 연겨자, 후추 ||| 크래미는 잘게 찢고, 오이는 채 썰어서 준비 오이는 소금 살짝 크래미 2개 기준 오이 반컵 마요네즈 2T, 연겨자 0. 5T, 후추 톡톡 입맛에 맞게 조절하세요. 유부 자체에 간이 되어 있는 편이라 따로 밥에 양념은 하지 않았어요. 꼬마 유부라 한 입에 쏘옥 들어가는 사이즈 크래미와 밥 양은 11 비율이 좋은 듯해요. 검은깨를 올려주니 더욱 먹음직스러워진 유부초밥. ||| 도시락 ||| 1인분 30분 이내 초급 ||| 크래미가 안에 있어 깔끔하게 먹기 좋아요 불 안 쓰는 요리 핑거푸드'),\n",
       " Document(id='b73133c4-9a22-4ddf-af7f-6f11dc29ad0d', metadata={'id': 99526, 'img': 'https://recipe1.ezmember.co.kr/cache/recipe/2018/03/14/7a1836e569b652fc24288d12555088ce1.jpg', 'views': '4,163', 'video': '', 'category': '간식', 'date': '2018-03-14'}, page_content='프라이팬에 구워 먹는 폭신폭신 부드러운 계란빵 혹은 식빵오믈렛 ||| 식빵-2장, 계란-3개, 냉장고속채소, 적당량, 슬라이스치즈-1~2장, 소금, 버터나 식용유-1큰술, 토마토케첩 ||| 계란 알끈을 제거하고 소금을 약간 넣어 풀어 놓는다. 냉장고 속 채소와 햄, 치즈 등을 잘게 썰어 넣는다 여기서는 파와 양파, 치즈를 넣어 주었음, 이도저도 없으면 빵과 계란만으로도 오케이. 식빵을 손으로 찢어 계란물과 섞는다. 모든 재료를 잘 섞는다. 이때 우유를 넣으면 더욱 부드럽다. 달군 프라이팬에 현미유나 버터를 넣고 재료를 동그랗게 붓는다. 불을 약불로 줄이고 뚜껑을 덮어 익힌다. 제법 두꺼워서 뒤지개로 뒤집는 게 어려워 접시를 이용했다 이렇게 프라이팬 위에 접시를 얹고 프라이팬째로 뒤집으면 쉽다. 뒤집은 다음. 역시 약불에 뚜껑을 덮고 타지 않도록 조심하며 익힌다. 골고루 잘 익으면 모양을 내서 자른다. 집에서 만든 자연식 토마토케첩이나 토마토잼을 발라 먹으면 더 맛잇다. ||| 간식 ||| 2인분 30분 이내 초급 ||| 식빵을 먹다 한두 장 남았을 때 냉동실에 던져 놓는데 그것을 이용해도 좋고 식빵껍질로 만들어도 좋은 전형적인 냉장고 파먹기 레시피인데 오븐 없이 프라이팬으로 간단히 만들 수 있어서 더욱 좋아요'),\n",
       " Document(metadata={'id': 875, 'img': '', 'video': 'https://www.youtube.com/watch?v=FnYQXdMWcEg&pp=ygU07KCV7ZiV64-IICfrj4jri6zrj4jri6wgKyDsl6zrs7Qg67ClIOyViCDslYjsuZjri4g_Jw%3D%3D', 'ingredients_list': \"['멸치볶음', '방울토마토', '식빵', '곰탕라면', '달걀', '마늘', '즉석밥', '식용유', '참기름', '식초', '맛술', '간장', '전분', '깨']\"}, page_content=\"정형돈 '돈달돈달 + 여보 밥 안 안치니?' ||| 멸치볶음,    방울토마토,    식빵,    곰탕라면,    달걀,    마늘,    즉석밥,   식용유,    참기름,    식초,    맛술,    간장,    전분,    깨 |||   1. 마늘을 다진다.  2. 즉석밥을 전자레인지에 넣고 돌린다.  3. 식용유와 참기름을 두른 팬에 다진 마늘을 넣고 볶는다.  4. 지퍼백에 방울토마토를 넣고 으깬다.  5. 마늘을 볶던 팬에 으깬 방울토마토를 넣고 함께 볶는다.  6. 식빵을 썰어 마른 팬에 굽는다.  7. 볶던 재료에 식초, 맛술을 넣는다.  8. 7에 물, 간장, 곰탕라면 분말수프를 넣고 끓인다.  9. 전분, 달걀, 물을 섞는다.  10. 밥에 멸치볶음을 넣어 주먹밥을 만든다.  11. 주먹밥에 달걀전분물을 묻혀 기름에 튀긴다.  12. 토마토탕에 달걀전분물을 넣고 저어준다.  13. 그릇에 토마토 달걀탕을 부은 뒤, 구운 식빵을 올린다.  14. 튀긴 주먹밥에 깨를 묻혀 낸다.\"),\n",
       " Document(id='087c91d4-450c-4b2e-a8f4-c37a942e0ea4', metadata={'id': 988, 'img': '', 'video': 'https://www.youtube.com/watch?v=69fYvO_td0Q&pp=ygUY66-47Lm07JeYICftjIzti7DruYTtlIQn', 'ingredients_list': \"['즉석밥', '등심 1장', '느타리버섯', '양송이 버섯', '양상추', '양파 반 개', '총각김치', '쌈장 2TS', '생크림 한 컵']\"}, page_content=\"미카엘 '파티비프' ||| 즉석밥,    등심 1장,    느타리버섯,    양송이 버섯,    양상추,    양파 반 개,    총각김치,    쌈장 2TS,    생크림 한 컵 |||   1. 청고추에 칼집을 내고 그릴팬에 굽는다.  2. 고기와 양파는 채썰고 양송이 버섯도 편으로 썰어 팬에 볶는다.  3. 2에 고기에 쌈장과 생크림을 넣고 볶는다.  4. 3에 다진 총각김치를 넣고 후추를 뿌린다.  5. 접시에 밥을 놓고 주위에 볶은 고기를 얹는다.  6. 중앙에 총각김치를 올린다.\"),\n",
       " Document(metadata={'id': 27, 'img': 'https://pbbsres.kbs.co.kr/t2019-0286-04-296340/2020/03/06/708722_꼬꼬빵(완).png', 'video': 'https://www.youtube.com/watch?v=0oxbDFBiayo&pp=ygUs7J206rK96recIC0g6rys6rys67m1IOugiOyLnO2UvCDtjrjsiqTthqDrnpE%3D'}, page_content='이경규 - 꼬꼬빵 레시피 ||| (6개 기준) [훠이텅 요리 재료] 설탕 400g, 물 500ml, 달걀노른자 6개, 바닐라 빈 1개 [빵 요리 재료] 생 이스트 14g, 생크림 150ml, 실온에 둔 무염버터 50g, 달걀 1개, 소금 5g, 설탕 30g, 강력분 300g ||| [훠이텅 조리 방법] 1. 달걀노른자 6개를 체에 부어 달걀 힘줄 부분을 제거한다. 2. 500ml 물, 400g 설탕, 1개의 바닐라 빈을 냄비에 넣고 가열한다. 이때 설탕이 물에 녹을 때까지 중불로 가열하고, 적당히 저어 준다. 3. 설탕이 물에 완전히 용해되고 시럽이 버블링되면 바닐라 빈을 제거한다. 4. 체에 여과해놓은 달걀노른자를 짤 주머니를 채워 넣는다. (짤 주머니 끝을 1mm정도 자르고, 달걀노른자가 얇게 통과할 수 있도록 만든다) 5. 끓는 시럽 물에 깔때기로 원을 그리며 달걀노른자를 통과 시킨다 6. 1분 뒤, 시럽 물에서 조심스럽게 훠이텅을 건져내어 접시에 펼쳐 보관한다 (체에 걸러 최대한 설탕 물기를 제거할 것) 7. 완성된 훠이텅을 넣기 좋게 가위로 상하, 좌우 한 번씩 잘라 준다 [꼬꼬빵 조리 방법] 1. 강력분을 반죽기 볼에 담아준다. 2. 강력분에 홈을 세 개 파고 소금 5g, 생 이스트 14g, 설탕 30g을 넣은 뒤 잘 섞는다. (소금과 이스트가 닿으면 발효가 안 되기 때문에 주의할 것) 3. 그 위에 달걀을 넣고, 생크림 150ml 부은 뒤 반죽기를 돌린다. 4. 1-2분 뒤 실온에 둔 버터를 넣어주고 20분 가량 반죽기를 돌린다. 5. 반죽을 꺼내 동그랗게 말아서 볼에 담은 뒤 랩을 덮어 40도 가량 습도가 높은 곳에서 460분 정도 발효시킨다. 6. 발효가 끝나면 반죽을 꺼내서 가스를 빼준다. 7. 90g씩 떼어 둥글린 후, 랩을 씌워 실온에 1015분 정도 중간 발효를 시켜준다. 8. 발효가 끝나면, 랩을 제거하고 반죽을 살짝 눌러 가스를 빼준다. 9. 밀대로 살짝 밀어 반죽을 편 후, 젓가락으로 훠이텅 40g을 넣고 만두처럼 끝을 꼬집어 마무리한다. 주름진 부분을 밑으로 가게 해서 오븐 팬에 올려준다. 10. 팬에 올린 상태로 랩을 덮어 30분 정도 2차 발효를 한다. 11. 오븐에 180도에서 20분 구워준다 12. 오븐에서 꺼낸 뒤, 녹인 버터를 발라주면 완성'),\n",
       " Document(id='4c3bfc8f-1fdf-4e1a-820a-e75d8b7ec764', metadata={'id': 1754, 'img': 'https://pbbsres.kbs.co.kr/t2019-0286-04-296340/2024/11/01/2786435_11.jpg', 'video': 'https://www.youtube.com/watch?v=LY9Kdp7ZKCU&pp=ygVI7J207KCV7ZiEIC0gJ-u5qOyjvOuFuOy0iCDtjIztlITrpqzsubQg7KO866i567ClJyDroIjsi5ztlLwg7Y647Iqk7Yag656R'}, page_content=\"이정현 - '빨주노초 파프리카 주먹밥' 레시피 ||| 빨간색, 주황색, 노란색, 초록색 파프리카 각각 1/4개(*초록색 파프리카는 초록색 피망으로 대체 가능), 식용유, 쌀밥 280g, 참기름, 소금, 깨 소고기 다짐육 100g, [소고기양념장] 양조간장 1/2T, 프락토 올리고당 1/2T(*올리고당 대체 가능), 참기름 1/2T ||| [재료 준비] 1. [소고기양념장] 양조간장 1/2T, 올리고당 1/2T, 참기름 1/2T를 섞는다. 2. 쌀밥 280g에 참기름, 소금, 깨를 약간씩 넣고 간을 한다. [빨주노초 파프리카 주먹밥 만들기] 1. 빨간색, 주황색, 노란색, 초록색 파프리카 1/4개는 각각 씨를 제거하고 다진다. 2. 팬에 식용유를 두르고 파프리카에 소금 약간 뿌려 볶아준다. 파프리카 색이 섞이지 않게 각각 볶아주세요 3. 팬에 식용유를 두르고 강불에 소고기 다짐육을 볶는다. 4. 고기가 어느 정도 익으면 [소고기양념장]을 넣고 볶는다. 5. 파프리카에 볶은 소고기를 20g씩, 쌀밥은 70g씩 나눠 섞는다. 6. 골고루 섞은 뒤, 밥을 동그랗게 뭉쳐주면 완성.\"),\n",
       " Document(metadata={'id': 45373, 'img': 'https://recipe1.ezmember.co.kr/cache/recipe/2023/07/05/a40563370f802b16661c25e18f397cbd1.jpg', 'views': '968', 'video': '', 'category': '초스피드', 'date': '2023-07-05'}, page_content='간단하게 만드는 시원한 오이냉국 레시피 불 안 쓰는 요리 ||| 오이-1개, 홍고추-1개, 청고추-1개, [오이냉국 밑간] 소금-0. 5T, 설탕-1T, 다진마늘-0. 5T, 연두-1T, 식초-1. 5T ||| 오이는 깨끗이 씻어 먹기 좋게 채 썰어 주세요 오이의 양끝은 쓴맛이 날 수 있으니 잘라내 주세요. 약 0. 5cm 정도로 어슷 썰고. 비슷한 굵기로 채 썰었어요. 오이냉국 밑간을 해 주세요. 먹기 전 밑간해 둔 오이냉국에 얼음을 넣고. 재료가 충분히 잠길 만큼 물을 넣어 주세요 이때 간을 보고 부족한 간은 소금과 식초로 채워 주세요. 호둘짱은 새콤한 맛을 좋아해서 식초 0. 5 정도 추가했어요. 청양고추 1개, 홍고추 1개 쫑쫑 썰어 넣어 줬어요. 통깨 팍팍 넣어 휘휘 저어 주면 불 안 쓰는 요리 간단한 오이냉국 완성이랍니다. 오이 1개로 한 끼에 뚝딱하는 초간단 오이 냉국이랍니다). 홍고추 송송 들어가니 확실히 색이 이쁘죠. ||| 초스피드 ||| 2인분 10분 이내 아무나 ||| 여름이 무르익으니 뜨거운 찌개나 국보다는 시원한 냉국이 생각나는 요즘이예요 불 앞에만 서 있어도 땀나기 시작하는 요즘 비빔밥하며 된장국 끓이려다 더워서 급선회한 오이냉국 하나면 여름 밥상 차리기 어렵지 않죠 불안 쓰는 요리 만드는 방법 시작할게요'),\n",
       " Document(id='6ef907d0-ada4-488e-9ab7-9becb6789e76', metadata={'id': 107210, 'img': 'https://recipe1.ezmember.co.kr/cache/recipe/2015/03/18/c1747006fde6839a169d3ea179d9db8f1.jpg', 'views': '19,126', 'video': '', 'category': '간식', 'date': '2014-04-18'}, page_content='불고기참치 또띠아피자 만들기 ||| 또띠아-1장, 불고기참치-1캔, 양파-0. 4쪽, 스파게티소스, 피자치즈, 옥수수콘 ||| 불고기참치는 옥수수콘과 함께 프라이팬에 달달 볶아서 수분을 날려 주세요. 양파를 썬 후에 프라이팬에 기름을 둘러 볶아 줍니다. 다른 프라이팬에 또띠아를 올린 후, 스파게티소스를 바르고 볶아 놓은 양파를 올려 주세요. 볶아 놓은 불고기참치도 올려 줍니다. 피자치즈를 올려서 뚜껑 덮고 중약불에서 치즈가 녹을 때까지 구워 주세요. ||| 간식 ||| 30분 이내 초급 ||| 프라이팬으로 만드는 불고기참치 또띠아 피자'),\n",
       " Document(metadata={'id': 259, 'img': 'https://fs.jtbc.co.kr/joydata/CP00000001/prog/enter/janggo/img/20171128_121147_630.jpg', 'video': 'https://tv.jtbc.co.kr/vod/pr10010331/pm10031085/vo10194925/view', 'ingredients_list': \"['호박즙', '새우', '오징어', '바지락', '모차렐라치즈', '마늘종장아찌', '칵테일소스', '밀가루', '마늘', '홍고추', '양파', '올리브오일', '소금', '후추', '버터', '대파']\"}, page_content=\"미카엘&샘킴 '봉골레 안 먹고 가시나♬' ||| 호박즙,    새우,    오징어,    바지락,    모차렐라치즈,   마늘종장아찌,    칵테일소스,    밀가루,    마늘,    홍고추,   양파,    올리브오일,    소금,    후추,    버터,    대파 |||   1. 밀가루를 체에 거른다.  2. 체에 거른 밀가루에 호박즙을 넣어 반죽한다.  3. 기름을 두른 냄비에 편으로 썬 마늘, 손질한 새우와 오징어, 잘게 썬 홍고추와 바지락, 물을 넣고 끓여 봉골레스튜를 만든다.  4. 빵반죽을 밀대로 밀어 넓게 편 뒤, 모차렐라치즈를 넣고 접어 빵 모양을 잡아 피타빵을 만든다.  5. 치즈를 넣은 피타빵을 그릴팬에 굽는다.  6. 양파, 마늘종장아찌를 잘게 썬 뒤, 칵테일소스, 올리브오일과 섞어 소스를 만든다.  7. 기름을 두른 팬에 손질한 새우를 굽다가 소금, 후추로 간 한다.  8. 마늘을 잘게 다진 뒤, 버터를 섞어 갈릭버터를 만든다.  9. 피타빵에 갈릭버터를 발라가며 굽는다.  10. 봉골레스튜에 구운 새우와 잘게 썬 대파를 넣는다.  11. 피타빵을 접시에 담아낸다.\"),\n",
       " Document(id='8fdcace1-2c9d-4684-914a-cbd37fa027f9', metadata={'id': 670, 'img': 'https://fs.jtbc.co.kr/prog/enter/janggo/Img/20150922_111116_1711.jpg', 'video': 'https://tv.jtbc.co.kr/vod/pr10010331/pm10031085/vo10080370/view', 'ingredients_list': \"['불고기', '오레가노', '피자', '달걀', '살라미', '파', '다진 마늘', '진간장', '설탕', '참기름', '소금', '양파', '후추', '버터']\"}, page_content=\"이원일 '피자 말아또' ||| 불고기,    오레가노,    피자,    달걀,    살라미,    파,    다진 마늘,    진간장,    설탕,    참기름,    소금,    양파,    후추,    버터 |||   1. 다진 파, 다진 마늘, 진간장, 설탕, 참기름을 섞어 양념을 만든다.  2. 불고기를 양념에 버무린 뒤, 오레가노를 넣어 섞는다.  3. 피자조각의 끝부분을 잘라내고 반을 자른 뒤, 네모난 모양으로 합친다.  4. 달걀물에 소금을 넣는다.  5. 버터를 두른 팬에 달걀지단을 부친다.  6. 달걀지단의 한쪽 면만 익힌 뒤, 위에 피자를 올린다.  7. 양파와 파를 잘게 썰어 팬에 넣고 소금, 후추 간을 해서 볶는다.  8. 7에 잘게 썬 살라미, 버터를 넣고 함께 볶는다.  9. 피자 위에 볶은 재료들을 올린다.  10. 불고기를 팬에 볶는다.  11. 볶은 불고기를 피자 위에 올린 뒤, 달걀지단으로 돌돌 말아준다.  12. 피자달걀말이를 그릴팬에 올려 굽는다.  13. 피자달걀말이를 썰어 접시에 담아낸다.\"),\n",
       " Document(metadata={'id': 626, 'img': 'https://pbbsres.kbs.co.kr/t2019-0286-04-296340/2022/01/28/1578807_batch_삼겹잡채.jpg', 'video': 'https://www.youtube.com/watch?v=xV5Ej8h5Nk0&pp=ygUy66WY7IiY7JiBIC0gJ-yCvOqyuSDsnqHssYQnIOugiOyLnO2UvCDtjrjsiqTthqDrnpE%3D'}, page_content=\"류수영 - '삼겹 잡채' 레시피 ||| 알배추 15장, 대파 1대, 당근 1/2개, 마늘 10개, 생강 3g, 삼겹살 300g, 당면 300g, 양조간장 5T, 설탕 3T, 식초 1/2T, 물 100ml 카놀라유, 소금, 청하 1뚜껑, 참기름 3T, 깨 ||| 재료 준비 1. 알배추 15장을 배추 결에 따라 세로로 길쭉하게 썰어준다. 2. 대파 1대의 가운데를 가른 후 5cm 정도로 썰어준다. 3. 당근 1/2개도 채 썰어준다. 4. 마늘 10개를 칼로 으깨준 후 식감 있게 다져준다. 5. 생강 3g을 잘게 다져준다. 1. 삼겹살 300g을 얇게 썰어준 후 다져준다. 고기를 직접 다져 쓰면 잡채를 더 오래 두고 먹을 수 있습니다 2. 끓는 물에 안 불린 당면 300g을 넣고 6분간 삶아준다. 이후 재빠르게 찬물로 헹궈준 뒤 물기를 빼준다. 찬물에 바로 식히지 않고 그냥 두면 잔열로 인해 당면이 계속 불어요 3. 양조간장 5T, 설탕 3T, 식초 1/2T, 물 100ml를 넣고 섞어 양념장을 만들어준다. 레시피 3번까지 모두 준비해놓은 후 요리하시는 것이 편리합니다 4. 궁중팬에 카놀라유 1바퀴를 두른 뒤 연기가 날 때까지 달궈준다. 인덕션 같은 경우에는 인덕션에 닿는 면적이 넓어야 하므로 넓은 프라이팬을 쓰는 게 추천합니다 5. 하얀 연기가 올라오면 1의 다져준 삼겹살, 소금 2꼬집, 청하 1뚜껑을 넣고 볶아준다. 잘 녹는 가는소금을 사용하는 것이 좋습니다 6. 5의 고기가 바짝 익으면 준비한 마늘과 생강을 넣고 볶아준다. 7. 향이 올라오면 준비한 당근과 소금 한 꼬집을 넣고 볶아준다. 8. 당근이 어느 정도 볶아졌을 때 준비한 대파와 소금 한 꼬집을 넣고 더 볶아준 뒤 알배추를 넣어주고 소금 한 꼬집을 뿌려 볶아준다. 모든 재료에 간을 해주며 간의 레이어드를 쌓아주는 것이 중요합니다 9. 당면을 넣어 뒤적여준 뒤 3의 양념을 넣고 양념이 조려질 때까지 볶아준다. 10. 양념이 다 조려지면 가스불을 꺼준 뒤 참기름 3T, 깨를 많이 넣어 섞어주면 완성.\"),\n",
       " Document(id='d209db78-9767-4876-b86c-4fb2917a7107', metadata={'id': 1298, 'img': 'https://pbbsres.kbs.co.kr/t2019-0286-04-296340/2023/09/15/2384792_batch_잔멸치대파피자.png', 'video': 'https://www.youtube.com/watch?v=JCjc-2jqrVI&pp=ygU67J207KCV7ZiEIC0gJ-yelOupuOy5mOuMgO2MjO2UvOyekCcg66CI7Iuc7ZS8IO2OuOyKpO2GoOuekQ%3D%3D'}, page_content=\"이정현 - '잔멸치대파피자' 레시피 ||| 또띠아 1장, 대파 1줄, 식용유, 잔멸치 한 줌, 설탕 2T, 피자치즈 한 줌, 요거트 1t, 마요네즈 1t, 다진 마늘 조금, 건조마늘가루 조금, 소금 한 꼬집, 꿀 ||| [재료 준비] 1. 마른 팬에 잔멸치 한 줌, 설탕 2T를 넣고 바삭해질 때까지 약불로 덖어준다. 2. 대파는 송송 썰어준다. 3. 달군 팬에 기름를 두르고 대파와 건조마늘가루 조금을 넣고 볶아준다. [잔멸치대파피자 만들기] 1. 또띠아에 마요네즈 1t다진 마늘 조금요거트 1t 순으로 펴바른다. 2. 피자치즈 한 줌, 소금 약간을 뿌리고 180도로 예열한 오븐에 5분 정도 굽는다. 3. 피자를 오븐에서 꺼낸 후 위에 볶은 파와 잔멸치를 뿌린다. 4. 오븐에 다시 1분 정도 돌린 후 취향에 따라 꿀을 뿌려주면 완성\"),\n",
       " Document(metadata={'id': 52988, 'img': 'https://recipe1.ezmember.co.kr/cache/recipe/2018/08/06/2ed3ce81dee8d119fe84bc8b7a8f95bc1.jpg', 'views': '2,520', 'video': '', 'category': '초스피드', 'date': '2018-08-06'}, page_content='불 안 쓰는 요리 맛집을 집에서 간단히 꼬막 비빔밥 ||| 꼬막 통조림-2캔, 밥-2공기, 대파 흰 부분-1개, 청양고추-3개, 양파-1/2개, 고춧가루-1큰술, 꼬막 통조림 국물-2큰술, 간장-2큰술, 참기름-1큰술, 다진 마늘-1큰술, 통깨, 약간 ||| 통조림 꼬막을 체에 밭쳐 물기를 제거해 주세요. 채소를 썰어 준비해 주세요. 양념장을 만들어 주세요. 양념한 꼬막 1/2과 밥 2공기를 넣어 잘 비벼 주세요. ||| 초스피드 ||| 2인분 10분 이내 아무나 ||| 통조림 캔으로 맛집을 따라해 봤어요'),\n",
       " Document(id='86d09567-1481-4327-8dc0-c0d76ed29bd9', metadata={'id': 187946, 'img': 'https://recipe1.ezmember.co.kr/cache/recipe/2017/04/21/8e7bdcbc247f1aefcee84825a2fa38381.jpg', 'views': '18,087', 'video': '', 'category': '일상', 'date': '2017-04-21'}, page_content='너무 이쁜 요리 데코 방법 공개 파프리카 프라이 ||| [필수 재료] 파프리카-1개, 달걀-4개, [양념 재료] 소금, 약간, 후추, 약간, 파마산 치즈가루, 약간 ||| 파프리카는 링으로 썰어 준비한다. 팬에 기름을 두르고 파프리카를 올린다. 파프리카 안에 달걀을 깨어 넣는다. 소금, 후추, 파마산 치즈 가루를 넣어 반숙으로 익혀 완성한다. ||| 일상 ||| 2인분 10분 이내 아무나 ||| 파프리카 안에 귀여운 노른자가 송송소금 후추 톡톡 치즈까지 주우욱 세상의 모든 레시피 만개의 레시피')]"
      ]
     },
     "execution_count": 39,
     "metadata": {},
     "output_type": "execute_result"
    }
   ],
   "source": [
    "version2().invoke(\"프라이팬 안 쓰는 요리\")"
   ]
  },
  {
   "cell_type": "code",
   "execution_count": 21,
   "metadata": {},
   "outputs": [
    {
     "data": {
      "text/plain": [
       "[Document(metadata={'id': 52988, 'img': 'https://recipe1.ezmember.co.kr/cache/recipe/2018/08/06/2ed3ce81dee8d119fe84bc8b7a8f95bc1.jpg', 'views': '2,520', 'video': '', 'category': '초스피드', 'date': '2018-08-06'}, page_content='불 안 쓰는 요리 맛집을 집에서 간단히 꼬막 비빔밥 ||| 꼬막 통조림-2캔, 밥-2공기, 대파 흰 부분-1개, 청양고추-3개, 양파-1/2개, 고춧가루-1큰술, 꼬막 통조림 국물-2큰술, 간장-2큰술, 참기름-1큰술, 다진 마늘-1큰술, 통깨, 약간 ||| 통조림 꼬막을 체에 밭쳐 물기를 제거해 주세요. 채소를 썰어 준비해 주세요. 양념장을 만들어 주세요. 양념한 꼬막 1/2과 밥 2공기를 넣어 잘 비벼 주세요. ||| 초스피드 ||| 2인분 10분 이내 아무나 ||| 통조림 캔으로 맛집을 따라해 봤어요'),\n",
       " Document(metadata={'id': 45373, 'img': 'https://recipe1.ezmember.co.kr/cache/recipe/2023/07/05/a40563370f802b16661c25e18f397cbd1.jpg', 'views': '968', 'video': '', 'category': '초스피드', 'date': '2023-07-05'}, page_content='간단하게 만드는 시원한 오이냉국 레시피 불 안 쓰는 요리 ||| 오이-1개, 홍고추-1개, 청고추-1개, [오이냉국 밑간] 소금-0. 5T, 설탕-1T, 다진마늘-0. 5T, 연두-1T, 식초-1. 5T ||| 오이는 깨끗이 씻어 먹기 좋게 채 썰어 주세요 오이의 양끝은 쓴맛이 날 수 있으니 잘라내 주세요. 약 0. 5cm 정도로 어슷 썰고. 비슷한 굵기로 채 썰었어요. 오이냉국 밑간을 해 주세요. 먹기 전 밑간해 둔 오이냉국에 얼음을 넣고. 재료가 충분히 잠길 만큼 물을 넣어 주세요 이때 간을 보고 부족한 간은 소금과 식초로 채워 주세요. 호둘짱은 새콤한 맛을 좋아해서 식초 0. 5 정도 추가했어요. 청양고추 1개, 홍고추 1개 쫑쫑 썰어 넣어 줬어요. 통깨 팍팍 넣어 휘휘 저어 주면 불 안 쓰는 요리 간단한 오이냉국 완성이랍니다. 오이 1개로 한 끼에 뚝딱하는 초간단 오이 냉국이랍니다). 홍고추 송송 들어가니 확실히 색이 이쁘죠. ||| 초스피드 ||| 2인분 10분 이내 아무나 ||| 여름이 무르익으니 뜨거운 찌개나 국보다는 시원한 냉국이 생각나는 요즘이예요 불 앞에만 서 있어도 땀나기 시작하는 요즘 비빔밥하며 된장국 끓이려다 더워서 급선회한 오이냉국 하나면 여름 밥상 차리기 어렵지 않죠 불안 쓰는 요리 만드는 방법 시작할게요'),\n",
       " Document(metadata={'id': 120784, 'img': 'https://recipe1.ezmember.co.kr/cache/recipe/2016/08/02/b77a845fc0a0c599bbd426647c5285671.jpg', 'views': '7,643', 'video': '', 'category': '도시락', 'date': '2016-08-02'}, page_content='크래미 유부초밥 불 안 쓰는 요리 ||| 유부, 오이, 크래미, 밥, 검은깨, [크래미소스] 마요네즈, 연겨자, 후추 ||| 크래미는 잘게 찢고, 오이는 채 썰어서 준비 오이는 소금 살짝 크래미 2개 기준 오이 반컵 마요네즈 2T, 연겨자 0. 5T, 후추 톡톡 입맛에 맞게 조절하세요. 유부 자체에 간이 되어 있는 편이라 따로 밥에 양념은 하지 않았어요. 꼬마 유부라 한 입에 쏘옥 들어가는 사이즈 크래미와 밥 양은 11 비율이 좋은 듯해요. 검은깨를 올려주니 더욱 먹음직스러워진 유부초밥. ||| 도시락 ||| 1인분 30분 이내 초급 ||| 크래미가 안에 있어 깔끔하게 먹기 좋아요 불 안 쓰는 요리 핑거푸드')]"
      ]
     },
     "execution_count": 21,
     "metadata": {},
     "output_type": "execute_result"
    }
   ],
   "source": [
    "version3().invoke(\"프라이팬 안 쓰는 요리\")"
   ]
  },
  {
   "cell_type": "code",
   "execution_count": 40,
   "metadata": {},
   "outputs": [
    {
     "data": {
      "text/plain": [
       "[Document(metadata={'id': 395, 'img': 'https://fs.jtbc.co.kr/prog/enter/janggo/Img/20151229_102856_7914.jpg', 'video': 'https://tv.jtbc.co.kr/vod/pr10010331/pm10031085/vo10089513/view', 'ingredients_list': \"['브로콜리', '북어채', '새우', '다진 청양고추', '대파', '마늘', '라면', '올리브 오일']\"}, page_content=\"오세득 '개천에서 용 났새우' ||| 브로콜리,    북어채,    새우,    다진 청양고추,    대파,    마늘,    라면,    올리브 오일 |||   1. 브로콜리를 적당한 크기로 썰어 소금을 넣은 끓는 물에 데친다.  2. 데친 브로콜리를 그릴팬에 굽는다.  3. 북어채에 기름을 두른 뒤, 전자레인지에 돌려 바삭하게 만든다.  4. 끓는 물에 라면을 삶는다.  5. 팬에 올리브 오일을 넉넉히 두른다.  6. 올리브 오일을 두른 팬에 두껍게 썬 마늘과 파를 넣고 볶아 향을 낸다.  7. 6에 새우와 다진 청양고추를 넣고 볶는다.  8. 양파를 잘게 다져 팬에 넣고 함께 볶는다.  9. 그릇에 구운 브로콜리를 담는다.  10. 삶은 면을 체에 밭쳐 물기를 뺀다.  11. 면에 재료들의 향이 밴 기름을 넣고 버무린다.  12. 면을 그릇에 담는다.  13. 면 위에 볶은 재료들을 올린다.  14. 바삭해진 북어채를 핸드블렌더에 넣고 간다.  15. 곱게 간 북어채를 요리 위에 뿌려 완성한다.\"),\n",
       " Document(id='cb572e30-ac11-4ee6-b8ed-1201c44c6ed1', metadata={'id': 840, 'img': 'https://fs.jtbc.co.kr/prog/enter/janggo/Img/20160412_132025_2277.jpg', 'video': 'https://tv.jtbc.co.kr/vod/pr10010331/pm10031085/vo10103225/view', 'ingredients_list': \"['뜯어먹는 식빵', '장조림 통조림', '맛밤', '금귤', '참치 통조림', '양상추', '당근', '양파', '밀가루', '소금', '후추', '마요네즈', '']\"}, page_content=\"최현석 '파니니 안파니' ||| 뜯어먹는 식빵,    장조림 통조림,    맛밤,    금귤,    참치 통조림,   양상추,    당근,    양파,    밀가루,    소금,    후추,    마요네즈,    |||   1. 당근과 양파는 채 썰고, 금귤은 씨를 빼고 얇게 썬다.  2. 볼에 손질한 재료들과 장조림 통조림, 으깬 맛밤, 물과 밀가루를 넣고 반죽한다.  3. 반죽에 소금과 후추로 간을 한다.  4. 반죽을 적당한 크기로 덜어 기름에 튀긴다.  5. 튀김을 건져 기름기를 뺀다.  6. 뜯어먹는 식빵을 반으로 잘라 속을 파낸다.  7. 속을 파낸 식빵에 마요네즈를 바르고, 장조림&채소튀김을 넣은 뒤 다른 식빵으로 덮어 파니니를 만든다.  8. 마른 그릴팬에 파니니를 올리고 모양을 내며 굽는다.  9. 양파를 잘게 썰고, 참치 통조림의 기름을 뺀다.  10. 볼에 잘게 썬 양파, 참치, 마요네즈를 넣고 섞어 참치 샐러드를 만든다.  11. 속을 파낸 식빵을 밀대로 얇게 민다.  12. 얇게 편 식빵에 잘게 썬 양상추와 참치샐러드를 넣고 돌돌 만다.  13. 구운 파니니를 적당한 크기로 잘라 도시락에 담는다.  14. 참치 샐러드를 넣은 식빵말이를 유산지로 감싸 도시락에 담는다.\"),\n",
       " Document(metadata={'id': 1067, 'img': 'https://pbbsres.kbs.co.kr/t2019-0286-04-296340/2023/03/17/2188293_batch_솔방울향스테이크.jpg', 'video': ''}, page_content=\"차예련 - '솔방울 훈연 스테이크' 레시피 ||| 솔방울 1개, 럼주 약간, 채끝살 500g, 소금 약간, 통후춧가루 약간 ||| 재료 준비 1. 잘 말린 솔방울을 준비해 스테인리스 그릇에 담아준다. 1. 달군 팬에 고기를 올리고 소금, 통후춧가루를 앞뒤로 뿌려준다. 2. 고기는 겉면을 모두 노릇하게 초벌로 구워준다. 3. 프라이팬 위에 솔방울이 담긴 스테인리스 그릇을 올리고, 솔방울에 럼주를 살짝 적셔준다. 4. 프라이팬 빈 자리에 초벌로 구워둔 고기를 넣어준다. 5. 이후 솔방울에 토치로 불을 붙여준 뒤 바로 프라이팬 뚜껑을 닫아 연기를 가둬준 후, 3분 간 훈연한다. 6. 훈연한 고기는 먹을 때 썰어서 팬에 구워주면 솔방울 향이 살아있는 스테이크가 됩니다.\"),\n",
       " Document(id='37e979e7-fde5-449f-b52d-58294af07c6e', metadata={'id': 634, 'img': 'https://pbbsres.kbs.co.kr/t2019-0286-04-296340/2022/02/04/1592086_batch_까르보나라.png', 'video': 'https://www.youtube.com/watch?v=vs-_FOyd-AE&pp=ygU766WY7IiY7JiBIC0gJ-ybkO2MrCDsubTrpbTrs7TrgpjrnbwnIOugiOyLnO2UvCDtjrjsiqTthqDrnpE%3D'}, page_content=\"류수영 - '원팬 카르보나라' 레시피 ||| 물 700ml, 링귀니면 1인분, 마늘 3개, 올리브유, 소금 1/2t, 페퍼론치노 3알, 그라나파다노치즈 날달걀 1개, 후추 ||| 1. 궁중팬에 물 700ml를 넣은 뒤 링귀니면 1인분을 넣어준다. 200ml 종이컵 기준 3컵 반 넣으시면 됩니다 면 익는 시간을 고려해 링귀니면을 사용하는 것이 좋습니다 2. 치즈그라인더에 갈아준 마늘 2개, 올리브유 2T, 소금 1/2t, 페퍼론치노 3알을 넣고 뚜껑을 연채로 강불에 12분간 졸여준다. 뚜껑은 꼭 열고 졸여주세요 닫으면 국물이 졸아들지 않습니다 까르보나라 만들 때는 페퍼론치노 양을 3알로 줄여주세요 3. 12분 후 불을 줄여주고 팬을 흔들어가며 섞어준다. 유화가 되도록 흔들어가며 섞어주는 것이 중요합니다 4. 국물이 3-4숟가락 남았을 때 불을 꺼주고 올리브유 1T, 치즈그라인더로 갈아준 마늘 1개를 넣어 섞어준다. 5. 치즈그라인더에 그라노파다노치즈를 갈아 뿌려준다. 그라나파다노치즈가 없으신 분들은 피자 먹고 남은 파마산치즈를 뿌려도 됩니다 알리오 올리오보다는 그라나파다노치즈를 많이 갈아 뿌려주세요 6. 약불로 켜준 뒤 치즈가 녹을 때까지 섞어주고 불을 바로 꺼준다. 걸쭉하면서도 크림 같은 질감이 나오면 불을 바로 꺼주세요 레시피 6번까지는 류수영의 원팬 알리오올리오와 레시피가 동일합니다 7. 날달걀 1개를 넣고 달걀이 익기 전에 빨리 섞어준다. 노른자가 익지 않도록 빨리 섞어주는 것이 중요합니다 8. 후추를 갈아 뿌려주고 뒤적여준 뒤 그릇에 예쁘게 플레이팅 해준다. 9. 치즈그라인더에 그라나파다노치즈를 갈아 뿌려주고, 후추도 갈아 뿌려 주면 완성. 그라나파다노치즈가 없으신 분들은 피자 먹고 남은 파마산치즈를 뿌려도 됩니다\"),\n",
       " Document(metadata={'id': 120784, 'img': 'https://recipe1.ezmember.co.kr/cache/recipe/2016/08/02/b77a845fc0a0c599bbd426647c5285671.jpg', 'views': '7,643', 'video': '', 'category': '도시락', 'date': '2016-08-02'}, page_content='크래미 유부초밥 불 안 쓰는 요리 ||| 유부, 오이, 크래미, 밥, 검은깨, [크래미소스] 마요네즈, 연겨자, 후추 ||| 크래미는 잘게 찢고, 오이는 채 썰어서 준비 오이는 소금 살짝 크래미 2개 기준 오이 반컵 마요네즈 2T, 연겨자 0. 5T, 후추 톡톡 입맛에 맞게 조절하세요. 유부 자체에 간이 되어 있는 편이라 따로 밥에 양념은 하지 않았어요. 꼬마 유부라 한 입에 쏘옥 들어가는 사이즈 크래미와 밥 양은 11 비율이 좋은 듯해요. 검은깨를 올려주니 더욱 먹음직스러워진 유부초밥. ||| 도시락 ||| 1인분 30분 이내 초급 ||| 크래미가 안에 있어 깔끔하게 먹기 좋아요 불 안 쓰는 요리 핑거푸드'),\n",
       " Document(id='b73133c4-9a22-4ddf-af7f-6f11dc29ad0d', metadata={'id': 99526, 'img': 'https://recipe1.ezmember.co.kr/cache/recipe/2018/03/14/7a1836e569b652fc24288d12555088ce1.jpg', 'views': '4,163', 'video': '', 'category': '간식', 'date': '2018-03-14'}, page_content='프라이팬에 구워 먹는 폭신폭신 부드러운 계란빵 혹은 식빵오믈렛 ||| 식빵-2장, 계란-3개, 냉장고속채소, 적당량, 슬라이스치즈-1~2장, 소금, 버터나 식용유-1큰술, 토마토케첩 ||| 계란 알끈을 제거하고 소금을 약간 넣어 풀어 놓는다. 냉장고 속 채소와 햄, 치즈 등을 잘게 썰어 넣는다 여기서는 파와 양파, 치즈를 넣어 주었음, 이도저도 없으면 빵과 계란만으로도 오케이. 식빵을 손으로 찢어 계란물과 섞는다. 모든 재료를 잘 섞는다. 이때 우유를 넣으면 더욱 부드럽다. 달군 프라이팬에 현미유나 버터를 넣고 재료를 동그랗게 붓는다. 불을 약불로 줄이고 뚜껑을 덮어 익힌다. 제법 두꺼워서 뒤지개로 뒤집는 게 어려워 접시를 이용했다 이렇게 프라이팬 위에 접시를 얹고 프라이팬째로 뒤집으면 쉽다. 뒤집은 다음. 역시 약불에 뚜껑을 덮고 타지 않도록 조심하며 익힌다. 골고루 잘 익으면 모양을 내서 자른다. 집에서 만든 자연식 토마토케첩이나 토마토잼을 발라 먹으면 더 맛잇다. ||| 간식 ||| 2인분 30분 이내 초급 ||| 식빵을 먹다 한두 장 남았을 때 냉동실에 던져 놓는데 그것을 이용해도 좋고 식빵껍질로 만들어도 좋은 전형적인 냉장고 파먹기 레시피인데 오븐 없이 프라이팬으로 간단히 만들 수 있어서 더욱 좋아요'),\n",
       " Document(metadata={'id': 875, 'img': '', 'video': 'https://www.youtube.com/watch?v=FnYQXdMWcEg&pp=ygU07KCV7ZiV64-IICfrj4jri6zrj4jri6wgKyDsl6zrs7Qg67ClIOyViCDslYjsuZjri4g_Jw%3D%3D', 'ingredients_list': \"['멸치볶음', '방울토마토', '식빵', '곰탕라면', '달걀', '마늘', '즉석밥', '식용유', '참기름', '식초', '맛술', '간장', '전분', '깨']\"}, page_content=\"정형돈 '돈달돈달 + 여보 밥 안 안치니?' ||| 멸치볶음,    방울토마토,    식빵,    곰탕라면,    달걀,    마늘,    즉석밥,   식용유,    참기름,    식초,    맛술,    간장,    전분,    깨 |||   1. 마늘을 다진다.  2. 즉석밥을 전자레인지에 넣고 돌린다.  3. 식용유와 참기름을 두른 팬에 다진 마늘을 넣고 볶는다.  4. 지퍼백에 방울토마토를 넣고 으깬다.  5. 마늘을 볶던 팬에 으깬 방울토마토를 넣고 함께 볶는다.  6. 식빵을 썰어 마른 팬에 굽는다.  7. 볶던 재료에 식초, 맛술을 넣는다.  8. 7에 물, 간장, 곰탕라면 분말수프를 넣고 끓인다.  9. 전분, 달걀, 물을 섞는다.  10. 밥에 멸치볶음을 넣어 주먹밥을 만든다.  11. 주먹밥에 달걀전분물을 묻혀 기름에 튀긴다.  12. 토마토탕에 달걀전분물을 넣고 저어준다.  13. 그릇에 토마토 달걀탕을 부은 뒤, 구운 식빵을 올린다.  14. 튀긴 주먹밥에 깨를 묻혀 낸다.\"),\n",
       " Document(id='087c91d4-450c-4b2e-a8f4-c37a942e0ea4', metadata={'id': 988, 'img': '', 'video': 'https://www.youtube.com/watch?v=69fYvO_td0Q&pp=ygUY66-47Lm07JeYICftjIzti7DruYTtlIQn', 'ingredients_list': \"['즉석밥', '등심 1장', '느타리버섯', '양송이 버섯', '양상추', '양파 반 개', '총각김치', '쌈장 2TS', '생크림 한 컵']\"}, page_content=\"미카엘 '파티비프' ||| 즉석밥,    등심 1장,    느타리버섯,    양송이 버섯,    양상추,    양파 반 개,    총각김치,    쌈장 2TS,    생크림 한 컵 |||   1. 청고추에 칼집을 내고 그릴팬에 굽는다.  2. 고기와 양파는 채썰고 양송이 버섯도 편으로 썰어 팬에 볶는다.  3. 2에 고기에 쌈장과 생크림을 넣고 볶는다.  4. 3에 다진 총각김치를 넣고 후추를 뿌린다.  5. 접시에 밥을 놓고 주위에 볶은 고기를 얹는다.  6. 중앙에 총각김치를 올린다.\"),\n",
       " Document(metadata={'id': 27, 'img': 'https://pbbsres.kbs.co.kr/t2019-0286-04-296340/2020/03/06/708722_꼬꼬빵(완).png', 'video': 'https://www.youtube.com/watch?v=0oxbDFBiayo&pp=ygUs7J206rK96recIC0g6rys6rys67m1IOugiOyLnO2UvCDtjrjsiqTthqDrnpE%3D'}, page_content='이경규 - 꼬꼬빵 레시피 ||| (6개 기준) [훠이텅 요리 재료] 설탕 400g, 물 500ml, 달걀노른자 6개, 바닐라 빈 1개 [빵 요리 재료] 생 이스트 14g, 생크림 150ml, 실온에 둔 무염버터 50g, 달걀 1개, 소금 5g, 설탕 30g, 강력분 300g ||| [훠이텅 조리 방법] 1. 달걀노른자 6개를 체에 부어 달걀 힘줄 부분을 제거한다. 2. 500ml 물, 400g 설탕, 1개의 바닐라 빈을 냄비에 넣고 가열한다. 이때 설탕이 물에 녹을 때까지 중불로 가열하고, 적당히 저어 준다. 3. 설탕이 물에 완전히 용해되고 시럽이 버블링되면 바닐라 빈을 제거한다. 4. 체에 여과해놓은 달걀노른자를 짤 주머니를 채워 넣는다. (짤 주머니 끝을 1mm정도 자르고, 달걀노른자가 얇게 통과할 수 있도록 만든다) 5. 끓는 시럽 물에 깔때기로 원을 그리며 달걀노른자를 통과 시킨다 6. 1분 뒤, 시럽 물에서 조심스럽게 훠이텅을 건져내어 접시에 펼쳐 보관한다 (체에 걸러 최대한 설탕 물기를 제거할 것) 7. 완성된 훠이텅을 넣기 좋게 가위로 상하, 좌우 한 번씩 잘라 준다 [꼬꼬빵 조리 방법] 1. 강력분을 반죽기 볼에 담아준다. 2. 강력분에 홈을 세 개 파고 소금 5g, 생 이스트 14g, 설탕 30g을 넣은 뒤 잘 섞는다. (소금과 이스트가 닿으면 발효가 안 되기 때문에 주의할 것) 3. 그 위에 달걀을 넣고, 생크림 150ml 부은 뒤 반죽기를 돌린다. 4. 1-2분 뒤 실온에 둔 버터를 넣어주고 20분 가량 반죽기를 돌린다. 5. 반죽을 꺼내 동그랗게 말아서 볼에 담은 뒤 랩을 덮어 40도 가량 습도가 높은 곳에서 460분 정도 발효시킨다. 6. 발효가 끝나면 반죽을 꺼내서 가스를 빼준다. 7. 90g씩 떼어 둥글린 후, 랩을 씌워 실온에 1015분 정도 중간 발효를 시켜준다. 8. 발효가 끝나면, 랩을 제거하고 반죽을 살짝 눌러 가스를 빼준다. 9. 밀대로 살짝 밀어 반죽을 편 후, 젓가락으로 훠이텅 40g을 넣고 만두처럼 끝을 꼬집어 마무리한다. 주름진 부분을 밑으로 가게 해서 오븐 팬에 올려준다. 10. 팬에 올린 상태로 랩을 덮어 30분 정도 2차 발효를 한다. 11. 오븐에 180도에서 20분 구워준다 12. 오븐에서 꺼낸 뒤, 녹인 버터를 발라주면 완성'),\n",
       " Document(id='4c3bfc8f-1fdf-4e1a-820a-e75d8b7ec764', metadata={'id': 1754, 'img': 'https://pbbsres.kbs.co.kr/t2019-0286-04-296340/2024/11/01/2786435_11.jpg', 'video': 'https://www.youtube.com/watch?v=LY9Kdp7ZKCU&pp=ygVI7J207KCV7ZiEIC0gJ-u5qOyjvOuFuOy0iCDtjIztlITrpqzsubQg7KO866i567ClJyDroIjsi5ztlLwg7Y647Iqk7Yag656R'}, page_content=\"이정현 - '빨주노초 파프리카 주먹밥' 레시피 ||| 빨간색, 주황색, 노란색, 초록색 파프리카 각각 1/4개(*초록색 파프리카는 초록색 피망으로 대체 가능), 식용유, 쌀밥 280g, 참기름, 소금, 깨 소고기 다짐육 100g, [소고기양념장] 양조간장 1/2T, 프락토 올리고당 1/2T(*올리고당 대체 가능), 참기름 1/2T ||| [재료 준비] 1. [소고기양념장] 양조간장 1/2T, 올리고당 1/2T, 참기름 1/2T를 섞는다. 2. 쌀밥 280g에 참기름, 소금, 깨를 약간씩 넣고 간을 한다. [빨주노초 파프리카 주먹밥 만들기] 1. 빨간색, 주황색, 노란색, 초록색 파프리카 1/4개는 각각 씨를 제거하고 다진다. 2. 팬에 식용유를 두르고 파프리카에 소금 약간 뿌려 볶아준다. 파프리카 색이 섞이지 않게 각각 볶아주세요 3. 팬에 식용유를 두르고 강불에 소고기 다짐육을 볶는다. 4. 고기가 어느 정도 익으면 [소고기양념장]을 넣고 볶는다. 5. 파프리카에 볶은 소고기를 20g씩, 쌀밥은 70g씩 나눠 섞는다. 6. 골고루 섞은 뒤, 밥을 동그랗게 뭉쳐주면 완성.\"),\n",
       " Document(metadata={'id': 45373, 'img': 'https://recipe1.ezmember.co.kr/cache/recipe/2023/07/05/a40563370f802b16661c25e18f397cbd1.jpg', 'views': '968', 'video': '', 'category': '초스피드', 'date': '2023-07-05'}, page_content='간단하게 만드는 시원한 오이냉국 레시피 불 안 쓰는 요리 ||| 오이-1개, 홍고추-1개, 청고추-1개, [오이냉국 밑간] 소금-0. 5T, 설탕-1T, 다진마늘-0. 5T, 연두-1T, 식초-1. 5T ||| 오이는 깨끗이 씻어 먹기 좋게 채 썰어 주세요 오이의 양끝은 쓴맛이 날 수 있으니 잘라내 주세요. 약 0. 5cm 정도로 어슷 썰고. 비슷한 굵기로 채 썰었어요. 오이냉국 밑간을 해 주세요. 먹기 전 밑간해 둔 오이냉국에 얼음을 넣고. 재료가 충분히 잠길 만큼 물을 넣어 주세요 이때 간을 보고 부족한 간은 소금과 식초로 채워 주세요. 호둘짱은 새콤한 맛을 좋아해서 식초 0. 5 정도 추가했어요. 청양고추 1개, 홍고추 1개 쫑쫑 썰어 넣어 줬어요. 통깨 팍팍 넣어 휘휘 저어 주면 불 안 쓰는 요리 간단한 오이냉국 완성이랍니다. 오이 1개로 한 끼에 뚝딱하는 초간단 오이 냉국이랍니다). 홍고추 송송 들어가니 확실히 색이 이쁘죠. ||| 초스피드 ||| 2인분 10분 이내 아무나 ||| 여름이 무르익으니 뜨거운 찌개나 국보다는 시원한 냉국이 생각나는 요즘이예요 불 앞에만 서 있어도 땀나기 시작하는 요즘 비빔밥하며 된장국 끓이려다 더워서 급선회한 오이냉국 하나면 여름 밥상 차리기 어렵지 않죠 불안 쓰는 요리 만드는 방법 시작할게요'),\n",
       " Document(id='6ef907d0-ada4-488e-9ab7-9becb6789e76', metadata={'id': 107210, 'img': 'https://recipe1.ezmember.co.kr/cache/recipe/2015/03/18/c1747006fde6839a169d3ea179d9db8f1.jpg', 'views': '19,126', 'video': '', 'category': '간식', 'date': '2014-04-18'}, page_content='불고기참치 또띠아피자 만들기 ||| 또띠아-1장, 불고기참치-1캔, 양파-0. 4쪽, 스파게티소스, 피자치즈, 옥수수콘 ||| 불고기참치는 옥수수콘과 함께 프라이팬에 달달 볶아서 수분을 날려 주세요. 양파를 썬 후에 프라이팬에 기름을 둘러 볶아 줍니다. 다른 프라이팬에 또띠아를 올린 후, 스파게티소스를 바르고 볶아 놓은 양파를 올려 주세요. 볶아 놓은 불고기참치도 올려 줍니다. 피자치즈를 올려서 뚜껑 덮고 중약불에서 치즈가 녹을 때까지 구워 주세요. ||| 간식 ||| 30분 이내 초급 ||| 프라이팬으로 만드는 불고기참치 또띠아 피자'),\n",
       " Document(metadata={'id': 259, 'img': 'https://fs.jtbc.co.kr/joydata/CP00000001/prog/enter/janggo/img/20171128_121147_630.jpg', 'video': 'https://tv.jtbc.co.kr/vod/pr10010331/pm10031085/vo10194925/view', 'ingredients_list': \"['호박즙', '새우', '오징어', '바지락', '모차렐라치즈', '마늘종장아찌', '칵테일소스', '밀가루', '마늘', '홍고추', '양파', '올리브오일', '소금', '후추', '버터', '대파']\"}, page_content=\"미카엘&샘킴 '봉골레 안 먹고 가시나♬' ||| 호박즙,    새우,    오징어,    바지락,    모차렐라치즈,   마늘종장아찌,    칵테일소스,    밀가루,    마늘,    홍고추,   양파,    올리브오일,    소금,    후추,    버터,    대파 |||   1. 밀가루를 체에 거른다.  2. 체에 거른 밀가루에 호박즙을 넣어 반죽한다.  3. 기름을 두른 냄비에 편으로 썬 마늘, 손질한 새우와 오징어, 잘게 썬 홍고추와 바지락, 물을 넣고 끓여 봉골레스튜를 만든다.  4. 빵반죽을 밀대로 밀어 넓게 편 뒤, 모차렐라치즈를 넣고 접어 빵 모양을 잡아 피타빵을 만든다.  5. 치즈를 넣은 피타빵을 그릴팬에 굽는다.  6. 양파, 마늘종장아찌를 잘게 썬 뒤, 칵테일소스, 올리브오일과 섞어 소스를 만든다.  7. 기름을 두른 팬에 손질한 새우를 굽다가 소금, 후추로 간 한다.  8. 마늘을 잘게 다진 뒤, 버터를 섞어 갈릭버터를 만든다.  9. 피타빵에 갈릭버터를 발라가며 굽는다.  10. 봉골레스튜에 구운 새우와 잘게 썬 대파를 넣는다.  11. 피타빵을 접시에 담아낸다.\"),\n",
       " Document(id='8fdcace1-2c9d-4684-914a-cbd37fa027f9', metadata={'id': 670, 'img': 'https://fs.jtbc.co.kr/prog/enter/janggo/Img/20150922_111116_1711.jpg', 'video': 'https://tv.jtbc.co.kr/vod/pr10010331/pm10031085/vo10080370/view', 'ingredients_list': \"['불고기', '오레가노', '피자', '달걀', '살라미', '파', '다진 마늘', '진간장', '설탕', '참기름', '소금', '양파', '후추', '버터']\"}, page_content=\"이원일 '피자 말아또' ||| 불고기,    오레가노,    피자,    달걀,    살라미,    파,    다진 마늘,    진간장,    설탕,    참기름,    소금,    양파,    후추,    버터 |||   1. 다진 파, 다진 마늘, 진간장, 설탕, 참기름을 섞어 양념을 만든다.  2. 불고기를 양념에 버무린 뒤, 오레가노를 넣어 섞는다.  3. 피자조각의 끝부분을 잘라내고 반을 자른 뒤, 네모난 모양으로 합친다.  4. 달걀물에 소금을 넣는다.  5. 버터를 두른 팬에 달걀지단을 부친다.  6. 달걀지단의 한쪽 면만 익힌 뒤, 위에 피자를 올린다.  7. 양파와 파를 잘게 썰어 팬에 넣고 소금, 후추 간을 해서 볶는다.  8. 7에 잘게 썬 살라미, 버터를 넣고 함께 볶는다.  9. 피자 위에 볶은 재료들을 올린다.  10. 불고기를 팬에 볶는다.  11. 볶은 불고기를 피자 위에 올린 뒤, 달걀지단으로 돌돌 말아준다.  12. 피자달걀말이를 그릴팬에 올려 굽는다.  13. 피자달걀말이를 썰어 접시에 담아낸다.\"),\n",
       " Document(metadata={'id': 626, 'img': 'https://pbbsres.kbs.co.kr/t2019-0286-04-296340/2022/01/28/1578807_batch_삼겹잡채.jpg', 'video': 'https://www.youtube.com/watch?v=xV5Ej8h5Nk0&pp=ygUy66WY7IiY7JiBIC0gJ-yCvOqyuSDsnqHssYQnIOugiOyLnO2UvCDtjrjsiqTthqDrnpE%3D'}, page_content=\"류수영 - '삼겹 잡채' 레시피 ||| 알배추 15장, 대파 1대, 당근 1/2개, 마늘 10개, 생강 3g, 삼겹살 300g, 당면 300g, 양조간장 5T, 설탕 3T, 식초 1/2T, 물 100ml 카놀라유, 소금, 청하 1뚜껑, 참기름 3T, 깨 ||| 재료 준비 1. 알배추 15장을 배추 결에 따라 세로로 길쭉하게 썰어준다. 2. 대파 1대의 가운데를 가른 후 5cm 정도로 썰어준다. 3. 당근 1/2개도 채 썰어준다. 4. 마늘 10개를 칼로 으깨준 후 식감 있게 다져준다. 5. 생강 3g을 잘게 다져준다. 1. 삼겹살 300g을 얇게 썰어준 후 다져준다. 고기를 직접 다져 쓰면 잡채를 더 오래 두고 먹을 수 있습니다 2. 끓는 물에 안 불린 당면 300g을 넣고 6분간 삶아준다. 이후 재빠르게 찬물로 헹궈준 뒤 물기를 빼준다. 찬물에 바로 식히지 않고 그냥 두면 잔열로 인해 당면이 계속 불어요 3. 양조간장 5T, 설탕 3T, 식초 1/2T, 물 100ml를 넣고 섞어 양념장을 만들어준다. 레시피 3번까지 모두 준비해놓은 후 요리하시는 것이 편리합니다 4. 궁중팬에 카놀라유 1바퀴를 두른 뒤 연기가 날 때까지 달궈준다. 인덕션 같은 경우에는 인덕션에 닿는 면적이 넓어야 하므로 넓은 프라이팬을 쓰는 게 추천합니다 5. 하얀 연기가 올라오면 1의 다져준 삼겹살, 소금 2꼬집, 청하 1뚜껑을 넣고 볶아준다. 잘 녹는 가는소금을 사용하는 것이 좋습니다 6. 5의 고기가 바짝 익으면 준비한 마늘과 생강을 넣고 볶아준다. 7. 향이 올라오면 준비한 당근과 소금 한 꼬집을 넣고 볶아준다. 8. 당근이 어느 정도 볶아졌을 때 준비한 대파와 소금 한 꼬집을 넣고 더 볶아준 뒤 알배추를 넣어주고 소금 한 꼬집을 뿌려 볶아준다. 모든 재료에 간을 해주며 간의 레이어드를 쌓아주는 것이 중요합니다 9. 당면을 넣어 뒤적여준 뒤 3의 양념을 넣고 양념이 조려질 때까지 볶아준다. 10. 양념이 다 조려지면 가스불을 꺼준 뒤 참기름 3T, 깨를 많이 넣어 섞어주면 완성.\"),\n",
       " Document(id='d209db78-9767-4876-b86c-4fb2917a7107', metadata={'id': 1298, 'img': 'https://pbbsres.kbs.co.kr/t2019-0286-04-296340/2023/09/15/2384792_batch_잔멸치대파피자.png', 'video': 'https://www.youtube.com/watch?v=JCjc-2jqrVI&pp=ygU67J207KCV7ZiEIC0gJ-yelOupuOy5mOuMgO2MjO2UvOyekCcg66CI7Iuc7ZS8IO2OuOyKpO2GoOuekQ%3D%3D'}, page_content=\"이정현 - '잔멸치대파피자' 레시피 ||| 또띠아 1장, 대파 1줄, 식용유, 잔멸치 한 줌, 설탕 2T, 피자치즈 한 줌, 요거트 1t, 마요네즈 1t, 다진 마늘 조금, 건조마늘가루 조금, 소금 한 꼬집, 꿀 ||| [재료 준비] 1. 마른 팬에 잔멸치 한 줌, 설탕 2T를 넣고 바삭해질 때까지 약불로 덖어준다. 2. 대파는 송송 썰어준다. 3. 달군 팬에 기름를 두르고 대파와 건조마늘가루 조금을 넣고 볶아준다. [잔멸치대파피자 만들기] 1. 또띠아에 마요네즈 1t다진 마늘 조금요거트 1t 순으로 펴바른다. 2. 피자치즈 한 줌, 소금 약간을 뿌리고 180도로 예열한 오븐에 5분 정도 굽는다. 3. 피자를 오븐에서 꺼낸 후 위에 볶은 파와 잔멸치를 뿌린다. 4. 오븐에 다시 1분 정도 돌린 후 취향에 따라 꿀을 뿌려주면 완성\"),\n",
       " Document(metadata={'id': 52988, 'img': 'https://recipe1.ezmember.co.kr/cache/recipe/2018/08/06/2ed3ce81dee8d119fe84bc8b7a8f95bc1.jpg', 'views': '2,520', 'video': '', 'category': '초스피드', 'date': '2018-08-06'}, page_content='불 안 쓰는 요리 맛집을 집에서 간단히 꼬막 비빔밥 ||| 꼬막 통조림-2캔, 밥-2공기, 대파 흰 부분-1개, 청양고추-3개, 양파-1/2개, 고춧가루-1큰술, 꼬막 통조림 국물-2큰술, 간장-2큰술, 참기름-1큰술, 다진 마늘-1큰술, 통깨, 약간 ||| 통조림 꼬막을 체에 밭쳐 물기를 제거해 주세요. 채소를 썰어 준비해 주세요. 양념장을 만들어 주세요. 양념한 꼬막 1/2과 밥 2공기를 넣어 잘 비벼 주세요. ||| 초스피드 ||| 2인분 10분 이내 아무나 ||| 통조림 캔으로 맛집을 따라해 봤어요'),\n",
       " Document(id='86d09567-1481-4327-8dc0-c0d76ed29bd9', metadata={'id': 187946, 'img': 'https://recipe1.ezmember.co.kr/cache/recipe/2017/04/21/8e7bdcbc247f1aefcee84825a2fa38381.jpg', 'views': '18,087', 'video': '', 'category': '일상', 'date': '2017-04-21'}, page_content='너무 이쁜 요리 데코 방법 공개 파프리카 프라이 ||| [필수 재료] 파프리카-1개, 달걀-4개, [양념 재료] 소금, 약간, 후추, 약간, 파마산 치즈가루, 약간 ||| 파프리카는 링으로 썰어 준비한다. 팬에 기름을 두르고 파프리카를 올린다. 파프리카 안에 달걀을 깨어 넣는다. 소금, 후추, 파마산 치즈 가루를 넣어 반숙으로 익혀 완성한다. ||| 일상 ||| 2인분 10분 이내 아무나 ||| 파프리카 안에 귀여운 노른자가 송송소금 후추 톡톡 치즈까지 주우욱 세상의 모든 레시피 만개의 레시피')]"
      ]
     },
     "execution_count": 40,
     "metadata": {},
     "output_type": "execute_result"
    }
   ],
   "source": [
    "version4().invoke(\"프라이팬 안 쓰는 요리\")"
   ]
  },
  {
   "cell_type": "code",
   "execution_count": 23,
   "metadata": {},
   "outputs": [
    {
     "data": {
      "text/plain": [
       "[Document(metadata={'id': 52988, 'img': 'https://recipe1.ezmember.co.kr/cache/recipe/2018/08/06/2ed3ce81dee8d119fe84bc8b7a8f95bc1.jpg', 'views': '2,520', 'video': '', 'category': '초스피드', 'date': '2018-08-06'}, page_content='불 안 쓰는 요리 맛집을 집에서 간단히 꼬막 비빔밥 ||| 꼬막 통조림-2캔, 밥-2공기, 대파 흰 부분-1개, 청양고추-3개, 양파-1/2개, 고춧가루-1큰술, 꼬막 통조림 국물-2큰술, 간장-2큰술, 참기름-1큰술, 다진 마늘-1큰술, 통깨, 약간 ||| 통조림 꼬막을 체에 밭쳐 물기를 제거해 주세요. 채소를 썰어 준비해 주세요. 양념장을 만들어 주세요. 양념한 꼬막 1/2과 밥 2공기를 넣어 잘 비벼 주세요. ||| 초스피드 ||| 2인분 10분 이내 아무나 ||| 통조림 캔으로 맛집을 따라해 봤어요'),\n",
       " Document(metadata={'id': 45373, 'img': 'https://recipe1.ezmember.co.kr/cache/recipe/2023/07/05/a40563370f802b16661c25e18f397cbd1.jpg', 'views': '968', 'video': '', 'category': '초스피드', 'date': '2023-07-05'}, page_content='간단하게 만드는 시원한 오이냉국 레시피 불 안 쓰는 요리 ||| 오이-1개, 홍고추-1개, 청고추-1개, [오이냉국 밑간] 소금-0. 5T, 설탕-1T, 다진마늘-0. 5T, 연두-1T, 식초-1. 5T ||| 오이는 깨끗이 씻어 먹기 좋게 채 썰어 주세요 오이의 양끝은 쓴맛이 날 수 있으니 잘라내 주세요. 약 0. 5cm 정도로 어슷 썰고. 비슷한 굵기로 채 썰었어요. 오이냉국 밑간을 해 주세요. 먹기 전 밑간해 둔 오이냉국에 얼음을 넣고. 재료가 충분히 잠길 만큼 물을 넣어 주세요 이때 간을 보고 부족한 간은 소금과 식초로 채워 주세요. 호둘짱은 새콤한 맛을 좋아해서 식초 0. 5 정도 추가했어요. 청양고추 1개, 홍고추 1개 쫑쫑 썰어 넣어 줬어요. 통깨 팍팍 넣어 휘휘 저어 주면 불 안 쓰는 요리 간단한 오이냉국 완성이랍니다. 오이 1개로 한 끼에 뚝딱하는 초간단 오이 냉국이랍니다). 홍고추 송송 들어가니 확실히 색이 이쁘죠. ||| 초스피드 ||| 2인분 10분 이내 아무나 ||| 여름이 무르익으니 뜨거운 찌개나 국보다는 시원한 냉국이 생각나는 요즘이예요 불 앞에만 서 있어도 땀나기 시작하는 요즘 비빔밥하며 된장국 끓이려다 더워서 급선회한 오이냉국 하나면 여름 밥상 차리기 어렵지 않죠 불안 쓰는 요리 만드는 방법 시작할게요'),\n",
       " Document(metadata={'id': 120784, 'img': 'https://recipe1.ezmember.co.kr/cache/recipe/2016/08/02/b77a845fc0a0c599bbd426647c5285671.jpg', 'views': '7,643', 'video': '', 'category': '도시락', 'date': '2016-08-02'}, page_content='크래미 유부초밥 불 안 쓰는 요리 ||| 유부, 오이, 크래미, 밥, 검은깨, [크래미소스] 마요네즈, 연겨자, 후추 ||| 크래미는 잘게 찢고, 오이는 채 썰어서 준비 오이는 소금 살짝 크래미 2개 기준 오이 반컵 마요네즈 2T, 연겨자 0. 5T, 후추 톡톡 입맛에 맞게 조절하세요. 유부 자체에 간이 되어 있는 편이라 따로 밥에 양념은 하지 않았어요. 꼬마 유부라 한 입에 쏘옥 들어가는 사이즈 크래미와 밥 양은 11 비율이 좋은 듯해요. 검은깨를 올려주니 더욱 먹음직스러워진 유부초밥. ||| 도시락 ||| 1인분 30분 이내 초급 ||| 크래미가 안에 있어 깔끔하게 먹기 좋아요 불 안 쓰는 요리 핑거푸드')]"
      ]
     },
     "execution_count": 23,
     "metadata": {},
     "output_type": "execute_result"
    }
   ],
   "source": [
    "version5().invoke(\"프라이팬 안 쓰는 요리\")"
   ]
  },
  {
   "cell_type": "code",
   "execution_count": 41,
   "metadata": {},
   "outputs": [
    {
     "data": {
      "text/plain": [
       "[Document(metadata={'id': 395, 'img': 'https://fs.jtbc.co.kr/prog/enter/janggo/Img/20151229_102856_7914.jpg', 'video': 'https://tv.jtbc.co.kr/vod/pr10010331/pm10031085/vo10089513/view', 'ingredients_list': \"['브로콜리', '북어채', '새우', '다진 청양고추', '대파', '마늘', '라면', '올리브 오일']\"}, page_content=\"오세득 '개천에서 용 났새우' ||| 브로콜리,    북어채,    새우,    다진 청양고추,    대파,    마늘,    라면,    올리브 오일 |||   1. 브로콜리를 적당한 크기로 썰어 소금을 넣은 끓는 물에 데친다.  2. 데친 브로콜리를 그릴팬에 굽는다.  3. 북어채에 기름을 두른 뒤, 전자레인지에 돌려 바삭하게 만든다.  4. 끓는 물에 라면을 삶는다.  5. 팬에 올리브 오일을 넉넉히 두른다.  6. 올리브 오일을 두른 팬에 두껍게 썬 마늘과 파를 넣고 볶아 향을 낸다.  7. 6에 새우와 다진 청양고추를 넣고 볶는다.  8. 양파를 잘게 다져 팬에 넣고 함께 볶는다.  9. 그릇에 구운 브로콜리를 담는다.  10. 삶은 면을 체에 밭쳐 물기를 뺀다.  11. 면에 재료들의 향이 밴 기름을 넣고 버무린다.  12. 면을 그릇에 담는다.  13. 면 위에 볶은 재료들을 올린다.  14. 바삭해진 북어채를 핸드블렌더에 넣고 간다.  15. 곱게 간 북어채를 요리 위에 뿌려 완성한다.\"),\n",
       " Document(metadata={'id': 1067, 'img': 'https://pbbsres.kbs.co.kr/t2019-0286-04-296340/2023/03/17/2188293_batch_솔방울향스테이크.jpg', 'video': ''}, page_content=\"차예련 - '솔방울 훈연 스테이크' 레시피 ||| 솔방울 1개, 럼주 약간, 채끝살 500g, 소금 약간, 통후춧가루 약간 ||| 재료 준비 1. 잘 말린 솔방울을 준비해 스테인리스 그릇에 담아준다. 1. 달군 팬에 고기를 올리고 소금, 통후춧가루를 앞뒤로 뿌려준다. 2. 고기는 겉면을 모두 노릇하게 초벌로 구워준다. 3. 프라이팬 위에 솔방울이 담긴 스테인리스 그릇을 올리고, 솔방울에 럼주를 살짝 적셔준다. 4. 프라이팬 빈 자리에 초벌로 구워둔 고기를 넣어준다. 5. 이후 솔방울에 토치로 불을 붙여준 뒤 바로 프라이팬 뚜껑을 닫아 연기를 가둬준 후, 3분 간 훈연한다. 6. 훈연한 고기는 먹을 때 썰어서 팬에 구워주면 솔방울 향이 살아있는 스테이크가 됩니다.\"),\n",
       " Document(metadata={'id': 120784, 'img': 'https://recipe1.ezmember.co.kr/cache/recipe/2016/08/02/b77a845fc0a0c599bbd426647c5285671.jpg', 'views': '7,643', 'video': '', 'category': '도시락', 'date': '2016-08-02'}, page_content='크래미 유부초밥 불 안 쓰는 요리 ||| 유부, 오이, 크래미, 밥, 검은깨, [크래미소스] 마요네즈, 연겨자, 후추 ||| 크래미는 잘게 찢고, 오이는 채 썰어서 준비 오이는 소금 살짝 크래미 2개 기준 오이 반컵 마요네즈 2T, 연겨자 0. 5T, 후추 톡톡 입맛에 맞게 조절하세요. 유부 자체에 간이 되어 있는 편이라 따로 밥에 양념은 하지 않았어요. 꼬마 유부라 한 입에 쏘옥 들어가는 사이즈 크래미와 밥 양은 11 비율이 좋은 듯해요. 검은깨를 올려주니 더욱 먹음직스러워진 유부초밥. ||| 도시락 ||| 1인분 30분 이내 초급 ||| 크래미가 안에 있어 깔끔하게 먹기 좋아요 불 안 쓰는 요리 핑거푸드'),\n",
       " Document(id='cb572e30-ac11-4ee6-b8ed-1201c44c6ed1', metadata={'id': 840, 'img': 'https://fs.jtbc.co.kr/prog/enter/janggo/Img/20160412_132025_2277.jpg', 'video': 'https://tv.jtbc.co.kr/vod/pr10010331/pm10031085/vo10103225/view', 'ingredients_list': \"['뜯어먹는 식빵', '장조림 통조림', '맛밤', '금귤', '참치 통조림', '양상추', '당근', '양파', '밀가루', '소금', '후추', '마요네즈', '']\"}, page_content=\"최현석 '파니니 안파니' ||| 뜯어먹는 식빵,    장조림 통조림,    맛밤,    금귤,    참치 통조림,   양상추,    당근,    양파,    밀가루,    소금,    후추,    마요네즈,    |||   1. 당근과 양파는 채 썰고, 금귤은 씨를 빼고 얇게 썬다.  2. 볼에 손질한 재료들과 장조림 통조림, 으깬 맛밤, 물과 밀가루를 넣고 반죽한다.  3. 반죽에 소금과 후추로 간을 한다.  4. 반죽을 적당한 크기로 덜어 기름에 튀긴다.  5. 튀김을 건져 기름기를 뺀다.  6. 뜯어먹는 식빵을 반으로 잘라 속을 파낸다.  7. 속을 파낸 식빵에 마요네즈를 바르고, 장조림&채소튀김을 넣은 뒤 다른 식빵으로 덮어 파니니를 만든다.  8. 마른 그릴팬에 파니니를 올리고 모양을 내며 굽는다.  9. 양파를 잘게 썰고, 참치 통조림의 기름을 뺀다.  10. 볼에 잘게 썬 양파, 참치, 마요네즈를 넣고 섞어 참치 샐러드를 만든다.  11. 속을 파낸 식빵을 밀대로 얇게 민다.  12. 얇게 편 식빵에 잘게 썬 양상추와 참치샐러드를 넣고 돌돌 만다.  13. 구운 파니니를 적당한 크기로 잘라 도시락에 담는다.  14. 참치 샐러드를 넣은 식빵말이를 유산지로 감싸 도시락에 담는다.\"),\n",
       " Document(id='37e979e7-fde5-449f-b52d-58294af07c6e', metadata={'id': 634, 'img': 'https://pbbsres.kbs.co.kr/t2019-0286-04-296340/2022/02/04/1592086_batch_까르보나라.png', 'video': 'https://www.youtube.com/watch?v=vs-_FOyd-AE&pp=ygU766WY7IiY7JiBIC0gJ-ybkO2MrCDsubTrpbTrs7TrgpjrnbwnIOugiOyLnO2UvCDtjrjsiqTthqDrnpE%3D'}, page_content=\"류수영 - '원팬 카르보나라' 레시피 ||| 물 700ml, 링귀니면 1인분, 마늘 3개, 올리브유, 소금 1/2t, 페퍼론치노 3알, 그라나파다노치즈 날달걀 1개, 후추 ||| 1. 궁중팬에 물 700ml를 넣은 뒤 링귀니면 1인분을 넣어준다. 200ml 종이컵 기준 3컵 반 넣으시면 됩니다 면 익는 시간을 고려해 링귀니면을 사용하는 것이 좋습니다 2. 치즈그라인더에 갈아준 마늘 2개, 올리브유 2T, 소금 1/2t, 페퍼론치노 3알을 넣고 뚜껑을 연채로 강불에 12분간 졸여준다. 뚜껑은 꼭 열고 졸여주세요 닫으면 국물이 졸아들지 않습니다 까르보나라 만들 때는 페퍼론치노 양을 3알로 줄여주세요 3. 12분 후 불을 줄여주고 팬을 흔들어가며 섞어준다. 유화가 되도록 흔들어가며 섞어주는 것이 중요합니다 4. 국물이 3-4숟가락 남았을 때 불을 꺼주고 올리브유 1T, 치즈그라인더로 갈아준 마늘 1개를 넣어 섞어준다. 5. 치즈그라인더에 그라노파다노치즈를 갈아 뿌려준다. 그라나파다노치즈가 없으신 분들은 피자 먹고 남은 파마산치즈를 뿌려도 됩니다 알리오 올리오보다는 그라나파다노치즈를 많이 갈아 뿌려주세요 6. 약불로 켜준 뒤 치즈가 녹을 때까지 섞어주고 불을 바로 꺼준다. 걸쭉하면서도 크림 같은 질감이 나오면 불을 바로 꺼주세요 레시피 6번까지는 류수영의 원팬 알리오올리오와 레시피가 동일합니다 7. 날달걀 1개를 넣고 달걀이 익기 전에 빨리 섞어준다. 노른자가 익지 않도록 빨리 섞어주는 것이 중요합니다 8. 후추를 갈아 뿌려주고 뒤적여준 뒤 그릇에 예쁘게 플레이팅 해준다. 9. 치즈그라인더에 그라나파다노치즈를 갈아 뿌려주고, 후추도 갈아 뿌려 주면 완성. 그라나파다노치즈가 없으신 분들은 피자 먹고 남은 파마산치즈를 뿌려도 됩니다\"),\n",
       " Document(id='b73133c4-9a22-4ddf-af7f-6f11dc29ad0d', metadata={'id': 99526, 'img': 'https://recipe1.ezmember.co.kr/cache/recipe/2018/03/14/7a1836e569b652fc24288d12555088ce1.jpg', 'views': '4,163', 'video': '', 'category': '간식', 'date': '2018-03-14'}, page_content='프라이팬에 구워 먹는 폭신폭신 부드러운 계란빵 혹은 식빵오믈렛 ||| 식빵-2장, 계란-3개, 냉장고속채소, 적당량, 슬라이스치즈-1~2장, 소금, 버터나 식용유-1큰술, 토마토케첩 ||| 계란 알끈을 제거하고 소금을 약간 넣어 풀어 놓는다. 냉장고 속 채소와 햄, 치즈 등을 잘게 썰어 넣는다 여기서는 파와 양파, 치즈를 넣어 주었음, 이도저도 없으면 빵과 계란만으로도 오케이. 식빵을 손으로 찢어 계란물과 섞는다. 모든 재료를 잘 섞는다. 이때 우유를 넣으면 더욱 부드럽다. 달군 프라이팬에 현미유나 버터를 넣고 재료를 동그랗게 붓는다. 불을 약불로 줄이고 뚜껑을 덮어 익힌다. 제법 두꺼워서 뒤지개로 뒤집는 게 어려워 접시를 이용했다 이렇게 프라이팬 위에 접시를 얹고 프라이팬째로 뒤집으면 쉽다. 뒤집은 다음. 역시 약불에 뚜껑을 덮고 타지 않도록 조심하며 익힌다. 골고루 잘 익으면 모양을 내서 자른다. 집에서 만든 자연식 토마토케첩이나 토마토잼을 발라 먹으면 더 맛잇다. ||| 간식 ||| 2인분 30분 이내 초급 ||| 식빵을 먹다 한두 장 남았을 때 냉동실에 던져 놓는데 그것을 이용해도 좋고 식빵껍질로 만들어도 좋은 전형적인 냉장고 파먹기 레시피인데 오븐 없이 프라이팬으로 간단히 만들 수 있어서 더욱 좋아요'),\n",
       " Document(metadata={'id': 875, 'img': '', 'video': 'https://www.youtube.com/watch?v=FnYQXdMWcEg&pp=ygU07KCV7ZiV64-IICfrj4jri6zrj4jri6wgKyDsl6zrs7Qg67ClIOyViCDslYjsuZjri4g_Jw%3D%3D', 'ingredients_list': \"['멸치볶음', '방울토마토', '식빵', '곰탕라면', '달걀', '마늘', '즉석밥', '식용유', '참기름', '식초', '맛술', '간장', '전분', '깨']\"}, page_content=\"정형돈 '돈달돈달 + 여보 밥 안 안치니?' ||| 멸치볶음,    방울토마토,    식빵,    곰탕라면,    달걀,    마늘,    즉석밥,   식용유,    참기름,    식초,    맛술,    간장,    전분,    깨 |||   1. 마늘을 다진다.  2. 즉석밥을 전자레인지에 넣고 돌린다.  3. 식용유와 참기름을 두른 팬에 다진 마늘을 넣고 볶는다.  4. 지퍼백에 방울토마토를 넣고 으깬다.  5. 마늘을 볶던 팬에 으깬 방울토마토를 넣고 함께 볶는다.  6. 식빵을 썰어 마른 팬에 굽는다.  7. 볶던 재료에 식초, 맛술을 넣는다.  8. 7에 물, 간장, 곰탕라면 분말수프를 넣고 끓인다.  9. 전분, 달걀, 물을 섞는다.  10. 밥에 멸치볶음을 넣어 주먹밥을 만든다.  11. 주먹밥에 달걀전분물을 묻혀 기름에 튀긴다.  12. 토마토탕에 달걀전분물을 넣고 저어준다.  13. 그릇에 토마토 달걀탕을 부은 뒤, 구운 식빵을 올린다.  14. 튀긴 주먹밥에 깨를 묻혀 낸다.\"),\n",
       " Document(metadata={'id': 27, 'img': 'https://pbbsres.kbs.co.kr/t2019-0286-04-296340/2020/03/06/708722_꼬꼬빵(완).png', 'video': 'https://www.youtube.com/watch?v=0oxbDFBiayo&pp=ygUs7J206rK96recIC0g6rys6rys67m1IOugiOyLnO2UvCDtjrjsiqTthqDrnpE%3D'}, page_content='이경규 - 꼬꼬빵 레시피 ||| (6개 기준) [훠이텅 요리 재료] 설탕 400g, 물 500ml, 달걀노른자 6개, 바닐라 빈 1개 [빵 요리 재료] 생 이스트 14g, 생크림 150ml, 실온에 둔 무염버터 50g, 달걀 1개, 소금 5g, 설탕 30g, 강력분 300g ||| [훠이텅 조리 방법] 1. 달걀노른자 6개를 체에 부어 달걀 힘줄 부분을 제거한다. 2. 500ml 물, 400g 설탕, 1개의 바닐라 빈을 냄비에 넣고 가열한다. 이때 설탕이 물에 녹을 때까지 중불로 가열하고, 적당히 저어 준다. 3. 설탕이 물에 완전히 용해되고 시럽이 버블링되면 바닐라 빈을 제거한다. 4. 체에 여과해놓은 달걀노른자를 짤 주머니를 채워 넣는다. (짤 주머니 끝을 1mm정도 자르고, 달걀노른자가 얇게 통과할 수 있도록 만든다) 5. 끓는 시럽 물에 깔때기로 원을 그리며 달걀노른자를 통과 시킨다 6. 1분 뒤, 시럽 물에서 조심스럽게 훠이텅을 건져내어 접시에 펼쳐 보관한다 (체에 걸러 최대한 설탕 물기를 제거할 것) 7. 완성된 훠이텅을 넣기 좋게 가위로 상하, 좌우 한 번씩 잘라 준다 [꼬꼬빵 조리 방법] 1. 강력분을 반죽기 볼에 담아준다. 2. 강력분에 홈을 세 개 파고 소금 5g, 생 이스트 14g, 설탕 30g을 넣은 뒤 잘 섞는다. (소금과 이스트가 닿으면 발효가 안 되기 때문에 주의할 것) 3. 그 위에 달걀을 넣고, 생크림 150ml 부은 뒤 반죽기를 돌린다. 4. 1-2분 뒤 실온에 둔 버터를 넣어주고 20분 가량 반죽기를 돌린다. 5. 반죽을 꺼내 동그랗게 말아서 볼에 담은 뒤 랩을 덮어 40도 가량 습도가 높은 곳에서 460분 정도 발효시킨다. 6. 발효가 끝나면 반죽을 꺼내서 가스를 빼준다. 7. 90g씩 떼어 둥글린 후, 랩을 씌워 실온에 1015분 정도 중간 발효를 시켜준다. 8. 발효가 끝나면, 랩을 제거하고 반죽을 살짝 눌러 가스를 빼준다. 9. 밀대로 살짝 밀어 반죽을 편 후, 젓가락으로 훠이텅 40g을 넣고 만두처럼 끝을 꼬집어 마무리한다. 주름진 부분을 밑으로 가게 해서 오븐 팬에 올려준다. 10. 팬에 올린 상태로 랩을 덮어 30분 정도 2차 발효를 한다. 11. 오븐에 180도에서 20분 구워준다 12. 오븐에서 꺼낸 뒤, 녹인 버터를 발라주면 완성'),\n",
       " Document(metadata={'id': 45373, 'img': 'https://recipe1.ezmember.co.kr/cache/recipe/2023/07/05/a40563370f802b16661c25e18f397cbd1.jpg', 'views': '968', 'video': '', 'category': '초스피드', 'date': '2023-07-05'}, page_content='간단하게 만드는 시원한 오이냉국 레시피 불 안 쓰는 요리 ||| 오이-1개, 홍고추-1개, 청고추-1개, [오이냉국 밑간] 소금-0. 5T, 설탕-1T, 다진마늘-0. 5T, 연두-1T, 식초-1. 5T ||| 오이는 깨끗이 씻어 먹기 좋게 채 썰어 주세요 오이의 양끝은 쓴맛이 날 수 있으니 잘라내 주세요. 약 0. 5cm 정도로 어슷 썰고. 비슷한 굵기로 채 썰었어요. 오이냉국 밑간을 해 주세요. 먹기 전 밑간해 둔 오이냉국에 얼음을 넣고. 재료가 충분히 잠길 만큼 물을 넣어 주세요 이때 간을 보고 부족한 간은 소금과 식초로 채워 주세요. 호둘짱은 새콤한 맛을 좋아해서 식초 0. 5 정도 추가했어요. 청양고추 1개, 홍고추 1개 쫑쫑 썰어 넣어 줬어요. 통깨 팍팍 넣어 휘휘 저어 주면 불 안 쓰는 요리 간단한 오이냉국 완성이랍니다. 오이 1개로 한 끼에 뚝딱하는 초간단 오이 냉국이랍니다). 홍고추 송송 들어가니 확실히 색이 이쁘죠. ||| 초스피드 ||| 2인분 10분 이내 아무나 ||| 여름이 무르익으니 뜨거운 찌개나 국보다는 시원한 냉국이 생각나는 요즘이예요 불 앞에만 서 있어도 땀나기 시작하는 요즘 비빔밥하며 된장국 끓이려다 더워서 급선회한 오이냉국 하나면 여름 밥상 차리기 어렵지 않죠 불안 쓰는 요리 만드는 방법 시작할게요'),\n",
       " Document(id='087c91d4-450c-4b2e-a8f4-c37a942e0ea4', metadata={'id': 988, 'img': '', 'video': 'https://www.youtube.com/watch?v=69fYvO_td0Q&pp=ygUY66-47Lm07JeYICftjIzti7DruYTtlIQn', 'ingredients_list': \"['즉석밥', '등심 1장', '느타리버섯', '양송이 버섯', '양상추', '양파 반 개', '총각김치', '쌈장 2TS', '생크림 한 컵']\"}, page_content=\"미카엘 '파티비프' ||| 즉석밥,    등심 1장,    느타리버섯,    양송이 버섯,    양상추,    양파 반 개,    총각김치,    쌈장 2TS,    생크림 한 컵 |||   1. 청고추에 칼집을 내고 그릴팬에 굽는다.  2. 고기와 양파는 채썰고 양송이 버섯도 편으로 썰어 팬에 볶는다.  3. 2에 고기에 쌈장과 생크림을 넣고 볶는다.  4. 3에 다진 총각김치를 넣고 후추를 뿌린다.  5. 접시에 밥을 놓고 주위에 볶은 고기를 얹는다.  6. 중앙에 총각김치를 올린다.\"),\n",
       " Document(id='4c3bfc8f-1fdf-4e1a-820a-e75d8b7ec764', metadata={'id': 1754, 'img': 'https://pbbsres.kbs.co.kr/t2019-0286-04-296340/2024/11/01/2786435_11.jpg', 'video': 'https://www.youtube.com/watch?v=LY9Kdp7ZKCU&pp=ygVI7J207KCV7ZiEIC0gJ-u5qOyjvOuFuOy0iCDtjIztlITrpqzsubQg7KO866i567ClJyDroIjsi5ztlLwg7Y647Iqk7Yag656R'}, page_content=\"이정현 - '빨주노초 파프리카 주먹밥' 레시피 ||| 빨간색, 주황색, 노란색, 초록색 파프리카 각각 1/4개(*초록색 파프리카는 초록색 피망으로 대체 가능), 식용유, 쌀밥 280g, 참기름, 소금, 깨 소고기 다짐육 100g, [소고기양념장] 양조간장 1/2T, 프락토 올리고당 1/2T(*올리고당 대체 가능), 참기름 1/2T ||| [재료 준비] 1. [소고기양념장] 양조간장 1/2T, 올리고당 1/2T, 참기름 1/2T를 섞는다. 2. 쌀밥 280g에 참기름, 소금, 깨를 약간씩 넣고 간을 한다. [빨주노초 파프리카 주먹밥 만들기] 1. 빨간색, 주황색, 노란색, 초록색 파프리카 1/4개는 각각 씨를 제거하고 다진다. 2. 팬에 식용유를 두르고 파프리카에 소금 약간 뿌려 볶아준다. 파프리카 색이 섞이지 않게 각각 볶아주세요 3. 팬에 식용유를 두르고 강불에 소고기 다짐육을 볶는다. 4. 고기가 어느 정도 익으면 [소고기양념장]을 넣고 볶는다. 5. 파프리카에 볶은 소고기를 20g씩, 쌀밥은 70g씩 나눠 섞는다. 6. 골고루 섞은 뒤, 밥을 동그랗게 뭉쳐주면 완성.\"),\n",
       " Document(id='6ef907d0-ada4-488e-9ab7-9becb6789e76', metadata={'id': 107210, 'img': 'https://recipe1.ezmember.co.kr/cache/recipe/2015/03/18/c1747006fde6839a169d3ea179d9db8f1.jpg', 'views': '19,126', 'video': '', 'category': '간식', 'date': '2014-04-18'}, page_content='불고기참치 또띠아피자 만들기 ||| 또띠아-1장, 불고기참치-1캔, 양파-0. 4쪽, 스파게티소스, 피자치즈, 옥수수콘 ||| 불고기참치는 옥수수콘과 함께 프라이팬에 달달 볶아서 수분을 날려 주세요. 양파를 썬 후에 프라이팬에 기름을 둘러 볶아 줍니다. 다른 프라이팬에 또띠아를 올린 후, 스파게티소스를 바르고 볶아 놓은 양파를 올려 주세요. 볶아 놓은 불고기참치도 올려 줍니다. 피자치즈를 올려서 뚜껑 덮고 중약불에서 치즈가 녹을 때까지 구워 주세요. ||| 간식 ||| 30분 이내 초급 ||| 프라이팬으로 만드는 불고기참치 또띠아 피자'),\n",
       " Document(metadata={'id': 259, 'img': 'https://fs.jtbc.co.kr/joydata/CP00000001/prog/enter/janggo/img/20171128_121147_630.jpg', 'video': 'https://tv.jtbc.co.kr/vod/pr10010331/pm10031085/vo10194925/view', 'ingredients_list': \"['호박즙', '새우', '오징어', '바지락', '모차렐라치즈', '마늘종장아찌', '칵테일소스', '밀가루', '마늘', '홍고추', '양파', '올리브오일', '소금', '후추', '버터', '대파']\"}, page_content=\"미카엘&샘킴 '봉골레 안 먹고 가시나♬' ||| 호박즙,    새우,    오징어,    바지락,    모차렐라치즈,   마늘종장아찌,    칵테일소스,    밀가루,    마늘,    홍고추,   양파,    올리브오일,    소금,    후추,    버터,    대파 |||   1. 밀가루를 체에 거른다.  2. 체에 거른 밀가루에 호박즙을 넣어 반죽한다.  3. 기름을 두른 냄비에 편으로 썬 마늘, 손질한 새우와 오징어, 잘게 썬 홍고추와 바지락, 물을 넣고 끓여 봉골레스튜를 만든다.  4. 빵반죽을 밀대로 밀어 넓게 편 뒤, 모차렐라치즈를 넣고 접어 빵 모양을 잡아 피타빵을 만든다.  5. 치즈를 넣은 피타빵을 그릴팬에 굽는다.  6. 양파, 마늘종장아찌를 잘게 썬 뒤, 칵테일소스, 올리브오일과 섞어 소스를 만든다.  7. 기름을 두른 팬에 손질한 새우를 굽다가 소금, 후추로 간 한다.  8. 마늘을 잘게 다진 뒤, 버터를 섞어 갈릭버터를 만든다.  9. 피타빵에 갈릭버터를 발라가며 굽는다.  10. 봉골레스튜에 구운 새우와 잘게 썬 대파를 넣는다.  11. 피타빵을 접시에 담아낸다.\"),\n",
       " Document(metadata={'id': 626, 'img': 'https://pbbsres.kbs.co.kr/t2019-0286-04-296340/2022/01/28/1578807_batch_삼겹잡채.jpg', 'video': 'https://www.youtube.com/watch?v=xV5Ej8h5Nk0&pp=ygUy66WY7IiY7JiBIC0gJ-yCvOqyuSDsnqHssYQnIOugiOyLnO2UvCDtjrjsiqTthqDrnpE%3D'}, page_content=\"류수영 - '삼겹 잡채' 레시피 ||| 알배추 15장, 대파 1대, 당근 1/2개, 마늘 10개, 생강 3g, 삼겹살 300g, 당면 300g, 양조간장 5T, 설탕 3T, 식초 1/2T, 물 100ml 카놀라유, 소금, 청하 1뚜껑, 참기름 3T, 깨 ||| 재료 준비 1. 알배추 15장을 배추 결에 따라 세로로 길쭉하게 썰어준다. 2. 대파 1대의 가운데를 가른 후 5cm 정도로 썰어준다. 3. 당근 1/2개도 채 썰어준다. 4. 마늘 10개를 칼로 으깨준 후 식감 있게 다져준다. 5. 생강 3g을 잘게 다져준다. 1. 삼겹살 300g을 얇게 썰어준 후 다져준다. 고기를 직접 다져 쓰면 잡채를 더 오래 두고 먹을 수 있습니다 2. 끓는 물에 안 불린 당면 300g을 넣고 6분간 삶아준다. 이후 재빠르게 찬물로 헹궈준 뒤 물기를 빼준다. 찬물에 바로 식히지 않고 그냥 두면 잔열로 인해 당면이 계속 불어요 3. 양조간장 5T, 설탕 3T, 식초 1/2T, 물 100ml를 넣고 섞어 양념장을 만들어준다. 레시피 3번까지 모두 준비해놓은 후 요리하시는 것이 편리합니다 4. 궁중팬에 카놀라유 1바퀴를 두른 뒤 연기가 날 때까지 달궈준다. 인덕션 같은 경우에는 인덕션에 닿는 면적이 넓어야 하므로 넓은 프라이팬을 쓰는 게 추천합니다 5. 하얀 연기가 올라오면 1의 다져준 삼겹살, 소금 2꼬집, 청하 1뚜껑을 넣고 볶아준다. 잘 녹는 가는소금을 사용하는 것이 좋습니다 6. 5의 고기가 바짝 익으면 준비한 마늘과 생강을 넣고 볶아준다. 7. 향이 올라오면 준비한 당근과 소금 한 꼬집을 넣고 볶아준다. 8. 당근이 어느 정도 볶아졌을 때 준비한 대파와 소금 한 꼬집을 넣고 더 볶아준 뒤 알배추를 넣어주고 소금 한 꼬집을 뿌려 볶아준다. 모든 재료에 간을 해주며 간의 레이어드를 쌓아주는 것이 중요합니다 9. 당면을 넣어 뒤적여준 뒤 3의 양념을 넣고 양념이 조려질 때까지 볶아준다. 10. 양념이 다 조려지면 가스불을 꺼준 뒤 참기름 3T, 깨를 많이 넣어 섞어주면 완성.\"),\n",
       " Document(metadata={'id': 52988, 'img': 'https://recipe1.ezmember.co.kr/cache/recipe/2018/08/06/2ed3ce81dee8d119fe84bc8b7a8f95bc1.jpg', 'views': '2,520', 'video': '', 'category': '초스피드', 'date': '2018-08-06'}, page_content='불 안 쓰는 요리 맛집을 집에서 간단히 꼬막 비빔밥 ||| 꼬막 통조림-2캔, 밥-2공기, 대파 흰 부분-1개, 청양고추-3개, 양파-1/2개, 고춧가루-1큰술, 꼬막 통조림 국물-2큰술, 간장-2큰술, 참기름-1큰술, 다진 마늘-1큰술, 통깨, 약간 ||| 통조림 꼬막을 체에 밭쳐 물기를 제거해 주세요. 채소를 썰어 준비해 주세요. 양념장을 만들어 주세요. 양념한 꼬막 1/2과 밥 2공기를 넣어 잘 비벼 주세요. ||| 초스피드 ||| 2인분 10분 이내 아무나 ||| 통조림 캔으로 맛집을 따라해 봤어요'),\n",
       " Document(id='8fdcace1-2c9d-4684-914a-cbd37fa027f9', metadata={'id': 670, 'img': 'https://fs.jtbc.co.kr/prog/enter/janggo/Img/20150922_111116_1711.jpg', 'video': 'https://tv.jtbc.co.kr/vod/pr10010331/pm10031085/vo10080370/view', 'ingredients_list': \"['불고기', '오레가노', '피자', '달걀', '살라미', '파', '다진 마늘', '진간장', '설탕', '참기름', '소금', '양파', '후추', '버터']\"}, page_content=\"이원일 '피자 말아또' ||| 불고기,    오레가노,    피자,    달걀,    살라미,    파,    다진 마늘,    진간장,    설탕,    참기름,    소금,    양파,    후추,    버터 |||   1. 다진 파, 다진 마늘, 진간장, 설탕, 참기름을 섞어 양념을 만든다.  2. 불고기를 양념에 버무린 뒤, 오레가노를 넣어 섞는다.  3. 피자조각의 끝부분을 잘라내고 반을 자른 뒤, 네모난 모양으로 합친다.  4. 달걀물에 소금을 넣는다.  5. 버터를 두른 팬에 달걀지단을 부친다.  6. 달걀지단의 한쪽 면만 익힌 뒤, 위에 피자를 올린다.  7. 양파와 파를 잘게 썰어 팬에 넣고 소금, 후추 간을 해서 볶는다.  8. 7에 잘게 썬 살라미, 버터를 넣고 함께 볶는다.  9. 피자 위에 볶은 재료들을 올린다.  10. 불고기를 팬에 볶는다.  11. 볶은 불고기를 피자 위에 올린 뒤, 달걀지단으로 돌돌 말아준다.  12. 피자달걀말이를 그릴팬에 올려 굽는다.  13. 피자달걀말이를 썰어 접시에 담아낸다.\"),\n",
       " Document(id='d209db78-9767-4876-b86c-4fb2917a7107', metadata={'id': 1298, 'img': 'https://pbbsres.kbs.co.kr/t2019-0286-04-296340/2023/09/15/2384792_batch_잔멸치대파피자.png', 'video': 'https://www.youtube.com/watch?v=JCjc-2jqrVI&pp=ygU67J207KCV7ZiEIC0gJ-yelOupuOy5mOuMgO2MjO2UvOyekCcg66CI7Iuc7ZS8IO2OuOyKpO2GoOuekQ%3D%3D'}, page_content=\"이정현 - '잔멸치대파피자' 레시피 ||| 또띠아 1장, 대파 1줄, 식용유, 잔멸치 한 줌, 설탕 2T, 피자치즈 한 줌, 요거트 1t, 마요네즈 1t, 다진 마늘 조금, 건조마늘가루 조금, 소금 한 꼬집, 꿀 ||| [재료 준비] 1. 마른 팬에 잔멸치 한 줌, 설탕 2T를 넣고 바삭해질 때까지 약불로 덖어준다. 2. 대파는 송송 썰어준다. 3. 달군 팬에 기름를 두르고 대파와 건조마늘가루 조금을 넣고 볶아준다. [잔멸치대파피자 만들기] 1. 또띠아에 마요네즈 1t다진 마늘 조금요거트 1t 순으로 펴바른다. 2. 피자치즈 한 줌, 소금 약간을 뿌리고 180도로 예열한 오븐에 5분 정도 굽는다. 3. 피자를 오븐에서 꺼낸 후 위에 볶은 파와 잔멸치를 뿌린다. 4. 오븐에 다시 1분 정도 돌린 후 취향에 따라 꿀을 뿌려주면 완성\"),\n",
       " Document(id='86d09567-1481-4327-8dc0-c0d76ed29bd9', metadata={'id': 187946, 'img': 'https://recipe1.ezmember.co.kr/cache/recipe/2017/04/21/8e7bdcbc247f1aefcee84825a2fa38381.jpg', 'views': '18,087', 'video': '', 'category': '일상', 'date': '2017-04-21'}, page_content='너무 이쁜 요리 데코 방법 공개 파프리카 프라이 ||| [필수 재료] 파프리카-1개, 달걀-4개, [양념 재료] 소금, 약간, 후추, 약간, 파마산 치즈가루, 약간 ||| 파프리카는 링으로 썰어 준비한다. 팬에 기름을 두르고 파프리카를 올린다. 파프리카 안에 달걀을 깨어 넣는다. 소금, 후추, 파마산 치즈 가루를 넣어 반숙으로 익혀 완성한다. ||| 일상 ||| 2인분 10분 이내 아무나 ||| 파프리카 안에 귀여운 노른자가 송송소금 후추 톡톡 치즈까지 주우욱 세상의 모든 레시피 만개의 레시피')]"
      ]
     },
     "execution_count": 41,
     "metadata": {},
     "output_type": "execute_result"
    }
   ],
   "source": [
    "version6().invoke(\"프라이팬 안 쓰는 요리\")"
   ]
  },
  {
   "cell_type": "markdown",
   "metadata": {},
   "source": [
    "# retriever + llm 비교"
   ]
  },
  {
   "cell_type": "code",
   "execution_count": 26,
   "metadata": {},
   "outputs": [],
   "source": [
    "import random\n",
    "import string\n",
    "from textwrap import dedent\n",
    "\n",
    "from langchain_core.prompts import ChatPromptTemplate, MessagesPlaceholder\n",
    "from langchain_core.runnables import ConfigurableFieldSpec\n",
    "from langchain_core.runnables.history import RunnableWithMessageHistory\n",
    "from langchain_core.output_parsers import StrOutputParser\n",
    "from operator import itemgetter"
   ]
  },
  {
   "cell_type": "code",
   "execution_count": 27,
   "metadata": {},
   "outputs": [],
   "source": [
    "def mkch(retriever):\n",
    "        # Prompt Template 생성\n",
    "    messages = [\n",
    "            (\"system\", dedent(\"\"\"\n",
    "            # instruction\n",
    "            너는 사용자의 질문(question)에 맞는 요리를 알려주는 ai야.\n",
    "\n",
    "            사용자에게 요리를 알려줄 때 요리는 context 항목에 있는 요리 중에서 알려줘야해.\n",
    "            다음 조건을 참고해서 요리를 알려주면 돼.\n",
    "            1. 사용자에게 요리를 추천할 때 요리 3가지를 추천한다. 그러나 사용자가 특정 요리의 레시피를 물어본 경우 해당하는 요리에 대한 정보를 제공한다. \n",
    "            2. 요리를 소개할 때 요리 이름을 먼저 언급한 뒤 간단한 요리 소개(한줄 분량), 재료, 사진 순으로 소개한다.\n",
    "            2-1. 요리 이름에서 요리사 이름을 알 수 있다면 요리사 이름도 요리 이름과 같이 알려준다.\n",
    "            2-2. 사진은 context에서 `img`에 있는 해당 요리의 사진 링크를 알려준다. 만약 `img`에 사진 링크가 없다면 \"제공할 수 있는 사진이 없습니다.\"라고 답한다.\n",
    "            2-3. 사진 링크를 임의로 생성하거나 다른 요리의 사진을 절대 알려주지 않는다.\n",
    "            \n",
    "            3. 요리 추천 시 정렬 기준은 다음과 같다.\n",
    "            3-1. 사용자가 재료를 입력했을 경우, 해당 재료는 많은 순으로 먼저 정렬하고, 우선 순위가 같은 요리에 대해서는 부가적인 재료가 적은 순으로 정렬한다.\n",
    "            \n",
    "            4. 사용자가 요리를 고르면 레시피와 영상을 알려준다. 이때 레시피는 요약하지말고, 있는 그대로 순서대로 알려줘야한다.\n",
    "            4-1. 영상은 context의 `video`에 저장된 링크 주소를 알려준다. `video`에 영상 링크가 없으면 \"제공할 수 있는 영상이 없습니다.\" 이라고 답해야한다.\n",
    "            4-2. 영상 링크 임의로 생성하거나 다른 요리의 영상 링크를 절대 알려주지 않는다.\n",
    "            \n",
    "            `사용자의 질문의 답을 context에서 적절한 요리를 찾지 못하면 필요에 따라 추가 정보를 사용자로부터 더 수집한 뒤 답변하고, 그럼에도 답변할 내용을 context에서 찾을 수 없으면 답변을 생성하지 말고 모른다고 대답해`\n",
    "            \n",
    "            # context\n",
    "            \n",
    "    {context}\"\"\")),\n",
    "            MessagesPlaceholder(variable_name=\"history\", optional=True),\n",
    "            (\"human\", \"{question}\"),\n",
    "        ]\n",
    "    prompt_template = ChatPromptTemplate(messages)\n",
    "\n",
    "    # chatting Chain 구성 retriever(관련 문서 조회) -> prompt_template(prompt 생성) model(정답) -> output parser\n",
    "    chatting = {\"context\": itemgetter(\"question\") | retriever, \"question\": itemgetter(\"question\"), \"history\": itemgetter(\"history\")} | prompt_template | model | StrOutputParser()\n",
    "\n",
    "    chain = RunnableWithMessageHistory(\n",
    "        chatting, get_session_history=get_session_history, input_messages_key=\"question\", history_messages_key=\"history\",\n",
    "        history_factory_config=[\n",
    "            ConfigurableFieldSpec(id=\"user_id\", annotation=str, name=\"User ID\", description=\"사용자 id(Unique)\", default=\"\", is_shared=True),\n",
    "            ConfigurableFieldSpec(id=\"history_id\", annotation=str, name=\"History ID\", description=\"대화 기록 id(Unique)\", default=\"\", is_shared=True),\n",
    "        ]\n",
    "    )\n",
    "    return chain"
   ]
  },
  {
   "cell_type": "code",
   "execution_count": 28,
   "metadata": {},
   "outputs": [],
   "source": [
    "def mkhisid(user_id):\n",
    "    \"\"\"history_id 생성 함수\"\"\"\n",
    "    while True:\n",
    "        history_id = ''.join(random.choice(string.ascii_uppercase + string.digits) for _ in range(6))\n",
    "        if user_id + history_id not in store.keys():\n",
    "            # user_id와 history_id가 없는 경우 종료\n",
    "            return history_id"
   ]
  },
  {
   "cell_type": "code",
   "execution_count": 29,
   "metadata": {},
   "outputs": [
    {
     "name": "stdout",
     "output_type": "stream",
     "text": [
      "현재 저장된 히스토리: {('user_id', 'GKEC65'): InMemoryHistory(messages=[])}\n",
      "땅콩 알레르기가 있으시다면 땅콩을 사용하지 않는 쿠키 레시피를 추천해 드리겠습니다. 다음과 같은 쿠키를 고려해 보세요:\n",
      "\n",
      "1. **버터 쿠키**\n",
      "   - 고소한 맛과 바삭한 식감이 매력적인 기본적인 버터 쿠키입니다. \n",
      "   - **재료**: 버터, 밀가루, 설탕, 소금, 바닐라 익스트랙트\n",
      "   - **사진**: 제공할 수 있는 사진이 없습니다.\n",
      "   \n",
      "2. **초코칩 쿠키**\n",
      "   - 달콤한 초콜릿이 가득한 인기 있는 쿠키로, 아이들과 함께 만들기 좋습니다.\n",
      "   - **재료**: 중력분, 버터, 설탕, 갈색설탕, 계란, 초콜릿칩\n",
      "   - **사진**: 제공할 수 있는 사진이 없습니다.\n",
      "\n",
      "3. **오트밀 쿠키**\n",
      "   - 건강한 귀리의 맛과 함께 씹는 식감이 좋은 오트밀 쿠키입니다.\n",
      "   - **재료**: 오트밀, 밀가루, 설탕, 버터, 계란\n",
      "   - **사진**: 제공할 수 있는 사진이 없습니다.\n",
      "\n",
      "원하는 쿠키를 말씀해 주시면, 그에 대한 자세한 레시피를 안내해 드리겠습니다!\n"
     ]
    }
   ],
   "source": [
    "history_id = mkhisid(\"user_id\")\n",
    "chain = mkch(version5())\n",
    "while True:\n",
    "    query = input(\"메시지 입력 > \")\n",
    "    if query == \"종료\":\n",
    "        break\n",
    "    res = chain.invoke({\"question\": query}, config={\"configurable\": {\"user_id\": \"user_id\", \"history_id\": history_id}})\n",
    "    print(res)"
   ]
  },
  {
   "cell_type": "code",
   "execution_count": 42,
   "metadata": {},
   "outputs": [
    {
     "name": "stdout",
     "output_type": "stream",
     "text": [
      "현재 저장된 히스토리: {('user_id', 'GKEC65'): InMemoryHistory(messages=[HumanMessage(content='쿠키 만드는 법 알려줘 나는 땅콩 알레르기가 있어', additional_kwargs={}, response_metadata={}), AIMessage(content='땅콩 알레르기가 있으시다면 땅콩을 사용하지 않는 쿠키 레시피를 추천해 드리겠습니다. 다음과 같은 쿠키를 고려해 보세요:\\n\\n1. **버터 쿠키**\\n   - 고소한 맛과 바삭한 식감이 매력적인 기본적인 버터 쿠키입니다. \\n   - **재료**: 버터, 밀가루, 설탕, 소금, 바닐라 익스트랙트\\n   - **사진**: 제공할 수 있는 사진이 없습니다.\\n   \\n2. **초코칩 쿠키**\\n   - 달콤한 초콜릿이 가득한 인기 있는 쿠키로, 아이들과 함께 만들기 좋습니다.\\n   - **재료**: 중력분, 버터, 설탕, 갈색설탕, 계란, 초콜릿칩\\n   - **사진**: 제공할 수 있는 사진이 없습니다.\\n\\n3. **오트밀 쿠키**\\n   - 건강한 귀리의 맛과 함께 씹는 식감이 좋은 오트밀 쿠키입니다.\\n   - **재료**: 오트밀, 밀가루, 설탕, 버터, 계란\\n   - **사진**: 제공할 수 있는 사진이 없습니다.\\n\\n원하는 쿠키를 말씀해 주시면, 그에 대한 자세한 레시피를 안내해 드리겠습니다!', additional_kwargs={}, response_metadata={})]), ('user_id', '3JTHJQ'): InMemoryHistory(messages=[HumanMessage(content='쿠키 만드는 법 알려줘 나는 땅콩 알레르기가 있어', additional_kwargs={}, response_metadata={}), AIMessage(content='땅콩 알레르기가 있으시다면 땅콩이 들어가지 않은 쿠키 레시피를 추천해 드리겠습니다. 다음은 바나나가 안 들어간 바나나 쿠키의 레시피입니다.\\n\\n### 바나나가 안 들어간 바나나 쿠키\\n- **요리 소개**: 부드럽고 고소한 쿠키로, 바나나 없이도 풍미가 가득합니다.\\n- **재료**: 제공할 수 있는 재료 정보가 없습니다.\\n- **사진**: ![바나나가 안 들어간 바나나 쿠키](https://recipe1.ezmember.co.kr/cache/recipe/2015/04/23/f5ab46bf8127cde11fcddce2b5bd2d731.jpg)\\n\\n레시피에 대한 자세한 정보를 원하신다면 말씀해 주세요!', additional_kwargs={}, response_metadata={})]), ('user_id', 'EK4LHN'): InMemoryHistory(messages=[])}\n",
      "땅콩 알레르기가 있으신 사용자님을 위해 땅콩이 포함되지 않은 쿠키 레시피를 추천드립니다. \"바나나가 안 들어간 바나나 쿠키\"를 소개합니다!\n",
      "\n",
      "### 바나나가 안 들어간 바나나 쿠키\n",
      "바나나 향이 나는 디저트 쿠키로, 바나나 대신 바나나 오일을 사용합니다.\n",
      "\n",
      "#### 재료\n",
      "- 박력분: 160g\n",
      "- 꿀: 10g\n",
      "- 피스타치오: 15g\n",
      "- 달걀: 1개\n",
      "- 베이킹파우더: 1/2작은술\n",
      "- 베이킹소다: 1/2작은술\n",
      "- 설탕: 65g\n",
      "- 소금: 1g\n",
      "- 식물성 오일: 55g\n",
      "- 바나나 오일: 2g\n",
      "- 토핑용 설탕: 30g\n",
      "\n",
      "#### 사진\n",
      "![바나나가 안 들어간 바나나 쿠키](https://recipe1.ezmember.co.kr/cache/recipe/2015/04/23/f5ab46bf8127cde11fcddce2b5bd2d731.jpg)\n",
      "\n",
      "이제 이 쿠키의 레시피를 따라 만들어 보세요! 만약 다른 요리법이 궁금하시거나 더 알고 싶은 점이 있으시면 언제든지 문의해주세요.\n"
     ]
    }
   ],
   "source": [
    "history_id = mkhisid(\"user_id\")\n",
    "chain = mkch(version6())\n",
    "while True:\n",
    "    query = input(\"메시지 입력 > \")\n",
    "    if query == \"종료\":\n",
    "        break\n",
    "    res = chain.invoke({\"question\": query}, config={\"configurable\": {\"user_id\": \"user_id\", \"history_id\": history_id}})\n",
    "    print(res)"
   ]
  }
 ],
 "metadata": {
  "kernelspec": {
   "display_name": "venv",
   "language": "python",
   "name": "python3"
  },
  "language_info": {
   "codemirror_mode": {
    "name": "ipython",
    "version": 3
   },
   "file_extension": ".py",
   "mimetype": "text/x-python",
   "name": "python",
   "nbconvert_exporter": "python",
   "pygments_lexer": "ipython3",
   "version": "3.12.8"
  }
 },
 "nbformat": 4,
 "nbformat_minor": 2
}

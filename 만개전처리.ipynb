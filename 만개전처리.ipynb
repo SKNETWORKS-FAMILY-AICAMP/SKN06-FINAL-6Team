{
 "cells": [
  {
   "cell_type": "code",
   "execution_count": 81,
   "metadata": {},
   "outputs": [
    {
     "data": {
      "text/plain": [
       "{'recipes': [('id', 'INTEGER'),\n",
       "  ('name', 'TEXT'),\n",
       "  ('intro', 'TEXT'),\n",
       "  ('info', 'TEXT'),\n",
       "  ('photo', 'TEXT'),\n",
       "  ('recipe', 'TEXT'),\n",
       "  ('views', 'TEXT'),\n",
       "  ('video', 'TEXT'),\n",
       "  ('category', 'TEXT'),\n",
       "  ('date', 'TEXT'),\n",
       "  ('ingredients', 'TEXT')]}"
      ]
     },
     "execution_count": 81,
     "metadata": {},
     "output_type": "execute_result"
    }
   ],
   "source": [
    "import sqlite3\n",
    "import pandas as pd\n",
    "\n",
    "# 데이터베이스 파일 경로\n",
    "db_path = r\"C:\\Users\\Playdata\\Desktop\\만개 전처리\\재료업데이트만개총데이터터.db\"\n",
    "\n",
    "# 데이터베이스 연결\n",
    "conn = sqlite3.connect(db_path)\n",
    "cursor = conn.cursor()\n",
    "\n",
    "# 데이터베이스 내 테이블 목록 확인\n",
    "cursor.execute(\"SELECT name FROM sqlite_master WHERE type='table';\")\n",
    "tables = cursor.fetchall()\n",
    "\n",
    "# 각 테이블의 컬럼 구조 확인\n",
    "table_structures = {}\n",
    "for table in tables:\n",
    "    table_name = table[0]\n",
    "    cursor.execute(f\"PRAGMA table_info({table_name});\")\n",
    "    columns = cursor.fetchall()\n",
    "    table_structures[table_name] = [(col[1], col[2]) for col in columns]\n",
    "\n",
    "# 테이블 구조 출력\n",
    "table_structures\n",
    "\n"
   ]
  },
  {
   "cell_type": "code",
   "execution_count": 82,
   "metadata": {},
   "outputs": [
    {
     "data": {
      "text/plain": [
       "id                  0\n",
       "name                0\n",
       "intro           13164\n",
       "info            11079\n",
       "photo               0\n",
       "recipe          13220\n",
       "views               0\n",
       "video          230307\n",
       "category            0\n",
       "date                0\n",
       "ingredients      9327\n",
       "dtype: int64"
      ]
     },
     "execution_count": 82,
     "metadata": {},
     "output_type": "execute_result"
    }
   ],
   "source": [
    "# recipes 테이블의 데이터 로드\n",
    "df_recipes = pd.read_sql_query(\"SELECT * FROM recipes;\", conn)\n",
    "\n",
    "# NULL 값 개수 확인\n",
    "null_counts = df_recipes.isnull().sum()\n",
    "\n",
    "# 값이 없는 항목 (빈 문자열 포함) 개수 확인\n",
    "empty_counts = (df_recipes == \"\").sum()\n",
    "\n",
    "# NULL, NaN, 빈 값 개수 합산\n",
    "total_missing_counts = null_counts + empty_counts\n",
    "\n",
    "# 결과 출력\n",
    "total_missing_counts"
   ]
  },
  {
   "cell_type": "code",
   "execution_count": 83,
   "metadata": {},
   "outputs": [
    {
     "data": {
      "text/plain": [
       "230927"
      ]
     },
     "execution_count": 83,
     "metadata": {},
     "output_type": "execute_result"
    }
   ],
   "source": [
    "# 전체 데이터 개수 확인\n",
    "\n",
    "df_recipes.shape[0]"
   ]
  },
  {
   "cell_type": "code",
   "execution_count": 84,
   "metadata": {},
   "outputs": [
    {
     "data": {
      "text/plain": [
       "216756"
      ]
     },
     "execution_count": 84,
     "metadata": {},
     "output_type": "execute_result"
    }
   ],
   "source": [
    "# 'ingredients' 또는 'recipe'가 비어 있는 행 삭제\n",
    "\n",
    "df_cleaned = df_recipes[(df_recipes['ingredients'] != \"\") & (df_recipes['recipe'] != \"\")]\n",
    "\n",
    "# 삭제 후 전체 데이터 개수 확인\n",
    "df_cleaned.shape[0]"
   ]
  },
  {
   "cell_type": "code",
   "execution_count": 85,
   "metadata": {},
   "outputs": [
    {
     "name": "stderr",
     "output_type": "stream",
     "text": [
      "C:\\Users\\Playdata\\AppData\\Local\\Temp\\ipykernel_20388\\1738206605.py:9: SettingWithCopyWarning: \n",
      "A value is trying to be set on a copy of a slice from a DataFrame.\n",
      "Try using .loc[row_indexer,col_indexer] = value instead\n",
      "\n",
      "See the caveats in the documentation: https://pandas.pydata.org/pandas-docs/stable/user_guide/indexing.html#returning-a-view-versus-a-copy\n",
      "  df_cleaned['name'] = df_cleaned['name'].apply(lambda x: re.sub(remove_chars_extended, '', x))\n",
      "C:\\Users\\Playdata\\AppData\\Local\\Temp\\ipykernel_20388\\1738206605.py:10: SettingWithCopyWarning: \n",
      "A value is trying to be set on a copy of a slice from a DataFrame.\n",
      "Try using .loc[row_indexer,col_indexer] = value instead\n",
      "\n",
      "See the caveats in the documentation: https://pandas.pydata.org/pandas-docs/stable/user_guide/indexing.html#returning-a-view-versus-a-copy\n",
      "  df_cleaned['intro'] = df_cleaned['intro'].apply(lambda x: re.sub(remove_chars_extended, '', x))\n",
      "C:\\Users\\Playdata\\AppData\\Local\\Temp\\ipykernel_20388\\1738206605.py:16: SettingWithCopyWarning: \n",
      "A value is trying to be set on a copy of a slice from a DataFrame.\n",
      "Try using .loc[row_indexer,col_indexer] = value instead\n",
      "\n",
      "See the caveats in the documentation: https://pandas.pydata.org/pandas-docs/stable/user_guide/indexing.html#returning-a-view-versus-a-copy\n",
      "  df_cleaned['name'] = df_cleaned['name'].apply(lambda x: re.sub(remove_chars_jp_hanja_space, '', x))\n",
      "C:\\Users\\Playdata\\AppData\\Local\\Temp\\ipykernel_20388\\1738206605.py:17: SettingWithCopyWarning: \n",
      "A value is trying to be set on a copy of a slice from a DataFrame.\n",
      "Try using .loc[row_indexer,col_indexer] = value instead\n",
      "\n",
      "See the caveats in the documentation: https://pandas.pydata.org/pandas-docs/stable/user_guide/indexing.html#returning-a-view-versus-a-copy\n",
      "  df_cleaned['intro'] = df_cleaned['intro'].apply(lambda x: re.sub(remove_chars_jp_hanja_space, '', x))\n",
      "C:\\Users\\Playdata\\AppData\\Local\\Temp\\ipykernel_20388\\1738206605.py:20: SettingWithCopyWarning: \n",
      "A value is trying to be set on a copy of a slice from a DataFrame.\n",
      "Try using .loc[row_indexer,col_indexer] = value instead\n",
      "\n",
      "See the caveats in the documentation: https://pandas.pydata.org/pandas-docs/stable/user_guide/indexing.html#returning-a-view-versus-a-copy\n",
      "  df_cleaned['name'] = df_cleaned['name'].apply(lambda x: x.replace(\"\\xa0\", \" \"))\n",
      "C:\\Users\\Playdata\\AppData\\Local\\Temp\\ipykernel_20388\\1738206605.py:21: SettingWithCopyWarning: \n",
      "A value is trying to be set on a copy of a slice from a DataFrame.\n",
      "Try using .loc[row_indexer,col_indexer] = value instead\n",
      "\n",
      "See the caveats in the documentation: https://pandas.pydata.org/pandas-docs/stable/user_guide/indexing.html#returning-a-view-versus-a-copy\n",
      "  df_cleaned['intro'] = df_cleaned['intro'].apply(lambda x: x.replace(\"\\xa0\", \" \"))\n"
     ]
    }
   ],
   "source": [
    "import re\n",
    "\n",
    "# name column 전처리\n",
    "\n",
    "# 남길 문자: 대괄호([])와 퍼센트(%)만 제외하고 모두 제거\n",
    "remove_chars_extended = r'[^a-zA-Z0-9가-힣\\s\\[\\]%]+'\n",
    "\n",
    "# 'name' 컬럼에서 지정한 특수문자 제거\n",
    "df_cleaned['name'] = df_cleaned['name'].apply(lambda x: re.sub(remove_chars_extended, '', x))\n",
    "df_cleaned['intro'] = df_cleaned['intro'].apply(lambda x: re.sub(remove_chars_extended, '', x))\n",
    "\n",
    "# 일본어, 한자, 공백 문자(Zero-width space, BOM 포함) 제거\n",
    "remove_chars_jp_hanja_space = r'[\\u3000-\\u303F\\u3040-\\u30FF\\u31F0-\\u31FF\\u3200-\\u32FF\\u3400-\\u4DBF\\u4E00-\\u9FFF\\uF900-\\uFAFF\\u200B\\uFEFF]+'\n",
    "\n",
    "# 'name' 컬럼에서 해당 문자 제거\n",
    "df_cleaned['name'] = df_cleaned['name'].apply(lambda x: re.sub(remove_chars_jp_hanja_space, '', x))\n",
    "df_cleaned['intro'] = df_cleaned['intro'].apply(lambda x: re.sub(remove_chars_jp_hanja_space, '', x))\n",
    "\n",
    "# Non-Breaking Space (`\\xa0`) 제거\n",
    "df_cleaned['name'] = df_cleaned['name'].apply(lambda x: x.replace(\"\\xa0\", \" \"))\n",
    "df_cleaned['intro'] = df_cleaned['intro'].apply(lambda x: x.replace(\"\\xa0\", \" \"))"
   ]
  },
  {
   "cell_type": "code",
   "execution_count": 86,
   "metadata": {},
   "outputs": [
    {
     "name": "stderr",
     "output_type": "stream",
     "text": [
      "C:\\Users\\Playdata\\AppData\\Local\\Temp\\ipykernel_20388\\2043027947.py:9: SettingWithCopyWarning: \n",
      "A value is trying to be set on a copy of a slice from a DataFrame.\n",
      "Try using .loc[row_indexer,col_indexer] = value instead\n",
      "\n",
      "See the caveats in the documentation: https://pandas.pydata.org/pandas-docs/stable/user_guide/indexing.html#returning-a-view-versus-a-copy\n",
      "  df_cleaned['name'] = df_cleaned['name'].apply(remove_duplicate_words)\n",
      "C:\\Users\\Playdata\\AppData\\Local\\Temp\\ipykernel_20388\\2043027947.py:10: SettingWithCopyWarning: \n",
      "A value is trying to be set on a copy of a slice from a DataFrame.\n",
      "Try using .loc[row_indexer,col_indexer] = value instead\n",
      "\n",
      "See the caveats in the documentation: https://pandas.pydata.org/pandas-docs/stable/user_guide/indexing.html#returning-a-view-versus-a-copy\n",
      "  df_cleaned['intro'] = df_cleaned['intro'].apply(remove_duplicate_words)\n"
     ]
    }
   ],
   "source": [
    "# 중복된 단어를 정리하는 함수 정의\n",
    "def remove_duplicate_words(text):\n",
    "    words = text.split()  # 공백을 기준으로 단어 분리\n",
    "    seen = set()\n",
    "    unique_words = [word for word in words if not (word in seen or seen.add(word))]  # 중복 제거\n",
    "    return \" \".join(unique_words)  # 다시 공백을 포함하여 합치기\n",
    "\n",
    "# 'name' 컬럼에 적용하여 중복 단어 제거\n",
    "df_cleaned['name'] = df_cleaned['name'].apply(remove_duplicate_words)\n",
    "df_cleaned['intro'] = df_cleaned['intro'].apply(remove_duplicate_words)\n"
   ]
  },
  {
   "cell_type": "code",
   "execution_count": null,
   "metadata": {},
   "outputs": [],
   "source": [
    "\n"
   ]
  },
  {
   "cell_type": "code",
   "execution_count": 87,
   "metadata": {},
   "outputs": [
    {
     "name": "stderr",
     "output_type": "stream",
     "text": [
      "C:\\Users\\Playdata\\AppData\\Local\\Temp\\ipykernel_20388\\4265447696.py:7: SettingWithCopyWarning: \n",
      "A value is trying to be set on a copy of a slice from a DataFrame.\n",
      "Try using .loc[row_indexer,col_indexer] = value instead\n",
      "\n",
      "See the caveats in the documentation: https://pandas.pydata.org/pandas-docs/stable/user_guide/indexing.html#returning-a-view-versus-a-copy\n",
      "  df_cleaned['ingredients'] = df_cleaned['ingredients'].apply(\n",
      "C:\\Users\\Playdata\\AppData\\Local\\Temp\\ipykernel_20388\\4265447696.py:12: SettingWithCopyWarning: \n",
      "A value is trying to be set on a copy of a slice from a DataFrame.\n",
      "Try using .loc[row_indexer,col_indexer] = value instead\n",
      "\n",
      "See the caveats in the documentation: https://pandas.pydata.org/pandas-docs/stable/user_guide/indexing.html#returning-a-view-versus-a-copy\n",
      "  df_cleaned['ingredients'] = df_cleaned['ingredients'].apply(lambda x: x.replace('*', 'x').replace('-', '~'))\n",
      "C:\\Users\\Playdata\\AppData\\Local\\Temp\\ipykernel_20388\\4265447696.py:15: SettingWithCopyWarning: \n",
      "A value is trying to be set on a copy of a slice from a DataFrame.\n",
      "Try using .loc[row_indexer,col_indexer] = value instead\n",
      "\n",
      "See the caveats in the documentation: https://pandas.pydata.org/pandas-docs/stable/user_guide/indexing.html#returning-a-view-versus-a-copy\n",
      "  df_cleaned['ingredients'] = df_cleaned['ingredients'].apply(lambda x: re.sub(r'\\],', ']', x))\n"
     ]
    }
   ],
   "source": [
    "import string\n",
    "\n",
    "# 남길 문자: %, (, ), *, +, -, /, :, cm, 中, 大, 小, x, ½, ~, =\n",
    "allowed_chars_ingredients_extended = set(\"[],.%()*+/-:cm中大小x½~=\" + string.ascii_letters + string.digits + string.whitespace + \"\".join(chr(i) for i in range(0xAC00, 0xD7A4)))  # 한글 포함\n",
    "\n",
    "# 제거할 문자 필터링\n",
    "df_cleaned['ingredients'] = df_cleaned['ingredients'].apply(\n",
    "    lambda x: \"\".join([char for char in x if char in allowed_chars_ingredients_extended])\n",
    ")\n",
    "\n",
    "# '*'를 'x'로 변환하고 '-'를 '~'로 변환\n",
    "df_cleaned['ingredients'] = df_cleaned['ingredients'].apply(lambda x: x.replace('*', 'x').replace('-', '~'))\n",
    "\n",
    "# 대괄호([]) 뒤에 오는 쉼표 제거\n",
    "df_cleaned['ingredients'] = df_cleaned['ingredients'].apply(lambda x: re.sub(r'\\],', ']', x))"
   ]
  },
  {
   "cell_type": "code",
   "execution_count": 88,
   "metadata": {},
   "outputs": [
    {
     "name": "stderr",
     "output_type": "stream",
     "text": [
      "C:\\Users\\Playdata\\AppData\\Local\\Temp\\ipykernel_20388\\1499599714.py:2: SettingWithCopyWarning: \n",
      "A value is trying to be set on a copy of a slice from a DataFrame.\n",
      "Try using .loc[row_indexer,col_indexer] = value instead\n",
      "\n",
      "See the caveats in the documentation: https://pandas.pydata.org/pandas-docs/stable/user_guide/indexing.html#returning-a-view-versus-a-copy\n",
      "  df_cleaned['ingredients'] = df_cleaned['ingredients'].apply(lambda x: x.replace(' 구매', ''))\n",
      "C:\\Users\\Playdata\\AppData\\Local\\Temp\\ipykernel_20388\\1499599714.py:5: SettingWithCopyWarning: \n",
      "A value is trying to be set on a copy of a slice from a DataFrame.\n",
      "Try using .loc[row_indexer,col_indexer] = value instead\n",
      "\n",
      "See the caveats in the documentation: https://pandas.pydata.org/pandas-docs/stable/user_guide/indexing.html#returning-a-view-versus-a-copy\n",
      "  df_cleaned['ingredients'] = df_cleaned['ingredients'].apply(lambda x: re.sub(r'\\],', ']', x))\n",
      "C:\\Users\\Playdata\\AppData\\Local\\Temp\\ipykernel_20388\\1499599714.py:8: SettingWithCopyWarning: \n",
      "A value is trying to be set on a copy of a slice from a DataFrame.\n",
      "Try using .loc[row_indexer,col_indexer] = value instead\n",
      "\n",
      "See the caveats in the documentation: https://pandas.pydata.org/pandas-docs/stable/user_guide/indexing.html#returning-a-view-versus-a-copy\n",
      "  df_cleaned['ingredients'] = df_cleaned['ingredients'].apply(lambda x: re.sub(r'\\[재료\\]', '', x))\n",
      "C:\\Users\\Playdata\\AppData\\Local\\Temp\\ipykernel_20388\\1499599714.py:9: SettingWithCopyWarning: \n",
      "A value is trying to be set on a copy of a slice from a DataFrame.\n",
      "Try using .loc[row_indexer,col_indexer] = value instead\n",
      "\n",
      "See the caveats in the documentation: https://pandas.pydata.org/pandas-docs/stable/user_guide/indexing.html#returning-a-view-versus-a-copy\n",
      "  df_cleaned['ingredients'] = df_cleaned['ingredients'].apply(lambda x: re.sub(r',+', ',', x).strip(','))\n"
     ]
    }
   ],
   "source": [
    "# ' 구매' 제거\n",
    "df_cleaned['ingredients'] = df_cleaned['ingredients'].apply(lambda x: x.replace(' 구매', ''))\n",
    "\n",
    "# 대괄호([]) 뒤에 오는 쉼표 제거\n",
    "df_cleaned['ingredients'] = df_cleaned['ingredients'].apply(lambda x: re.sub(r'\\],', ']', x))\n",
    "\n",
    "# '[재료]' 제거 및 연속된 쉼표 정리\n",
    "df_cleaned['ingredients'] = df_cleaned['ingredients'].apply(lambda x: re.sub(r'\\[재료\\]', '', x))\n",
    "df_cleaned['ingredients'] = df_cleaned['ingredients'].apply(lambda x: re.sub(r',+', ',', x).strip(','))"
   ]
  },
  {
   "cell_type": "code",
   "execution_count": 89,
   "metadata": {},
   "outputs": [
    {
     "name": "stderr",
     "output_type": "stream",
     "text": [
      "C:\\Users\\Playdata\\AppData\\Local\\Temp\\ipykernel_20388\\1615708724.py:6: SettingWithCopyWarning: \n",
      "A value is trying to be set on a copy of a slice from a DataFrame.\n",
      "Try using .loc[row_indexer,col_indexer] = value instead\n",
      "\n",
      "See the caveats in the documentation: https://pandas.pydata.org/pandas-docs/stable/user_guide/indexing.html#returning-a-view-versus-a-copy\n",
      "  df_cleaned['ingredients'] = df_cleaned['ingredients'].apply(replace_comma_with_dash)\n"
     ]
    }
   ],
   "source": [
    "# 재료명과 단위 사이의 쉼표를 '-'로 변환하는 함수\n",
    "def replace_comma_with_dash(text):\n",
    "    return re.sub(r'(\\S)\\s*,\\s*(\\d+[\\w%]*)', r'\\1-\\2', text)\n",
    "\n",
    "# 'ingredients' 컬럼에 적용\n",
    "df_cleaned['ingredients'] = df_cleaned['ingredients'].apply(replace_comma_with_dash)\n"
   ]
  },
  {
   "cell_type": "markdown",
   "metadata": {},
   "source": [
    "- RECIPE 칼럼"
   ]
  },
  {
   "cell_type": "code",
   "execution_count": null,
   "metadata": {},
   "outputs": [],
   "source": []
  },
  {
   "cell_type": "code",
   "execution_count": 90,
   "metadata": {},
   "outputs": [
    {
     "data": {
      "text/plain": [
       "{'一',\n",
       " '一锅汤',\n",
       " '三',\n",
       " '上',\n",
       " '下',\n",
       " '中',\n",
       " '中濃',\n",
       " '中華',\n",
       " '中辛',\n",
       " '丼',\n",
       " '乃',\n",
       " '乗',\n",
       " '井',\n",
       " '京酱',\n",
       " '京酱肉丝',\n",
       " '人',\n",
       " '伏',\n",
       " '会影响慕斯口感',\n",
       " '倾斜打蛋盆',\n",
       " '元宵',\n",
       " '元宵餠',\n",
       " '克纯净水浸泡片刻',\n",
       " '六分发',\n",
       " '冷',\n",
       " '冷藏待用',\n",
       " '分发后冷藏备用',\n",
       " '切',\n",
       " '前',\n",
       " '十',\n",
       " '半分',\n",
       " '可以看到打蛋器头上的奶油尖尖朝下',\n",
       " '右',\n",
       " '吃得软的可以打到四五分',\n",
       " '吉利丁粉加',\n",
       " '否则可能油水分离',\n",
       " '味味味',\n",
       " '喜欢蛋糕的',\n",
       " '四骨',\n",
       " '地瓜球',\n",
       " '外',\n",
       " '多',\n",
       " '夜',\n",
       " '大',\n",
       " '大戸屋',\n",
       " '大雪',\n",
       " '奶油可缓慢流动',\n",
       " '奶花',\n",
       " '好',\n",
       " '完成',\n",
       " '容易打发',\n",
       " '将饼干碎与融化后的黄油拌匀倒入模具压实',\n",
       " '将饼干碎换掉直接铺蛋糕即可',\n",
       " '小',\n",
       " '小雪',\n",
       " '川',\n",
       " '左',\n",
       " '巧克力最佳溶解温度',\n",
       " '巧克力隔水加热至融化',\n",
       " '巻',\n",
       " '巽',\n",
       " '必',\n",
       " '忍',\n",
       " '情',\n",
       " '打发奶油',\n",
       " '提起打蛋器',\n",
       " '斜',\n",
       " '时间打长了奶油太硬',\n",
       " '晩時之歎',\n",
       " '曰',\n",
       " '最高不可超过',\n",
       " '有',\n",
       " '東坡肉',\n",
       " '梅',\n",
       " '模具内铺一张底径大小的油纸',\n",
       " '死',\n",
       " '殺靑',\n",
       " '氣',\n",
       " '水卵器',\n",
       " '泡发后隔水加热至融化',\n",
       " '浅漬',\n",
       " '海鮮中華丼',\n",
       " '淡奶油先冷藏几个小时',\n",
       " '淡奶油加糖粉打至',\n",
       " '滷肉飯',\n",
       " '無',\n",
       " '牛尾蒸方',\n",
       " '生',\n",
       " '生春巻',\n",
       " '用',\n",
       " '甲',\n",
       " '石決明',\n",
       " '福',\n",
       " '第一排右',\n",
       " '第一排左',\n",
       " '第二排右',\n",
       " '第二排左',\n",
       " '筋',\n",
       " '節氣',\n",
       " '米',\n",
       " '總',\n",
       " '美',\n",
       " '美味',\n",
       " '芒種',\n",
       " '花椒粉',\n",
       " '茶葉蛋',\n",
       " '蛋糕底',\n",
       " '蛋黄中加入牛奶搅拌均匀后隔水加热并不断搅拌至略浓稠',\n",
       " '角',\n",
       " '豚丼',\n",
       " '赤',\n",
       " '足絲',\n",
       " '込',\n",
       " '适合做慕斯',\n",
       " '野菜',\n",
       " '量',\n",
       " '隔水加热融化',\n",
       " '雀',\n",
       " '雀巢淡奶油打发的奶油比较软',\n",
       " '雙和',\n",
       " '頭',\n",
       " '鱼香茄子',\n",
       " '鶏',\n",
       " '鹃城牌',\n",
       " '黄油隔水加热至融化',\n",
       " '黄油隔水融化后',\n",
       " '黒酢'}"
      ]
     },
     "execution_count": 90,
     "metadata": {},
     "output_type": "execute_result"
    }
   ],
   "source": [
    "# 'recipe' 컬럼에서 등장하는 한자 찾기\n",
    "hanja_pattern = re.compile(r'[\\u4E00-\\u9FFF]+')  # 한자 범위\n",
    "\n",
    "# recipe 컬럼에서 한자가 포함된 부분 추출\n",
    "hanja_found = set()\n",
    "for text in df_recipes['recipe'].dropna():\n",
    "    hanja_found.update(hanja_pattern.findall(text))\n",
    "\n",
    "# 한자 목록 출력\n",
    "hanja_found"
   ]
  },
  {
   "cell_type": "code",
   "execution_count": null,
   "metadata": {},
   "outputs": [],
   "source": [
    "def add_period_to_sentences(text):\n",
    "    sentences = text.split('\\n')  # 여러 줄이 있을 경우 개별적으로 처리\n",
    "    updated_sentences = []\n",
    "    \n",
    "    for sentence in sentences:\n",
    "        sentence = sentence.strip()\n",
    "        if sentence and not sentence.endswith('.'):\n",
    "            sentence += '.'\n",
    "        updated_sentences.append(sentence)\n",
    "\n",
    "    return '\\n'.join(updated_sentences)\n",
    "\n",
    "df_cleaned['recipe'] = df_cleaned['recipe'].apply(add_period_to_sentences)"
   ]
  },
  {
   "cell_type": "code",
   "execution_count": 91,
   "metadata": {},
   "outputs": [
    {
     "name": "stderr",
     "output_type": "stream",
     "text": [
      "C:\\Users\\Playdata\\AppData\\Local\\Temp\\ipykernel_20388\\1485528524.py:5: SettingWithCopyWarning: \n",
      "A value is trying to be set on a copy of a slice from a DataFrame.\n",
      "Try using .loc[row_indexer,col_indexer] = value instead\n",
      "\n",
      "See the caveats in the documentation: https://pandas.pydata.org/pandas-docs/stable/user_guide/indexing.html#returning-a-view-versus-a-copy\n",
      "  df_cleaned['recipe'] = df_cleaned['recipe'].fillna('')\n",
      "C:\\Users\\Playdata\\AppData\\Local\\Temp\\ipykernel_20388\\1485528524.py:9: SettingWithCopyWarning: \n",
      "A value is trying to be set on a copy of a slice from a DataFrame.\n",
      "Try using .loc[row_indexer,col_indexer] = value instead\n",
      "\n",
      "See the caveats in the documentation: https://pandas.pydata.org/pandas-docs/stable/user_guide/indexing.html#returning-a-view-versus-a-copy\n",
      "  df_cleaned['recipe'] = df_cleaned['recipe'].apply(lambda x: re.sub(remove_chars, '', x))\n",
      "C:\\Users\\Playdata\\AppData\\Local\\Temp\\ipykernel_20388\\1485528524.py:12: SettingWithCopyWarning: \n",
      "A value is trying to be set on a copy of a slice from a DataFrame.\n",
      "Try using .loc[row_indexer,col_indexer] = value instead\n",
      "\n",
      "See the caveats in the documentation: https://pandas.pydata.org/pandas-docs/stable/user_guide/indexing.html#returning-a-view-versus-a-copy\n",
      "  df_cleaned['recipe'] = df_cleaned['recipe'].apply(lambda x: re.sub(r'\\b[ㄱ-ㅎㅏ-ㅣ]+\\b', '', x))\n",
      "C:\\Users\\Playdata\\AppData\\Local\\Temp\\ipykernel_20388\\1485528524.py:15: SettingWithCopyWarning: \n",
      "A value is trying to be set on a copy of a slice from a DataFrame.\n",
      "Try using .loc[row_indexer,col_indexer] = value instead\n",
      "\n",
      "See the caveats in the documentation: https://pandas.pydata.org/pandas-docs/stable/user_guide/indexing.html#returning-a-view-versus-a-copy\n",
      "  df_cleaned['recipe'] = df_cleaned['recipe'].apply(lambda x: re.sub(r'([.!?])\\1+', r'\\1', x))\n",
      "C:\\Users\\Playdata\\AppData\\Local\\Temp\\ipykernel_20388\\1485528524.py:23: SettingWithCopyWarning: \n",
      "A value is trying to be set on a copy of a slice from a DataFrame.\n",
      "Try using .loc[row_indexer,col_indexer] = value instead\n",
      "\n",
      "See the caveats in the documentation: https://pandas.pydata.org/pandas-docs/stable/user_guide/indexing.html#returning-a-view-versus-a-copy\n",
      "  df_cleaned['recipe'] = df_cleaned['recipe'].apply(remove_unwanted_hanja)\n",
      "C:\\Users\\Playdata\\AppData\\Local\\Temp\\ipykernel_20388\\1485528524.py:26: SettingWithCopyWarning: \n",
      "A value is trying to be set on a copy of a slice from a DataFrame.\n",
      "Try using .loc[row_indexer,col_indexer] = value instead\n",
      "\n",
      "See the caveats in the documentation: https://pandas.pydata.org/pandas-docs/stable/user_guide/indexing.html#returning-a-view-versus-a-copy\n",
      "  df_cleaned['recipe'] = df_cleaned['recipe'].apply(lambda x: re.sub(r'\\s+', ' ', x).strip())\n",
      "C:\\Users\\Playdata\\AppData\\Local\\Temp\\ipykernel_20388\\1485528524.py:31: SettingWithCopyWarning: \n",
      "A value is trying to be set on a copy of a slice from a DataFrame.\n",
      "Try using .loc[row_indexer,col_indexer] = value instead\n",
      "\n",
      "See the caveats in the documentation: https://pandas.pydata.org/pandas-docs/stable/user_guide/indexing.html#returning-a-view-versus-a-copy\n",
      "  df_cleaned['recipe'] = df_cleaned['recipe'].apply(lambda x: re.sub(r'(\\n\\s*)+', '\\n', x))\n",
      "C:\\Users\\Playdata\\AppData\\Local\\Temp\\ipykernel_20388\\1485528524.py:32: SettingWithCopyWarning: \n",
      "A value is trying to be set on a copy of a slice from a DataFrame.\n",
      "Try using .loc[row_indexer,col_indexer] = value instead\n",
      "\n",
      "See the caveats in the documentation: https://pandas.pydata.org/pandas-docs/stable/user_guide/indexing.html#returning-a-view-versus-a-copy\n",
      "  df_cleaned['recipe'] = df_cleaned['recipe'].apply(lambda x: re.sub(r'([.,!?])([^\\s])', r'\\1 \\2', x))\n"
     ]
    }
   ],
   "source": [
    "import pandas as pd\n",
    "import re\n",
    "\n",
    "# NaN 값이 있으면 빈 문자열로 변환\n",
    "df_cleaned['recipe'] = df_cleaned['recipe'].fillna('')\n",
    "\n",
    "# 1. 불필요한 특수문자 제거 (이모지, 기호 등)\n",
    "remove_chars = r'[【】▷▾▲☆★‼！☞✔✅❗❤❣⚡✌\\ufeff\\xa0]'\n",
    "df_cleaned['recipe'] = df_cleaned['recipe'].apply(lambda x: re.sub(remove_chars, '', x))\n",
    "\n",
    "# 2. 한글 자음/모음만 단독으로 존재하는 경우 제거 (예: ᄆ, ᅡ, ᆨ)\n",
    "df_cleaned['recipe'] = df_cleaned['recipe'].apply(lambda x: re.sub(r'\\b[ㄱ-ㅎㅏ-ㅣ]+\\b', '', x))\n",
    "\n",
    "# 3. 연속된 기호 정리 (예: `...` -> `.`)\n",
    "df_cleaned['recipe'] = df_cleaned['recipe'].apply(lambda x: re.sub(r'([.!?])\\1+', r'\\1', x))\n",
    "\n",
    "# 4. 한자 정리 (小, 中, 大만 남기고 나머지 한자 삭제)\n",
    "def remove_unwanted_hanja(text):\n",
    "    if pd.isnull(text):\n",
    "        return text\n",
    "    return re.sub(r'[\\u4E00-\\u9FFF&&[^\\s小中大]]', '', text)  # 한자 범위에서 小中大만 남김\n",
    "\n",
    "df_cleaned['recipe'] = df_cleaned['recipe'].apply(remove_unwanted_hanja)\n",
    "\n",
    "# 5. 연속된 공백 제거\n",
    "df_cleaned['recipe'] = df_cleaned['recipe'].apply(lambda x: re.sub(r'\\s+', ' ', x).strip())\n",
    "\n",
    "# 6. 문장 정리\n",
    "# - 여러 개의 줄바꿈(\\n)을 하나로 통일\n",
    "# - 문장 부호(.,!?) 뒤에 공백 추가 (일관된 문장 구조 유지)\n",
    "df_cleaned['recipe'] = df_cleaned['recipe'].apply(lambda x: re.sub(r'(\\n\\s*)+', '\\n', x))\n",
    "df_cleaned['recipe'] = df_cleaned['recipe'].apply(lambda x: re.sub(r'([.,!?])([^\\s])', r'\\1 \\2', x))\n",
    "\n"
   ]
  },
  {
   "cell_type": "code",
   "execution_count": null,
   "metadata": {},
   "outputs": [],
   "source": []
  },
  {
   "cell_type": "code",
   "execution_count": 92,
   "metadata": {},
   "outputs": [
    {
     "name": "stderr",
     "output_type": "stream",
     "text": [
      "C:\\Users\\Playdata\\AppData\\Local\\Temp\\ipykernel_20388\\1144843488.py:7: SettingWithCopyWarning: \n",
      "A value is trying to be set on a copy of a slice from a DataFrame.\n",
      "Try using .loc[row_indexer,col_indexer] = value instead\n",
      "\n",
      "See the caveats in the documentation: https://pandas.pydata.org/pandas-docs/stable/user_guide/indexing.html#returning-a-view-versus-a-copy\n",
      "  df_cleaned['recipe'] = df_cleaned['recipe'].apply(remove_unwanted_special_chars)\n"
     ]
    }
   ],
   "source": [
    "# 특수 문자 제거\n",
    "def remove_unwanted_special_chars(text):\n",
    "    if text is None:\n",
    "        return text\n",
    "    return ''.join(char for char in text if char not in {'!', '\"', '#', '&', \"'\", ':', ';', '?', '@', '\\\\', '^', '`', '|', '}', '¡', '°', '´', '·', '˂', '˃', '˘', '˙', '˚', '˵', '˶', '̀', '́', '̆', '̈', '̑', '̣', '̵', '̶', '͈', '͜', '͡', '–', '‘', '’', '“', '”', '•', '…', '‸', '※', '‼', '↑', '→', '↓', '↘', '∀', '∇', '∧', '∨', '≦', '≧', '⊙', '⌓', '⌣', '⌯', '╹', '■', '▣', '▪', '▲', '△', '▶', '▷', '►', '▼', '▾', '◀', '◆', '◈', '○', '◍', '◎', '●', '◡', '◼', '★', '☆', '☌', '☞', '☺', '♠', '♡', '♣', '♤', '♥', '♧', '♨', '♩', '♪', '♬', '⚡', '✅', '✌', '✔', '✨', '✿', '❌', '❗', '❛', '❣', '❤', '⭐', '。', '〈', '〉', '《', '》', '「', '」', '『', '』', '【', '】', '〜', '〰', '・', '㉠', '㉡', '㉢', '㉣', '㉤', '㉥', '㉦', '︎', '️', '︶', '\\ufeff', '！', '（', '）', '＊', '，', '｀', '～', '｡', '･'})\n",
    "\n",
    "df_cleaned['recipe'] = df_cleaned['recipe'].apply(remove_unwanted_special_chars)\n"
   ]
  },
  {
   "cell_type": "code",
   "execution_count": 93,
   "metadata": {},
   "outputs": [
    {
     "name": "stderr",
     "output_type": "stream",
     "text": [
      "C:\\Users\\Playdata\\AppData\\Local\\Temp\\ipykernel_20388\\265827435.py:8: SettingWithCopyWarning: \n",
      "A value is trying to be set on a copy of a slice from a DataFrame.\n",
      "Try using .loc[row_indexer,col_indexer] = value instead\n",
      "\n",
      "See the caveats in the documentation: https://pandas.pydata.org/pandas-docs/stable/user_guide/indexing.html#returning-a-view-versus-a-copy\n",
      "  df_cleaned['recipe'] = df_cleaned['recipe'].apply(remove_control_chars)\n"
     ]
    }
   ],
   "source": [
    "# 제어 문자 제거 함수\n",
    "def remove_control_chars(text):\n",
    "    if text is None:\n",
    "        return text\n",
    "    return re.sub(r'[\\x00-\\x1F\\x7F]', '', text)  # 제어 문자 범위 제거\n",
    "\n",
    "# recipe 칼럼에서 제어 문자 제거 적용\n",
    "df_cleaned['recipe'] = df_cleaned['recipe'].apply(remove_control_chars)"
   ]
  },
  {
   "cell_type": "code",
   "execution_count": 94,
   "metadata": {},
   "outputs": [
    {
     "name": "stderr",
     "output_type": "stream",
     "text": [
      "C:\\Users\\Playdata\\AppData\\Local\\Temp\\ipykernel_20388\\1146770944.py:8: SettingWithCopyWarning: \n",
      "A value is trying to be set on a copy of a slice from a DataFrame.\n",
      "Try using .loc[row_indexer,col_indexer] = value instead\n",
      "\n",
      "See the caveats in the documentation: https://pandas.pydata.org/pandas-docs/stable/user_guide/indexing.html#returning-a-view-versus-a-copy\n",
      "  df_cleaned['recipe'] = df_cleaned['recipe'].apply(replace_asterisk)\n",
      "C:\\Users\\Playdata\\AppData\\Local\\Temp\\ipykernel_20388\\1146770944.py:17: SettingWithCopyWarning: \n",
      "A value is trying to be set on a copy of a slice from a DataFrame.\n",
      "Try using .loc[row_indexer,col_indexer] = value instead\n",
      "\n",
      "See the caveats in the documentation: https://pandas.pydata.org/pandas-docs/stable/user_guide/indexing.html#returning-a-view-versus-a-copy\n",
      "  df_cleaned['recipe'] = df_cleaned['recipe'].apply(remove_unwanted_x)\n"
     ]
    }
   ],
   "source": [
    "# '*' 문자를 'x'로 변환하는 함수\n",
    "def replace_asterisk(text):\n",
    "    if text is None:\n",
    "        return text\n",
    "    return text.replace('*', 'x')\n",
    "\n",
    "# recipe 칼럼에서 '*' 변환 적용\n",
    "df_cleaned['recipe'] = df_cleaned['recipe'].apply(replace_asterisk)\n",
    "\n",
    "def remove_unwanted_x(text):\n",
    "    if text is None:\n",
    "        return text\n",
    "    # 'x'가 숫자 앞에 오는 경우 (공백 포함) 를 제외하고 삭제\n",
    "    return re.sub(r'\\bx(?!\\s?\\d)', '', text)\n",
    "\n",
    "# recipe 칼럼에서 'x' 변환 적용\n",
    "df_cleaned['recipe'] = df_cleaned['recipe'].apply(remove_unwanted_x)"
   ]
  },
  {
   "cell_type": "code",
   "execution_count": 95,
   "metadata": {},
   "outputs": [
    {
     "name": "stderr",
     "output_type": "stream",
     "text": [
      "C:\\Users\\Playdata\\AppData\\Local\\Temp\\ipykernel_20388\\3447588526.py:12: SettingWithCopyWarning: \n",
      "A value is trying to be set on a copy of a slice from a DataFrame.\n",
      "Try using .loc[row_indexer,col_indexer] = value instead\n",
      "\n",
      "See the caveats in the documentation: https://pandas.pydata.org/pandas-docs/stable/user_guide/indexing.html#returning-a-view-versus-a-copy\n",
      "  df_cleaned['recipe'] = df_cleaned['recipe'].apply(remove_emojis)\n"
     ]
    }
   ],
   "source": [
    "# 이모지 제거\n",
    "\n",
    "def remove_emojis(text):\n",
    "    emoji_pattern = re.compile(\n",
    "        \"[\\U0001F300-\\U0001F5FF\\U0001F600-\\U0001F64F\\U0001F680-\\U0001F6FF\\U0001F700-\\U0001F77F\\U0001F780-\\U0001F7FF\"\n",
    "        \"\\U0001F800-\\U0001F8FF\\U0001F900-\\U0001F9FF\\U0001FA00-\\U0001FA6F\\U0001FA70-\\U0001FAFF\\U00002702-\\U000027B0]+\",\n",
    "        flags=re.UNICODE\n",
    "    )\n",
    "    return emoji_pattern.sub('', text)\n",
    "\n",
    "# recipe 칼럼에서 'x' 변환 적용\n",
    "df_cleaned['recipe'] = df_cleaned['recipe'].apply(remove_emojis)"
   ]
  },
  {
   "cell_type": "code",
   "execution_count": 96,
   "metadata": {},
   "outputs": [
    {
     "name": "stderr",
     "output_type": "stream",
     "text": [
      "C:\\Users\\Playdata\\AppData\\Local\\Temp\\ipykernel_20388\\2992181895.py:10: SettingWithCopyWarning: \n",
      "A value is trying to be set on a copy of a slice from a DataFrame.\n",
      "Try using .loc[row_indexer,col_indexer] = value instead\n",
      "\n",
      "See the caveats in the documentation: https://pandas.pydata.org/pandas-docs/stable/user_guide/indexing.html#returning-a-view-versus-a-copy\n",
      "  df_cleaned['recipe'] = df_cleaned['recipe'].apply(process_text)\n"
     ]
    }
   ],
   "source": [
    "def process_text(text):\n",
    "    # 1. 모든 '-'를 '~'로 변경\n",
    "    text = text.replace('-', '~')\n",
    "\n",
    "    # 2. '~' 뒤에 숫자가 오거나, 공백 후 숫자가 오는 경우를 제외하고 삭제\n",
    "    processed_text = re.sub(r\"~(?!\\s?\\d)\", \"\", text)\n",
    "\n",
    "    return processed_text\n",
    "\n",
    "df_cleaned['recipe'] = df_cleaned['recipe'].apply(process_text)"
   ]
  },
  {
   "cell_type": "code",
   "execution_count": 97,
   "metadata": {},
   "outputs": [
    {
     "name": "stderr",
     "output_type": "stream",
     "text": [
      "C:\\Users\\Playdata\\AppData\\Local\\Temp\\ipykernel_20388\\1970293301.py:9: SettingWithCopyWarning: \n",
      "A value is trying to be set on a copy of a slice from a DataFrame.\n",
      "Try using .loc[row_indexer,col_indexer] = value instead\n",
      "\n",
      "See the caveats in the documentation: https://pandas.pydata.org/pandas-docs/stable/user_guide/indexing.html#returning-a-view-versus-a-copy\n",
      "  df_cleaned['recipe'] = df_cleaned['recipe'].apply(clean_specific_recipe_text)\n"
     ]
    }
   ],
   "source": [
    "# 특정한 형식의 괄호만 제거하는 함수 정의\n",
    "def clean_specific_recipe_text(text):\n",
    "    # '()' 및 '(x)' 만 삭제\n",
    "    cleaned_text = re.sub(r\"\\(\\s*\\)\", \"\", text)  # 빈 괄호 또는 공백만 있는 괄호 삭제\n",
    "    cleaned_text = re.sub(r\"\\(x\\)\", \"\", cleaned_text)  # '(x)' 삭제\n",
    "    return cleaned_text.strip()\n",
    "\n",
    "# 'recipe' 칼럼 정리 적용\n",
    "df_cleaned['recipe'] = df_cleaned['recipe'].apply(clean_specific_recipe_text)\n"
   ]
  },
  {
   "cell_type": "code",
   "execution_count": 98,
   "metadata": {},
   "outputs": [
    {
     "name": "stderr",
     "output_type": "stream",
     "text": [
      "C:\\Users\\Playdata\\AppData\\Local\\Temp\\ipykernel_20388\\1931482691.py:15: SettingWithCopyWarning: \n",
      "A value is trying to be set on a copy of a slice from a DataFrame.\n",
      "Try using .loc[row_indexer,col_indexer] = value instead\n",
      "\n",
      "See the caveats in the documentation: https://pandas.pydata.org/pandas-docs/stable/user_guide/indexing.html#returning-a-view-versus-a-copy\n",
      "  df_cleaned['recipe'] = df_cleaned['recipe'].apply(remove_consonant_vowel_only)\n"
     ]
    }
   ],
   "source": [
    "# 자음만 있거나 모음만 있는 경우를 제거하는 함수 정의\n",
    "def remove_consonant_vowel_only(text):\n",
    "    # 한글 자음과 모음 유니코드 범위\n",
    "    consonants = \"ㄱㄲㄴㄷㄸㄹㅁㅂㅃㅅㅆㅇㅈㅉㅊㅋㅌㅍㅎ\"\n",
    "    vowels = \"ㅏㅐㅑㅒㅓㅔㅕㅖㅗㅘㅙㅚㅛㅜㅝㅞㅟㅠㅡㅢㅣ\"\n",
    "    \n",
    "    # 정규식 패턴: 공백 또는 문장 경계에서 자음만 있는 경우 또는 모음만 있는 경우\n",
    "    pattern = rf\"\\s*[{consonants}]+\\s*|\\s*[{vowels}]+\\s*\"\n",
    "\n",
    "    # 패턴에 해당하는 문자 삭제\n",
    "    cleaned_text = re.sub(pattern, \" \", text)\n",
    "    return cleaned_text.strip()\n",
    "\n",
    "# 'recipe' 칼럼 정리 적용\n",
    "df_cleaned['recipe'] = df_cleaned['recipe'].apply(remove_consonant_vowel_only)"
   ]
  },
  {
   "cell_type": "code",
   "execution_count": null,
   "metadata": {},
   "outputs": [
    {
     "name": "stderr",
     "output_type": "stream",
     "text": [
      "C:\\Users\\Playdata\\AppData\\Local\\Temp\\ipykernel_20388\\1535252812.py:13: SettingWithCopyWarning: \n",
      "A value is trying to be set on a copy of a slice from a DataFrame.\n",
      "Try using .loc[row_indexer,col_indexer] = value instead\n",
      "\n",
      "See the caveats in the documentation: https://pandas.pydata.org/pandas-docs/stable/user_guide/indexing.html#returning-a-view-versus-a-copy\n",
      "  df_cleaned['recipe'] = df_cleaned['recipe'].apply(add_period_to_sentences)\n"
     ]
    }
   ],
   "source": []
  },
  {
   "cell_type": "code",
   "execution_count": 100,
   "metadata": {},
   "outputs": [
    {
     "name": "stderr",
     "output_type": "stream",
     "text": [
      "C:\\Users\\Playdata\\AppData\\Local\\Temp\\ipykernel_20388\\3028730139.py:8: SettingWithCopyWarning: \n",
      "A value is trying to be set on a copy of a slice from a DataFrame.\n",
      "Try using .loc[row_indexer,col_indexer] = value instead\n",
      "\n",
      "See the caveats in the documentation: https://pandas.pydata.org/pandas-docs/stable/user_guide/indexing.html#returning-a-view-versus-a-copy\n",
      "  df_cleaned['recipe'] = df_cleaned['recipe'].apply(remove_multiple_x_words)\n"
     ]
    }
   ],
   "source": [
    "# 'xx' 이상의 연속된 'x'가 포함된 단어 제거 함수 정의\n",
    "def remove_multiple_x_words(text):\n",
    "    # 'xx' 이상의 연속된 'x'가 포함된 단어 삭제\n",
    "    cleaned_text = re.sub(r\"\\b\\w*x{2,}\\w*\\b\", \"\", text)\n",
    "    return cleaned_text.strip()\n",
    "\n",
    "# 'recipe' 칼럼에서 'xx' 이상의 연속된 'x'가 포함된 단어 제거 적용\n",
    "df_cleaned['recipe'] = df_cleaned['recipe'].apply(remove_multiple_x_words)"
   ]
  },
  {
   "cell_type": "code",
   "execution_count": 101,
   "metadata": {},
   "outputs": [
    {
     "name": "stderr",
     "output_type": "stream",
     "text": [
      "C:\\Users\\Playdata\\AppData\\Local\\Temp\\ipykernel_20388\\277094844.py:8: SettingWithCopyWarning: \n",
      "A value is trying to be set on a copy of a slice from a DataFrame.\n",
      "Try using .loc[row_indexer,col_indexer] = value instead\n",
      "\n",
      "See the caveats in the documentation: https://pandas.pydata.org/pandas-docs/stable/user_guide/indexing.html#returning-a-view-versus-a-copy\n",
      "  df_cleaned['recipe'] = df_cleaned['recipe'].apply(remove_special_chars)\n"
     ]
    }
   ],
   "source": [
    "# '_', '><', '>_<' 문자 제거 함수 정의\n",
    "def remove_special_chars(text):\n",
    "    # 특정 문자들('_', '><', '>_<')을 제거\n",
    "    cleaned_text = re.sub(r\"_|><|>_<\", \"\", text)\n",
    "    return cleaned_text.strip()\n",
    "\n",
    "# 'recipe' 칼럼에서 해당 문자 제거 적용\n",
    "df_cleaned['recipe'] = df_cleaned['recipe'].apply(remove_special_chars)"
   ]
  },
  {
   "cell_type": "code",
   "execution_count": 102,
   "metadata": {},
   "outputs": [
    {
     "name": "stderr",
     "output_type": "stream",
     "text": [
      "C:\\Users\\Playdata\\AppData\\Local\\Temp\\ipykernel_20388\\2074273580.py:8: SettingWithCopyWarning: \n",
      "A value is trying to be set on a copy of a slice from a DataFrame.\n",
      "Try using .loc[row_indexer,col_indexer] = value instead\n",
      "\n",
      "See the caveats in the documentation: https://pandas.pydata.org/pandas-docs/stable/user_guide/indexing.html#returning-a-view-versus-a-copy\n",
      "  df_cleaned['recipe'] = df_cleaned['recipe'].apply(fix_period_spacing)\n"
     ]
    }
   ],
   "source": [
    "# '. ' 또는 ' .' 형태의 공백을 제거하고 '.'을 문장과 붙이는 함수 정의\n",
    "def fix_period_spacing(text):\n",
    "    # '. ' 또는 ' .'을 '.'으로 변경하여 문장과 붙임\n",
    "    cleaned_text = re.sub(r\"\\s*\\.\\s*\", \".\", text)\n",
    "    return cleaned_text.strip()\n",
    "\n",
    "# 'recipe' 칼럼에 적용\n",
    "df_cleaned['recipe'] = df_cleaned['recipe'].apply(fix_period_spacing)"
   ]
  },
  {
   "cell_type": "code",
   "execution_count": 103,
   "metadata": {},
   "outputs": [
    {
     "name": "stderr",
     "output_type": "stream",
     "text": [
      "C:\\Users\\Playdata\\AppData\\Local\\Temp\\ipykernel_20388\\1452174819.py:11: SettingWithCopyWarning: \n",
      "A value is trying to be set on a copy of a slice from a DataFrame.\n",
      "Try using .loc[row_indexer,col_indexer] = value instead\n",
      "\n",
      "See the caveats in the documentation: https://pandas.pydata.org/pandas-docs/stable/user_guide/indexing.html#returning-a-view-versus-a-copy\n",
      "  df_cleaned['recipe'] = df_cleaned['recipe'].apply(remove_all_urls_v3)\n"
     ]
    }
   ],
   "source": [
    "# 다양한 형식의 URL 제거 함수 수정\n",
    "def remove_all_urls_v3(text):\n",
    "    # URL 패턴 (http, https, www 포함, 공백 및 변형 포함)\n",
    "    url_pattern = r\"\\b(?:https?[:/]+|http[:/]+|www\\.)\\S+\\b\"\n",
    "    \n",
    "    # 해당 패턴을 삭제\n",
    "    cleaned_text = re.sub(url_pattern, \"\", text)\n",
    "    return cleaned_text.strip()\n",
    "\n",
    "# 'recipe' 칼럼에서 URL 제거 적용\n",
    "df_cleaned['recipe'] = df_cleaned['recipe'].apply(remove_all_urls_v3)"
   ]
  },
  {
   "cell_type": "code",
   "execution_count": 104,
   "metadata": {},
   "outputs": [
    {
     "name": "stderr",
     "output_type": "stream",
     "text": [
      "C:\\Users\\Playdata\\AppData\\Local\\Temp\\ipykernel_20388\\665537936.py:11: SettingWithCopyWarning: \n",
      "A value is trying to be set on a copy of a slice from a DataFrame.\n",
      "Try using .loc[row_indexer,col_indexer] = value instead\n",
      "\n",
      "See the caveats in the documentation: https://pandas.pydata.org/pandas-docs/stable/user_guide/indexing.html#returning-a-view-versus-a-copy\n",
      "  df_cleaned['recipe'] = df_cleaned['recipe'].apply(remove_all_http_variants)\n"
     ]
    }
   ],
   "source": [
    "# 'http', 'https', 'www' 포함한 URL 제거 함수 수정\n",
    "def remove_all_http_variants(text):\n",
    "    # URL 패턴 (http, https, www 포함하여 공백 및 변형도 포함)\n",
    "    url_pattern = r\"\\b(?:https?|http|www)[\\s\\S]*?\\b\"\n",
    "    \n",
    "    # 해당 패턴을 삭제\n",
    "    cleaned_text = re.sub(url_pattern, \"\", text, flags=re.IGNORECASE)\n",
    "    return cleaned_text.strip()\n",
    "\n",
    "# 'recipe' 칼럼에서 URL 및 'http' 제거 적용\n",
    "df_cleaned['recipe'] = df_cleaned['recipe'].apply(remove_all_http_variants)"
   ]
  },
  {
   "cell_type": "code",
   "execution_count": 105,
   "metadata": {},
   "outputs": [
    {
     "name": "stderr",
     "output_type": "stream",
     "text": [
      "C:\\Users\\Playdata\\AppData\\Local\\Temp\\ipykernel_20388\\3003312801.py:14: SettingWithCopyWarning: \n",
      "A value is trying to be set on a copy of a slice from a DataFrame.\n",
      "Try using .loc[row_indexer,col_indexer] = value instead\n",
      "\n",
      "See the caveats in the documentation: https://pandas.pydata.org/pandas-docs/stable/user_guide/indexing.html#returning-a-view-versus-a-copy\n",
      "  df_cleaned['recipe'] = df_cleaned['recipe'].apply(remove_all_http_variants_with_space)\n"
     ]
    }
   ],
   "source": [
    "# 'http', 'https', 'www' 앞에 공백을 추가한 후 제거하는 함수 수정\n",
    "def remove_all_http_variants_with_space(text):\n",
    "    # 'http', 'https', 'www' 앞에 공백 추가\n",
    "    text = re.sub(r\"(https?|http|www)\", r\" \\1\", text, flags=re.IGNORECASE)\n",
    "\n",
    "    # URL 패턴 (http, https, www 포함하여 공백 및 변형도 포함)\n",
    "    url_pattern = r\"\\b(?:https?|http|www)[\\s\\S]*?\\b\"\n",
    "    \n",
    "    # 해당 패턴을 삭제\n",
    "    cleaned_text = re.sub(url_pattern, \"\", text, flags=re.IGNORECASE)\n",
    "    return cleaned_text.strip()\n",
    "\n",
    "# 'recipe' 칼럼에서 URL 및 'http' 제거 적용\n",
    "df_cleaned['recipe'] = df_cleaned['recipe'].apply(remove_all_http_variants_with_space)"
   ]
  },
  {
   "cell_type": "code",
   "execution_count": 106,
   "metadata": {},
   "outputs": [
    {
     "name": "stderr",
     "output_type": "stream",
     "text": [
      "C:\\Users\\Playdata\\AppData\\Local\\Temp\\ipykernel_20388\\2161028195.py:16: SettingWithCopyWarning: \n",
      "A value is trying to be set on a copy of a slice from a DataFrame.\n",
      "Try using .loc[row_indexer,col_indexer] = value instead\n",
      "\n",
      "See the caveats in the documentation: https://pandas.pydata.org/pandas-docs/stable/user_guide/indexing.html#returning-a-view-versus-a-copy\n",
      "  df_cleaned['recipe'] = df_cleaned['recipe'].apply(replace_special_numbers)\n"
     ]
    }
   ],
   "source": [
    "# 특수번호 문자(①, ②, ...)를 '1.', '2.' 형식으로 변환하는 함수 정의\n",
    "def replace_special_numbers(text):\n",
    "    # 특수번호 문자 매핑\n",
    "    num_map = {\n",
    "        \"①\": \"1.\", \"②\": \"2.\", \"③\": \"3.\", \"④\": \"4.\", \"⑤\": \"5.\",\n",
    "        \"⑥\": \"6.\", \"⑦\": \"7.\", \"⑧\": \"8.\", \"⑨\": \"9.\", \"⑩\": \"10.\"\n",
    "    }\n",
    "    \n",
    "    # 매핑된 값으로 변환\n",
    "    for key, value in num_map.items():\n",
    "        text = text.replace(key, value)\n",
    "    \n",
    "    return text.strip()\n",
    "\n",
    "# 'recipe' 칼럼에서 특수번호 변환 적용\n",
    "df_cleaned['recipe'] = df_cleaned['recipe'].apply(replace_special_numbers)"
   ]
  },
  {
   "cell_type": "code",
   "execution_count": null,
   "metadata": {},
   "outputs": [],
   "source": []
  },
  {
   "cell_type": "code",
   "execution_count": null,
   "metadata": {},
   "outputs": [],
   "source": []
  },
  {
   "cell_type": "code",
   "execution_count": 107,
   "metadata": {},
   "outputs": [
    {
     "data": {
      "text/plain": [
       "'C:\\\\Users\\\\Playdata\\\\Desktop\\\\만개 전처리\\\\SKN06-FINAL-6Team\\\\임베딩전최종1.db'"
      ]
     },
     "execution_count": 107,
     "metadata": {},
     "output_type": "execute_result"
    }
   ],
   "source": [
    "# 새로운 SQLite 데이터베이스 파일 경로\n",
    "new_db_path = r\"C:\\Users\\Playdata\\Desktop\\만개 전처리\\SKN06-FINAL-6Team\\임베딩전최종1.db\"\n",
    "\n",
    "# 새로운 데이터베이스에 저장\n",
    "new_conn = sqlite3.connect(new_db_path)\n",
    "df_cleaned.to_sql(\"recipes\", new_conn, if_exists=\"replace\", index=False)\n",
    "conn.close()\n",
    "new_conn.close()\n",
    "\n",
    "# 저장된 파일 경로 반환\n",
    "new_db_path"
   ]
  }
 ],
 "metadata": {
  "kernelspec": {
   "display_name": "langchain",
   "language": "python",
   "name": "python3"
  },
  "language_info": {
   "codemirror_mode": {
    "name": "ipython",
    "version": 3
   },
   "file_extension": ".py",
   "mimetype": "text/x-python",
   "name": "python",
   "nbconvert_exporter": "python",
   "pygments_lexer": "ipython3",
   "version": "3.12.7"
  }
 },
 "nbformat": 4,
 "nbformat_minor": 2
}

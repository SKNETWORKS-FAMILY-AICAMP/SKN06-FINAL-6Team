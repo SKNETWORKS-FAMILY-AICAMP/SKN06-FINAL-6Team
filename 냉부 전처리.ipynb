{
 "cells": [
  {
   "cell_type": "code",
   "execution_count": 1,
   "metadata": {},
   "outputs": [
    {
     "data": {
      "text/plain": [
       "[('merged_result',)]"
      ]
     },
     "execution_count": 1,
     "metadata": {},
     "output_type": "execute_result"
    }
   ],
   "source": [
    "import sqlite3\n",
    "\n",
    "# 데이터베이스 파일 경로\n",
    "db_path = r\"C:\\Users\\Playdata\\Desktop\\만개레시피찐찐찐찐찐 최종\\SKN06-FINAL-6Team\\data\\merged_jtbc.db\"\n",
    "\n",
    "# 데이터베이스 연결\n",
    "conn = sqlite3.connect(db_path)\n",
    "cursor = conn.cursor()\n",
    "\n",
    "# 데이터베이스에 포함된 테이블 목록 확인\n",
    "cursor.execute(\"SELECT name FROM sqlite_master WHERE type='table';\")\n",
    "tables = cursor.fetchall()\n",
    "\n",
    "# 테이블 목록 출력\n",
    "tables\n"
   ]
  },
  {
   "cell_type": "code",
   "execution_count": 2,
   "metadata": {},
   "outputs": [
    {
     "data": {
      "text/plain": [
       "[('id', 'INTEGER'),\n",
       " ('name', 'TEXT'),\n",
       " ('ingredients', 'TEXT'),\n",
       " ('recipes', 'TEXT'),\n",
       " ('img', 'TEXT'),\n",
       " ('video', 'TEXT')]"
      ]
     },
     "execution_count": 2,
     "metadata": {},
     "output_type": "execute_result"
    }
   ],
   "source": [
    "# 테이블의 구조(컬럼명 및 데이터 타입) 확인\n",
    "cursor.execute(\"PRAGMA table_info(merged_result);\")\n",
    "table_info = cursor.fetchall()\n",
    "\n",
    "# 컬럼명과 데이터 타입 정리\n",
    "columns_info = [(col[1], col[2]) for col in table_info]\n",
    "columns_info\n"
   ]
  },
  {
   "cell_type": "code",
   "execution_count": 3,
   "metadata": {},
   "outputs": [
    {
     "data": {
      "text/plain": [
       "id               0\n",
       "name             0\n",
       "ingredients      0\n",
       "recipes          0\n",
       "img            126\n",
       "video          126\n",
       "dtype: int64"
      ]
     },
     "execution_count": 3,
     "metadata": {},
     "output_type": "execute_result"
    }
   ],
   "source": [
    "# 결측치 확인\n",
    "import pandas as pd\n",
    "\n",
    "# 데이터 불러오기\n",
    "query = \"SELECT * FROM merged_result\"\n",
    "df = pd.read_sql_query(query, conn)\n",
    "\n",
    "# 결측치 개수 확인\n",
    "missing_values = df.isnull().sum()\n",
    "missing_values\n"
   ]
  },
  {
   "cell_type": "code",
   "execution_count": 4,
   "metadata": {},
   "outputs": [
    {
     "name": "stderr",
     "output_type": "stream",
     "text": [
      "C:\\Users\\Playdata\\AppData\\Local\\Temp\\ipykernel_19108\\1257795558.py:2: FutureWarning: A value is trying to be set on a copy of a DataFrame or Series through chained assignment using an inplace method.\n",
      "The behavior will change in pandas 3.0. This inplace method will never work because the intermediate object on which we are setting values always behaves as a copy.\n",
      "\n",
      "For example, when doing 'df[col].method(value, inplace=True)', try using 'df.method({col: value}, inplace=True)' or df[col] = df[col].method(value) instead, to perform the operation inplace on the original object.\n",
      "\n",
      "\n",
      "  df[\"img\"].fillna(\"No Image\", inplace=True)\n",
      "C:\\Users\\Playdata\\AppData\\Local\\Temp\\ipykernel_19108\\1257795558.py:3: FutureWarning: A value is trying to be set on a copy of a DataFrame or Series through chained assignment using an inplace method.\n",
      "The behavior will change in pandas 3.0. This inplace method will never work because the intermediate object on which we are setting values always behaves as a copy.\n",
      "\n",
      "For example, when doing 'df[col].method(value, inplace=True)', try using 'df.method({col: value}, inplace=True)' or df[col] = df[col].method(value) instead, to perform the operation inplace on the original object.\n",
      "\n",
      "\n",
      "  df[\"video\"].fillna(\"No Video\", inplace=True)\n"
     ]
    },
    {
     "data": {
      "text/plain": [
       "id             0\n",
       "name           0\n",
       "ingredients    0\n",
       "recipes        0\n",
       "img            0\n",
       "video          0\n",
       "dtype: int64"
      ]
     },
     "execution_count": 4,
     "metadata": {},
     "output_type": "execute_result"
    }
   ],
   "source": [
    "# 결측치 대체\n",
    "df[\"img\"].fillna(\"No Image\", inplace=True)\n",
    "df[\"video\"].fillna(\"No Video\", inplace=True)\n",
    "\n",
    "# 변경된 데이터 저장\n",
    "df.to_sql(\"merged_result\", conn, if_exists=\"replace\", index=False)\n",
    "\n",
    "# 변경 후 다시 결측치 확인\n",
    "missing_values_after = df.isnull().sum()\n",
    "missing_values_after"
   ]
  },
  {
   "cell_type": "code",
   "execution_count": 6,
   "metadata": {},
   "outputs": [
    {
     "data": {
      "text/plain": [
       "0             김성주 '연복풍 탕수육'\n",
       "1             안정환 '테리우스테이크'\n",
       "2      고든램지 '퀵! 차돌박이 볶음 말이'\n",
       "3               레이먼킴 '팬타스틱'\n",
       "4               김민준 '콩닭거렸쌈'\n",
       "               ...         \n",
       "989              최현석 'For덕'\n",
       "990            미카엘 '프로틴 스틱'\n",
       "991            홍석천 '불닭 소시지'\n",
       "992     김풍 '매우면 참치 & 쏘루아밀크'\n",
       "993         샘 킴 'Mr.콩chu~♥'\n",
       "Name: name, Length: 994, dtype: object"
      ]
     },
     "execution_count": 6,
     "metadata": {},
     "output_type": "execute_result"
    }
   ],
   "source": [
    "# 'name' 컬럼에서 요리사의 이름 뒤에 있는 '의'를 제거\n",
    "df[\"name\"] = df[\"name\"].str.replace(r\"(\\S+)의 \", r\"\\1 \", regex=True)\n",
    "\n",
    "# 변경된 데이터 저장\n",
    "df.to_sql(\"merged_result\", conn, if_exists=\"replace\", index=False)\n",
    "\n",
    "# 변경된 데이터 일부 확인\n",
    "df[\"name\"]\n"
   ]
  },
  {
   "cell_type": "code",
   "execution_count": 7,
   "metadata": {},
   "outputs": [
    {
     "data": {
      "text/html": [
       "<div>\n",
       "<style scoped>\n",
       "    .dataframe tbody tr th:only-of-type {\n",
       "        vertical-align: middle;\n",
       "    }\n",
       "\n",
       "    .dataframe tbody tr th {\n",
       "        vertical-align: top;\n",
       "    }\n",
       "\n",
       "    .dataframe thead th {\n",
       "        text-align: right;\n",
       "    }\n",
       "</style>\n",
       "<table border=\"1\" class=\"dataframe\">\n",
       "  <thead>\n",
       "    <tr style=\"text-align: right;\">\n",
       "      <th></th>\n",
       "      <th>id</th>\n",
       "      <th>name</th>\n",
       "      <th>ingredients</th>\n",
       "      <th>recipes</th>\n",
       "      <th>img</th>\n",
       "      <th>video</th>\n",
       "    </tr>\n",
       "  </thead>\n",
       "  <tbody>\n",
       "    <tr>\n",
       "      <th>3</th>\n",
       "      <td>4</td>\n",
       "      <td>레이먼킴 '팬타스틱'</td>\n",
       "      <td>재료아스파라거스, 베이컨, 소시지, 맥주, 팬케이크가루, 모차렐라치즈, 액상조미료,...</td>\n",
       "      <td>조리방법1. 아스파라거스를 적당한 크기로 손질한다.2. 양파, 베이컨을 적당한 크기...</td>\n",
       "      <td>https://fs.jtbc.co.kr/prog/enter/janggo/Img/20...</td>\n",
       "      <td>https://tv.jtbc.co.kr/vod/pr10010331/pm1003108...</td>\n",
       "    </tr>\n",
       "    <tr>\n",
       "      <th>125</th>\n",
       "      <td>126</td>\n",
       "      <td>레이먼킴 '조기 이즈 베리 임폴턴트'</td>\n",
       "      <td>재료조기, 마늘꿀, 녹차티백, 명란젓, 아몬드,잣, 크랜베리, 가지, 오리엔탈드레싱...</td>\n",
       "      <td>조리방법1. 조기는 머리를 잘라내고 지느러미와 가시를 발라 넓게 펼친다.2. 손질한...</td>\n",
       "      <td>https://fs.jtbc.co.kr/prog/enter/janggo/Img/20...</td>\n",
       "      <td>https://tv.jtbc.co.kr/vod/pr10010331/pm1003108...</td>\n",
       "    </tr>\n",
       "    <tr>\n",
       "      <th>126</th>\n",
       "      <td>127</td>\n",
       "      <td>레이먼킴 '1닭 2일'</td>\n",
       "      <td>재료치킨, 치킨무, 위스키, 토마토소스, 김,인스턴트 볶음김치, 통조림 햄, 양파,...</td>\n",
       "      <td>조리방법1. 양파, 마늘, 당근을 적당한 크기로 썬다.2. 기름을 두른 팬에 손질한...</td>\n",
       "      <td>https://fs.jtbc.co.kr/prog/enter/janggo/Img/20...</td>\n",
       "      <td>https://tv.jtbc.co.kr/vod/pr10010331/pm1003108...</td>\n",
       "    </tr>\n",
       "    <tr>\n",
       "      <th>127</th>\n",
       "      <td>128</td>\n",
       "      <td>레이먼킴 'HOT한 갈비찜'</td>\n",
       "      <td>재료인스턴트 소갈비탕, 새송이버섯, 콩나물,쌈장, 볶음고추장, 감자칩과자, 감자스틱...</td>\n",
       "      <td>조리방법1. 인스턴트 소갈비탕의 소갈비와 국물을 분리한다.2. 양파, 새송이버섯, ...</td>\n",
       "      <td>https://fs.jtbc.co.kr/joydata/CP00000001/prog/...</td>\n",
       "      <td>https://tv.jtbc.co.kr/vod/pr10010331/pm1003108...</td>\n",
       "    </tr>\n",
       "    <tr>\n",
       "      <th>128</th>\n",
       "      <td>129</td>\n",
       "      <td>레이먼킴 '갈치 한판승'</td>\n",
       "      <td>재료갈치, 말린 우엉, 머윗잎, 국물용 멸치, 인스턴트 재첩국, 국간장, 깻잎, 산...</td>\n",
       "      <td>조리 방법1. 국물백에 양파, 마늘, 국물용 멸치, 대파, 말린 우엉을 넣고 끓는 ...</td>\n",
       "      <td>https://fs.jtbc.co.kr/joydata/CP00000001/prog/...</td>\n",
       "      <td>https://tv.jtbc.co.kr/vod/pr10010331/pm1003108...</td>\n",
       "    </tr>\n",
       "  </tbody>\n",
       "</table>\n",
       "</div>"
      ],
      "text/plain": [
       "      id                  name  \\\n",
       "3      4           레이먼킴 '팬타스틱'   \n",
       "125  126  레이먼킴 '조기 이즈 베리 임폴턴트'   \n",
       "126  127          레이먼킴 '1닭 2일'   \n",
       "127  128       레이먼킴 'HOT한 갈비찜'   \n",
       "128  129         레이먼킴 '갈치 한판승'   \n",
       "\n",
       "                                           ingredients  \\\n",
       "3    재료아스파라거스, 베이컨, 소시지, 맥주, 팬케이크가루, 모차렐라치즈, 액상조미료,...   \n",
       "125  재료조기, 마늘꿀, 녹차티백, 명란젓, 아몬드,잣, 크랜베리, 가지, 오리엔탈드레싱...   \n",
       "126  재료치킨, 치킨무, 위스키, 토마토소스, 김,인스턴트 볶음김치, 통조림 햄, 양파,...   \n",
       "127  재료인스턴트 소갈비탕, 새송이버섯, 콩나물,쌈장, 볶음고추장, 감자칩과자, 감자스틱...   \n",
       "128  재료갈치, 말린 우엉, 머윗잎, 국물용 멸치, 인스턴트 재첩국, 국간장, 깻잎, 산...   \n",
       "\n",
       "                                               recipes  \\\n",
       "3    조리방법1. 아스파라거스를 적당한 크기로 손질한다.2. 양파, 베이컨을 적당한 크기...   \n",
       "125  조리방법1. 조기는 머리를 잘라내고 지느러미와 가시를 발라 넓게 펼친다.2. 손질한...   \n",
       "126  조리방법1. 양파, 마늘, 당근을 적당한 크기로 썬다.2. 기름을 두른 팬에 손질한...   \n",
       "127  조리방법1. 인스턴트 소갈비탕의 소갈비와 국물을 분리한다.2. 양파, 새송이버섯, ...   \n",
       "128  조리 방법1. 국물백에 양파, 마늘, 국물용 멸치, 대파, 말린 우엉을 넣고 끓는 ...   \n",
       "\n",
       "                                                   img  \\\n",
       "3    https://fs.jtbc.co.kr/prog/enter/janggo/Img/20...   \n",
       "125  https://fs.jtbc.co.kr/prog/enter/janggo/Img/20...   \n",
       "126  https://fs.jtbc.co.kr/prog/enter/janggo/Img/20...   \n",
       "127  https://fs.jtbc.co.kr/joydata/CP00000001/prog/...   \n",
       "128  https://fs.jtbc.co.kr/joydata/CP00000001/prog/...   \n",
       "\n",
       "                                                 video  \n",
       "3    https://tv.jtbc.co.kr/vod/pr10010331/pm1003108...  \n",
       "125  https://tv.jtbc.co.kr/vod/pr10010331/pm1003108...  \n",
       "126  https://tv.jtbc.co.kr/vod/pr10010331/pm1003108...  \n",
       "127  https://tv.jtbc.co.kr/vod/pr10010331/pm1003108...  \n",
       "128  https://tv.jtbc.co.kr/vod/pr10010331/pm1003108...  "
      ]
     },
     "execution_count": 7,
     "metadata": {},
     "output_type": "execute_result"
    }
   ],
   "source": [
    "# 'name' 컬럼에서 특정 요리사의 이름에 포함된 공백 제거\n",
    "df[\"name\"] = df[\"name\"].str.replace(\"샘 킴\", \"샘킴\").str.replace(\"레이먼 킴\", \"레이먼킴\")\n",
    "\n",
    "# 변경된 데이터 저장\n",
    "df.to_sql(\"merged_result\", conn, if_exists=\"replace\", index=False)\n",
    "\n",
    "# 변경된 데이터 일부 확인\n",
    "df[df[\"name\"].str.contains(\"샘킴|레이먼킴\")].head()\n"
   ]
  },
  {
   "cell_type": "code",
   "execution_count": 8,
   "metadata": {},
   "outputs": [
    {
     "data": {
      "text/plain": [
       "0    소고기 안심, 튀김가루, 적양배추, 대파, 마늘,고춧가루, 전분, 설탕, 식초, 간...\n",
       "1    스테이크용 부챗살, 파프리카, 전복, 발사믹 식초,미역, 참기름, 양파, 마늘, 버...\n",
       "2    알배추, 적양파, 청양고춧가루, 아스파라거스,불고기양념, 굴소스, 팽이버섯, 쪽파,...\n",
       "3    아스파라거스, 베이컨, 소시지, 맥주, 팬케이크가루, 모차렐라치즈, 액상조미료,양파...\n",
       "4    인스턴트 닭발, 송편, 곶감, 블루베리, 꿀에 절인 인삼, 인삼음료, 마누카 꿀, ...\n",
       "Name: ingredients, dtype: object"
      ]
     },
     "execution_count": 8,
     "metadata": {},
     "output_type": "execute_result"
    }
   ],
   "source": [
    "# 'ingredients' 컬럼에서 앞부분 '재료' 제거 및 특수문자 '●' 제거\n",
    "df[\"ingredients\"] = df[\"ingredients\"].str.replace(r\"^재료\", \"\", regex=True).str.replace(\"●\", \"\")\n",
    "\n",
    "# 변경된 데이터 저장\n",
    "df.to_sql(\"merged_result\", conn, if_exists=\"replace\", index=False)\n",
    "\n",
    "# 변경된 데이터 일부 확인\n",
    "df[\"ingredients\"].head()\n"
   ]
  },
  {
   "cell_type": "code",
   "execution_count": 9,
   "metadata": {},
   "outputs": [
    {
     "data": {
      "text/plain": [
       "0    소고기 안심,  튀김가루,  적양배추,  대파,  마늘, 고춧가루,  전분,  설탕...\n",
       "1    스테이크용 부챗살,  파프리카,  전복,  발사믹 식초, 미역,  참기름,  양파,...\n",
       "2    알배추,  적양파,  청양고춧가루,  아스파라거스, 불고기양념,  굴소스,  팽이버...\n",
       "3    아스파라거스,  베이컨,  소시지,  맥주,  팬케이크가루,  모차렐라치즈,  액상...\n",
       "4    인스턴트 닭발,  송편,  곶감,  블루베리,  꿀에 절인 인삼,  인삼음료,  마...\n",
       "Name: ingredients, dtype: object"
      ]
     },
     "execution_count": 9,
     "metadata": {},
     "output_type": "execute_result"
    }
   ],
   "source": [
    "# 'ingredients' 컬럼에서 ',' 뒤에 공백 추가하여 가독성 향상\n",
    "df[\"ingredients\"] = df[\"ingredients\"].str.replace(\",\", \", \")\n",
    "\n",
    "# 변경된 데이터 저장\n",
    "df.to_sql(\"merged_result\", conn, if_exists=\"replace\", index=False)\n",
    "\n",
    "# 변경된 데이터 일부 확인\n",
    "df[\"ingredients\"].head()\n"
   ]
  },
  {
   "cell_type": "code",
   "execution_count": 10,
   "metadata": {},
   "outputs": [
    {
     "data": {
      "text/plain": [
       "0    1. 끓는 기름에 적당한 크기로 썬 대파와 으깬 마늘, 고춧가루를 넣고 고추기름을 ...\n",
       "1    1. 양파를 잘게 썬다.2. 파프리카를 직화한다.3. 마늘은 편으로 썰고, 전복은 ...\n",
       "2    1. 알배추, 적양파를 채 썬다.2. 올리브오일과 참기름을 두른 팬에 채 썬 적양파...\n",
       "3    1. 아스파라거스를 적당한 크기로 손질한다.2. 양파, 베이컨을 적당한 크기로 썰어...\n",
       "4    1. 냄비에 인삼음료를 넣고 끓인다.2. 끓이던 인삼음료에 설탕, 물, 물엿, 마누...\n",
       "Name: recipes, dtype: object"
      ]
     },
     "execution_count": 10,
     "metadata": {},
     "output_type": "execute_result"
    }
   ],
   "source": [
    "# 'recipes' 컬럼에서 앞부분 '조리방법' 제거\n",
    "df[\"recipes\"] = df[\"recipes\"].str.replace(r\"^조리방법\", \"\", regex=True)\n",
    "\n",
    "# 변경된 데이터 저장\n",
    "df.to_sql(\"merged_result\", conn, if_exists=\"replace\", index=False)\n",
    "\n",
    "# 변경된 데이터 일부 확인\n",
    "df[\"recipes\"].head()\n"
   ]
  },
  {
   "cell_type": "code",
   "execution_count": 11,
   "metadata": {},
   "outputs": [
    {
     "data": {
      "text/plain": [
       "0    1. 끓는 기름에 적당한 크기로 썬 대파와 으깬 마늘, 고춧가루를 넣고 고추기름을 ...\n",
       "1    1. 양파를 잘게 썬다.2. 파프리카를 직화한다.3. 마늘은 편으로 썰고, 전복은 ...\n",
       "2    1. 알배추, 적양파를 채 썬다.2. 올리브오일과 참기름을 두른 팬에 채 썬 적양파...\n",
       "3    1. 아스파라거스를 적당한 크기로 손질한다.2. 양파, 베이컨을 적당한 크기로 썰어...\n",
       "4    1. 냄비에 인삼음료를 넣고 끓인다.2. 끓이던 인삼음료에 설탕, 물, 물엿, 마누...\n",
       "Name: recipes, dtype: object"
      ]
     },
     "execution_count": 11,
     "metadata": {},
     "output_type": "execute_result"
    }
   ],
   "source": [
    "# 'recipes' 컬럼에서 특수문자 '①, ②, ③...' 등을 '1., 2., 3.' 형태로 변경\n",
    "df[\"recipes\"] = df[\"recipes\"].str.replace(\"①\", \"1. \").str.replace(\"②\", \"2. \").str.replace(\"③\", \"3. \") \\\n",
    "                             .str.replace(\"④\", \"4. \").str.replace(\"⑤\", \"5. \").str.replace(\"⑥\", \"6. \") \\\n",
    "                             .str.replace(\"⑦\", \"7. \").str.replace(\"⑧\", \"8. \").str.replace(\"⑨\", \"9. \") \\\n",
    "                             .str.replace(\"⑩\", \"10. \")\n",
    "\n",
    "# 변경된 데이터 저장\n",
    "df.to_sql(\"merged_result\", conn, if_exists=\"replace\", index=False)\n",
    "\n",
    "# 변경된 데이터 일부 확인\n",
    "df[\"recipes\"].head()\n"
   ]
  },
  {
   "cell_type": "code",
   "execution_count": null,
   "metadata": {},
   "outputs": [],
   "source": [
    "def preprocess_ingredients(df):\n",
    "    \"\"\"\n",
    "    주어진 데이터프레임(df)의 'ingredients' 컬럼을 리스트로 변환하는 전처리 함수.\n",
    "\n",
    "    - 쉼표(,)를 기준으로 재료를 분리\n",
    "    - 공백을 제거하여 정확한 검색 가능하도록 정리\n",
    "\n",
    "    Parameters:\n",
    "        df (pd.DataFrame): 레시피 데이터프레임\n",
    "\n",
    "    Returns:\n",
    "        pd.DataFrame: 전처리된 데이터프레임\n",
    "    \"\"\"\n",
    "    df = df.copy()  # 원본 데이터 변경 방지\n",
    "    \n",
    "    df[\"ingredients_list\"] = df[\"ingredients\"].apply(lambda x: [i.strip() for i in str(x).split(\",\")])\n",
    "    \n",
    "    return df"
   ]
  },
  {
   "cell_type": "code",
   "execution_count": null,
   "metadata": {},
   "outputs": [],
   "source": [
    "# 전처리된 데이터를 새로운 SQLite DB 파일로 저장하는 코드\n",
    "\n",
    "# 새로운 데이터베이스 파일 경로 설정\n",
    "new_db_path = r\"C:\\Users\\Playdata\\Desktop\\만개레시피찐찐찐찐찐 최종\\SKN06-FINAL-6Team\\data\\merged_jtbc_1차.db\"\n",
    "\n",
    "# SQLite 데이터베이스에 저장\n",
    "conn_new = sqlite3.connect(new_db_path)\n",
    "df.to_sql(\"funstaurant_cleaned\", conn_new, if_exists=\"replace\", index=False)\n",
    "conn_new.close()\n",
    "\n",
    "# 저장된 DB 파일 경로 출력\n",
    "new_db_path\n"
   ]
  }
 ],
 "metadata": {
  "kernelspec": {
   "display_name": "FINAL",
   "language": "python",
   "name": "python3"
  },
  "language_info": {
   "codemirror_mode": {
    "name": "ipython",
    "version": 3
   },
   "file_extension": ".py",
   "mimetype": "text/x-python",
   "name": "python",
   "nbconvert_exporter": "python",
   "pygments_lexer": "ipython3",
   "version": "3.13.1"
  }
 },
 "nbformat": 4,
 "nbformat_minor": 2
}
